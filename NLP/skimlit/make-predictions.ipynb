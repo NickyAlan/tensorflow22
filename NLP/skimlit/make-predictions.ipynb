{
 "cells": [
  {
   "cell_type": "markdown",
   "metadata": {},
   "source": [
    "# Make Predictions from Skimlit Model"
   ]
  },
  {
   "cell_type": "code",
   "execution_count": 14,
   "metadata": {},
   "outputs": [],
   "source": [
    "import pandas as pd\n",
    "import tensorflow as tf"
   ]
  },
  {
   "cell_type": "code",
   "execution_count": 7,
   "metadata": {},
   "outputs": [],
   "source": [
    "train_path = 'pubmed-rct/PubMed_20k_RCT_numbers_replaced_with_at_sign\\\\train.txt'\n",
    "test_path = 'pubmed-rct/PubMed_20k_RCT_numbers_replaced_with_at_sign\\\\test.txt'"
   ]
  },
  {
   "cell_type": "markdown",
   "metadata": {},
   "source": [
    "## Preprocessing"
   ]
  },
  {
   "cell_type": "code",
   "execution_count": 3,
   "metadata": {},
   "outputs": [],
   "source": [
    "# read in all line of target text file\n",
    "def get_lines(filepath):\n",
    "    '''\n",
    "    Read text file and return the lines as a list.\n",
    "    '''\n",
    "    with open(filepath, 'r') as file :\n",
    "        return file.readlines()"
   ]
  },
  {
   "cell_type": "code",
   "execution_count": 4,
   "metadata": {},
   "outputs": [],
   "source": [
    "def preprocess_text(filepath):\n",
    "    input_lines = get_lines(filepath)\n",
    "    abstract_lines = '' # to save 1 abstract \n",
    "    abstract_samples = []\n",
    "\n",
    "    for line in input_lines :\n",
    "        if line.startswith('###') : #heading of each Abstract\n",
    "            abstract_id = line \n",
    "            abstract_lines = '' # reset old Abstract\n",
    "        elif line.isspace(): # if a new line (last abstract has space)\n",
    "            abstract_split = abstract_lines.splitlines() # split Abstract into seperate line\n",
    "\n",
    "            # loop for content in each Abstract\n",
    "            for abstract_line_number, abstract_line in enumerate(abstract_split) :\n",
    "                line_data = {} # for each target and text\n",
    "                target_text = abstract_line.split('\\t') # target and text\n",
    "                line_data['line_number'] = abstract_line_number\n",
    "                line_data['target'] = target_text[0]\n",
    "                line_data['text'] = target_text[1].lower()\n",
    "                line_data['total_lines'] = len(abstract_split) - 1 # start from zero\n",
    "                abstract_samples.append(line_data) # add to list\n",
    "\n",
    "        # content for each abtract\n",
    "        else :\n",
    "            abstract_lines += line\n",
    "\n",
    "    return abstract_samples"
   ]
  },
  {
   "cell_type": "code",
   "execution_count": 10,
   "metadata": {},
   "outputs": [],
   "source": [
    "# make function into character\n",
    "def split_char(sentence):\n",
    "    return ' '.join(list(sentence))"
   ]
  },
  {
   "cell_type": "code",
   "execution_count": 8,
   "metadata": {},
   "outputs": [
    {
     "data": {
      "text/html": [
       "<div>\n",
       "<style scoped>\n",
       "    .dataframe tbody tr th:only-of-type {\n",
       "        vertical-align: middle;\n",
       "    }\n",
       "\n",
       "    .dataframe tbody tr th {\n",
       "        vertical-align: top;\n",
       "    }\n",
       "\n",
       "    .dataframe thead th {\n",
       "        text-align: right;\n",
       "    }\n",
       "</style>\n",
       "<table border=\"1\" class=\"dataframe\">\n",
       "  <thead>\n",
       "    <tr style=\"text-align: right;\">\n",
       "      <th></th>\n",
       "      <th>line_number</th>\n",
       "      <th>target</th>\n",
       "      <th>text</th>\n",
       "      <th>total_lines</th>\n",
       "    </tr>\n",
       "  </thead>\n",
       "  <tbody>\n",
       "    <tr>\n",
       "      <th>0</th>\n",
       "      <td>0</td>\n",
       "      <td>BACKGROUND</td>\n",
       "      <td>this study analyzed liver function abnormaliti...</td>\n",
       "      <td>8</td>\n",
       "    </tr>\n",
       "    <tr>\n",
       "      <th>1</th>\n",
       "      <td>1</td>\n",
       "      <td>RESULTS</td>\n",
       "      <td>a post hoc analysis was conducted with the use...</td>\n",
       "      <td>8</td>\n",
       "    </tr>\n",
       "    <tr>\n",
       "      <th>2</th>\n",
       "      <td>2</td>\n",
       "      <td>RESULTS</td>\n",
       "      <td>liver function tests ( lfts ) were measured at...</td>\n",
       "      <td>8</td>\n",
       "    </tr>\n",
       "    <tr>\n",
       "      <th>3</th>\n",
       "      <td>3</td>\n",
       "      <td>RESULTS</td>\n",
       "      <td>survival analyses were used to assess the asso...</td>\n",
       "      <td>8</td>\n",
       "    </tr>\n",
       "    <tr>\n",
       "      <th>4</th>\n",
       "      <td>4</td>\n",
       "      <td>RESULTS</td>\n",
       "      <td>the percentage of patients with abnormal lfts ...</td>\n",
       "      <td>8</td>\n",
       "    </tr>\n",
       "  </tbody>\n",
       "</table>\n",
       "</div>"
      ],
      "text/plain": [
       "   line_number      target                                               text  \\\n",
       "0            0  BACKGROUND  this study analyzed liver function abnormaliti...   \n",
       "1            1     RESULTS  a post hoc analysis was conducted with the use...   \n",
       "2            2     RESULTS  liver function tests ( lfts ) were measured at...   \n",
       "3            3     RESULTS  survival analyses were used to assess the asso...   \n",
       "4            4     RESULTS  the percentage of patients with abnormal lfts ...   \n",
       "\n",
       "   total_lines  \n",
       "0            8  \n",
       "1            8  \n",
       "2            8  \n",
       "3            8  \n",
       "4            8  "
      ]
     },
     "execution_count": 8,
     "metadata": {},
     "output_type": "execute_result"
    }
   ],
   "source": [
    "train_df = pd.DataFrame(preprocess_text(train_path))\n",
    "test_df = pd.DataFrame(preprocess_text(test_path))\n",
    "test_df.head()"
   ]
  },
  {
   "cell_type": "code",
   "execution_count": 16,
   "metadata": {},
   "outputs": [],
   "source": [
    "# token\n",
    "train_sentences = train_df['text'].to_list() # long list of sentences\n",
    "test_sentences = test_df['text'].to_list()\n",
    "\n",
    "#char\n",
    "test_char = [split_char(sentence) for sentence in test_sentences]\n",
    "\n",
    "#line\n",
    "test_line_numbers_onehot = tf.one_hot(test_df['line_number'].to_numpy(), depth=15)\n",
    "\n",
    "#total_line\n",
    "test_total_lines = tf.one_hot(test_df['total_lines'].to_numpy(), depth=18)\n",
    "\n",
    "#labels \n",
    "from sklearn.preprocessing import OneHotEncoder\n",
    "from sklearn.preprocessing import LabelEncoder\n",
    "\n",
    "onehot_encoder = OneHotEncoder(sparse=False)\n",
    "label_encoder = LabelEncoder()\n",
    "train_labels = onehot_encoder.fit_transform(train_df['target'].to_numpy().reshape(-1,1))\n",
    "train_labels_ = label_encoder.fit_transform(train_df['target'])\n",
    "test_labels = onehot_encoder.transform(test_df['target'].to_numpy().reshape(-1,1))\n",
    "test_labels_ = label_encoder.transform(test_df['target'])"
   ]
  },
  {
   "cell_type": "code",
   "execution_count": 19,
   "metadata": {},
   "outputs": [],
   "source": [
    "#create dataset\n",
    "def create_dataset(p1,p2,p3,p4,labels):\n",
    "    train_token_char_pos = tf.data.Dataset.from_tensor_slices((p1, p2, p3, p4))\n",
    "    train_token_char_labels = tf.data.Dataset.from_tensor_slices(labels)\n",
    "    dataset = tf.data.Dataset.zip((train_token_char_pos, train_token_char_labels)).batch(32).prefetch(tf.data.AUTOTUNE)\n",
    "    return dataset"
   ]
  },
  {
   "cell_type": "code",
   "execution_count": 20,
   "metadata": {},
   "outputs": [],
   "source": [
    "test_token_char_pos_dataset = create_dataset(test_line_numbers_onehot, test_total_lines, test_sentences, test_char, test_labels)"
   ]
  },
  {
   "cell_type": "markdown",
   "metadata": {},
   "source": [
    "## Predictions"
   ]
  },
  {
   "cell_type": "code",
   "execution_count": 18,
   "metadata": {},
   "outputs": [
    {
     "data": {
      "text/plain": [
       "<keras.engine.functional.Functional at 0x224e15133a0>"
      ]
     },
     "execution_count": 18,
     "metadata": {},
     "output_type": "execute_result"
    }
   ],
   "source": [
    "model = tf.keras.models.load_model('skimlit_tribid_model')\n",
    "model"
   ]
  },
  {
   "cell_type": "code",
   "execution_count": 21,
   "metadata": {},
   "outputs": [
    {
     "data": {
      "text/plain": [
       "array([[0.25670815, 0.02733543, 0.15132844, 0.471059  , 0.09356892],\n",
       "       [0.0708793 , 0.01556053, 0.7628104 , 0.09931289, 0.0514369 ],\n",
       "       [0.06359179, 0.03620072, 0.6777798 , 0.07469099, 0.14773674],\n",
       "       [0.04317857, 0.04163879, 0.7901038 , 0.06620786, 0.05887096],\n",
       "       [0.05092471, 0.04088417, 0.0657573 , 0.05181859, 0.79061526],\n",
       "       [0.03276863, 0.02000857, 0.03530328, 0.03306977, 0.8788498 ],\n",
       "       [0.01799538, 0.02992826, 0.03883842, 0.02532754, 0.88791037],\n",
       "       [0.2066518 , 0.6249687 , 0.0338528 , 0.07197975, 0.06254692],\n",
       "       [0.05673619, 0.75619805, 0.03417084, 0.06342678, 0.08946813],\n",
       "       [0.34441224, 0.06553377, 0.03335064, 0.5231211 , 0.0335822 ]],\n",
       "      dtype=float32)"
      ]
     },
     "execution_count": 21,
     "metadata": {},
     "output_type": "execute_result"
    }
   ],
   "source": [
    "proba = model.predict(test_token_char_pos_dataset)\n",
    "proba[:10]"
   ]
  },
  {
   "cell_type": "code",
   "execution_count": 22,
   "metadata": {},
   "outputs": [
    {
     "data": {
      "text/plain": [
       "<tf.Tensor: shape=(10,), dtype=int64, numpy=array([3, 2, 2, 2, 4, 4, 4, 1, 1, 3], dtype=int64)>"
      ]
     },
     "execution_count": 22,
     "metadata": {},
     "output_type": "execute_result"
    }
   ],
   "source": [
    "preds = tf.argmax(proba, axis=1)\n",
    "preds[:10]"
   ]
  },
  {
   "cell_type": "code",
   "execution_count": 24,
   "metadata": {},
   "outputs": [],
   "source": [
    "from sklearn.metrics import accuracy_score, precision_recall_fscore_support\n",
    "\n",
    "def evaluate_score(y_true, y_preds):\n",
    "    accuracy = accuracy_score(y_true, y_preds)\n",
    "    precision, recall, f1_score = precision_recall_fscore_support(y_true, y_preds, average='weighted')[:-1]\n",
    "    evaluation_dict = {'accuracy':accuracy,'precision':precision,'recall':recall,'f1_score':f1_score}\n",
    "    return evaluation_dict"
   ]
  },
  {
   "cell_type": "code",
   "execution_count": 25,
   "metadata": {},
   "outputs": [
    {
     "data": {
      "text/plain": [
       "{'accuracy': 0.8438692550190808,\n",
       " 'precision': 0.8453540649207408,\n",
       " 'recall': 0.8438692550190808,\n",
       " 'f1_score': 0.8428440779148704}"
      ]
     },
     "execution_count": 25,
     "metadata": {},
     "output_type": "execute_result"
    }
   ],
   "source": [
    "score = evaluate_score(test_labels_, preds)\n",
    "score"
   ]
  },
  {
   "cell_type": "markdown",
   "metadata": {},
   "source": [
    "## Find most wrong predictions"
   ]
  },
  {
   "cell_type": "code",
   "execution_count": 43,
   "metadata": {},
   "outputs": [
    {
     "data": {
      "text/html": [
       "<div>\n",
       "<style scoped>\n",
       "    .dataframe tbody tr th:only-of-type {\n",
       "        vertical-align: middle;\n",
       "    }\n",
       "\n",
       "    .dataframe tbody tr th {\n",
       "        vertical-align: top;\n",
       "    }\n",
       "\n",
       "    .dataframe thead th {\n",
       "        text-align: right;\n",
       "    }\n",
       "</style>\n",
       "<table border=\"1\" class=\"dataframe\">\n",
       "  <thead>\n",
       "    <tr style=\"text-align: right;\">\n",
       "      <th></th>\n",
       "      <th>sentence</th>\n",
       "      <th>label</th>\n",
       "      <th>predict</th>\n",
       "      <th>confident</th>\n",
       "    </tr>\n",
       "  </thead>\n",
       "  <tbody>\n",
       "    <tr>\n",
       "      <th>0</th>\n",
       "      <td>this study analyzed liver function abnormaliti...</td>\n",
       "      <td>BACKGROUND</td>\n",
       "      <td>OBJECTIVE</td>\n",
       "      <td>0.471059</td>\n",
       "    </tr>\n",
       "    <tr>\n",
       "      <th>1</th>\n",
       "      <td>a post hoc analysis was conducted with the use...</td>\n",
       "      <td>RESULTS</td>\n",
       "      <td>METHODS</td>\n",
       "      <td>0.762810</td>\n",
       "    </tr>\n",
       "    <tr>\n",
       "      <th>2</th>\n",
       "      <td>liver function tests ( lfts ) were measured at...</td>\n",
       "      <td>RESULTS</td>\n",
       "      <td>METHODS</td>\n",
       "      <td>0.677780</td>\n",
       "    </tr>\n",
       "    <tr>\n",
       "      <th>3</th>\n",
       "      <td>survival analyses were used to assess the asso...</td>\n",
       "      <td>RESULTS</td>\n",
       "      <td>METHODS</td>\n",
       "      <td>0.790104</td>\n",
       "    </tr>\n",
       "    <tr>\n",
       "      <th>4</th>\n",
       "      <td>the percentage of patients with abnormal lfts ...</td>\n",
       "      <td>RESULTS</td>\n",
       "      <td>RESULTS</td>\n",
       "      <td>0.790615</td>\n",
       "    </tr>\n",
       "    <tr>\n",
       "      <th>5</th>\n",
       "      <td>when mean hemodynamic profiles were compared i...</td>\n",
       "      <td>RESULTS</td>\n",
       "      <td>RESULTS</td>\n",
       "      <td>0.878850</td>\n",
       "    </tr>\n",
       "    <tr>\n",
       "      <th>6</th>\n",
       "      <td>multivariable analyses revealed that patients ...</td>\n",
       "      <td>RESULTS</td>\n",
       "      <td>RESULTS</td>\n",
       "      <td>0.887910</td>\n",
       "    </tr>\n",
       "    <tr>\n",
       "      <th>7</th>\n",
       "      <td>abnormal lfts are common in the adhf populatio...</td>\n",
       "      <td>CONCLUSIONS</td>\n",
       "      <td>CONCLUSIONS</td>\n",
       "      <td>0.624969</td>\n",
       "    </tr>\n",
       "    <tr>\n",
       "      <th>8</th>\n",
       "      <td>elevated meld-xi scores are associated with po...</td>\n",
       "      <td>CONCLUSIONS</td>\n",
       "      <td>CONCLUSIONS</td>\n",
       "      <td>0.756198</td>\n",
       "    </tr>\n",
       "    <tr>\n",
       "      <th>9</th>\n",
       "      <td>minimally invasive endovascular aneurysm repai...</td>\n",
       "      <td>BACKGROUND</td>\n",
       "      <td>OBJECTIVE</td>\n",
       "      <td>0.523121</td>\n",
       "    </tr>\n",
       "  </tbody>\n",
       "</table>\n",
       "</div>"
      ],
      "text/plain": [
       "                                            sentence        label  \\\n",
       "0  this study analyzed liver function abnormaliti...   BACKGROUND   \n",
       "1  a post hoc analysis was conducted with the use...      RESULTS   \n",
       "2  liver function tests ( lfts ) were measured at...      RESULTS   \n",
       "3  survival analyses were used to assess the asso...      RESULTS   \n",
       "4  the percentage of patients with abnormal lfts ...      RESULTS   \n",
       "5  when mean hemodynamic profiles were compared i...      RESULTS   \n",
       "6  multivariable analyses revealed that patients ...      RESULTS   \n",
       "7  abnormal lfts are common in the adhf populatio...  CONCLUSIONS   \n",
       "8  elevated meld-xi scores are associated with po...  CONCLUSIONS   \n",
       "9  minimally invasive endovascular aneurysm repai...   BACKGROUND   \n",
       "\n",
       "       predict  confident  \n",
       "0    OBJECTIVE   0.471059  \n",
       "1      METHODS   0.762810  \n",
       "2      METHODS   0.677780  \n",
       "3      METHODS   0.790104  \n",
       "4      RESULTS   0.790615  \n",
       "5      RESULTS   0.878850  \n",
       "6      RESULTS   0.887910  \n",
       "7  CONCLUSIONS   0.624969  \n",
       "8  CONCLUSIONS   0.756198  \n",
       "9    OBJECTIVE   0.523121  "
      ]
     },
     "execution_count": 43,
     "metadata": {},
     "output_type": "execute_result"
    }
   ],
   "source": [
    "import numpy as np\n",
    "\n",
    "confident = np.max(proba, axis=1)\n",
    "class_name = label_encoder.classes_\n",
    "df = pd.DataFrame({\n",
    "    'sentence':test_sentences,\n",
    "    'label': [class_name[index] for index in test_labels_],\n",
    "    'predict': [class_name[index] for index in preds],\n",
    "    'confident' : confident\n",
    "})\n",
    "\n",
    "df.head(10)"
   ]
  },
  {
   "cell_type": "code",
   "execution_count": 49,
   "metadata": {},
   "outputs": [
    {
     "data": {
      "text/html": [
       "<div>\n",
       "<style scoped>\n",
       "    .dataframe tbody tr th:only-of-type {\n",
       "        vertical-align: middle;\n",
       "    }\n",
       "\n",
       "    .dataframe tbody tr th {\n",
       "        vertical-align: top;\n",
       "    }\n",
       "\n",
       "    .dataframe thead th {\n",
       "        text-align: right;\n",
       "    }\n",
       "</style>\n",
       "<table border=\"1\" class=\"dataframe\">\n",
       "  <thead>\n",
       "    <tr style=\"text-align: right;\">\n",
       "      <th></th>\n",
       "      <th>sentence</th>\n",
       "      <th>label</th>\n",
       "      <th>predict</th>\n",
       "      <th>confident</th>\n",
       "    </tr>\n",
       "  </thead>\n",
       "  <tbody>\n",
       "    <tr>\n",
       "      <th>29294</th>\n",
       "      <td>baseline measures included sociodemographics ,...</td>\n",
       "      <td>RESULTS</td>\n",
       "      <td>METHODS</td>\n",
       "      <td>0.954260</td>\n",
       "    </tr>\n",
       "    <tr>\n",
       "      <th>671</th>\n",
       "      <td>to determine whether the insulin resistance th...</td>\n",
       "      <td>METHODS</td>\n",
       "      <td>OBJECTIVE</td>\n",
       "      <td>0.945404</td>\n",
       "    </tr>\n",
       "    <tr>\n",
       "      <th>8527</th>\n",
       "      <td>participants were randomly allocated to a trea...</td>\n",
       "      <td>OBJECTIVE</td>\n",
       "      <td>METHODS</td>\n",
       "      <td>0.937138</td>\n",
       "    </tr>\n",
       "    <tr>\n",
       "      <th>5394</th>\n",
       "      <td>a randomized , double-blind , crossover study ...</td>\n",
       "      <td>RESULTS</td>\n",
       "      <td>METHODS</td>\n",
       "      <td>0.935637</td>\n",
       "    </tr>\n",
       "    <tr>\n",
       "      <th>29005</th>\n",
       "      <td>we designed a patient-level , randomized , con...</td>\n",
       "      <td>RESULTS</td>\n",
       "      <td>METHODS</td>\n",
       "      <td>0.929154</td>\n",
       "    </tr>\n",
       "    <tr>\n",
       "      <th>1221</th>\n",
       "      <td>data were collected prospectively for @ months...</td>\n",
       "      <td>RESULTS</td>\n",
       "      <td>METHODS</td>\n",
       "      <td>0.922035</td>\n",
       "    </tr>\n",
       "    <tr>\n",
       "      <th>4699</th>\n",
       "      <td>the primary efficacy end point was primary pat...</td>\n",
       "      <td>RESULTS</td>\n",
       "      <td>METHODS</td>\n",
       "      <td>0.917132</td>\n",
       "    </tr>\n",
       "    <tr>\n",
       "      <th>16840</th>\n",
       "      <td>the primary endpoint was a composite of cardio...</td>\n",
       "      <td>RESULTS</td>\n",
       "      <td>METHODS</td>\n",
       "      <td>0.917017</td>\n",
       "    </tr>\n",
       "    <tr>\n",
       "      <th>16347</th>\n",
       "      <td>to evaluate the effects of the lactic acid bac...</td>\n",
       "      <td>BACKGROUND</td>\n",
       "      <td>OBJECTIVE</td>\n",
       "      <td>0.917013</td>\n",
       "    </tr>\n",
       "    <tr>\n",
       "      <th>19048</th>\n",
       "      <td>a total of eighty migraineurs without aura wer...</td>\n",
       "      <td>RESULTS</td>\n",
       "      <td>METHODS</td>\n",
       "      <td>0.916828</td>\n",
       "    </tr>\n",
       "  </tbody>\n",
       "</table>\n",
       "</div>"
      ],
      "text/plain": [
       "                                                sentence       label  \\\n",
       "29294  baseline measures included sociodemographics ,...     RESULTS   \n",
       "671    to determine whether the insulin resistance th...     METHODS   \n",
       "8527   participants were randomly allocated to a trea...   OBJECTIVE   \n",
       "5394   a randomized , double-blind , crossover study ...     RESULTS   \n",
       "29005  we designed a patient-level , randomized , con...     RESULTS   \n",
       "1221   data were collected prospectively for @ months...     RESULTS   \n",
       "4699   the primary efficacy end point was primary pat...     RESULTS   \n",
       "16840  the primary endpoint was a composite of cardio...     RESULTS   \n",
       "16347  to evaluate the effects of the lactic acid bac...  BACKGROUND   \n",
       "19048  a total of eighty migraineurs without aura wer...     RESULTS   \n",
       "\n",
       "         predict  confident  \n",
       "29294    METHODS   0.954260  \n",
       "671    OBJECTIVE   0.945404  \n",
       "8527     METHODS   0.937138  \n",
       "5394     METHODS   0.935637  \n",
       "29005    METHODS   0.929154  \n",
       "1221     METHODS   0.922035  \n",
       "4699     METHODS   0.917132  \n",
       "16840    METHODS   0.917017  \n",
       "16347  OBJECTIVE   0.917013  \n",
       "19048    METHODS   0.916828  "
      ]
     },
     "execution_count": 49,
     "metadata": {},
     "output_type": "execute_result"
    }
   ],
   "source": [
    "# find most wrong\n",
    "most_wrong = df[df['label'] != df['predict']].sort_values('confident', ascending=False)\n",
    "most_wrong.head(10)"
   ]
  }
 ],
 "metadata": {
  "kernelspec": {
   "display_name": "Python 3.10.0 64-bit",
   "language": "python",
   "name": "python3"
  },
  "language_info": {
   "codemirror_mode": {
    "name": "ipython",
    "version": 3
   },
   "file_extension": ".py",
   "mimetype": "text/x-python",
   "name": "python",
   "nbconvert_exporter": "python",
   "pygments_lexer": "ipython3",
   "version": "3.10.0"
  },
  "orig_nbformat": 4,
  "vscode": {
   "interpreter": {
    "hash": "63e79917a05e390872358bfb73c58bc903ada01d2d04077091749088207d82cf"
   }
  }
 },
 "nbformat": 4,
 "nbformat_minor": 2
}
