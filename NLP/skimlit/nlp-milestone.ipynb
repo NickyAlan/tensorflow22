{
 "cells": [
  {
   "cell_type": "markdown",
   "metadata": {},
   "source": [
    "# NLP-Milestone\n",
    "many-to-one task : \n",
    "- long sentences -> Objective of sentence\n"
   ]
  },
  {
   "cell_type": "code",
   "execution_count": 1,
   "metadata": {},
   "outputs": [],
   "source": [
    "import matplotlib.pyplot as plt\n",
    "from tensorflow import keras\n",
    "import pandas as pd\n",
    "import numpy as np\n",
    "import os"
   ]
  },
  {
   "cell_type": "markdown",
   "metadata": {},
   "source": [
    "Get data : [PubMed200k RCT](https://github.com/Franck-Dernoncourt/pubmed-rct)"
   ]
  },
  {
   "cell_type": "code",
   "execution_count": 2,
   "metadata": {},
   "outputs": [
    {
     "data": {
      "text/plain": [
       "['pubmed-rct/PubMed_20k_RCT_numbers_replaced_with_at_sign\\\\dev.txt',\n",
       " 'pubmed-rct/PubMed_20k_RCT_numbers_replaced_with_at_sign\\\\test.txt',\n",
       " 'pubmed-rct/PubMed_20k_RCT_numbers_replaced_with_at_sign\\\\train.txt']"
      ]
     },
     "execution_count": 2,
     "metadata": {},
     "output_type": "execute_result"
    }
   ],
   "source": [
    "# start with 20k dataset with replace number by @ sign\n",
    "data_dir = 'pubmed-rct/PubMed_20k_RCT_numbers_replaced_with_at_sign'\n",
    "filepath = [ os.path.join(data_dir, file) for file in os.listdir(data_dir) ]\n",
    "filepath"
   ]
  },
  {
   "cell_type": "markdown",
   "metadata": {},
   "source": [
    "## Preprocess data"
   ]
  },
  {
   "cell_type": "code",
   "execution_count": 3,
   "metadata": {},
   "outputs": [
    {
     "name": "stdout",
     "output_type": "stream",
     "text": [
      "['###24293578\\n', 'OBJECTIVE\\tTo investigate the efficacy of @ weeks of daily low-dose oral prednisolone in improving pain , mobility , and systemic low-grade inflammation in the short term and whether the effect would be sustained at @ weeks in older adults with moderate to severe knee osteoarthritis ( OA ) .\\n', 'METHODS\\tA total of @ patients with primary knee OA were randomized @:@ ; @ received @ mg/day of prednisolone and @ received placebo for @ weeks .\\n', 'METHODS\\tOutcome measures included pain reduction and improvement in function scores and systemic inflammation markers .\\n', 'METHODS\\tPain was assessed using the visual analog pain scale ( @-@ mm ) .\\n']\n"
     ]
    }
   ],
   "source": [
    "# read in all line of target text file\n",
    "def get_lines(filepath):\n",
    "    '''\n",
    "    Read text file and return the lines as a list.\n",
    "    '''\n",
    "    with open(filepath, 'r') as file :\n",
    "        return file.readlines()\n",
    "\n",
    "\n",
    "train_lines = get_lines(filepath[2])\n",
    "print(train_lines[:5])"
   ]
  },
  {
   "cell_type": "code",
   "execution_count": 4,
   "metadata": {},
   "outputs": [
    {
     "data": {
      "text/plain": [
       "210040"
      ]
     },
     "execution_count": 4,
     "metadata": {},
     "output_type": "execute_result"
    }
   ],
   "source": [
    "len(train_lines)"
   ]
  },
  {
   "cell_type": "markdown",
   "metadata": {},
   "source": [
    "```\n",
    "[{'line_number' : 0 ,\n",
    "   'target' : 'OBJECTIVE',\n",
    "   'text' : 'To investigate the efficacy of @ weeks of daily low-dose oral prednisolone in improving pain , mobility , and systemic low-grade inflammation in the short term and whether the effect would be sustained at @ weeks in older adults with moderate to severe knee osteoarthritis ( OA ) .'\n",
    "   'total_lines' : 5}, # total lines in each Abstract\n",
    "   {''line_number' : 1, \n",
    "   .....\n",
    "}]\n",
    "```"
   ]
  },
  {
   "cell_type": "code",
   "execution_count": 5,
   "metadata": {},
   "outputs": [],
   "source": [
    "def preprocess_text(filepath):\n",
    "    '''\n",
    "    change long lines to this format\n",
    "    [{'line_number' : 0 ,\n",
    "    'target' : 'OBJECTIVE',\n",
    "    'text' : 'To investigate the efficacy of @ weeks of daily low-dose oral prednisolone in \n",
    "              improving pain , mobility , and systemic low-grade inflammation in the short term \n",
    "              and whether the effect would be sustained at @ weeks in older adults with moderate \n",
    "              to severe knee osteoarthritis ( OA ) .'\n",
    "    'total_lines' : 5}, # total lines in each Abstract\n",
    "    {''line_number' : 1, \n",
    "    .....\n",
    "    }]\n",
    "    '''\n",
    "    input_lines = get_lines(filepath)\n",
    "    abstract_lines = '' # to save 1 abstract \n",
    "    abstract_samples = []\n",
    "\n",
    "    for line in input_lines :\n",
    "        if line.startswith('###') : #heading of each Abstract\n",
    "            abstract_id = line \n",
    "            abstract_lines = '' # reset old Abstract\n",
    "        elif line.isspace(): # if a new line (last abstract has space)\n",
    "            abstract_split = abstract_lines.splitlines() # split Abstract into seperate line\n",
    "\n",
    "            # loop for content in each Abstract\n",
    "            for abstract_line_number, abstract_line in enumerate(abstract_split) :\n",
    "                line_data = {} # for each target and text\n",
    "                target_text = abstract_line.split('\\t') # target and text\n",
    "                line_data['line_number'] = abstract_line_number\n",
    "                line_data['target'] = target_text[0]\n",
    "                line_data['text'] = target_text[1].lower()\n",
    "                line_data['total_lines'] = len(abstract_split) - 1 # start from zero\n",
    "                abstract_samples.append(line_data) # add to list\n",
    "\n",
    "        # content for each abtract\n",
    "        else :\n",
    "            abstract_lines += line\n",
    "\n",
    "    return abstract_samples"
   ]
  },
  {
   "cell_type": "code",
   "execution_count": 6,
   "metadata": {},
   "outputs": [
    {
     "data": {
      "text/plain": [
       "[{'line_number': 9,\n",
       "  'target': 'RESULTS',\n",
       "  'text': 'these differences remained significant at @ weeks .',\n",
       "  'total_lines': 11},\n",
       " {'line_number': 10,\n",
       "  'target': 'RESULTS',\n",
       "  'text': 'the outcome measures in rheumatology clinical trials-osteoarthritis research society international responder rate was @ % in the intervention group and @ % in the placebo group ( p < @ ) .',\n",
       "  'total_lines': 11},\n",
       " {'line_number': 11,\n",
       "  'target': 'CONCLUSIONS',\n",
       "  'text': 'low-dose oral prednisolone had both a short-term and a longer sustained effect resulting in less knee pain , better physical function , and attenuation of systemic inflammation in older patients with knee oa ( clinicaltrials.gov identifier nct@ ) .',\n",
       "  'total_lines': 11},\n",
       " {'line_number': 0,\n",
       "  'target': 'BACKGROUND',\n",
       "  'text': 'emotional eating is associated with overeating and the development of obesity .',\n",
       "  'total_lines': 10}]"
      ]
     },
     "execution_count": 6,
     "metadata": {},
     "output_type": "execute_result"
    }
   ],
   "source": [
    "train_samples = preprocess_text(filepath[2])\n",
    "val_samples = preprocess_text(filepath[0])\n",
    "test_samples = preprocess_text(filepath[1])\n",
    "train_samples[9:13]"
   ]
  },
  {
   "cell_type": "code",
   "execution_count": 7,
   "metadata": {},
   "outputs": [
    {
     "data": {
      "text/plain": [
       "(180040, 30212, 30135)"
      ]
     },
     "execution_count": 7,
     "metadata": {},
     "output_type": "execute_result"
    }
   ],
   "source": [
    "len(train_samples), len(val_samples), len(test_samples)"
   ]
  },
  {
   "cell_type": "code",
   "execution_count": 8,
   "metadata": {},
   "outputs": [
    {
     "data": {
      "text/html": [
       "<div>\n",
       "<style scoped>\n",
       "    .dataframe tbody tr th:only-of-type {\n",
       "        vertical-align: middle;\n",
       "    }\n",
       "\n",
       "    .dataframe tbody tr th {\n",
       "        vertical-align: top;\n",
       "    }\n",
       "\n",
       "    .dataframe thead th {\n",
       "        text-align: right;\n",
       "    }\n",
       "</style>\n",
       "<table border=\"1\" class=\"dataframe\">\n",
       "  <thead>\n",
       "    <tr style=\"text-align: right;\">\n",
       "      <th></th>\n",
       "      <th>line_number</th>\n",
       "      <th>target</th>\n",
       "      <th>text</th>\n",
       "      <th>total_lines</th>\n",
       "    </tr>\n",
       "  </thead>\n",
       "  <tbody>\n",
       "    <tr>\n",
       "      <th>0</th>\n",
       "      <td>0</td>\n",
       "      <td>OBJECTIVE</td>\n",
       "      <td>to investigate the efficacy of @ weeks of dail...</td>\n",
       "      <td>11</td>\n",
       "    </tr>\n",
       "    <tr>\n",
       "      <th>1</th>\n",
       "      <td>1</td>\n",
       "      <td>METHODS</td>\n",
       "      <td>a total of @ patients with primary knee oa wer...</td>\n",
       "      <td>11</td>\n",
       "    </tr>\n",
       "    <tr>\n",
       "      <th>2</th>\n",
       "      <td>2</td>\n",
       "      <td>METHODS</td>\n",
       "      <td>outcome measures included pain reduction and i...</td>\n",
       "      <td>11</td>\n",
       "    </tr>\n",
       "    <tr>\n",
       "      <th>3</th>\n",
       "      <td>3</td>\n",
       "      <td>METHODS</td>\n",
       "      <td>pain was assessed using the visual analog pain...</td>\n",
       "      <td>11</td>\n",
       "    </tr>\n",
       "    <tr>\n",
       "      <th>4</th>\n",
       "      <td>4</td>\n",
       "      <td>METHODS</td>\n",
       "      <td>secondary outcome measures included the wester...</td>\n",
       "      <td>11</td>\n",
       "    </tr>\n",
       "    <tr>\n",
       "      <th>5</th>\n",
       "      <td>5</td>\n",
       "      <td>METHODS</td>\n",
       "      <td>serum levels of interleukin @ ( il-@ ) , il-@ ...</td>\n",
       "      <td>11</td>\n",
       "    </tr>\n",
       "    <tr>\n",
       "      <th>6</th>\n",
       "      <td>6</td>\n",
       "      <td>RESULTS</td>\n",
       "      <td>there was a clinically relevant reduction in t...</td>\n",
       "      <td>11</td>\n",
       "    </tr>\n",
       "    <tr>\n",
       "      <th>7</th>\n",
       "      <td>7</td>\n",
       "      <td>RESULTS</td>\n",
       "      <td>the mean difference between treatment arms ( @...</td>\n",
       "      <td>11</td>\n",
       "    </tr>\n",
       "    <tr>\n",
       "      <th>8</th>\n",
       "      <td>8</td>\n",
       "      <td>RESULTS</td>\n",
       "      <td>further , there was a clinically relevant redu...</td>\n",
       "      <td>11</td>\n",
       "    </tr>\n",
       "    <tr>\n",
       "      <th>9</th>\n",
       "      <td>9</td>\n",
       "      <td>RESULTS</td>\n",
       "      <td>these differences remained significant at @ we...</td>\n",
       "      <td>11</td>\n",
       "    </tr>\n",
       "    <tr>\n",
       "      <th>10</th>\n",
       "      <td>10</td>\n",
       "      <td>RESULTS</td>\n",
       "      <td>the outcome measures in rheumatology clinical ...</td>\n",
       "      <td>11</td>\n",
       "    </tr>\n",
       "    <tr>\n",
       "      <th>11</th>\n",
       "      <td>11</td>\n",
       "      <td>CONCLUSIONS</td>\n",
       "      <td>low-dose oral prednisolone had both a short-te...</td>\n",
       "      <td>11</td>\n",
       "    </tr>\n",
       "    <tr>\n",
       "      <th>12</th>\n",
       "      <td>0</td>\n",
       "      <td>BACKGROUND</td>\n",
       "      <td>emotional eating is associated with overeating...</td>\n",
       "      <td>10</td>\n",
       "    </tr>\n",
       "    <tr>\n",
       "      <th>13</th>\n",
       "      <td>1</td>\n",
       "      <td>BACKGROUND</td>\n",
       "      <td>yet , empirical evidence for individual ( trai...</td>\n",
       "      <td>10</td>\n",
       "    </tr>\n",
       "  </tbody>\n",
       "</table>\n",
       "</div>"
      ],
      "text/plain": [
       "    line_number       target  \\\n",
       "0             0    OBJECTIVE   \n",
       "1             1      METHODS   \n",
       "2             2      METHODS   \n",
       "3             3      METHODS   \n",
       "4             4      METHODS   \n",
       "5             5      METHODS   \n",
       "6             6      RESULTS   \n",
       "7             7      RESULTS   \n",
       "8             8      RESULTS   \n",
       "9             9      RESULTS   \n",
       "10           10      RESULTS   \n",
       "11           11  CONCLUSIONS   \n",
       "12            0   BACKGROUND   \n",
       "13            1   BACKGROUND   \n",
       "\n",
       "                                                 text  total_lines  \n",
       "0   to investigate the efficacy of @ weeks of dail...           11  \n",
       "1   a total of @ patients with primary knee oa wer...           11  \n",
       "2   outcome measures included pain reduction and i...           11  \n",
       "3   pain was assessed using the visual analog pain...           11  \n",
       "4   secondary outcome measures included the wester...           11  \n",
       "5   serum levels of interleukin @ ( il-@ ) , il-@ ...           11  \n",
       "6   there was a clinically relevant reduction in t...           11  \n",
       "7   the mean difference between treatment arms ( @...           11  \n",
       "8   further , there was a clinically relevant redu...           11  \n",
       "9   these differences remained significant at @ we...           11  \n",
       "10  the outcome measures in rheumatology clinical ...           11  \n",
       "11  low-dose oral prednisolone had both a short-te...           11  \n",
       "12  emotional eating is associated with overeating...           10  \n",
       "13  yet , empirical evidence for individual ( trai...           10  "
      ]
     },
     "execution_count": 8,
     "metadata": {},
     "output_type": "execute_result"
    }
   ],
   "source": [
    "# Create DataFrame\n",
    "train_df = pd.DataFrame(train_samples)\n",
    "val_df = pd.DataFrame(val_samples)\n",
    "test_df = pd.DataFrame(test_samples)\n",
    "train_df.head(14)"
   ]
  },
  {
   "cell_type": "code",
   "execution_count": 9,
   "metadata": {},
   "outputs": [
    {
     "data": {
      "text/plain": [
       "target\n",
       "METHODS        59353\n",
       "RESULTS        57953\n",
       "CONCLUSIONS    27168\n",
       "BACKGROUND     21727\n",
       "OBJECTIVE      13839\n",
       "dtype: int64"
      ]
     },
     "execution_count": 9,
     "metadata": {},
     "output_type": "execute_result"
    }
   ],
   "source": [
    "train_df.value_counts('target')"
   ]
  },
  {
   "cell_type": "code",
   "execution_count": 10,
   "metadata": {},
   "outputs": [],
   "source": [
    "# feature of data\n",
    "train_sentences = train_df['text'].to_list()\n",
    "val_sentences = val_df['text'].to_list()\n",
    "test_sentences = test_df['text'].to_list()"
   ]
  },
  {
   "cell_type": "markdown",
   "metadata": {},
   "source": [
    "### Make numeric labels"
   ]
  },
  {
   "cell_type": "code",
   "execution_count": 11,
   "metadata": {},
   "outputs": [
    {
     "name": "stdout",
     "output_type": "stream",
     "text": [
      "[[0. 0. 0. 1. 0.]\n",
      " [0. 0. 1. 0. 0.]\n",
      " [0. 0. 1. 0. 0.]\n",
      " [0. 0. 1. 0. 0.]\n",
      " [0. 0. 1. 0. 0.]] (180040, 5)\n"
     ]
    }
   ],
   "source": [
    "from sklearn.preprocessing import OneHotEncoder # or LabelEncoder(1D data)return a number for each class\n",
    "\n",
    "onehot_encoder = OneHotEncoder(sparse=False) # to compatible with Tensorflow\n",
    "train_labels = onehot_encoder.fit_transform(train_df['target'].to_numpy().reshape(-1,1))\n",
    "val_labels = onehot_encoder.transform(val_df['target'].to_numpy().reshape(-1,1))\n",
    "test_labels = onehot_encoder.transform(test_df['target'].to_numpy().reshape(-1,1))\n",
    "print(train_labels[:5], train_labels.shape)"
   ]
  },
  {
   "cell_type": "code",
   "execution_count": 12,
   "metadata": {},
   "outputs": [
    {
     "name": "stdout",
     "output_type": "stream",
     "text": [
      "[3 2 2 2 2] (180040,)\n"
     ]
    }
   ],
   "source": [
    "from sklearn.preprocessing import LabelEncoder\n",
    "\n",
    "label_encoder = LabelEncoder()\n",
    "train_labels_ = label_encoder.fit_transform(train_df['target'])\n",
    "val_labels_ = label_encoder.transform(val_df['target'])\n",
    "test_labels_ = label_encoder.transform(test_df['target'])\n",
    "print(train_labels_[:5], train_labels_.shape)"
   ]
  },
  {
   "cell_type": "code",
   "execution_count": 13,
   "metadata": {},
   "outputs": [
    {
     "name": "stdout",
     "output_type": "stream",
     "text": [
      "['BACKGROUND' 'CONCLUSIONS' 'METHODS' 'OBJECTIVE' 'RESULTS']\n",
      "['BACKGROUND' 'CONCLUSIONS' 'METHODS' 'OBJECTIVE' 'RESULTS']\n"
     ]
    }
   ],
   "source": [
    "class_name = label_encoder.classes_\n",
    "print(onehot_encoder.categories_[0])\n",
    "print(label_encoder.classes_)"
   ]
  },
  {
   "cell_type": "markdown",
   "metadata": {},
   "source": [
    "## Build Model Part"
   ]
  },
  {
   "cell_type": "code",
   "execution_count": 14,
   "metadata": {},
   "outputs": [],
   "source": [
    "# create evaluation function\n",
    "from sklearn.metrics import accuracy_score, precision_recall_fscore_support\n",
    "\n",
    "def evaluate_score(y_true, y_preds):\n",
    "    accuracy = accuracy_score(y_true, y_preds)\n",
    "    precision, recall, f1_score = precision_recall_fscore_support(y_true, y_preds, average='weighted')[:-1]\n",
    "    evaluation_dict = {'accuracy':accuracy,'precision':precision,'recall':recall,'f1_score':f1_score}\n",
    "    return evaluation_dict"
   ]
  },
  {
   "cell_type": "markdown",
   "metadata": {},
   "source": [
    "### baseline : Naive Bayes"
   ]
  },
  {
   "cell_type": "code",
   "execution_count": 15,
   "metadata": {},
   "outputs": [
    {
     "data": {
      "text/plain": [
       "Pipeline(steps=[('tf-idf', TfidfVectorizer()), ('clf', MultinomialNB())])"
      ]
     },
     "execution_count": 15,
     "metadata": {},
     "output_type": "execute_result"
    }
   ],
   "source": [
    "from sklearn.naive_bayes import MultinomialNB\n",
    "from sklearn.feature_extraction.text import TfidfVectorizer\n",
    "from sklearn.pipeline import Pipeline\n",
    "\n",
    "model_0 = Pipeline([ \n",
    "    ('tf-idf', TfidfVectorizer()),\n",
    "    ('clf', MultinomialNB())\n",
    "])\n",
    "\n",
    "model_0.fit(train_sentences, train_labels_) # naive bayes handle 1D targer"
   ]
  },
  {
   "cell_type": "markdown",
   "metadata": {},
   "source": [
    "> if using onehot_encoder : ```ValueError: y should be a 1d array, got an array of shape (180040, 5) instead.```"
   ]
  },
  {
   "cell_type": "code",
   "execution_count": 16,
   "metadata": {},
   "outputs": [
    {
     "data": {
      "text/plain": [
       "{'accuracy': 0.7218323844829869,\n",
       " 'precision': 0.7186466952323352,\n",
       " 'recall': 0.7218323844829869,\n",
       " 'f1_score': 0.6989250353450294}"
      ]
     },
     "execution_count": 16,
     "metadata": {},
     "output_type": "execute_result"
    }
   ],
   "source": [
    "# make prediction \n",
    "baseline_preds = model_0.predict(val_sentences)\n",
    "baseline_score = evaluate_score(val_labels_, baseline_preds)\n",
    "baseline_score"
   ]
  },
  {
   "cell_type": "markdown",
   "metadata": {},
   "source": [
    "### Deep sequence models"
   ]
  },
  {
   "cell_type": "code",
   "execution_count": 17,
   "metadata": {},
   "outputs": [
    {
     "data": {
      "text/plain": [
       "26.338269273494777"
      ]
     },
     "execution_count": 17,
     "metadata": {},
     "output_type": "execute_result"
    }
   ],
   "source": [
    "import tensorflow as tf\n",
    "from keras import layers\n",
    "\n",
    "#how long is each sentence on average ?\n",
    "sentences_lens = [len(sentences.split()) for sentences in train_sentences] \n",
    "avg_sentences = np.mean(sentences_lens)\n",
    "avg_sentences"
   ]
  },
  {
   "cell_type": "code",
   "execution_count": 18,
   "metadata": {},
   "outputs": [
    {
     "data": {
      "image/png": "[encoded data removed]",
      "text/plain": [
       "<Figure size 432x288 with 1 Axes>"
      ]
     },
     "metadata": {
      "needs_background": "light"
     },
     "output_type": "display_data"
    }
   ],
   "source": [
    "plt.hist(sentences_lens, bins=30)\n",
    "plt.title('len of each sentences')\n",
    "plt.xlim([0, 120]);"
   ]
  },
  {
   "cell_type": "code",
   "execution_count": 19,
   "metadata": {},
   "outputs": [
    {
     "data": {
      "text/plain": [
       "55"
      ]
     },
     "execution_count": 19,
     "metadata": {},
     "output_type": "execute_result"
    }
   ],
   "source": [
    "output_seg_len = int(np.percentile(sentences_lens, 95)) # 95% percentile (make sure don't cut many information off)\n",
    "output_seg_len # just missed 5% "
   ]
  },
  {
   "cell_type": "markdown",
   "metadata": {},
   "source": [
    "text_vectorizer: text to number (like ordinal encoder)"
   ]
  },
  {
   "cell_type": "code",
   "execution_count": 20,
   "metadata": {},
   "outputs": [],
   "source": [
    "#create text vectorizer layer (text to number)\n",
    "max_vocab = 68000 # from the paper"
   ]
  },
  {
   "cell_type": "code",
   "execution_count": 21,
   "metadata": {},
   "outputs": [],
   "source": [
    "from tensorflow.keras.layers.experimental.preprocessing import TextVectorization\n",
    "\n",
    "text_vectorizer = TextVectorization(max_tokens=max_vocab, \n",
    "                             output_sequence_length=output_seg_len)\n",
    "\n",
    "#adapt to training data\n",
    "text_vectorizer.adapt(train_sentences)"
   ]
  },
  {
   "cell_type": "code",
   "execution_count": 22,
   "metadata": {},
   "outputs": [
    {
     "name": "stdout",
     "output_type": "stream",
     "text": [
      "Text:\n",
      "secondary outcomes will include monthly clinic visits , provision of lifestyle advice , use of antihypertensive medications and use of aspirin .\n",
      "\n",
      "Length of text: 144\n",
      "Vectorized:\n",
      "[ 151   75   95  637 1097  859  620 2191    4  839 1589   87    4 2889\n",
      " 1098    3   87    4 1271    0    0    0    0    0    0    0    0    0\n",
      "    0    0    0    0    0    0    0    0    0    0    0    0    0    0\n",
      "    0    0    0    0    0    0    0    0    0    0    0    0    0]\n"
     ]
    }
   ],
   "source": [
    "#test out text_vectorizer\n",
    "import random\n",
    "sample = random.choice(train_sentences)\n",
    "print(f'Text:\\n{sample}\\n')\n",
    "print(f'Length of text: {len(sample)}')\n",
    "print(f'Vectorized:\\n{text_vectorizer(sample)}')"
   ]
  },
  {
   "cell_type": "code",
   "execution_count": 23,
   "metadata": {},
   "outputs": [
    {
     "name": "stdout",
     "output_type": "stream",
     "text": [
      "Number of vocab : 64841\n",
      "Most common word : ['', '[UNK]', 'the', 'and', 'of', 'in', 'to', 'with', 'a', 'were']\n",
      "Least common word : ['aarm', 'aaqol', 'aaq', 'aanhui', 'aana', 'aainduced', 'aaigroup', 'aachener', 'aachen', 'aaacp']\n"
     ]
    }
   ],
   "source": [
    "# how many word in training\n",
    "vocab_list = text_vectorizer.get_vocabulary()\n",
    "length_vocab = len(vocab_list)\n",
    "print('Number of vocab :',length_vocab)\n",
    "print('Most common word :',vocab_list[:10])\n",
    "print('Least common word :',vocab_list[-10:])"
   ]
  },
  {
   "cell_type": "markdown",
   "metadata": {},
   "source": [
    "embedding: (relavent number word by word, randomize number first and train like weights)"
   ]
  },
  {
   "cell_type": "code",
   "execution_count": 24,
   "metadata": {},
   "outputs": [],
   "source": [
    "#token embedding layer\n",
    "token_embed = layers.Embedding(input_dim=length_vocab, \n",
    "                               output_dim=128, # dimetion of output\n",
    "                               mask_zero= True, # will do more efficient computing (when a lot of zero in matrix)\n",
    "                               name='token_embedding')"
   ]
  },
  {
   "cell_type": "code",
   "execution_count": 25,
   "metadata": {},
   "outputs": [
    {
     "name": "stdout",
     "output_type": "stream",
     "text": [
      "Text : secondary outcomes will include monthly clinic visits , provision of lifestyle advice , use of antihypertensive medications and use of aspirin .\n",
      "Vectorized:\n",
      "[[ 151   75   95  637 1097  859  620 2191    4  839 1589   87    4 2889\n",
      "  1098    3   87    4 1271    0    0    0    0    0    0    0    0    0\n",
      "     0    0    0    0    0    0    0    0    0    0    0    0    0    0\n",
      "     0    0    0    0    0    0    0    0    0    0    0    0    0]]\n",
      " shape : (1, 55)\n",
      "\n",
      "Embedded:\n",
      "[[-0.0357766   0.03960489 -0.00365805  0.01212858  0.02534685  0.02814177]\n",
      " [-0.00933223  0.03839954  0.04976356  0.04395633 -0.01316857 -0.017798  ]\n",
      " [-0.00492414  0.01663733  0.03320781 -0.02206324  0.00894047  0.00964206]\n",
      " [-0.04341823  0.04353614  0.02993505  0.02088311 -0.03778863 -0.01267475]\n",
      " [-0.03559492  0.04282511 -0.02591112  0.03565272 -0.03570473  0.04577294]]\n",
      " shape : (1, 55, 128)\n"
     ]
    }
   ],
   "source": [
    "#show example embeding\n",
    "print(f'Text : {sample}')\n",
    "vec_sample = text_vectorizer([sample])\n",
    "print(f'Vectorized:\\n{vec_sample}')\n",
    "print(f' shape : {vec_sample.shape}\\n')\n",
    "em_sample = token_embed(vec_sample)\n",
    "print(f'Embedded:\\n{em_sample[0,:5,:6]}')\n",
    "print(f' shape : {em_sample.shape}')"
   ]
  },
  {
   "cell_type": "markdown",
   "metadata": {},
   "source": [
    "<h5>Create datasets : making more efficient to load and train model</h5>"
   ]
  },
  {
   "cell_type": "code",
   "execution_count": 26,
   "metadata": {},
   "outputs": [
    {
     "data": {
      "text/plain": [
       "<TensorSliceDataset element_spec=(TensorSpec(shape=(), dtype=tf.string, name=None), TensorSpec(shape=(5,), dtype=tf.float64, name=None))>"
      ]
     },
     "execution_count": 26,
     "metadata": {},
     "output_type": "execute_result"
    }
   ],
   "source": [
    "#Turn out data into Tensorflow Datasets\n",
    "train_dataset = tf.data.Dataset.from_tensor_slices((train_sentences, train_labels))\n",
    "val_dataset = tf.data.Dataset.from_tensor_slices((val_sentences, val_labels))\n",
    "test_dataset = tf.data.Dataset.from_tensor_slices((test_sentences, test_labels))\n",
    "\n",
    "train_dataset"
   ]
  },
  {
   "cell_type": "code",
   "execution_count": 27,
   "metadata": {},
   "outputs": [
    {
     "data": {
      "text/plain": [
       "<PrefetchDataset element_spec=(TensorSpec(shape=(None,), dtype=tf.string, name=None), TensorSpec(shape=(None, 5), dtype=tf.float64, name=None))>"
      ]
     },
     "execution_count": 27,
     "metadata": {},
     "output_type": "execute_result"
    }
   ],
   "source": [
    "#making more efficien to load and train model\n",
    "train_dataset = train_dataset.batch(32).prefetch(tf.data.AUTOTUNE) # auto prefetch many as you can\n",
    "val_dataset = val_dataset.batch(32).prefetch(tf.data.AUTOTUNE) # auto prefetch many as you can\n",
    "test_dataset = test_dataset.batch(32).prefetch(tf.data.AUTOTUNE) # auto prefetch many as you can\n",
    "\n",
    "train_dataset"
   ]
  },
  {
   "cell_type": "markdown",
   "metadata": {},
   "source": [
    "### Model 1 : ConV1D"
   ]
  },
  {
   "cell_type": "code",
   "execution_count": 28,
   "metadata": {},
   "outputs": [
    {
     "name": "stdout",
     "output_type": "stream",
     "text": [
      "Model: \"model\"\n",
      "_________________________________________________________________\n",
      " Layer (type)                Output Shape              Param #   \n",
      "=================================================================\n",
      " input_1 (InputLayer)        [(None, 1)]               0         \n",
      "                                                                 \n",
      " text_vectorization (TextVec  (None, 55)               0         \n",
      " torization)                                                     \n",
      "                                                                 \n",
      " token_embedding (Embedding)  (None, 55, 128)          8299648   \n",
      "                                                                 \n",
      " conv1d (Conv1D)             (None, 55, 32)            20512     \n",
      "                                                                 \n",
      " global_average_pooling1d (G  (None, 32)               0         \n",
      " lobalAveragePooling1D)                                          \n",
      "                                                                 \n",
      " dense (Dense)               (None, 5)                 165       \n",
      "                                                                 \n",
      "=================================================================\n",
      "Total params: 8,320,325\n",
      "Trainable params: 8,320,325\n",
      "Non-trainable params: 0\n",
      "_________________________________________________________________\n",
      "Epoch 1/5\n",
      "562/562 [==============================] - 65s 113ms/step - loss: 0.9537 - accuracy: 0.6276 - val_loss: 0.6975 - val_accuracy: 0.7334\n",
      "Epoch 2/5\n",
      "562/562 [==============================] - 58s 104ms/step - loss: 0.6679 - accuracy: 0.7519 - val_loss: 0.6366 - val_accuracy: 0.7683\n",
      "Epoch 3/5\n",
      "562/562 [==============================] - 59s 106ms/step - loss: 0.6263 - accuracy: 0.7695 - val_loss: 0.6052 - val_accuracy: 0.7826\n",
      "Epoch 4/5\n",
      "562/562 [==============================] - 60s 107ms/step - loss: 0.5983 - accuracy: 0.7838 - val_loss: 0.5876 - val_accuracy: 0.7816\n",
      "Epoch 5/5\n",
      "562/562 [==============================] - 59s 105ms/step - loss: 0.5982 - accuracy: 0.7888 - val_loss: 0.5677 - val_accuracy: 0.7942\n"
     ]
    }
   ],
   "source": [
    "inputs = layers.Input(shape=(1,), dtype=tf.string)\n",
    "text_vector = text_vectorizer(inputs)\n",
    "token_embeder = token_embed(text_vector)\n",
    "x = layers.Conv1D(filters=32, kernel_size=5, padding='same', activation='relu')(token_embeder)\n",
    "x = layers.GlobalAveragePooling1D()(x) \n",
    "outputs = layers.Dense(5, activation='softmax')(x)\n",
    "model_1 = keras.Model(inputs, outputs)\n",
    "\n",
    "model_1.summary()\n",
    "model_1.compile(\n",
    "    loss=keras.losses.CategoricalCrossentropy(),\n",
    "    optimizer=keras.optimizers.Adam(),\n",
    "    metrics=['accuracy']\n",
    ")\n",
    "hist_1 = model_1.fit(train_dataset, \n",
    "                     validation_data=val_dataset, \n",
    "                     steps_per_epoch=int(len(train_dataset) *.1),\n",
    "                     validation_steps = int(len(val_dataset) *.1),\n",
    "                     epochs=5)"
   ]
  },
  {
   "cell_type": "code",
   "execution_count": 29,
   "metadata": {},
   "outputs": [
    {
     "name": "stdout",
     "output_type": "stream",
     "text": [
      "tf.Tensor([0 0 3 2 2], shape=(5,), dtype=int64)\n"
     ]
    }
   ],
   "source": [
    "model_1_proba = model_1.predict(val_dataset)\n",
    "model_1_preds = tf.argmax(model_1_proba, axis=1)\n",
    "print(model_1_preds[:5])"
   ]
  },
  {
   "cell_type": "code",
   "execution_count": 30,
   "metadata": {},
   "outputs": [
    {
     "data": {
      "text/plain": [
       "{'accuracy': 0.7982920693764067,\n",
       " 'precision': 0.797458591333494,\n",
       " 'recall': 0.7982920693764067,\n",
       " 'f1_score': 0.7952949209889866}"
      ]
     },
     "execution_count": 30,
     "metadata": {},
     "output_type": "execute_result"
    }
   ],
   "source": [
    "model_1_result = evaluate_score(val_labels_, model_1_preds)\n",
    "model_1_result"
   ]
  },
  {
   "cell_type": "markdown",
   "metadata": {},
   "source": [
    "### Model 2 : Feature extraction\n",
    "check : [Universal sentences encoder (USE)](https://tfhub.dev/google/universal-sentence-encoder/4)\n",
    "\n",
    "embedding layers learned from many sentences."
   ]
  },
  {
   "cell_type": "code",
   "execution_count": null,
   "metadata": {},
   "outputs": [],
   "source": [
    "import tensorflow_hub as hub\n",
    "\n",
    "embed_hub_layer = hub.KerasLayer('https://tfhub.dev/google/universal-sentence-encoder/4', \n",
    "                                  trainable=False, name='USE')"
   ]
  },
  {
   "cell_type": "code",
   "execution_count": 31,
   "metadata": {},
   "outputs": [
    {
     "name": "stdout",
     "output_type": "stream",
     "text": [
      "secondary outcomes will include monthly clinic visits , provision of lifestyle advice , use of antihypertensive medications and use of aspirin .\n"
     ]
    }
   ],
   "source": [
    "#test on sentence\n",
    "print(f'text : {sample}')\n",
    "sample_embed = embed_hub_layer([sample])\n",
    "print(f'embeded :\\n{sample_embed}\\n{sample_embed.shape}') #512 long feature vector"
   ]
  },
  {
   "cell_type": "code",
   "execution_count": null,
   "metadata": {},
   "outputs": [],
   "source": [
    "#modeling with USE\n",
    "inputs = layers.Input(shape=[], dtype='string') # [] = any amount of sentences\n",
    "pretrained_embed = embed_hub_layer(inputs) # tokenize text to 512 long vector\n",
    "x = layers.Dense(128, activation='relu')(pretrained_embed)\n",
    "# can add more layer if you want\n",
    "outputs = layers.Dense(5, activation='softmax')(x)\n",
    "model_2 = tf.keras.Model(inputs, outputs)\n",
    "\n",
    "model_2.compile(\n",
    "    loss=keras.losses.CategoricalCrossentropy(),\n",
    "    optimizer=keras.optimizers.Adam(),\n",
    "    metrics=['accuracy']\n",
    ")\n",
    "hist_2 = model_2.fit(train_dataset, \n",
    "                     validation_data=val_dataset, \n",
    "                     steps_per_epoch=int(len(train_dataset) *.1),\n",
    "                     validation_steps = int(len(val_dataset) *.1),\n",
    "                     epochs=5)"
   ]
  },
  {
   "cell_type": "markdown",
   "metadata": {},
   "source": [
    "### Model 3 : Conv1D with Character embedding"
   ]
  },
  {
   "cell_type": "markdown",
   "metadata": {},
   "source": [
    "<img src=\"https://www.researchgate.net/profile/M-Kumar-2/publication/321503621/figure/fig2/AS:594531682635776@1518758807406/Character-based-embedding-methodology.png\"  width=500px />"
   ]
  },
  {
   "cell_type": "code",
   "execution_count": 36,
   "metadata": {},
   "outputs": [
    {
     "data": {
      "text/plain": [
       "'to investigate the efficacy of @ weeks of daily low-dose oral prednisolone in improving pain , mobility , and systemic low-grade inflammation in the short term and whether the effect would be sustained at @ weeks in older adults with moderate to severe knee osteoarthritis ( oa ) .'"
      ]
     },
     "execution_count": 36,
     "metadata": {},
     "output_type": "execute_result"
    }
   ],
   "source": [
    "train_sentences[0]"
   ]
  },
  {
   "cell_type": "code",
   "execution_count": 39,
   "metadata": {},
   "outputs": [
    {
     "data": {
      "text/plain": [
       "'t o   i n v e s t i g a t e   t h e   e f f i c a c y   o f   @   w e e k s   o f   d a i l y   l o w - d o s e   o r a l   p r e d n i s o l o n e   i n   i m p r o v i n g   p a i n   ,   m o b i l i t y   ,   a n d   s y s t e m i c   l o w - g r a d e   i n f l a m m a t i o n   i n   t h e   s h o r t   t e r m   a n d   w h e t h e r   t h e   e f f e c t   w o u l d   b e   s u s t a i n e d   a t   @   w e e k s   i n   o l d e r   a d u l t s   w i t h   m o d e r a t e   t o   s e v e r e   k n e e   o s t e o a r t h r i t i s   (   o a   )   .'"
      ]
     },
     "execution_count": 39,
     "metadata": {},
     "output_type": "execute_result"
    }
   ],
   "source": [
    "# make function into character\n",
    "def split_char(sentence):\n",
    "    return ' '.join(list(sentence))\n",
    "\n",
    "split_char(train_sentences[0])"
   ]
  },
  {
   "cell_type": "code",
   "execution_count": 43,
   "metadata": {},
   "outputs": [],
   "source": [
    "#split sequence-level into character-lavel\n",
    "train_char = [split_char(sentence) for sentence in train_sentences]\n",
    "val_char = [split_char(sentence) for sentence in val_sentences]\n",
    "test_char = [split_char(sentence) for sentence in test_sentences]"
   ]
  },
  {
   "cell_type": "code",
   "execution_count": 53,
   "metadata": {},
   "outputs": [
    {
     "data": {
      "text/plain": [
       "149.3662574983337"
      ]
     },
     "execution_count": 53,
     "metadata": {},
     "output_type": "execute_result"
    }
   ],
   "source": [
    "#what the average charater length\n",
    "char_lens = [len(sentence) for sentence in train_sentences]\n",
    "mean_char_lens = np.mean(char_lens)\n",
    "mean_char_lens"
   ]
  },
  {
   "cell_type": "code",
   "execution_count": 64,
   "metadata": {},
   "outputs": [
    {
     "name": "stdout",
     "output_type": "stream",
     "text": [
      "290\n"
     ]
    },
    {
     "data": {
      "image/png": "[encoded data removed]",
      "text/plain": [
       "<Figure size 432x288 with 1 Axes>"
      ]
     },
     "metadata": {
      "needs_background": "light"
     },
     "output_type": "display_data"
    }
   ],
   "source": [
    "plt.hist(char_lens, bins=20)\n",
    "plt.title('character length')\n",
    "#find what character length what cover 95 percentile\n",
    "output_seg_char_len = int(np.percentile(char_lens, 95))\n",
    "plt.axvline(output_seg_char_len, c='black')\n",
    "print(output_seg_char_len);"
   ]
  },
  {
   "cell_type": "code",
   "execution_count": 67,
   "metadata": {},
   "outputs": [
    {
     "data": {
      "text/plain": [
       "'abcdefghijklmnopqrstuvwxyz0123456789!\"#$%&\\'()*+,-./:;<=>?@[\\\\]^_`{|}~'"
      ]
     },
     "execution_count": 67,
     "metadata": {},
     "output_type": "execute_result"
    }
   ],
   "source": [
    "#get all character \n",
    "import string\n",
    "alphabet = string.ascii_lowercase + string.digits + string.punctuation\n",
    "alphabet"
   ]
  },
  {
   "cell_type": "code",
   "execution_count": 80,
   "metadata": {},
   "outputs": [],
   "source": [
    "#create char-level token vectorizer\n",
    "NUM_CHAR_TOKENS = len(alphabet) + 2 # add for space and OOV(UNK)\n",
    "char_vectorize = TextVectorization(max_tokens=NUM_CHAR_TOKENS, output_sequence_length=output_seg_char_len,\n",
    "                                    name='char-vec')"
   ]
  },
  {
   "cell_type": "code",
   "execution_count": 81,
   "metadata": {},
   "outputs": [],
   "source": [
    "#adapt to training char\n",
    "char_vectorize.adapt(train_char)"
   ]
  },
  {
   "cell_type": "code",
   "execution_count": 82,
   "metadata": {},
   "outputs": [
    {
     "name": "stdout",
     "output_type": "stream",
     "text": [
      "number of char : 28\n",
      "most common char : ['', '[UNK]', 'e', 't', 'i']\n",
      "least common char : ['k', 'x', 'z', 'q', 'j']\n"
     ]
    }
   ],
   "source": [
    "#check charactor vocab stat\n",
    "char_vocab = char_vectorize.get_vocabulary()\n",
    "print(f'number of char : {len(char_vocab)}')\n",
    "print(f'most common char : {char_vocab[:5]}')\n",
    "print(f'least common char : {char_vocab[-5:]}')"
   ]
  },
  {
   "cell_type": "code",
   "execution_count": 97,
   "metadata": {},
   "outputs": [
    {
     "name": "stdout",
     "output_type": "stream",
     "text": [
      "text : 307\n",
      "m u s c l e   s t r e n g t h   o f   t h e   i r   o r   e r   w a s   n o t   s i g n i f i c a n t l y   d i f f e r e n t   w h e n   c o m p a r i n g   n e u t r a l   @   t o   t h e   m i d - r a n g e   p o s i t i o n   a n d   a t   t h e i r   m o s t   l e n g t h e n e d   p o s i t i o n   .\n",
      "vectorized char : 290\n",
      "[15 16  9 11 12  2  9  3  8  2  6 18  3 13  7 17  3 13  2  4  8  7  8  2\n",
      "  8 20  5  9  6  7  3  9  4 18  6  4 17  4 11  5  6  3 12 19 10  4 17 17\n",
      "  2  8  2  6  3 20 13  2  6 11  7 15 14  5  8  4  6 18  6  2 16  3  8  5\n",
      " 12  3  7  3 13  2 15  4 10  8  5  6 18  2 14  7  9  4  3  4  7  6  5  6\n",
      " 10  5  3  3 13  2  4  8 15  7  9  3 12  2  6 18  3 13  2  6  2 10 14  7\n",
      "  9  4  3  4  7  6  0  0  0  0  0  0  0  0  0  0  0  0  0  0  0  0  0  0\n",
      "  0  0  0  0  0  0  0  0  0  0  0  0  0  0  0  0  0  0  0  0  0  0  0  0\n",
      "  0  0  0  0  0  0  0  0  0  0  0  0  0  0  0  0  0  0  0  0  0  0  0  0\n",
      "  0  0  0  0  0  0  0  0  0  0  0  0  0  0  0  0  0  0  0  0  0  0  0  0\n",
      "  0  0  0  0  0  0  0  0  0  0  0  0  0  0  0  0  0  0  0  0  0  0  0  0\n",
      "  0  0  0  0  0  0  0  0  0  0  0  0  0  0  0  0  0  0  0  0  0  0  0  0\n",
      "  0  0  0  0  0  0  0  0  0  0  0  0  0  0  0  0  0  0  0  0  0  0  0  0\n",
      "  0  0]\n"
     ]
    }
   ],
   "source": [
    "#test char-vectorizer\n",
    "sample = random.choice(train_char)\n",
    "print(f'text : {len(sample)}\\n{sample}')\n",
    "char_vec = char_vectorize([sample])\n",
    "print(f'vectorized char : {len(char_vec[0])}\\n{char_vec[0]}')"
   ]
  },
  {
   "cell_type": "code",
   "execution_count": 99,
   "metadata": {},
   "outputs": [],
   "source": [
    "#create char-level embedding\n",
    "char_embed = layers.Embedding(input_dim=len(char_vocab), # number of different char\n",
    "                              output_dim=25, # from paper\n",
    "                              mask_zero=True,\n",
    "                              name='char_embed')"
   ]
  },
  {
   "cell_type": "code",
   "execution_count": 108,
   "metadata": {},
   "outputs": [
    {
     "name": "stdout",
     "output_type": "stream",
     "text": [
      "char text : 307\n",
      " m u s c l e   s t r e n g t h   o f   t h e   i r   o r   e r   w a s   n o t   s i g n i f i c a n t l y   d i f f e r e n t   w h e n   c o m p a r i n g   n e u t r a l   @   t o   t h e   m i d - r a n g e   p o s i t i o n   a n d   a t   t h e i r   m o s t   l e n g t h e n e d   p o s i t i o n   .\n",
      "char embed : (1, 290, 25)\n",
      " [[ 0.01267979  0.00681015  0.00475659  0.01946977  0.03887084 -0.0087113 ]\n",
      " [-0.02585049 -0.00230441  0.01271143 -0.01810666  0.01599676  0.02551729]\n",
      " [-0.0195442   0.02543082  0.0166275  -0.04790251  0.00860951  0.00175443]\n",
      " [-0.00022705  0.04224862  0.04741519  0.0109699  -0.04907587  0.02327441]\n",
      " [ 0.04948065 -0.02459182 -0.03845556 -0.00143575 -0.01699872  0.00763259]\n",
      " [ 0.01677904 -0.01320298 -0.02205615 -0.02402533  0.01196054 -0.03064685]\n",
      " [-0.0195442   0.02543082  0.0166275  -0.04790251  0.00860951  0.00175443]\n",
      " [ 0.03060381 -0.01089617 -0.03177955  0.01290611 -0.0137828   0.04068179]\n",
      " [ 0.02535054 -0.02835015 -0.02425075 -0.04240865  0.00529666 -0.02334642]\n",
      " [ 0.01677904 -0.01320298 -0.02205615 -0.02402533  0.01196054 -0.03064685]]\n"
     ]
    }
   ],
   "source": [
    "# test our char-embeding layer\n",
    "print(f'char text : {len(sample)}\\n {sample}')\n",
    "char_embed_sample = char_embed(char_vectorize([sample]))\n",
    "print(f'char embed : {char_embed_sample.shape}\\n {char_embed_sample[0,:10,:6]}')"
   ]
  },
  {
   "cell_type": "code",
   "execution_count": 117,
   "metadata": {},
   "outputs": [
    {
     "data": {
      "text/plain": [
       "<PrefetchDataset element_spec=(TensorSpec(shape=(None,), dtype=tf.string, name=None), TensorSpec(shape=(None, 5), dtype=tf.float64, name=None))>"
      ]
     },
     "execution_count": 117,
     "metadata": {},
     "output_type": "execute_result"
    }
   ],
   "source": [
    "# create char-level dataset\n",
    "train_char_dataset = tf.data.Dataset.from_tensor_slices((train_char, train_labels)).batch(32).prefetch(tf.data.AUTOTUNE)\n",
    "val_char_dataset = tf.data.Dataset.from_tensor_slices((val_char, val_labels)).batch(32).prefetch(tf.data.AUTOTUNE)\n",
    "test_char_dataset = tf.data.Dataset.from_tensor_slices((test_char, test_labels)).batch(32).prefetch(tf.data.AUTOTUNE)\n",
    "\n",
    "train_char_dataset"
   ]
  },
  {
   "cell_type": "code",
   "execution_count": 119,
   "metadata": {},
   "outputs": [
    {
     "name": "stdout",
     "output_type": "stream",
     "text": [
      "Model: \"model_3\"\n",
      "_________________________________________________________________\n",
      " Layer (type)                Output Shape              Param #   \n",
      "=================================================================\n",
      " input_8 (InputLayer)        [(None, 1)]               0         \n",
      "                                                                 \n",
      " char-vec (TextVectorization  (None, 290)              0         \n",
      " )                                                               \n",
      "                                                                 \n",
      " char_embed (Embedding)      (None, 290, 25)           700       \n",
      "                                                                 \n",
      " conv1d_4 (Conv1D)           (None, 290, 32)           8032      \n",
      "                                                                 \n",
      " global_max_pooling1d (Globa  (None, 32)               0         \n",
      " lMaxPooling1D)                                                  \n",
      "                                                                 \n",
      " dense_3 (Dense)             (None, 5)                 165       \n",
      "                                                                 \n",
      "=================================================================\n",
      "Total params: 8,897\n",
      "Trainable params: 8,897\n",
      "Non-trainable params: 0\n",
      "_________________________________________________________________\n",
      "Epoch 1/5\n",
      "562/562 [==============================] - 9s 15ms/step - loss: 1.2658 - accuracy: 0.4746 - val_loss: 1.1260 - val_accuracy: 0.5422\n",
      "Epoch 2/5\n",
      "562/562 [==============================] - 8s 14ms/step - loss: 1.0931 - accuracy: 0.5522 - val_loss: 1.0272 - val_accuracy: 0.5851\n",
      "Epoch 3/5\n",
      "562/562 [==============================] - 9s 16ms/step - loss: 1.0233 - accuracy: 0.5895 - val_loss: 0.9640 - val_accuracy: 0.6107\n",
      "Epoch 4/5\n",
      "562/562 [==============================] - 9s 16ms/step - loss: 0.9692 - accuracy: 0.6134 - val_loss: 0.9296 - val_accuracy: 0.6283\n",
      "Epoch 5/5\n",
      "562/562 [==============================] - 9s 15ms/step - loss: 0.9556 - accuracy: 0.6207 - val_loss: 0.9116 - val_accuracy: 0.6453\n"
     ]
    }
   ],
   "source": [
    "#create model\n",
    "inputs = layers.Input(shape=(1,), dtype=tf.string)\n",
    "vectorize_layer = char_vectorize(inputs)\n",
    "embed_layer = char_embed(vectorize_layer)\n",
    "x = layers.Conv1D(filters=32, kernel_size=10, padding='same', activation='relu')(embed_layer)\n",
    "x = layers.GlobalMaxPooling1D()(x)\n",
    "outputs = layers.Dense(5, activation='softmax')(x)\n",
    "model_3 = keras.Model(inputs, outputs)\n",
    "model_3.summary()\n",
    "model_3.compile(\n",
    "    loss=keras.losses.CategoricalCrossentropy(),\n",
    "    optimizer=keras.optimizers.Adam(),\n",
    "    metrics=['accuracy']\n",
    ")\n",
    "hist_3 = model_3.fit(train_char_dataset, \n",
    "                     validation_data=val_char_dataset, \n",
    "                     steps_per_epoch=int(len(train_char_dataset) *.1),\n",
    "                     validation_steps = int(len(val_char_dataset) *.1),\n",
    "                     epochs=5)"
   ]
  },
  {
   "cell_type": "code",
   "execution_count": 121,
   "metadata": {},
   "outputs": [
    {
     "data": {
      "text/plain": [
       "<tf.Tensor: shape=(10,), dtype=int64, numpy=array([1, 1, 0, 2, 2, 2, 2, 0, 4, 2], dtype=int64)>"
      ]
     },
     "execution_count": 121,
     "metadata": {},
     "output_type": "execute_result"
    }
   ],
   "source": [
    "model_3_proba = model_3.predict(val_char_dataset)\n",
    "model_3_preds = tf.argmax(model_3_proba, axis=1)\n",
    "model_3_preds[:10]"
   ]
  },
  {
   "cell_type": "code",
   "execution_count": 125,
   "metadata": {},
   "outputs": [
    {
     "data": {
      "text/plain": [
       "{'accuracy': 0.6298159671653648,\n",
       " 'precision': 0.6452265048811349,\n",
       " 'recall': 0.6298159671653648,\n",
       " 'f1_score': 0.6250541003715524}"
      ]
     },
     "execution_count": 125,
     "metadata": {},
     "output_type": "execute_result"
    }
   ],
   "source": [
    "model_3_result = evaluate_score(val_labels_, model_3_preds)\n",
    "model_3_result"
   ]
  },
  {
   "cell_type": "markdown",
   "metadata": {},
   "source": [
    "### Model 4 : 2 inputs from token-embed and char-embed"
   ]
  },
  {
   "cell_type": "code",
   "execution_count": 173,
   "metadata": {},
   "outputs": [
    {
     "name": "stdout",
     "output_type": "stream",
     "text": [
      "Model: \"token_and_char_embedding\"\n",
      "__________________________________________________________________________________________________\n",
      " Layer (type)                   Output Shape         Param #     Connected to                     \n",
      "==================================================================================================\n",
      " token_input (InputLayer)       [(None, 1)]          0           []                               \n",
      "                                                                                                  \n",
      " text_vectorization (TextVector  (None, 55)          0           ['token_input[0][0]']            \n",
      " ization)                                                                                         \n",
      "                                                                                                  \n",
      " token_embedding (Embedding)    (None, 55, 128)      8299648     ['text_vectorization[5][0]']     \n",
      "                                                                                                  \n",
      " char_input (InputLayer)        [(None, 1)]          0           []                               \n",
      "                                                                                                  \n",
      " conv1d_8 (Conv1D)              (None, 55, 64)       32832       ['token_embedding[5][0]']        \n",
      "                                                                                                  \n",
      " char-vec (TextVectorization)   (None, 290)          0           ['char_input[0][0]']             \n",
      "                                                                                                  \n",
      " global_max_pooling1d_3 (Global  (None, 64)          0           ['conv1d_8[0][0]']               \n",
      " MaxPooling1D)                                                                                    \n",
      "                                                                                                  \n",
      " char_embed (Embedding)         (None, 290, 25)      700         ['char-vec[10][0]']              \n",
      "                                                                                                  \n",
      " dense_12 (Dense)               (None, 128)          8320        ['global_max_pooling1d_3[0][0]'] \n",
      "                                                                                                  \n",
      " bidirectional_4 (Bidirectional  (None, 48)          9600        ['char_embed[10][0]']            \n",
      " )                                                                                                \n",
      "                                                                                                  \n",
      " token_char_concat (Concatenate  (None, 176)         0           ['dense_12[0][0]',               \n",
      " )                                                                'bidirectional_4[0][0]']        \n",
      "                                                                                                  \n",
      " dropout_4 (Dropout)            (None, 176)          0           ['token_char_concat[0][0]']      \n",
      "                                                                                                  \n",
      " dense_13 (Dense)               (None, 128)          22656       ['dropout_4[0][0]']              \n",
      "                                                                                                  \n",
      " dropout_5 (Dropout)            (None, 128)          0           ['dense_13[0][0]']               \n",
      "                                                                                                  \n",
      " dense_14 (Dense)               (None, 5)            645         ['dropout_5[0][0]']              \n",
      "                                                                                                  \n",
      "==================================================================================================\n",
      "Total params: 8,374,401\n",
      "Trainable params: 8,374,401\n",
      "Non-trainable params: 0\n",
      "__________________________________________________________________________________________________\n"
     ]
    }
   ],
   "source": [
    "# token embedding model\n",
    "token_inputs = layers.Input(shape=(1,), dtype=tf.string, name='token_input')\n",
    "# token_embed_layer = embed_hub_layer(token_inputs) , if using tensorflow hub model\n",
    "text_vector_layer = text_vectorizer(token_inputs)\n",
    "token_embeder_layer = token_embed(text_vector_layer)\n",
    "x = layers.Conv1D(64, 4, padding='same')(token_embeder_layer)\n",
    "x = layers.GlobalMaxPool1D()(x)\n",
    "token_output = layers.Dense(128, activation='relu')(x)\n",
    "token_model = keras.Model(token_inputs, token_output)\n",
    "\n",
    "#char embedding model\n",
    "char_inputs = layers.Input(shape=(1,), dtype=tf.string, name='char_input')\n",
    "char_vec_layer = char_vectorize(char_inputs)\n",
    "char_embed_layer = char_embed(char_vec_layer)\n",
    "x = layers.Bidirectional(layers.LSTM(24))(char_embed_layer)\n",
    "char_model = keras.Model(char_inputs, x)\n",
    "\n",
    "#concatinate layer\n",
    "token_char_concat = layers.Concatenate(name='token_char_concat')([token_model.output, char_model.output])\n",
    "x = layers.Dropout(.5)(token_char_concat) # prevent overfitting\n",
    "x = layers.Dense(128, activation='relu')(x)\n",
    "x = layers.Dropout(.5)(x)\n",
    "outputs = layers.Dense(5, activation='softmax')(x)\n",
    "\n",
    "model_4 = keras.Model(inputs=[token_model.input, char_model.input], outputs = outputs, name='token_and_char_embedding')\n",
    "model_4.summary()"
   ]
  },
  {
   "cell_type": "code",
   "execution_count": 174,
   "metadata": {},
   "outputs": [
    {
     "name": "stdout",
     "output_type": "stream",
     "text": [
      "You must install pydot (`pip install pydot`) and install graphviz (see instructions at https://graphviz.gitlab.io/download/) for plot_model/model_to_dot to work.\n"
     ]
    }
   ],
   "source": [
    "#plot hybrid token and char model\n",
    "from keras.utils.vis_utils import plot_model\n",
    "plot_model(model_4)"
   ]
  },
  {
   "cell_type": "code",
   "execution_count": 175,
   "metadata": {},
   "outputs": [
    {
     "name": "stdout",
     "output_type": "stream",
     "text": [
      "<PrefetchDataset element_spec=((TensorSpec(shape=(None,), dtype=tf.string, name=None), TensorSpec(shape=(None,), dtype=tf.string, name=None)), TensorSpec(shape=(None, 5), dtype=tf.float64, name=None))>\n"
     ]
    }
   ],
   "source": [
    "# combine token and char to data.Datasets\n",
    "train_token_char_data = tf.data.Dataset.from_tensor_slices((train_sentences, train_char)) # token and char same order as a model\n",
    "train_token_char_labels = tf.data.Dataset.from_tensor_slices(train_labels)\n",
    "train_token_char_dataset = tf.data.Dataset.zip((train_token_char_data, train_token_char_labels))\n",
    "train_token_char_dataset = train_token_char_dataset.batch(32).prefetch(tf.data.AUTOTUNE)\n",
    "\n",
    "val_token_char_data = tf.data.Dataset.from_tensor_slices((val_sentences, val_char))\n",
    "val_token_char_labels = tf.data.Dataset.from_tensor_slices(val_labels)\n",
    "val_token_char_dataset = tf.data.Dataset.zip((val_token_char_data, val_token_char_labels))\n",
    "val_token_char_dataset = val_token_char_dataset.batch(32).prefetch(tf.data.AUTOTUNE)\n",
    "\n",
    "test_token_char_data = tf.data.Dataset.from_tensor_slices((test_sentences, test_char))\n",
    "test_token_char_labels = tf.data.Dataset.from_tensor_slices(test_labels)\n",
    "test_token_char_dataset = tf.data.Dataset.zip((test_token_char_data, test_token_char_labels))\n",
    "test_token_char_dataset = test_token_char_dataset.batch(32).prefetch(tf.data.AUTOTUNE)\n",
    "\n",
    "print(train_token_char_dataset)"
   ]
  },
  {
   "cell_type": "code",
   "execution_count": 176,
   "metadata": {},
   "outputs": [
    {
     "name": "stdout",
     "output_type": "stream",
     "text": [
      "Epoch 1/3\n",
      "562/562 [==============================] - 108s 180ms/step - loss: 0.7119 - accuracy: 0.7400 - val_loss: 0.5617 - val_accuracy: 0.7939\n",
      "Epoch 2/3\n",
      "562/562 [==============================] - 100s 179ms/step - loss: 0.5700 - accuracy: 0.7999 - val_loss: 0.5584 - val_accuracy: 0.7926\n",
      "Epoch 3/3\n",
      "562/562 [==============================] - 115s 205ms/step - loss: 0.5396 - accuracy: 0.8132 - val_loss: 0.5383 - val_accuracy: 0.8055\n"
     ]
    },
    {
     "data": {
      "text/plain": [
       "<keras.callbacks.History at 0x2296a0d4b80>"
      ]
     },
     "execution_count": 176,
     "metadata": {},
     "output_type": "execute_result"
    }
   ],
   "source": [
    "model_4.compile(\n",
    "    loss=tf.keras.losses.CategoricalCrossentropy(),\n",
    "    optimizer=keras.optimizers.Adam(),\n",
    "    metrics=['accuracy']\n",
    ")\n",
    "\n",
    "model_4.fit(\n",
    "    train_token_char_dataset, \n",
    "    validation_data=val_token_char_dataset, \n",
    "    steps_per_epoch=int(len(train_token_char_dataset) *.1),\n",
    "    validation_steps = int(len(val_token_char_dataset) *.1),\n",
    "    epochs=3\n",
    ")\n"
   ]
  },
  {
   "cell_type": "code",
   "execution_count": 177,
   "metadata": {},
   "outputs": [
    {
     "data": {
      "text/plain": [
       "<tf.Tensor: shape=(10,), dtype=int64, numpy=array([0, 0, 3, 2, 2, 2, 2, 4, 4, 1], dtype=int64)>"
      ]
     },
     "execution_count": 177,
     "metadata": {},
     "output_type": "execute_result"
    }
   ],
   "source": [
    "model_4_proba = model_4.predict(val_token_char_dataset)\n",
    "model_4_preds = tf.argmax(model_4_proba, axis=1)\n",
    "model_4_preds[:10]"
   ]
  },
  {
   "cell_type": "code",
   "execution_count": 178,
   "metadata": {},
   "outputs": [
    {
     "data": {
      "text/plain": [
       "{'accuracy': 0.8022971004898716,\n",
       " 'precision': 0.805303629098681,\n",
       " 'recall': 0.8022971004898716,\n",
       " 'f1_score': 0.8033949170024978}"
      ]
     },
     "execution_count": 178,
     "metadata": {},
     "output_type": "execute_result"
    }
   ],
   "source": [
    "model_4_result = evaluate_score(val_labels_, model_4_preds)\n",
    "model_4_result"
   ]
  },
  {
   "cell_type": "markdown",
   "metadata": {},
   "source": [
    "### Model 5 : token + char + position"
   ]
  },
  {
   "cell_type": "code",
   "execution_count": 184,
   "metadata": {},
   "outputs": [
    {
     "data": {
      "text/html": [
       "<div>\n",
       "<style scoped>\n",
       "    .dataframe tbody tr th:only-of-type {\n",
       "        vertical-align: middle;\n",
       "    }\n",
       "\n",
       "    .dataframe tbody tr th {\n",
       "        vertical-align: top;\n",
       "    }\n",
       "\n",
       "    .dataframe thead th {\n",
       "        text-align: right;\n",
       "    }\n",
       "</style>\n",
       "<table border=\"1\" class=\"dataframe\">\n",
       "  <thead>\n",
       "    <tr style=\"text-align: right;\">\n",
       "      <th></th>\n",
       "      <th>line_number</th>\n",
       "      <th>target</th>\n",
       "      <th>text</th>\n",
       "      <th>total_lines</th>\n",
       "    </tr>\n",
       "  </thead>\n",
       "  <tbody>\n",
       "    <tr>\n",
       "      <th>0</th>\n",
       "      <td>0</td>\n",
       "      <td>OBJECTIVE</td>\n",
       "      <td>to investigate the efficacy of @ weeks of dail...</td>\n",
       "      <td>11</td>\n",
       "    </tr>\n",
       "    <tr>\n",
       "      <th>1</th>\n",
       "      <td>1</td>\n",
       "      <td>METHODS</td>\n",
       "      <td>a total of @ patients with primary knee oa wer...</td>\n",
       "      <td>11</td>\n",
       "    </tr>\n",
       "    <tr>\n",
       "      <th>2</th>\n",
       "      <td>2</td>\n",
       "      <td>METHODS</td>\n",
       "      <td>outcome measures included pain reduction and i...</td>\n",
       "      <td>11</td>\n",
       "    </tr>\n",
       "    <tr>\n",
       "      <th>3</th>\n",
       "      <td>3</td>\n",
       "      <td>METHODS</td>\n",
       "      <td>pain was assessed using the visual analog pain...</td>\n",
       "      <td>11</td>\n",
       "    </tr>\n",
       "    <tr>\n",
       "      <th>4</th>\n",
       "      <td>4</td>\n",
       "      <td>METHODS</td>\n",
       "      <td>secondary outcome measures included the wester...</td>\n",
       "      <td>11</td>\n",
       "    </tr>\n",
       "  </tbody>\n",
       "</table>\n",
       "</div>"
      ],
      "text/plain": [
       "   line_number     target                                               text  \\\n",
       "0            0  OBJECTIVE  to investigate the efficacy of @ weeks of dail...   \n",
       "1            1    METHODS  a total of @ patients with primary knee oa wer...   \n",
       "2            2    METHODS  outcome measures included pain reduction and i...   \n",
       "3            3    METHODS  pain was assessed using the visual analog pain...   \n",
       "4            4    METHODS  secondary outcome measures included the wester...   \n",
       "\n",
       "   total_lines  \n",
       "0           11  \n",
       "1           11  \n",
       "2           11  \n",
       "3           11  \n",
       "4           11  "
      ]
     },
     "execution_count": 184,
     "metadata": {},
     "output_type": "execute_result"
    }
   ],
   "source": [
    "train_df.head()"
   ]
  },
  {
   "cell_type": "markdown",
   "metadata": {},
   "source": [
    "### create positional embeddings"
   ]
  },
  {
   "cell_type": "code",
   "execution_count": 187,
   "metadata": {},
   "outputs": [
    {
     "data": {
      "text/plain": [
       "0     15000\n",
       "1     15000\n",
       "2     15000\n",
       "3     15000\n",
       "4     14992\n",
       "5     14949\n",
       "6     14758\n",
       "7     14279\n",
       "8     13346\n",
       "9     11981\n",
       "10    10041\n",
       "11     7892\n",
       "12     5853\n",
       "13     4152\n",
       "14     2835\n",
       "15     1861\n",
       "16     1188\n",
       "17      751\n",
       "18      462\n",
       "19      286\n",
       "Name: line_number, dtype: int64"
      ]
     },
     "execution_count": 187,
     "metadata": {},
     "output_type": "execute_result"
    }
   ],
   "source": [
    "train_df['line_number'].value_counts()[:20]"
   ]
  },
  {
   "cell_type": "code",
   "execution_count": 218,
   "metadata": {},
   "outputs": [
    {
     "data": {
      "text/plain": [
       "15.0"
      ]
     },
     "execution_count": 218,
     "metadata": {},
     "output_type": "execute_result"
    },
    {
     "data": {
      "image/png": "[encoded data removed]",
      "text/plain": [
       "<Figure size 432x288 with 1 Axes>"
      ]
     },
     "metadata": {
      "needs_background": "light"
     },
     "output_type": "display_data"
    }
   ],
   "source": [
    "train_df['line_number'].plot.hist(bins=10);\n",
    "np.percentile(train_df['line_number'], 98)"
   ]
  },
  {
   "cell_type": "code",
   "execution_count": 201,
   "metadata": {},
   "outputs": [
    {
     "name": "stdout",
     "output_type": "stream",
     "text": [
      "(180040, 15)\n"
     ]
    },
    {
     "data": {
      "text/plain": [
       "<tf.Tensor: shape=(5, 10), dtype=float32, numpy=\n",
       "array([[1., 0., 0., 0., 0., 0., 0., 0., 0., 0.],\n",
       "       [0., 1., 0., 0., 0., 0., 0., 0., 0., 0.],\n",
       "       [0., 0., 1., 0., 0., 0., 0., 0., 0., 0.],\n",
       "       [0., 0., 0., 1., 0., 0., 0., 0., 0., 0.],\n",
       "       [0., 0., 0., 0., 1., 0., 0., 0., 0., 0.]], dtype=float32)>"
      ]
     },
     "execution_count": 201,
     "metadata": {},
     "output_type": "execute_result"
    }
   ],
   "source": [
    "#use tensorflow to one-hot encoder column\n",
    "train_line_numbers_onehot = tf.one_hot(train_df['line_number'].to_numpy(), depth=15)\n",
    "val_line_numbers_onehot = tf.one_hot(val_df['line_number'].to_numpy(), depth=15)\n",
    "test_line_numbers_onehot = tf.one_hot(test_df['line_number'].to_numpy(), depth=15)\n",
    "\n",
    "print(train_line_numbers_onehot.shape)\n",
    "train_line_numbers_onehot[:5,:10]"
   ]
  },
  {
   "cell_type": "code",
   "execution_count": 202,
   "metadata": {},
   "outputs": [
    {
     "data": {
      "text/plain": [
       "11    24468\n",
       "10    23639\n",
       "12    22113\n",
       "9     19400\n",
       "13    18438\n",
       "14    14610\n",
       "8     12285\n",
       "15    10768\n",
       "7      7464\n",
       "16     7429\n",
       "17     5202\n",
       "6      3353\n",
       "18     3344\n",
       "19     2480\n",
       "20     1281\n",
       "5      1146\n",
       "21      770\n",
       "22      759\n",
       "23      264\n",
       "4       215\n",
       "24      200\n",
       "25      182\n",
       "26       81\n",
       "28       58\n",
       "3        32\n",
       "30       31\n",
       "27       28\n",
       "Name: total_lines, dtype: int64"
      ]
     },
     "execution_count": 202,
     "metadata": {},
     "output_type": "execute_result"
    }
   ],
   "source": [
    "train_df['total_lines'].value_counts()"
   ]
  },
  {
   "cell_type": "code",
   "execution_count": 208,
   "metadata": {},
   "outputs": [
    {
     "data": {
      "text/plain": [
       "18.0"
      ]
     },
     "execution_count": 208,
     "metadata": {},
     "output_type": "execute_result"
    },
    {
     "data": {
      "image/png": "[encoded data removed]",
      "text/plain": [
       "<Figure size 432x288 with 1 Axes>"
      ]
     },
     "metadata": {
      "needs_background": "light"
     },
     "output_type": "display_data"
    }
   ],
   "source": [
    "train_df['total_lines'].plot.hist(bins=12);\n",
    "np.percentile(train_df['total_lines'], 95)"
   ]
  },
  {
   "cell_type": "code",
   "execution_count": 216,
   "metadata": {},
   "outputs": [
    {
     "name": "stdout",
     "output_type": "stream",
     "text": [
      "(180040, 18)\n"
     ]
    },
    {
     "data": {
      "text/plain": [
       "<tf.Tensor: shape=(15, 14), dtype=float32, numpy=\n",
       "array([[0., 0., 0., 0., 0., 0., 0., 0., 0., 0., 0., 1., 0., 0.],\n",
       "       [0., 0., 0., 0., 0., 0., 0., 0., 0., 0., 0., 1., 0., 0.],\n",
       "       [0., 0., 0., 0., 0., 0., 0., 0., 0., 0., 0., 1., 0., 0.],\n",
       "       [0., 0., 0., 0., 0., 0., 0., 0., 0., 0., 0., 1., 0., 0.],\n",
       "       [0., 0., 0., 0., 0., 0., 0., 0., 0., 0., 0., 1., 0., 0.],\n",
       "       [0., 0., 0., 0., 0., 0., 0., 0., 0., 0., 0., 1., 0., 0.],\n",
       "       [0., 0., 0., 0., 0., 0., 0., 0., 0., 0., 0., 1., 0., 0.],\n",
       "       [0., 0., 0., 0., 0., 0., 0., 0., 0., 0., 0., 1., 0., 0.],\n",
       "       [0., 0., 0., 0., 0., 0., 0., 0., 0., 0., 0., 1., 0., 0.],\n",
       "       [0., 0., 0., 0., 0., 0., 0., 0., 0., 0., 0., 1., 0., 0.],\n",
       "       [0., 0., 0., 0., 0., 0., 0., 0., 0., 0., 0., 1., 0., 0.],\n",
       "       [0., 0., 0., 0., 0., 0., 0., 0., 0., 0., 0., 1., 0., 0.],\n",
       "       [0., 0., 0., 0., 0., 0., 0., 0., 0., 0., 1., 0., 0., 0.],\n",
       "       [0., 0., 0., 0., 0., 0., 0., 0., 0., 0., 1., 0., 0., 0.],\n",
       "       [0., 0., 0., 0., 0., 0., 0., 0., 0., 0., 1., 0., 0., 0.]],\n",
       "      dtype=float32)>"
      ]
     },
     "execution_count": 216,
     "metadata": {},
     "output_type": "execute_result"
    }
   ],
   "source": [
    "train_total_lines = tf.one_hot(train_df['total_lines'].to_numpy(), depth=18)\n",
    "val_total_lines = tf.one_hot(val_df['total_lines'].to_numpy(), depth=18)\n",
    "test_total_lines = tf.one_hot(test_df['total_lines'].to_numpy(), depth=18)\n",
    "\n",
    "print(train_total_lines.shape)\n",
    "train_total_lines[:15,:14]"
   ]
  },
  {
   "cell_type": "markdown",
   "metadata": {},
   "source": [
    "### Build Model!!!"
   ]
  },
  {
   "cell_type": "code",
   "execution_count": 226,
   "metadata": {},
   "outputs": [
    {
     "name": "stdout",
     "output_type": "stream",
     "text": [
      "Model: \"model_31\"\n",
      "__________________________________________________________________________________________________\n",
      " Layer (type)                   Output Shape         Param #     Connected to                     \n",
      "==================================================================================================\n",
      " token_inputs (InputLayer)      [(None, 1)]          0           []                               \n",
      "                                                                                                  \n",
      " text_vectorization (TextVector  (None, 55)          0           ['token_inputs[0][0]']           \n",
      " ization)                                                                                         \n",
      "                                                                                                  \n",
      " token_embedding (Embedding)    (None, 55, 128)      8299648     ['text_vectorization[9][0]']     \n",
      "                                                                                                  \n",
      " char_input (InputLayer)        [(None, 1)]          0           []                               \n",
      "                                                                                                  \n",
      " conv1d_12 (Conv1D)             (None, 55, 64)       32832       ['token_embedding[9][0]']        \n",
      "                                                                                                  \n",
      " char-vec (TextVectorization)   (None, 290)          0           ['char_input[0][0]']             \n",
      "                                                                                                  \n",
      " global_max_pooling1d_7 (Global  (None, 64)          0           ['conv1d_12[0][0]']              \n",
      " MaxPooling1D)                                                                                    \n",
      "                                                                                                  \n",
      " char_embed (Embedding)         (None, 290, 25)      700         ['char-vec[14][0]']              \n",
      "                                                                                                  \n",
      " dense_24 (Dense)               (None, 128)          8320        ['global_max_pooling1d_7[0][0]'] \n",
      "                                                                                                  \n",
      " bidirectional_8 (Bidirectional  (None, 48)          9600        ['char_embed[14][0]']            \n",
      " )                                                                                                \n",
      "                                                                                                  \n",
      " lines_inputs (InputLayer)      [(None, 15)]         0           []                               \n",
      "                                                                                                  \n",
      " total_lines_inputs (InputLayer  [(None, 18)]        0           []                               \n",
      " )                                                                                                \n",
      "                                                                                                  \n",
      " token_char_concat (Concatenate  (None, 176)         0           ['dense_24[0][0]',               \n",
      " )                                                                'bidirectional_8[0][0]']        \n",
      "                                                                                                  \n",
      " dense_25 (Dense)               (None, 32)           512         ['lines_inputs[0][0]']           \n",
      "                                                                                                  \n",
      " dense_26 (Dense)               (None, 32)           608         ['total_lines_inputs[0][0]']     \n",
      "                                                                                                  \n",
      " dropout_8 (Dropout)            (None, 176)          0           ['token_char_concat[0][0]']      \n",
      "                                                                                                  \n",
      " tribrid_positional (Concatenat  (None, 240)         0           ['dense_25[0][0]',               \n",
      " e)                                                               'dense_26[0][0]',               \n",
      "                                                                  'dropout_8[0][0]']              \n",
      "                                                                                                  \n",
      " outputs (Dense)                (None, 5)            1205        ['tribrid_positional[0][0]']     \n",
      "                                                                                                  \n",
      "==================================================================================================\n",
      "Total params: 8,353,425\n",
      "Trainable params: 8,353,425\n",
      "Non-trainable params: 0\n",
      "__________________________________________________________________________________________________\n"
     ]
    }
   ],
   "source": [
    "#token embbedding model\n",
    "token_inputs = layers.Input(shape=(1,), dtype=tf.string, name='token_inputs')\n",
    "text_vector_layer = text_vectorizer(token_inputs)\n",
    "token_embeder_layer = token_embed(text_vector_layer)\n",
    "x = layers.Conv1D(64, 4, padding='same')(token_embeder_layer)\n",
    "x = layers.GlobalMaxPool1D()(x)\n",
    "token_output = layers.Dense(128, activation='relu')(x)\n",
    "token_model = keras.Model(token_inputs, token_output)\n",
    "\n",
    "#char embedding model\n",
    "char_inputs = layers.Input(shape=(1,), dtype=tf.string, name='char_input')\n",
    "char_vec_layer = char_vectorize(char_inputs)\n",
    "char_embed_layer = char_embed(char_vec_layer)\n",
    "x = layers.Bidirectional(layers.LSTM(24))(char_embed_layer)\n",
    "char_model = keras.Model(char_inputs, x)\n",
    "\n",
    "#line number model\n",
    "lines_inputs = layers.Input(shape=(15,),dtype=tf.float32, name='lines_inputs')\n",
    "x = layers.Dense(32, activation='relu')(lines_inputs)\n",
    "lines_model = keras.Model(lines_inputs, x)\n",
    "\n",
    "#total lines model\n",
    "total_lines_inputs = layers.Input(shape=(18,),dtype=tf.float32, name='total_lines_inputs')\n",
    "x = layers.Dense(32, activation='relu')(total_lines_inputs)\n",
    "total_lines_model = keras.Model(total_lines_inputs, x)\n",
    "\n",
    "\n",
    "#concatinate token and char\n",
    "x = layers.Concatenate(name='token_char_concat')([token_model.output, char_model.output ])\n",
    "x = layers.Dropout(.3)(x)\n",
    "\n",
    "#concatinate token_char_concat and lines_model, total_lines_model\n",
    "tribid = layers.Concatenate(name='tribrid_positional')([lines_model.output, total_lines_model.output, x])\n",
    "\n",
    "#create output layer\n",
    "outputs = layers.Dense(5, activation='softmax', name='outputs')(tribid)\n",
    "\n",
    "#model\n",
    "model_5 = keras.Model(inputs=[lines_model.input, \n",
    "                      total_lines_model.input, \n",
    "                      token_model.input, \n",
    "                      char_model.input], \n",
    "                      outputs=outputs)\n",
    "\n",
    "model_5.summary()"
   ]
  },
  {
   "cell_type": "code",
   "execution_count": 227,
   "metadata": {},
   "outputs": [],
   "source": [
    "model_5.compile(\n",
    "    loss=tf.keras.losses.CategoricalCrossentropy(label_smoothing=.2),\n",
    "    optimizer=keras.optimizers.Adam(),\n",
    "    metrics=['accuracy']\n",
    ")"
   ]
  },
  {
   "cell_type": "markdown",
   "metadata": {},
   "source": [
    "> label_smoothing : decrease some prediction that are very confident (prevent overfitting). [0, 0, 1, 0, 0] --> [.01, .01, .96, .01, .01]"
   ]
  },
  {
   "cell_type": "code",
   "execution_count": 232,
   "metadata": {},
   "outputs": [
    {
     "data": {
      "text/plain": [
       "<PrefetchDataset element_spec=((TensorSpec(shape=(None, 15), dtype=tf.float32, name=None), TensorSpec(shape=(None, 18), dtype=tf.float32, name=None), TensorSpec(shape=(None,), dtype=tf.string, name=None), TensorSpec(shape=(None,), dtype=tf.string, name=None)), TensorSpec(shape=(None, 5), dtype=tf.float64, name=None))>"
      ]
     },
     "execution_count": 232,
     "metadata": {},
     "output_type": "execute_result"
    }
   ],
   "source": [
    "#create dataset\n",
    "def create_dataset(p1,p2,p3,p4,labels):\n",
    "    train_token_char_pos = tf.data.Dataset.from_tensor_slices((p1, p2, p3, p4))\n",
    "    train_token_char_labels = tf.data.Dataset.from_tensor_slices(labels)\n",
    "    dataset = tf.data.Dataset.zip((train_token_char_pos, train_token_char_labels)).batch(32).prefetch(tf.data.AUTOTUNE)\n",
    "    return dataset\n",
    "\n",
    "train_token_char_pos_dataset = create_dataset(train_line_numbers_onehot, train_total_lines, train_sentences, train_char, train_labels)\n",
    "val_token_char_pos_dataset = create_dataset(val_line_numbers_onehot, val_total_lines, val_sentences, val_char, val_labels)\n",
    "test_token_char_pos_dataset = create_dataset(test_line_numbers_onehot, test_total_lines, test_sentences, test_char, test_labels)\n",
    "\n",
    "train_token_char_pos_dataset"
   ]
  },
  {
   "cell_type": "code",
   "execution_count": 234,
   "metadata": {},
   "outputs": [
    {
     "name": "stdout",
     "output_type": "stream",
     "text": [
      "Epoch 1/3\n",
      "562/562 [==============================] - 124s 207ms/step - loss: 0.9736 - accuracy: 0.8164 - val_loss: 0.9208 - val_accuracy: 0.8464\n",
      "Epoch 2/3\n",
      "562/562 [==============================] - 105s 186ms/step - loss: 0.8813 - accuracy: 0.8826 - val_loss: 0.9150 - val_accuracy: 0.8418\n",
      "Epoch 3/3\n",
      "562/562 [==============================] - 99s 176ms/step - loss: 0.8651 - accuracy: 0.8888 - val_loss: 0.9051 - val_accuracy: 0.8487\n"
     ]
    },
    {
     "data": {
      "text/plain": [
       "<keras.callbacks.History at 0x229b32c11e0>"
      ]
     },
     "execution_count": 234,
     "metadata": {},
     "output_type": "execute_result"
    }
   ],
   "source": [
    "model_5.fit(\n",
    "    train_token_char_pos_dataset,\n",
    "    steps_per_epoch=int(len(train_token_char_pos_dataset)*.1),\n",
    "    validation_data = val_token_char_pos_dataset,\n",
    "    validation_steps=int(len(val_token_char_pos_dataset) *.1),\n",
    "    epochs=3\n",
    ")"
   ]
  },
  {
   "cell_type": "code",
   "execution_count": 235,
   "metadata": {},
   "outputs": [
    {
     "data": {
      "text/plain": [
       "<tf.Tensor: shape=(10,), dtype=int64, numpy=array([0, 0, 3, 2, 2, 4, 2, 4, 4, 1], dtype=int64)>"
      ]
     },
     "execution_count": 235,
     "metadata": {},
     "output_type": "execute_result"
    }
   ],
   "source": [
    "model_5_proba = model_5.predict(val_token_char_pos_dataset)\n",
    "model_5_preds = tf.argmax(model_5_proba, axis=1)\n",
    "model_5_preds[:10]"
   ]
  },
  {
   "cell_type": "code",
   "execution_count": 236,
   "metadata": {},
   "outputs": [
    {
     "data": {
      "text/plain": [
       "{'accuracy': 0.8483053091486826,\n",
       " 'precision': 0.8491809348058245,\n",
       " 'recall': 0.8483053091486826,\n",
       " 'f1_score': 0.847231975000299}"
      ]
     },
     "execution_count": 236,
     "metadata": {},
     "output_type": "execute_result"
    }
   ],
   "source": [
    "model_5_result = evaluate_score(val_labels_, model_5_preds)\n",
    "model_5_result"
   ]
  },
  {
   "cell_type": "markdown",
   "metadata": {},
   "source": [
    "## Compare model result"
   ]
  },
  {
   "cell_type": "code",
   "execution_count": 250,
   "metadata": {},
   "outputs": [
    {
     "data": {
      "text/html": [
       "<div>\n",
       "<style scoped>\n",
       "    .dataframe tbody tr th:only-of-type {\n",
       "        vertical-align: middle;\n",
       "    }\n",
       "\n",
       "    .dataframe tbody tr th {\n",
       "        vertical-align: top;\n",
       "    }\n",
       "\n",
       "    .dataframe thead th {\n",
       "        text-align: right;\n",
       "    }\n",
       "</style>\n",
       "<table border=\"1\" class=\"dataframe\">\n",
       "  <thead>\n",
       "    <tr style=\"text-align: right;\">\n",
       "      <th></th>\n",
       "      <th>accuracy</th>\n",
       "      <th>precision</th>\n",
       "      <th>recall</th>\n",
       "      <th>f1_score</th>\n",
       "    </tr>\n",
       "  </thead>\n",
       "  <tbody>\n",
       "    <tr>\n",
       "      <th>baseline</th>\n",
       "      <td>0.721832</td>\n",
       "      <td>0.718647</td>\n",
       "      <td>0.721832</td>\n",
       "      <td>0.698925</td>\n",
       "    </tr>\n",
       "    <tr>\n",
       "      <th>conv1D-token</th>\n",
       "      <td>0.798292</td>\n",
       "      <td>0.797459</td>\n",
       "      <td>0.798292</td>\n",
       "      <td>0.795295</td>\n",
       "    </tr>\n",
       "    <tr>\n",
       "      <th>conv1D-char</th>\n",
       "      <td>0.629816</td>\n",
       "      <td>0.645227</td>\n",
       "      <td>0.629816</td>\n",
       "      <td>0.625054</td>\n",
       "    </tr>\n",
       "    <tr>\n",
       "      <th>token-char</th>\n",
       "      <td>0.802297</td>\n",
       "      <td>0.805304</td>\n",
       "      <td>0.802297</td>\n",
       "      <td>0.803395</td>\n",
       "    </tr>\n",
       "    <tr>\n",
       "      <th>token-char-pos</th>\n",
       "      <td>0.848305</td>\n",
       "      <td>0.849181</td>\n",
       "      <td>0.848305</td>\n",
       "      <td>0.847232</td>\n",
       "    </tr>\n",
       "  </tbody>\n",
       "</table>\n",
       "</div>"
      ],
      "text/plain": [
       "                accuracy  precision    recall  f1_score\n",
       "baseline        0.721832   0.718647  0.721832  0.698925\n",
       "conv1D-token    0.798292   0.797459  0.798292  0.795295\n",
       "conv1D-char     0.629816   0.645227  0.629816  0.625054\n",
       "token-char      0.802297   0.805304  0.802297  0.803395\n",
       "token-char-pos  0.848305   0.849181  0.848305  0.847232"
      ]
     },
     "execution_count": 250,
     "metadata": {},
     "output_type": "execute_result"
    }
   ],
   "source": [
    "results = pd.DataFrame({\n",
    "    'baseline' : baseline_score,\n",
    "    'conv1D-token':model_1_result,\n",
    "    'conv1D-char':model_3_result,\n",
    "    'token-char':model_4_result,\n",
    "    'token-char-pos':model_5_result\n",
    "}).T\n",
    "\n",
    "results"
   ]
  },
  {
   "cell_type": "code",
   "execution_count": 260,
   "metadata": {},
   "outputs": [
    {
     "data": {
      "image/png": "[encoded data removed]",
      "text/plain": [
       "<Figure size 1008x432 with 1 Axes>"
      ]
     },
     "metadata": {
      "needs_background": "light"
     },
     "output_type": "display_data"
    }
   ],
   "source": [
    "results.plot(kind='bar', figsize=(14,6)).legend(bbox_to_anchor=(1.0, 1.0));"
   ]
  },
  {
   "cell_type": "code",
   "execution_count": 264,
   "metadata": {},
   "outputs": [
    {
     "data": {
      "image/png": "[encoded data removed]",
      "text/plain": [
       "<Figure size 864x504 with 1 Axes>"
      ]
     },
     "metadata": {
      "needs_background": "light"
     },
     "output_type": "display_data"
    }
   ],
   "source": [
    "results.sort_values('f1_score', ascending=True)['f1_score'].plot(kind='bar', figsize=(12,7));"
   ]
  },
  {
   "cell_type": "markdown",
   "metadata": {},
   "source": [
    "## Save and load model"
   ]
  },
  {
   "cell_type": "code",
   "execution_count": 273,
   "metadata": {},
   "outputs": [
    {
     "name": "stderr",
     "output_type": "stream",
     "text": [
      "WARNING:absl:Found untraced functions such as lstm_cell_25_layer_call_fn, lstm_cell_25_layer_call_and_return_conditional_losses, lstm_cell_26_layer_call_fn, lstm_cell_26_layer_call_and_return_conditional_losses while saving (showing 4 of 4). These functions will not be directly callable after loading.\n"
     ]
    },
    {
     "name": "stdout",
     "output_type": "stream",
     "text": [
      "INFO:tensorflow:Assets written to: skimlit_tribid_model\\assets\n"
     ]
    },
    {
     "name": "stderr",
     "output_type": "stream",
     "text": [
      "INFO:tensorflow:Assets written to: skimlit_tribid_model\\assets\n",
      "WARNING:absl:<keras.layers.recurrent.LSTMCell object at 0x00000229BA3042E0> has the same name 'LSTMCell' as a built-in Keras object. Consider renaming <class 'keras.layers.recurrent.LSTMCell'> to avoid naming conflicts when loading with `tf.keras.models.load_model`. If renaming is not possible, pass the object in the `custom_objects` parameter of the load function.\n",
      "WARNING:absl:<keras.layers.recurrent.LSTMCell object at 0x00000229BA3073D0> has the same name 'LSTMCell' as a built-in Keras object. Consider renaming <class 'keras.layers.recurrent.LSTMCell'> to avoid naming conflicts when loading with `tf.keras.models.load_model`. If renaming is not possible, pass the object in the `custom_objects` parameter of the load function.\n"
     ]
    }
   ],
   "source": [
    "model_5.save('skimlit_tribid_model')"
   ]
  },
  {
   "cell_type": "code",
   "execution_count": 274,
   "metadata": {},
   "outputs": [
    {
     "data": {
      "text/plain": [
       "<keras.engine.functional.Functional at 0x229f03b9210>"
      ]
     },
     "execution_count": 274,
     "metadata": {},
     "output_type": "execute_result"
    }
   ],
   "source": [
    "loaded_model = tf.keras.models.load_model('skimlit_tribid_model')\n",
    "loaded_model"
   ]
  },
  {
   "cell_type": "code",
   "execution_count": 275,
   "metadata": {},
   "outputs": [],
   "source": [
    "prediction  = tf.argmax(loaded_model.predict(val_token_char_pos_dataset), axis=1)\n",
    "prediction_result = evaluate_score(val_labels_, prediction)"
   ]
  },
  {
   "cell_type": "code",
   "execution_count": 277,
   "metadata": {},
   "outputs": [
    {
     "data": {
      "text/plain": [
       "True"
      ]
     },
     "execution_count": 277,
     "metadata": {},
     "output_type": "execute_result"
    }
   ],
   "source": [
    "model_5_result == prediction_result"
   ]
  }
 ],
 "metadata": {
  "kernelspec": {
   "display_name": "Python 3.10.0 64-bit",
   "language": "python",
   "name": "python3"
  },
  "language_info": {
   "codemirror_mode": {
    "name": "ipython",
    "version": 3
   },
   "file_extension": ".py",
   "mimetype": "text/x-python",
   "name": "python",
   "nbconvert_exporter": "python",
   "pygments_lexer": "ipython3",
   "version": "3.10.0"
  },
  "orig_nbformat": 4,
  "vscode": {
   "interpreter": {
    "hash": "63e79917a05e390872358bfb73c58bc903ada01d2d04077091749088207d82cf"
   }
  }
 },
 "nbformat": 4,
 "nbformat_minor": 2
}
