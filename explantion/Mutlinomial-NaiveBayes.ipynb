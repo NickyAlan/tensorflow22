{
 "cells": [
  {
   "cell_type": "markdown",
   "metadata": {},
   "source": [
    "# Multinomial Naive Bayes\n",
    "the simple design of Naive Bayes classifiers make them very attractive for such classifiers. Moreover, they have been demonstrated to be fast, reliable and accurate in a number of applications of NLP."
   ]
  },
  {
   "cell_type": "code",
   "execution_count": 3,
   "metadata": {},
   "outputs": [],
   "source": [
    "import pandas as pd\n",
    "import numpy as np\n",
    "from sklearn.naive_bayes import MultinomialNB\n",
    "from sklearn.feature_extraction.text import TfidfVectorizer"
   ]
  },
  {
   "cell_type": "code",
   "execution_count": 66,
   "metadata": {},
   "outputs": [
    {
     "name": "stdout",
     "output_type": "stream",
     "text": [
      "                       Word  Class\n",
      "0   Chinese Beijing Chinese      1\n",
      "1  Chinese Chinese Shanghai      1\n",
      "2             Chinese Macao      1\n",
      "3       Tokyo Japan Chinese      0\n",
      "0    Chinese Chinese Chinese Tokyo Japan\n",
      "Name: Word, dtype: object\n"
     ]
    }
   ],
   "source": [
    "train_df = pd.DataFrame({\n",
    "    'Word':['Chinese Beijing Chinese',\n",
    "            'Chinese Chinese Shanghai',\n",
    "            'Chinese Macao',\n",
    "            'Tokyo Japan Chinese'],\n",
    "    'Class':[1,1,1,0]\n",
    "}) \n",
    "\n",
    "test_df = pd.DataFrame({\n",
    "    'Word':['Chinese Chinese Chinese Tokyo Japan']\n",
    "})\n",
    "\n",
    "print(train_df)\n",
    "print(test_df['Word'])"
   ]
  },
  {
   "cell_type": "markdown",
   "metadata": {},
   "source": [
    "<img src=\"https://i0.wp.com/syncedreview.com/wp-content/uploads/2017/07/screenshot-from-2017-07-11-16-13-25.png?resize=325%2C53&ssl=1\"/>\n",
    "\n",
    "where the pseudocount α > 0 is the smoothing parameter, and d is specific vocabulary in data\n",
    "\n",
    "N is number of word in class"
   ]
  },
  {
   "cell_type": "code",
   "execution_count": 74,
   "metadata": {},
   "outputs": [
    {
     "name": "stdout",
     "output_type": "stream",
     "text": [
      "\n",
      "this sentence \"Chinese Chinese Chinese Tokyo Japan\" \n",
      "look like:\n",
      "    class 1 = 0.0003\n",
      "    class 0 = 0.0001\n",
      "    then in class = 1\n",
      "\n"
     ]
    }
   ],
   "source": [
    "P1 = 3/4 #proba of class 1 / all class\n",
    "P0 = 1/4 #proba of class 0 / all class\n",
    "\n",
    "# defined α = 1 \n",
    "α = 1\n",
    "PChinese_1 = (5+α)/(8+6) # how many Chinese in class 1\n",
    "PTokyo_1 = (0+α)/(8+6)\n",
    "PJapan_1 = (0+α)/(8+6)\n",
    "PChinese_0 = (1+α)/(3+6) # how many Chinese in class 0\n",
    "PTokyo_0 = (1+α)/(3+6)\n",
    "PJapan_0 = (1+α)/(3+6)\n",
    "\n",
    "#prediction >> 'Chinese Chinese Chinese Tokyo Japan'\n",
    "P_1 = P1 * PChinese_1**3 * PTokyo_1 * PJapan_1\n",
    "P_0 = P0 * PChinese_0**3 * PTokyo_0 * PJapan_0\n",
    "in_class = {P_1:1,P_0:0}[max(P_1, P_0)]\n",
    "\n",
    "print(f'''\n",
    "this sentence \"Chinese Chinese Chinese Tokyo Japan\" \n",
    "look like:\n",
    "    class 1 = {P_1:.4f}\n",
    "    class 0 = {P_0:.4f}\n",
    "    then in class = {in_class}\n",
    "''')"
   ]
  },
  {
   "cell_type": "markdown",
   "metadata": {},
   "source": [
    "### with Sckitlearn"
   ]
  },
  {
   "cell_type": "code",
   "execution_count": 54,
   "metadata": {},
   "outputs": [
    {
     "name": "stdout",
     "output_type": "stream",
     "text": [
      "\n",
      "this sentence \"Chinese Chinese Chinese Tokyo Japan\" \n",
      "look like:\n",
      "    class 1 = 0.6704\n",
      "    class 0 = 0.3296\n",
      "    then in class = 1\n",
      "\n"
     ]
    }
   ],
   "source": [
    "tokenizer = TfidfVectorizer()\n",
    "train_sentences = tokenizer.fit_transform(train_df['Word'])\n",
    "model = MultinomialNB()\n",
    "model.fit(train_sentences, train_df['Class'])\n",
    "\n",
    "in_class = model.predict_proba(tokenizer.transform(test_df['Word']))[0]\n",
    "print(f'''\n",
    "this sentence \"Chinese Chinese Chinese Tokyo Japan\" \n",
    "look like:\n",
    "    class 1 = {in_class[1]:.4f}\n",
    "    class 0 = {in_class[0]:.4f}\n",
    "    then in class = {np.argmax(in_class)}\n",
    "''')"
   ]
  }
 ],
 "metadata": {
  "interpreter": {
   "hash": "63e79917a05e390872358bfb73c58bc903ada01d2d04077091749088207d82cf"
  },
  "kernelspec": {
   "display_name": "Python 3.10.0 64-bit",
   "language": "python",
   "name": "python3"
  },
  "language_info": {
   "codemirror_mode": {
    "name": "ipython",
    "version": 3
   },
   "file_extension": ".py",
   "mimetype": "text/x-python",
   "name": "python",
   "nbconvert_exporter": "python",
   "pygments_lexer": "ipython3",
   "version": "3.10.0"
  },
  "orig_nbformat": 4
 },
 "nbformat": 4,
 "nbformat_minor": 2
}
