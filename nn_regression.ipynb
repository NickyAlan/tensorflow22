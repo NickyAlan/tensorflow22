{
 "cells": [
  {
   "cell_type": "markdown",
   "metadata": {},
   "source": [
    "# Neural Network Regression Model\n",
    "predicting a number base on some other combination of variable."
   ]
  },
  {
   "cell_type": "code",
   "execution_count": 167,
   "metadata": {},
   "outputs": [
    {
     "name": "stdout",
     "output_type": "stream",
     "text": [
      "tensorflow 2.8.0\n",
      "numpy 1.22.3\n",
      "matplotlib 3.4.3\n"
     ]
    }
   ],
   "source": [
    "import tensorflow as tf\n",
    "import matplotlib\n",
    "import matplotlib.pyplot as plt\n",
    "import numpy as np\n",
    "plt.style.use('seaborn-whitegrid')\n",
    "\n",
    "print('tensorflow',tf.__version__)\n",
    "print('numpy',np.__version__)\n",
    "print('matplotlib',matplotlib.__version__)"
   ]
  },
  {
   "cell_type": "code",
   "execution_count": 168,
   "metadata": {},
   "outputs": [
    {
     "data": {
      "image/png": "[encoded data removed]",
      "text/plain": [
       "<Figure size 432x288 with 1 Axes>"
      ]
     },
     "metadata": {},
     "output_type": "display_data"
    }
   ],
   "source": [
    "# create data and visualize\n",
    "X = np.arange(-50,50,3)\n",
    "y = X + 10 - (10 * np.random.rand(X.shape[0],))\n",
    "\n",
    "plt.scatter(X,y,c='r',s=10)\n",
    "plt.xlabel('x-axis')\n",
    "plt.ylabel('y-axis')\n",
    "plt.title('sample data');"
   ]
  },
  {
   "cell_type": "markdown",
   "metadata": {},
   "source": [
    "### Input and Output shape\n",
    "in this case we want to use 1 X to predict 1 y :<br>\n",
    "input_shape = (1,1) and output_shape = (1,)<br>\n",
    "input shape must be vector (1,1) and (1,) mean scalar."
   ]
  },
  {
   "cell_type": "code",
   "execution_count": 169,
   "metadata": {},
   "outputs": [
    {
     "data": {
      "text/plain": [
       "(-50, -47.52073623048776)"
      ]
     },
     "execution_count": 169,
     "metadata": {},
     "output_type": "execute_result"
    }
   ],
   "source": [
    "X[0], y[0]"
   ]
  },
  {
   "cell_type": "markdown",
   "metadata": {},
   "source": [
    "# Create a model"
   ]
  },
  {
   "cell_type": "code",
   "execution_count": 170,
   "metadata": {},
   "outputs": [],
   "source": [
    "tf.random.set_seed(42)\n",
    "\n",
    "model = tf.keras.Sequential([ \n",
    "    tf.keras.layers.Dense(1,input_shape=(1,)),\n",
    "    tf.keras.layers.Dense(100),\n",
    "    tf.keras.layers.Dense(10,'leaky_relu'),\n",
    "    tf.keras.layers.Dense(1,)\n",
    "\n",
    "])\n",
    "model.compile(loss=tf.keras.losses.MeanAbsoluteError(),\n",
    "                optimizer=tf.keras.optimizers.Adam(learning_rate=.0001),\n",
    "                metrics=['mae'])\n",
    "\n",
    "model.fit(X.reshape(-1,1),y, epochs=1000, verbose=0);"
   ]
  },
  {
   "cell_type": "code",
   "execution_count": 171,
   "metadata": {},
   "outputs": [
    {
     "name": "stdout",
     "output_type": "stream",
     "text": [
      "2/2 [==============================] - 0s 2ms/step - loss: 2.4512 - mae: 2.4512\n"
     ]
    },
    {
     "data": {
      "text/plain": [
       "[2.4512319564819336, 2.4512319564819336]"
      ]
     },
     "execution_count": 171,
     "metadata": {},
     "output_type": "execute_result"
    }
   ],
   "source": [
    "error = model.evaluate(X.reshape(-1,1),y)\n",
    "error"
   ]
  },
  {
   "cell_type": "code",
   "execution_count": 172,
   "metadata": {},
   "outputs": [
    {
     "data": {
      "image/png": "[encoded data removed]",
      "text/plain": [
       "<Figure size 432x288 with 1 Axes>"
      ]
     },
     "metadata": {},
     "output_type": "display_data"
    }
   ],
   "source": [
    "predictions = model.predict(X)\n",
    "\n",
    "plt.scatter(X,y,c='b',s=10, label='True')\n",
    "plt.scatter(X,predictions,c='r',s=10, label='Predictions')\n",
    "plt.legend()\n",
    "plt.title(f'model with {error[0]:.2f} mae')\n",
    "plt.show();"
   ]
  }
 ],
 "metadata": {
  "interpreter": {
   "hash": "63e79917a05e390872358bfb73c58bc903ada01d2d04077091749088207d82cf"
  },
  "kernelspec": {
   "display_name": "Python 3.10.0 64-bit",
   "language": "python",
   "name": "python3"
  },
  "language_info": {
   "codemirror_mode": {
    "name": "ipython",
    "version": 3
   },
   "file_extension": ".py",
   "mimetype": "text/x-python",
   "name": "python",
   "nbconvert_exporter": "python",
   "pygments_lexer": "ipython3",
   "version": "3.10.0"
  },
  "orig_nbformat": 4
 },
 "nbformat": 4,
 "nbformat_minor": 2
}
