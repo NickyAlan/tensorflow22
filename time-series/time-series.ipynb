{
 "cells": [
  {
   "cell_type": "markdown",
   "metadata": {},
   "source": [
    "# Time Series Fundamentals"
   ]
  },
  {
   "cell_type": "code",
   "execution_count": 458,
   "metadata": {},
   "outputs": [],
   "source": [
    "import os\n",
    "import numpy as np\n",
    "import pandas as pd\n",
    "import tensorflow as tf\n",
    "from tensorflow import keras \n",
    "import matplotlib.pyplot as plt"
   ]
  },
  {
   "cell_type": "code",
   "execution_count": 10,
   "metadata": {},
   "outputs": [
    {
     "name": "stdout",
     "output_type": "stream",
     "text": [
      "length : 2787 row\n"
     ]
    },
    {
     "data": {
      "text/html": [
       "<div>\n",
       "<style scoped>\n",
       "    .dataframe tbody tr th:only-of-type {\n",
       "        vertical-align: middle;\n",
       "    }\n",
       "\n",
       "    .dataframe tbody tr th {\n",
       "        vertical-align: top;\n",
       "    }\n",
       "\n",
       "    .dataframe thead th {\n",
       "        text-align: right;\n",
       "    }\n",
       "</style>\n",
       "<table border=\"1\" class=\"dataframe\">\n",
       "  <thead>\n",
       "    <tr style=\"text-align: right;\">\n",
       "      <th></th>\n",
       "      <th>Currency</th>\n",
       "      <th>Closing Price (USD)</th>\n",
       "      <th>24h Open (USD)</th>\n",
       "      <th>24h High (USD)</th>\n",
       "      <th>24h Low (USD)</th>\n",
       "    </tr>\n",
       "    <tr>\n",
       "      <th>Date</th>\n",
       "      <th></th>\n",
       "      <th></th>\n",
       "      <th></th>\n",
       "      <th></th>\n",
       "      <th></th>\n",
       "    </tr>\n",
       "  </thead>\n",
       "  <tbody>\n",
       "    <tr>\n",
       "      <th>2013-10-01</th>\n",
       "      <td>BTC</td>\n",
       "      <td>123.65499</td>\n",
       "      <td>124.30466</td>\n",
       "      <td>124.75166</td>\n",
       "      <td>122.56349</td>\n",
       "    </tr>\n",
       "    <tr>\n",
       "      <th>2013-10-02</th>\n",
       "      <td>BTC</td>\n",
       "      <td>125.45500</td>\n",
       "      <td>123.65499</td>\n",
       "      <td>125.75850</td>\n",
       "      <td>123.63383</td>\n",
       "    </tr>\n",
       "    <tr>\n",
       "      <th>2013-10-03</th>\n",
       "      <td>BTC</td>\n",
       "      <td>108.58483</td>\n",
       "      <td>125.45500</td>\n",
       "      <td>125.66566</td>\n",
       "      <td>83.32833</td>\n",
       "    </tr>\n",
       "    <tr>\n",
       "      <th>2013-10-04</th>\n",
       "      <td>BTC</td>\n",
       "      <td>118.67466</td>\n",
       "      <td>108.58483</td>\n",
       "      <td>118.67500</td>\n",
       "      <td>107.05816</td>\n",
       "    </tr>\n",
       "    <tr>\n",
       "      <th>2013-10-05</th>\n",
       "      <td>BTC</td>\n",
       "      <td>121.33866</td>\n",
       "      <td>118.67466</td>\n",
       "      <td>121.93633</td>\n",
       "      <td>118.00566</td>\n",
       "    </tr>\n",
       "    <tr>\n",
       "      <th>2013-10-06</th>\n",
       "      <td>BTC</td>\n",
       "      <td>120.65533</td>\n",
       "      <td>121.33866</td>\n",
       "      <td>121.85216</td>\n",
       "      <td>120.55450</td>\n",
       "    </tr>\n",
       "    <tr>\n",
       "      <th>2013-10-07</th>\n",
       "      <td>BTC</td>\n",
       "      <td>121.79500</td>\n",
       "      <td>120.65533</td>\n",
       "      <td>121.99166</td>\n",
       "      <td>120.43199</td>\n",
       "    </tr>\n",
       "    <tr>\n",
       "      <th>2013-10-08</th>\n",
       "      <td>BTC</td>\n",
       "      <td>123.03300</td>\n",
       "      <td>121.79500</td>\n",
       "      <td>123.64016</td>\n",
       "      <td>121.35066</td>\n",
       "    </tr>\n",
       "    <tr>\n",
       "      <th>2013-10-09</th>\n",
       "      <td>BTC</td>\n",
       "      <td>124.04900</td>\n",
       "      <td>123.03300</td>\n",
       "      <td>124.78350</td>\n",
       "      <td>122.59266</td>\n",
       "    </tr>\n",
       "    <tr>\n",
       "      <th>2013-10-10</th>\n",
       "      <td>BTC</td>\n",
       "      <td>125.96116</td>\n",
       "      <td>124.04900</td>\n",
       "      <td>128.01683</td>\n",
       "      <td>123.81966</td>\n",
       "    </tr>\n",
       "  </tbody>\n",
       "</table>\n",
       "</div>"
      ],
      "text/plain": [
       "           Currency  Closing Price (USD)  ...  24h High (USD)  24h Low (USD)\n",
       "Date                                      ...                               \n",
       "2013-10-01      BTC            123.65499  ...       124.75166      122.56349\n",
       "2013-10-02      BTC            125.45500  ...       125.75850      123.63383\n",
       "2013-10-03      BTC            108.58483  ...       125.66566       83.32833\n",
       "2013-10-04      BTC            118.67466  ...       118.67500      107.05816\n",
       "2013-10-05      BTC            121.33866  ...       121.93633      118.00566\n",
       "2013-10-06      BTC            120.65533  ...       121.85216      120.55450\n",
       "2013-10-07      BTC            121.79500  ...       121.99166      120.43199\n",
       "2013-10-08      BTC            123.03300  ...       123.64016      121.35066\n",
       "2013-10-09      BTC            124.04900  ...       124.78350      122.59266\n",
       "2013-10-10      BTC            125.96116  ...       128.01683      123.81966\n",
       "\n",
       "[10 rows x 5 columns]"
      ]
     },
     "execution_count": 10,
     "metadata": {},
     "output_type": "execute_result"
    }
   ],
   "source": [
    "#get data\n",
    "data_path = 'BTC_USD_2013-10-01_2021-05-18-CoinDesk.csv'\n",
    "bitcoin_df = pd.read_csv(data_path, parse_dates=['Date'], index_col=['Date'])\n",
    "print(f'length : {len(bitcoin_df)} row')\n",
    "bitcoin_df.head(10)"
   ]
  },
  {
   "cell_type": "code",
   "execution_count": 19,
   "metadata": {},
   "outputs": [
    {
     "name": "stdout",
     "output_type": "stream",
     "text": [
      "<class 'pandas.core.frame.DataFrame'>\n",
      "DatetimeIndex: 2787 entries, 2013-10-01 to 2021-05-18\n",
      "Data columns (total 5 columns):\n",
      " #   Column               Non-Null Count  Dtype  \n",
      "---  ------               --------------  -----  \n",
      " 0   Currency             2787 non-null   object \n",
      " 1   Closing Price (USD)  2787 non-null   float64\n",
      " 2   24h Open (USD)       2787 non-null   float64\n",
      " 3   24h High (USD)       2787 non-null   float64\n",
      " 4   24h Low (USD)        2787 non-null   float64\n",
      "dtypes: float64(4), object(1)\n",
      "memory usage: 130.6+ KB\n"
     ]
    }
   ],
   "source": [
    "bitcoin_df.info()"
   ]
  },
  {
   "cell_type": "code",
   "execution_count": 28,
   "metadata": {},
   "outputs": [
    {
     "data": {
      "text/html": [
       "<div>\n",
       "<style scoped>\n",
       "    .dataframe tbody tr th:only-of-type {\n",
       "        vertical-align: middle;\n",
       "    }\n",
       "\n",
       "    .dataframe tbody tr th {\n",
       "        vertical-align: top;\n",
       "    }\n",
       "\n",
       "    .dataframe thead th {\n",
       "        text-align: right;\n",
       "    }\n",
       "</style>\n",
       "<table border=\"1\" class=\"dataframe\">\n",
       "  <thead>\n",
       "    <tr style=\"text-align: right;\">\n",
       "      <th></th>\n",
       "      <th>Price</th>\n",
       "    </tr>\n",
       "    <tr>\n",
       "      <th>Date</th>\n",
       "      <th></th>\n",
       "    </tr>\n",
       "  </thead>\n",
       "  <tbody>\n",
       "    <tr>\n",
       "      <th>2013-10-01</th>\n",
       "      <td>123.65499</td>\n",
       "    </tr>\n",
       "    <tr>\n",
       "      <th>2013-10-02</th>\n",
       "      <td>125.45500</td>\n",
       "    </tr>\n",
       "    <tr>\n",
       "      <th>2013-10-03</th>\n",
       "      <td>108.58483</td>\n",
       "    </tr>\n",
       "    <tr>\n",
       "      <th>2013-10-04</th>\n",
       "      <td>118.67466</td>\n",
       "    </tr>\n",
       "    <tr>\n",
       "      <th>2013-10-05</th>\n",
       "      <td>121.33866</td>\n",
       "    </tr>\n",
       "  </tbody>\n",
       "</table>\n",
       "</div>"
      ],
      "text/plain": [
       "                Price\n",
       "Date                 \n",
       "2013-10-01  123.65499\n",
       "2013-10-02  125.45500\n",
       "2013-10-03  108.58483\n",
       "2013-10-04  118.67466\n",
       "2013-10-05  121.33866"
      ]
     },
     "execution_count": 28,
     "metadata": {},
     "output_type": "execute_result"
    }
   ],
   "source": [
    "#only want closing price\n",
    "bitcoin_prices = pd.DataFrame({'Price':bitcoin_df['Closing Price (USD)']})\n",
    "bitcoin_prices.head()"
   ]
  },
  {
   "cell_type": "code",
   "execution_count": 36,
   "metadata": {},
   "outputs": [
    {
     "data": {
      "image/png": "[encoded data removed]",
      "text/plain": [
       "<Figure size 720x504 with 1 Axes>"
      ]
     },
     "metadata": {
      "needs_background": "light"
     },
     "output_type": "display_data"
    }
   ],
   "source": [
    "bitcoin_prices.plot(figsize=(10,7), color='orange')\n",
    "plt.ylabel('BTC price')\n",
    "plt.title('BTC price from 1 Oct 2013 to 18 May 2021');"
   ]
  },
  {
   "cell_type": "markdown",
   "metadata": {},
   "source": [
    "## Create train and test set\n",
    "time seris : use past feature to predict the future"
   ]
  },
  {
   "cell_type": "code",
   "execution_count": 73,
   "metadata": {},
   "outputs": [
    {
     "data": {
      "text/plain": [
       "((2229,), (558,), 2787)"
      ]
     },
     "execution_count": 73,
     "metadata": {},
     "output_type": "execute_result"
    }
   ],
   "source": [
    "times = bitcoin_prices.index.to_numpy()\n",
    "prices = bitcoin_prices['Price'].to_numpy()\n",
    "\n",
    "train_size = int(len(times) *.8)\n",
    "X_train, y_train = times[:train_size], prices[:train_size]\n",
    "X_test, y_test = times[train_size:], prices[train_size:]\n",
    "\n",
    "X_train.shape, X_test.shape , len(times)"
   ]
  },
  {
   "cell_type": "code",
   "execution_count": 67,
   "metadata": {},
   "outputs": [
    {
     "data": {
      "image/png": "[encoded data removed]",
      "text/plain": [
       "<Figure size 720x504 with 1 Axes>"
      ]
     },
     "metadata": {
      "needs_background": "light"
     },
     "output_type": "display_data"
    }
   ],
   "source": [
    "plt.figure(figsize=(10,7))\n",
    "plt.scatter(X_train, y_train, s=5, c='orange', label='train (past)')\n",
    "plt.scatter(X_test, y_test, s=5, c='red', label='test (pseudo future)')\n",
    "plt.legend(fontsize=16)\n",
    "plt.grid(True)\n",
    "plt.ylabel('BTC price')\n",
    "plt.title('BTC price from 1 Oct 2013 to 18 May 2021');"
   ]
  },
  {
   "cell_type": "markdown",
   "metadata": {},
   "source": [
    "## Model 0 | Naive forecast\n",
    "in formular : $$\\hat{y}_{t} = y_{t-1}$$\n",
    "\n",
    "the prediction at timestep t(y-hat) is equal to the value at timestep t-1 (previous timestep) - for horizon of 1\n",
    "\n",
    "**For example**, suppose we have the following sales of a given product during the first three months of the year:\n",
    "\n",
    "<img src=\"https://www.statology.org/wp-content/uploads/2020/12/naive_forecast2-300x181.png\"/>\n",
    "\n",
    "The forecast for sales in April would simply be equal to the actual sales from the previous month of March:\n",
    "\n",
    "*Although this method is simple, it tends to work surprisingly well in practice.*"
   ]
  },
  {
   "cell_type": "code",
   "execution_count": 86,
   "metadata": {},
   "outputs": [
    {
     "name": "stdout",
     "output_type": "stream",
     "text": [
      "forecast : [49764.1320816  50032.69313676 47885.62525472 45604.61575361]\n",
      "actual : [50032.69313676 47885.62525472 45604.61575361 43144.47129086]\n"
     ]
    }
   ],
   "source": [
    "#create Naive forecast\n",
    "naive_forecast = y_test[:-1]\n",
    "print('forecast :',naive_forecast[-4:])\n",
    "print('actual :',y_test[-4:])"
   ]
  },
  {
   "cell_type": "markdown",
   "metadata": {},
   "source": [
    "### MASE (Mean Absolute Scaled Error) \n",
    "for time series forcasting metrics\n",
    "\n",
    "metric that allows you to compare two models. Using the MAE for each model, If the MASE value is less than 1, then the new model performs better. If the MASE value is greater than 1, then the original model performed better than the new model.\n",
    "\n",
    "<img src=\"https://miro.medium.com/max/964/1*hImatS5n4JjrAP09f0qduQ.png\"/>"
   ]
  },
  {
   "cell_type": "code",
   "execution_count": 113,
   "metadata": {},
   "outputs": [],
   "source": [
    "def mean_absolute_scaled_error(y_true, y_pred):\n",
    "    \"\"\"\n",
    "    Computes the MEAN-ABSOLUTE SCALED ERROR forcast error for univariate time series prediction.\n",
    "    \n",
    "    See \"Another look at measures of forecast accuracy\", Rob J Hyndman\n",
    "    \"\"\"\n",
    "    mae = np.mean(np.abs(y_true - y_pred))\n",
    "    mae_naive = np.mean(np.abs(y_true[1:] - y_true[:-1]))\n",
    "    return mae / mae_naive # original model is naive forcast"
   ]
  },
  {
   "cell_type": "code",
   "execution_count": 111,
   "metadata": {},
   "outputs": [
    {
     "data": {
      "text/plain": [
       "0.9995699939182626"
      ]
     },
     "execution_count": 111,
     "metadata": {},
     "output_type": "execute_result"
    }
   ],
   "source": [
    "mean_absolute_scaled_error(y_test[1:], naive_forecast)"
   ]
  },
  {
   "cell_type": "code",
   "execution_count": 114,
   "metadata": {},
   "outputs": [],
   "source": [
    "#create evaluate metrics\n",
    "def evaluate_score(y_true, y_pred) :\n",
    "    mae = np.mean(np.abs(y_true - y_pred))\n",
    "    mse = np.mean(np.square(y_true - y_pred))\n",
    "    rmse = np.sqrt(mse)\n",
    "    mape = np.mean(np.abs((y_true - y_pred )/y_true)) # Mean absolute percentage error\n",
    "    mase = mean_absolute_scaled_error(y_true, y_pred)\n",
    "\n",
    "    return {\n",
    "        'mae':mae,\n",
    "        'mse':mse,\n",
    "        'rmse':rmse,\n",
    "        'mape':mape,\n",
    "        'mase':mase\n",
    "    }"
   ]
  },
  {
   "cell_type": "code",
   "execution_count": 115,
   "metadata": {},
   "outputs": [
    {
     "data": {
      "text/plain": [
       "{'mae': 567.9802273457542,\n",
       " 'mse': 1147547.125023896,\n",
       " 'rmse': 1071.2362601330744,\n",
       " 'mape': 0.02516524929982267,\n",
       " 'mase': 0.9995699939182626}"
      ]
     },
     "execution_count": 115,
     "metadata": {},
     "output_type": "execute_result"
    }
   ],
   "source": [
    "naive_score = evaluate_score(y_test[1:], naive_forecast)\n",
    "naive_score"
   ]
  },
  {
   "cell_type": "markdown",
   "metadata": {},
   "source": [
    "### windowing our dataset\n",
    "to turn data into a supervised learning problem\n",
    "\n",
    "windowing for 1 week:<br>\n",
    "[0, 1, 2, 3, 4, 5, 6] -> [7]<br>\n",
    "[1, 2, 3, 4, 5, 6, 7] -> [8]"
   ]
  },
  {
   "cell_type": "code",
   "execution_count": 118,
   "metadata": {},
   "outputs": [
    {
     "name": "stdout",
     "output_type": "stream",
     "text": [
      "[123.65499 125.455   108.58483 118.67466 121.33866 120.65533 121.795  ] -> 123.033\n"
     ]
    }
   ],
   "source": [
    "print(prices[:7] ,'->',prices[7])"
   ]
  },
  {
   "cell_type": "code",
   "execution_count": 418,
   "metadata": {},
   "outputs": [],
   "source": [
    "HORIZON = 1 #number of prediction (next 1 day)\n",
    "WINDOW_SIZE = 7 #number of feature\n",
    "\n",
    "def windowing_labels(labels, horizon=1, window_size=7):\n",
    "    '''\n",
    "    create label of window dataset\n",
    "    window_size = 7, horizon = 1:\n",
    "\n",
    "    [0, 1, 2, 3, 4, 5, 6] -> [7]\n",
    "\n",
    "    [1, 2, 3, 4, 5, 6, 7] -> [8]\n",
    "    '''\n",
    "    labels = np.array(labels)\n",
    "    window_step = np.arange(window_size+horizon).reshape(1,-1) #range(8) = [0,1,2,3,...,7]\n",
    "    window_index = window_step + np.arange(len(labels)-(window_size+horizon-1)).reshape(-1,1) # [0],\n",
    "                                                                                              # [1],...\n",
    "                                                                                              # [len(...)]\n",
    "    f = labels[window_index]\n",
    "\n",
    "    return pd.DataFrame({\n",
    "    'window':list(f[:,:-horizon]),\n",
    "    'label':list(f[:,-horizon:])\n",
    "    })\n"
   ]
  },
  {
   "cell_type": "code",
   "execution_count": 439,
   "metadata": {},
   "outputs": [
    {
     "data": {
      "text/html": [
       "<div>\n",
       "<style scoped>\n",
       "    .dataframe tbody tr th:only-of-type {\n",
       "        vertical-align: middle;\n",
       "    }\n",
       "\n",
       "    .dataframe tbody tr th {\n",
       "        vertical-align: top;\n",
       "    }\n",
       "\n",
       "    .dataframe thead th {\n",
       "        text-align: right;\n",
       "    }\n",
       "</style>\n",
       "<table border=\"1\" class=\"dataframe\">\n",
       "  <thead>\n",
       "    <tr style=\"text-align: right;\">\n",
       "      <th></th>\n",
       "      <th>window</th>\n",
       "      <th>label</th>\n",
       "    </tr>\n",
       "  </thead>\n",
       "  <tbody>\n",
       "    <tr>\n",
       "      <th>0</th>\n",
       "      <td>[123.65499, 125.455, 108.58483, 118.67466, 121...</td>\n",
       "      <td>[123.033]</td>\n",
       "    </tr>\n",
       "    <tr>\n",
       "      <th>1</th>\n",
       "      <td>[125.455, 108.58483, 118.67466, 121.33866, 120...</td>\n",
       "      <td>[124.049]</td>\n",
       "    </tr>\n",
       "    <tr>\n",
       "      <th>2</th>\n",
       "      <td>[108.58483, 118.67466, 121.33866, 120.65533, 1...</td>\n",
       "      <td>[125.96116]</td>\n",
       "    </tr>\n",
       "    <tr>\n",
       "      <th>3</th>\n",
       "      <td>[118.67466, 121.33866, 120.65533, 121.795, 123...</td>\n",
       "      <td>[125.27966]</td>\n",
       "    </tr>\n",
       "    <tr>\n",
       "      <th>4</th>\n",
       "      <td>[121.33866, 120.65533, 121.795, 123.033, 124.0...</td>\n",
       "      <td>[125.9275]</td>\n",
       "    </tr>\n",
       "  </tbody>\n",
       "</table>\n",
       "</div>"
      ],
      "text/plain": [
       "                                              window        label\n",
       "0  [123.65499, 125.455, 108.58483, 118.67466, 121...    [123.033]\n",
       "1  [125.455, 108.58483, 118.67466, 121.33866, 120...    [124.049]\n",
       "2  [108.58483, 118.67466, 121.33866, 120.65533, 1...  [125.96116]\n",
       "3  [118.67466, 121.33866, 120.65533, 121.795, 123...  [125.27966]\n",
       "4  [121.33866, 120.65533, 121.795, 123.033, 124.0...   [125.9275]"
      ]
     },
     "execution_count": 439,
     "metadata": {},
     "output_type": "execute_result"
    }
   ],
   "source": [
    "window_df = windowing_labels(prices, horizon=1)\n",
    "window_df.head()"
   ]
  },
  {
   "cell_type": "code",
   "execution_count": 440,
   "metadata": {},
   "outputs": [],
   "source": [
    "windows = window_df['window'].to_numpy()\n",
    "labels = window_df['label'].to_numpy()"
   ]
  },
  {
   "cell_type": "code",
   "execution_count": 441,
   "metadata": {},
   "outputs": [],
   "source": [
    "#turning window to train and test sets\n",
    "def make_train_test_split(windows, labels, test_size=.2):\n",
    "    train_size = int(len(windows) * (1 - test_size))\n",
    "    train_windows = windows[:train_size]\n",
    "    train_labels = labels[:train_size]\n",
    "    test_windows = windows[train_size:]\n",
    "    test_labels = labels[train_size:]\n",
    "\n",
    "    return train_windows, test_windows, train_labels, test_labels"
   ]
  },
  {
   "cell_type": "code",
   "execution_count": 442,
   "metadata": {},
   "outputs": [
    {
     "data": {
      "text/plain": [
       "(2224, 556, 2224, 556)"
      ]
     },
     "execution_count": 442,
     "metadata": {},
     "output_type": "execute_result"
    }
   ],
   "source": [
    "#create train and test windows\n",
    "train_windows, test_windows, train_labels, test_labels = make_train_test_split(windows, labels)\n",
    "len(train_windows), len(test_windows), len(train_labels), len(test_labels)"
   ]
  },
  {
   "cell_type": "markdown",
   "metadata": {},
   "source": [
    "### Create ModelCheckpoint"
   ]
  },
  {
   "cell_type": "code",
   "execution_count": 459,
   "metadata": {},
   "outputs": [],
   "source": [
    "def crete_model_checkpoint(model_name, save_path='model_experiment'):\n",
    "    return tf.keras.callbacks.ModelCheckpoint(filepath=os.path.join(save_path, model_name), save_best_only=True)"
   ]
  }
 ],
 "metadata": {
  "kernelspec": {
   "display_name": "Python 3.10.0 64-bit",
   "language": "python",
   "name": "python3"
  },
  "language_info": {
   "codemirror_mode": {
    "name": "ipython",
    "version": 3
   },
   "file_extension": ".py",
   "mimetype": "text/x-python",
   "name": "python",
   "nbconvert_exporter": "python",
   "pygments_lexer": "ipython3",
   "version": "3.10.0"
  },
  "orig_nbformat": 4,
  "vscode": {
   "interpreter": {
    "hash": "63e79917a05e390872358bfb73c58bc903ada01d2d04077091749088207d82cf"
   }
  }
 },
 "nbformat": 4,
 "nbformat_minor": 2
}
