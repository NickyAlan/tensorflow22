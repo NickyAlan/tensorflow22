{
 "cells": [
  {
   "cell_type": "markdown",
   "metadata": {},
   "source": [
    "# Time Series Fundamentals"
   ]
  },
  {
   "cell_type": "code",
   "execution_count": 1,
   "metadata": {},
   "outputs": [],
   "source": [
    "import os\n",
    "import numpy as np\n",
    "import pandas as pd\n",
    "import tensorflow as tf\n",
    "from tensorflow import keras \n",
    "import matplotlib.pyplot as plt"
   ]
  },
  {
   "cell_type": "code",
   "execution_count": 2,
   "metadata": {},
   "outputs": [
    {
     "name": "stdout",
     "output_type": "stream",
     "text": [
      "length : 2787 row\n"
     ]
    },
    {
     "data": {
      "text/html": [
       "<div>\n",
       "<style scoped>\n",
       "    .dataframe tbody tr th:only-of-type {\n",
       "        vertical-align: middle;\n",
       "    }\n",
       "\n",
       "    .dataframe tbody tr th {\n",
       "        vertical-align: top;\n",
       "    }\n",
       "\n",
       "    .dataframe thead th {\n",
       "        text-align: right;\n",
       "    }\n",
       "</style>\n",
       "<table border=\"1\" class=\"dataframe\">\n",
       "  <thead>\n",
       "    <tr style=\"text-align: right;\">\n",
       "      <th></th>\n",
       "      <th>Currency</th>\n",
       "      <th>Closing Price (USD)</th>\n",
       "      <th>24h Open (USD)</th>\n",
       "      <th>24h High (USD)</th>\n",
       "      <th>24h Low (USD)</th>\n",
       "    </tr>\n",
       "    <tr>\n",
       "      <th>Date</th>\n",
       "      <th></th>\n",
       "      <th></th>\n",
       "      <th></th>\n",
       "      <th></th>\n",
       "      <th></th>\n",
       "    </tr>\n",
       "  </thead>\n",
       "  <tbody>\n",
       "    <tr>\n",
       "      <th>2013-10-01</th>\n",
       "      <td>BTC</td>\n",
       "      <td>123.65499</td>\n",
       "      <td>124.30466</td>\n",
       "      <td>124.75166</td>\n",
       "      <td>122.56349</td>\n",
       "    </tr>\n",
       "    <tr>\n",
       "      <th>2013-10-02</th>\n",
       "      <td>BTC</td>\n",
       "      <td>125.45500</td>\n",
       "      <td>123.65499</td>\n",
       "      <td>125.75850</td>\n",
       "      <td>123.63383</td>\n",
       "    </tr>\n",
       "    <tr>\n",
       "      <th>2013-10-03</th>\n",
       "      <td>BTC</td>\n",
       "      <td>108.58483</td>\n",
       "      <td>125.45500</td>\n",
       "      <td>125.66566</td>\n",
       "      <td>83.32833</td>\n",
       "    </tr>\n",
       "    <tr>\n",
       "      <th>2013-10-04</th>\n",
       "      <td>BTC</td>\n",
       "      <td>118.67466</td>\n",
       "      <td>108.58483</td>\n",
       "      <td>118.67500</td>\n",
       "      <td>107.05816</td>\n",
       "    </tr>\n",
       "    <tr>\n",
       "      <th>2013-10-05</th>\n",
       "      <td>BTC</td>\n",
       "      <td>121.33866</td>\n",
       "      <td>118.67466</td>\n",
       "      <td>121.93633</td>\n",
       "      <td>118.00566</td>\n",
       "    </tr>\n",
       "    <tr>\n",
       "      <th>2013-10-06</th>\n",
       "      <td>BTC</td>\n",
       "      <td>120.65533</td>\n",
       "      <td>121.33866</td>\n",
       "      <td>121.85216</td>\n",
       "      <td>120.55450</td>\n",
       "    </tr>\n",
       "    <tr>\n",
       "      <th>2013-10-07</th>\n",
       "      <td>BTC</td>\n",
       "      <td>121.79500</td>\n",
       "      <td>120.65533</td>\n",
       "      <td>121.99166</td>\n",
       "      <td>120.43199</td>\n",
       "    </tr>\n",
       "    <tr>\n",
       "      <th>2013-10-08</th>\n",
       "      <td>BTC</td>\n",
       "      <td>123.03300</td>\n",
       "      <td>121.79500</td>\n",
       "      <td>123.64016</td>\n",
       "      <td>121.35066</td>\n",
       "    </tr>\n",
       "    <tr>\n",
       "      <th>2013-10-09</th>\n",
       "      <td>BTC</td>\n",
       "      <td>124.04900</td>\n",
       "      <td>123.03300</td>\n",
       "      <td>124.78350</td>\n",
       "      <td>122.59266</td>\n",
       "    </tr>\n",
       "    <tr>\n",
       "      <th>2013-10-10</th>\n",
       "      <td>BTC</td>\n",
       "      <td>125.96116</td>\n",
       "      <td>124.04900</td>\n",
       "      <td>128.01683</td>\n",
       "      <td>123.81966</td>\n",
       "    </tr>\n",
       "  </tbody>\n",
       "</table>\n",
       "</div>"
      ],
      "text/plain": [
       "           Currency  Closing Price (USD)  24h Open (USD)  24h High (USD)  \\\n",
       "Date                                                                       \n",
       "2013-10-01      BTC            123.65499       124.30466       124.75166   \n",
       "2013-10-02      BTC            125.45500       123.65499       125.75850   \n",
       "2013-10-03      BTC            108.58483       125.45500       125.66566   \n",
       "2013-10-04      BTC            118.67466       108.58483       118.67500   \n",
       "2013-10-05      BTC            121.33866       118.67466       121.93633   \n",
       "2013-10-06      BTC            120.65533       121.33866       121.85216   \n",
       "2013-10-07      BTC            121.79500       120.65533       121.99166   \n",
       "2013-10-08      BTC            123.03300       121.79500       123.64016   \n",
       "2013-10-09      BTC            124.04900       123.03300       124.78350   \n",
       "2013-10-10      BTC            125.96116       124.04900       128.01683   \n",
       "\n",
       "            24h Low (USD)  \n",
       "Date                       \n",
       "2013-10-01      122.56349  \n",
       "2013-10-02      123.63383  \n",
       "2013-10-03       83.32833  \n",
       "2013-10-04      107.05816  \n",
       "2013-10-05      118.00566  \n",
       "2013-10-06      120.55450  \n",
       "2013-10-07      120.43199  \n",
       "2013-10-08      121.35066  \n",
       "2013-10-09      122.59266  \n",
       "2013-10-10      123.81966  "
      ]
     },
     "execution_count": 2,
     "metadata": {},
     "output_type": "execute_result"
    }
   ],
   "source": [
    "#get data\n",
    "data_path = 'BTC_USD_2013-10-01_2021-05-18-CoinDesk.csv'\n",
    "bitcoin_df = pd.read_csv(data_path, parse_dates=['Date'], index_col=['Date'])\n",
    "print(f'length : {len(bitcoin_df)} row')\n",
    "bitcoin_df.head(10)"
   ]
  },
  {
   "cell_type": "code",
   "execution_count": 3,
   "metadata": {},
   "outputs": [
    {
     "name": "stdout",
     "output_type": "stream",
     "text": [
      "<class 'pandas.core.frame.DataFrame'>\n",
      "DatetimeIndex: 2787 entries, 2013-10-01 to 2021-05-18\n",
      "Data columns (total 5 columns):\n",
      " #   Column               Non-Null Count  Dtype  \n",
      "---  ------               --------------  -----  \n",
      " 0   Currency             2787 non-null   object \n",
      " 1   Closing Price (USD)  2787 non-null   float64\n",
      " 2   24h Open (USD)       2787 non-null   float64\n",
      " 3   24h High (USD)       2787 non-null   float64\n",
      " 4   24h Low (USD)        2787 non-null   float64\n",
      "dtypes: float64(4), object(1)\n",
      "memory usage: 130.6+ KB\n"
     ]
    }
   ],
   "source": [
    "bitcoin_df.info()"
   ]
  },
  {
   "cell_type": "code",
   "execution_count": 4,
   "metadata": {},
   "outputs": [
    {
     "data": {
      "text/html": [
       "<div>\n",
       "<style scoped>\n",
       "    .dataframe tbody tr th:only-of-type {\n",
       "        vertical-align: middle;\n",
       "    }\n",
       "\n",
       "    .dataframe tbody tr th {\n",
       "        vertical-align: top;\n",
       "    }\n",
       "\n",
       "    .dataframe thead th {\n",
       "        text-align: right;\n",
       "    }\n",
       "</style>\n",
       "<table border=\"1\" class=\"dataframe\">\n",
       "  <thead>\n",
       "    <tr style=\"text-align: right;\">\n",
       "      <th></th>\n",
       "      <th>Price</th>\n",
       "    </tr>\n",
       "    <tr>\n",
       "      <th>Date</th>\n",
       "      <th></th>\n",
       "    </tr>\n",
       "  </thead>\n",
       "  <tbody>\n",
       "    <tr>\n",
       "      <th>2013-10-01</th>\n",
       "      <td>123.65499</td>\n",
       "    </tr>\n",
       "    <tr>\n",
       "      <th>2013-10-02</th>\n",
       "      <td>125.45500</td>\n",
       "    </tr>\n",
       "    <tr>\n",
       "      <th>2013-10-03</th>\n",
       "      <td>108.58483</td>\n",
       "    </tr>\n",
       "    <tr>\n",
       "      <th>2013-10-04</th>\n",
       "      <td>118.67466</td>\n",
       "    </tr>\n",
       "    <tr>\n",
       "      <th>2013-10-05</th>\n",
       "      <td>121.33866</td>\n",
       "    </tr>\n",
       "  </tbody>\n",
       "</table>\n",
       "</div>"
      ],
      "text/plain": [
       "                Price\n",
       "Date                 \n",
       "2013-10-01  123.65499\n",
       "2013-10-02  125.45500\n",
       "2013-10-03  108.58483\n",
       "2013-10-04  118.67466\n",
       "2013-10-05  121.33866"
      ]
     },
     "execution_count": 4,
     "metadata": {},
     "output_type": "execute_result"
    }
   ],
   "source": [
    "#only want closing price\n",
    "bitcoin_prices = pd.DataFrame({'Price':bitcoin_df['Closing Price (USD)']})\n",
    "bitcoin_prices.head()"
   ]
  },
  {
   "cell_type": "code",
   "execution_count": 5,
   "metadata": {},
   "outputs": [
    {
     "data": {
      "image/png": "[encoded data removed]",
      "text/plain": [
       "<Figure size 720x504 with 1 Axes>"
      ]
     },
     "metadata": {
      "needs_background": "light"
     },
     "output_type": "display_data"
    }
   ],
   "source": [
    "bitcoin_prices.plot(figsize=(10,7), color='orange')\n",
    "plt.ylabel('BTC price')\n",
    "plt.title('BTC price from 1 Oct 2013 to 18 May 2021');"
   ]
  },
  {
   "cell_type": "markdown",
   "metadata": {},
   "source": [
    "## Create train and test set\n",
    "time seris : use past feature to predict the future"
   ]
  },
  {
   "cell_type": "code",
   "execution_count": 6,
   "metadata": {},
   "outputs": [
    {
     "data": {
      "text/plain": [
       "((2229,), (558,), 2787)"
      ]
     },
     "execution_count": 6,
     "metadata": {},
     "output_type": "execute_result"
    }
   ],
   "source": [
    "times = bitcoin_prices.index.to_numpy()\n",
    "prices = bitcoin_prices['Price'].to_numpy()\n",
    "\n",
    "train_size = int(len(times) *.8)\n",
    "X_train, y_train = times[:train_size], prices[:train_size]\n",
    "X_test, y_test = times[train_size:], prices[train_size:]\n",
    "\n",
    "X_train.shape, X_test.shape , len(times)"
   ]
  },
  {
   "cell_type": "code",
   "execution_count": 7,
   "metadata": {},
   "outputs": [
    {
     "data": {
      "image/png": "[encoded data removed]",
      "text/plain": [
       "<Figure size 720x504 with 1 Axes>"
      ]
     },
     "metadata": {
      "needs_background": "light"
     },
     "output_type": "display_data"
    }
   ],
   "source": [
    "plt.figure(figsize=(10,7))\n",
    "plt.scatter(X_train, y_train, s=5, c='orange', label='train (past)')\n",
    "plt.scatter(X_test, y_test, s=5, c='red', label='test (pseudo future)')\n",
    "plt.legend(fontsize=16)\n",
    "plt.grid(True)\n",
    "plt.ylabel('BTC price')\n",
    "plt.title('BTC price from 1 Oct 2013 to 18 May 2021');"
   ]
  },
  {
   "cell_type": "markdown",
   "metadata": {},
   "source": [
    "## Model 0 | Naive forecast\n",
    "in formular : $$\\hat{y}_{t} = y_{t-1}$$\n",
    "\n",
    "the prediction at timestep t(y-hat) is equal to the value at timestep t-1 (previous timestep) - for horizon of 1\n",
    "\n",
    "**For example**, suppose we have the following sales of a given product during the first three months of the year:\n",
    "\n",
    "<img src=\"https://www.statology.org/wp-content/uploads/2020/12/naive_forecast2-300x181.png\"/>\n",
    "\n",
    "The forecast for sales in April would simply be equal to the actual sales from the previous month of March:\n",
    "\n",
    "*Although this method is simple, it tends to work surprisingly well in practice.*"
   ]
  },
  {
   "cell_type": "code",
   "execution_count": 8,
   "metadata": {},
   "outputs": [
    {
     "name": "stdout",
     "output_type": "stream",
     "text": [
      "forecast : [49764.1320816  50032.69313676 47885.62525472 45604.61575361]\n",
      "actual : [50032.69313676 47885.62525472 45604.61575361 43144.47129086]\n"
     ]
    }
   ],
   "source": [
    "#create Naive forecast\n",
    "naive_forecast = y_test[:-1]\n",
    "print('forecast :',naive_forecast[-4:])\n",
    "print('actual :',y_test[-4:])"
   ]
  },
  {
   "cell_type": "markdown",
   "metadata": {},
   "source": [
    "### MASE (Mean Absolute Scaled Error) \n",
    "for time series forcasting metrics\n",
    "\n",
    "metric that allows you to compare two models. Using the MAE for each model, If the MASE value is less than 1, then the new model performs better. If the MASE value is greater than 1, then the original model performed better than the new model.\n",
    "\n",
    "<img src=\"https://miro.medium.com/max/964/1*hImatS5n4JjrAP09f0qduQ.png\"/>"
   ]
  },
  {
   "cell_type": "code",
   "execution_count": 479,
   "metadata": {},
   "outputs": [],
   "source": [
    "def mean_absolute_scaled_error(y_true, y_pred):\n",
    "    \"\"\"\n",
    "    Computes the MEAN-ABSOLUTE SCALED ERROR forcast error for univariate time series prediction.\n",
    "    \n",
    "    See \"Another look at measures of forecast accuracy\", Rob J Hyndman\n",
    "    \"\"\"\n",
    "    mae = np.mean(np.abs(y_true - y_pred))\n",
    "    mae_naive = np.mean(np.abs(y_true[1:] - y_true[:-1]))\n",
    "    return mae / mae_naive # original model is naive forcast"
   ]
  },
  {
   "cell_type": "code",
   "execution_count": 10,
   "metadata": {},
   "outputs": [
    {
     "data": {
      "text/plain": [
       "0.9995699939182626"
      ]
     },
     "execution_count": 10,
     "metadata": {},
     "output_type": "execute_result"
    }
   ],
   "source": [
    "mean_absolute_scaled_error(y_test[1:], naive_forecast)"
   ]
  },
  {
   "cell_type": "code",
   "execution_count": 480,
   "metadata": {},
   "outputs": [],
   "source": [
    "#create evaluate metrics\n",
    "def evaluate_score(y_true, y_pred) :\n",
    "    mae = np.mean(np.abs(y_true - y_pred))\n",
    "    mse = np.mean(np.square(y_true - y_pred))\n",
    "    rmse = np.sqrt(mse)\n",
    "    mape = np.mean(np.abs((y_true - y_pred )/y_true)) # Mean absolute percentage error\n",
    "    mase = mean_absolute_scaled_error(y_true, y_pred)\n",
    "\n",
    "    return {\n",
    "        'mae':mae,\n",
    "        'mse':mse,\n",
    "        'rmse':rmse,\n",
    "        'mape':mape,\n",
    "        'mase':mase\n",
    "    }"
   ]
  },
  {
   "cell_type": "code",
   "execution_count": 12,
   "metadata": {},
   "outputs": [
    {
     "data": {
      "text/plain": [
       "{'mae': 567.9802273457542,\n",
       " 'mse': 1147547.125023896,\n",
       " 'rmse': 1071.2362601330744,\n",
       " 'mape': 0.02516524929982267,\n",
       " 'mase': 0.9995699939182626}"
      ]
     },
     "execution_count": 12,
     "metadata": {},
     "output_type": "execute_result"
    }
   ],
   "source": [
    "naive_score = evaluate_score(y_test[1:], naive_forecast)\n",
    "naive_score"
   ]
  },
  {
   "cell_type": "markdown",
   "metadata": {},
   "source": [
    "### windowing our dataset\n",
    "to turn data into a supervised learning problem\n",
    "\n",
    "windowing for 1 week:<br>\n",
    "[0, 1, 2, 3, 4, 5, 6] -> [7]<br>\n",
    "[1, 2, 3, 4, 5, 6, 7] -> [8]"
   ]
  },
  {
   "cell_type": "code",
   "execution_count": 13,
   "metadata": {},
   "outputs": [
    {
     "name": "stdout",
     "output_type": "stream",
     "text": [
      "[123.65499 125.455   108.58483 118.67466 121.33866 120.65533 121.795  ] -> 123.033\n"
     ]
    }
   ],
   "source": [
    "print(prices[:7] ,'->',prices[7])"
   ]
  },
  {
   "cell_type": "code",
   "execution_count": 14,
   "metadata": {},
   "outputs": [],
   "source": [
    "HORIZON = 1 # predict 1 step at a time\n",
    "WINDOW_SIZE = 7 # use a week worth of timesteps to predict the horizon"
   ]
  },
  {
   "cell_type": "code",
   "execution_count": 15,
   "metadata": {},
   "outputs": [],
   "source": [
    "# Create function to label windowed data\n",
    "def get_labelled_windows(x, horizon=1):\n",
    "  \"\"\"\n",
    "  Creates labels for windowed dataset.\n",
    "\n",
    "  E.g. if horizon=1 (default)\n",
    "  Input: [1, 2, 3, 4, 5, 6] -> Output: ([1, 2, 3, 4, 5], [6])\n",
    "  \"\"\"\n",
    "  return x[:, :-horizon], x[:, -horizon:]"
   ]
  },
  {
   "cell_type": "code",
   "execution_count": 16,
   "metadata": {},
   "outputs": [],
   "source": [
    "# Create function to view NumPy arrays as windows \n",
    "def make_windows(x, window_size=7, horizon=1):\n",
    "  \"\"\"\n",
    "  Turns a 1D array into a 2D array of sequential windows of window_size.\n",
    "  \"\"\"\n",
    "  # 1. Create a window of specific window_size (add the horizon on the end for later labelling)\n",
    "  window_step = np.expand_dims(np.arange(window_size+horizon), axis=0)\n",
    "  # print(f\"Window step:\\n {window_step}\")\n",
    "\n",
    "  # 2. Create a 2D array of multiple window steps (minus 1 to account for 0 indexing)\n",
    "  window_indexes = window_step + np.expand_dims(np.arange( len(x)-(window_size+horizon-1) ), axis=0).T # create 2D array of windows of size window_size\n",
    "  # print(f\"Window indexes:\\n {window_indexes[:3], window_indexes[-3:], window_indexes.shape}\")\n",
    "\n",
    "  # 3. Index on the target array (time series) with 2D array of multiple window steps\n",
    "  windowed_array = x[window_indexes]\n",
    "\n",
    "  # 4. Get the labelled windows\n",
    "  windows, labels = get_labelled_windows(windowed_array, horizon=horizon)\n",
    "\n",
    "  return windows, labels"
   ]
  },
  {
   "cell_type": "code",
   "execution_count": 17,
   "metadata": {},
   "outputs": [
    {
     "data": {
      "text/plain": [
       "(2780, 2780)"
      ]
     },
     "execution_count": 17,
     "metadata": {},
     "output_type": "execute_result"
    }
   ],
   "source": [
    "full_windows, full_labels = make_windows(prices, window_size=WINDOW_SIZE, horizon=HORIZON)\n",
    "len(full_windows), len(full_labels)"
   ]
  },
  {
   "cell_type": "code",
   "execution_count": 18,
   "metadata": {},
   "outputs": [],
   "source": [
    "# Make the train/test splits\n",
    "def make_train_test_splits(windows, labels, test_size=0.2):\n",
    "  \"\"\"\n",
    "  Splits matching pairs of windows and labels into train and test splits.\n",
    "  \"\"\"\n",
    "  train_size = int(len(windows) * (1-test_size)) # this will default to 80% train/20% test\n",
    "  train_windows = windows[:train_size]\n",
    "  train_labels = labels[:train_size]\n",
    "  test_windows = windows[train_size:]\n",
    "  test_labels = labels[train_size:]\n",
    "  return train_windows, test_windows, train_labels, test_labels"
   ]
  },
  {
   "cell_type": "code",
   "execution_count": 19,
   "metadata": {},
   "outputs": [
    {
     "data": {
      "text/plain": [
       "(2224, 556, 2224, 556)"
      ]
     },
     "execution_count": 19,
     "metadata": {},
     "output_type": "execute_result"
    }
   ],
   "source": [
    "train_windows, test_windows, train_labels, test_labels = make_train_test_splits(full_windows, full_labels)\n",
    "len(train_windows), len(test_windows), len(train_labels), len(test_labels)"
   ]
  },
  {
   "cell_type": "markdown",
   "metadata": {},
   "source": [
    "### Create ModelCheckpoint"
   ]
  },
  {
   "cell_type": "code",
   "execution_count": 20,
   "metadata": {},
   "outputs": [],
   "source": [
    "def crete_model_checkpoint(model_name, save_path='model_experiment'):\n",
    "    return tf.keras.callbacks.ModelCheckpoint(filepath=os.path.join(save_path, model_name), save_best_only=True, monitor='val_loss')"
   ]
  },
  {
   "cell_type": "markdown",
   "metadata": {},
   "source": [
    "## Model 1 : Dense Model (window = 7, horizon = 1)"
   ]
  },
  {
   "cell_type": "code",
   "execution_count": 21,
   "metadata": {},
   "outputs": [
    {
     "name": "stdout",
     "output_type": "stream",
     "text": [
      "18/18 [==============================] - 0s 4ms/step - loss: 105.7481 - mae: 105.7481 - mse: 68589.9609 - val_loss: 593.0125 - val_mae: 593.0125 - val_mse: 1230072.6250\n",
      "Epoch 88/100\n",
      " 1/18 [>.............................] - ETA: 0s - loss: 133.8444 - mae: 133.8444 - mse: 128483.6562INFO:tensorflow:Assets written to: model_experiment\\dense_model\\assets\n",
      "18/18 [==============================] - 1s 55ms/step - loss: 107.2604 - mae: 107.2604 - mse: 70897.3438 - val_loss: 571.7660 - val_mae: 571.7660 - val_mse: 1182083.1250\n",
      "Epoch 89/100\n",
      " 1/18 [>.............................] - ETA: 0s - loss: 102.2973 - mae: 102.2973 - mse: 59562.4492INFO:tensorflow:Assets written to: model_experiment\\dense_model\\assets\n",
      "18/18 [==============================] - 1s 47ms/step - loss: 106.7823 - mae: 106.7823 - mse: 69118.5469 - val_loss: 568.6370 - val_mae: 568.6370 - val_mse: 1174330.0000\n",
      "Epoch 90/100\n",
      "18/18 [==============================] - 0s 5ms/step - loss: 105.8682 - mae: 105.8682 - mse: 67370.7109 - val_loss: 602.9686 - val_mae: 602.9686 - val_mse: 1230766.5000\n",
      "Epoch 91/100\n",
      "18/18 [==============================] - 0s 4ms/step - loss: 110.6365 - mae: 110.6365 - mse: 72148.0547 - val_loss: 605.6950 - val_mae: 605.6950 - val_mse: 1257884.7500\n",
      "Epoch 92/100\n",
      "18/18 [==============================] - 0s 5ms/step - loss: 109.4669 - mae: 109.4669 - mse: 72193.7969 - val_loss: 572.4371 - val_mae: 572.4371 - val_mse: 1183753.5000\n",
      "Epoch 93/100\n",
      "18/18 [==============================] - 0s 6ms/step - loss: 113.0063 - mae: 113.0063 - mse: 73147.9688 - val_loss: 617.3006 - val_mae: 617.3006 - val_mse: 1284327.6250\n",
      "Epoch 94/100\n",
      "18/18 [==============================] - 0s 8ms/step - loss: 112.4903 - mae: 112.4903 - mse: 73928.3203 - val_loss: 599.9799 - val_mae: 599.9799 - val_mse: 1225949.6250\n",
      "Epoch 95/100\n",
      "18/18 [==============================] - 0s 7ms/step - loss: 106.0053 - mae: 106.0053 - mse: 68764.8672 - val_loss: 570.6210 - val_mae: 570.6210 - val_mse: 1175398.6250\n",
      "Epoch 96/100\n",
      "18/18 [==============================] - 0s 8ms/step - loss: 109.5910 - mae: 109.5910 - mse: 70458.2578 - val_loss: 676.3400 - val_mae: 676.3400 - val_mse: 1426409.6250\n",
      "Epoch 97/100\n",
      "18/18 [==============================] - 0s 7ms/step - loss: 110.2213 - mae: 110.2213 - mse: 72762.1406 - val_loss: 574.2986 - val_mae: 574.2986 - val_mse: 1177001.5000\n",
      "Epoch 98/100\n",
      "18/18 [==============================] - 0s 6ms/step - loss: 106.7290 - mae: 106.7290 - mse: 69964.2578 - val_loss: 576.7735 - val_mae: 576.7735 - val_mse: 1192501.3750\n",
      "Epoch 99/100\n",
      " 1/18 [>.............................] - ETA: 0s - loss: 151.1015 - mae: 151.1015 - mse: 126883.7188INFO:tensorflow:Assets written to: model_experiment\\dense_model\\assets\n",
      "18/18 [==============================] - 1s 46ms/step - loss: 106.9889 - mae: 106.9889 - mse: 70740.2188 - val_loss: 568.5499 - val_mae: 568.5499 - val_mse: 1172587.7500\n",
      "Epoch 100/100\n",
      "18/18 [==============================] - 0s 3ms/step - loss: 117.7622 - mae: 117.7622 - mse: 73195.7734 - val_loss: 662.5317 - val_mae: 662.5317 - val_mse: 1358190.5000\n"
     ]
    }
   ],
   "source": [
    "tf.random.set_seed(42)\n",
    "inputs = keras.Input(shape=(7,), name='input_layers')\n",
    "x = keras.layers.Dense(128, activation='relu')(inputs)\n",
    "outputs = keras.layers.Dense(1)(x)\n",
    "model_1 = keras.Model(inputs, outputs, name='dense_model')\n",
    "\n",
    "model_1.compile(loss='mae', optimizer=tf.keras.optimizers.Adam(), metrics=['mae', 'mse'])\n",
    "hist_1 = model_1.fit(train_windows, train_labels, epochs=100, batch_size=128, validation_data=(test_windows, test_labels),verbose=1, callbacks=[crete_model_checkpoint(model_1.name)])"
   ]
  },
  {
   "cell_type": "code",
   "execution_count": 22,
   "metadata": {},
   "outputs": [
    {
     "name": "stdout",
     "output_type": "stream",
     "text": [
      "Model: \"dense_model\"\n",
      "_________________________________________________________________\n",
      " Layer (type)                Output Shape              Param #   \n",
      "=================================================================\n",
      " input_layers (InputLayer)   [(None, 7)]               0         \n",
      "                                                                 \n",
      " dense (Dense)               (None, 128)               1024      \n",
      "                                                                 \n",
      " dense_1 (Dense)             (None, 1)                 129       \n",
      "                                                                 \n",
      "=================================================================\n",
      "Total params: 1,153\n",
      "Trainable params: 1,153\n",
      "Non-trainable params: 0\n",
      "_________________________________________________________________\n"
     ]
    }
   ],
   "source": [
    "model_1.summary()"
   ]
  },
  {
   "cell_type": "code",
   "execution_count": 23,
   "metadata": {},
   "outputs": [
    {
     "name": "stdout",
     "output_type": "stream",
     "text": [
      "18/18 [==============================] - 0s 2ms/step - loss: 662.5316 - mae: 662.5316 - mse: 1358190.3750\n"
     ]
    },
    {
     "data": {
      "text/plain": [
       "[662.5316162109375, 662.5316162109375, 1358190.375]"
      ]
     },
     "execution_count": 23,
     "metadata": {},
     "output_type": "execute_result"
    }
   ],
   "source": [
    "model_1.evaluate(test_windows, test_labels)"
   ]
  },
  {
   "cell_type": "code",
   "execution_count": 24,
   "metadata": {},
   "outputs": [
    {
     "name": "stdout",
     "output_type": "stream",
     "text": [
      "18/18 [==============================] - 0s 658us/step - loss: 568.5499 - mae: 568.5499 - mse: 1172587.7500\n"
     ]
    },
    {
     "data": {
      "text/plain": [
       "[568.5499267578125, 568.5499267578125, 1172587.75]"
      ]
     },
     "execution_count": 24,
     "metadata": {},
     "output_type": "execute_result"
    }
   ],
   "source": [
    "#load the save best performing model\n",
    "model_1 = keras.models.load_model('model_experiment/dense_model')\n",
    "model_1.evaluate(test_windows, test_labels)"
   ]
  },
  {
   "cell_type": "code",
   "execution_count": 25,
   "metadata": {},
   "outputs": [
    {
     "data": {
      "text/plain": [
       "array([8874.493, 8789.944, 9040.987, 8804.829, 8741.212, 8749.836,\n",
       "       8705.866, 8513.171, 8478.417, 8536.302], dtype=float32)"
      ]
     },
     "execution_count": 25,
     "metadata": {},
     "output_type": "execute_result"
    }
   ],
   "source": [
    "predictions = model_1.predict(test_windows).reshape(-1,)\n",
    "predictions[:10]"
   ]
  },
  {
   "cell_type": "code",
   "execution_count": 26,
   "metadata": {},
   "outputs": [
    {
     "data": {
      "text/plain": [
       "{'mae': 568.5498587262708,\n",
       " 'mse': 1172587.9917035494,\n",
       " 'rmse': 1082.8610214166679,\n",
       " 'mape': 0.025492293493015787,\n",
       " 'mase': 0.9987845236174441}"
      ]
     },
     "execution_count": 26,
     "metadata": {},
     "output_type": "execute_result"
    }
   ],
   "source": [
    "model_1_score = evaluate_score(test_labels.reshape(-1,), predictions)\n",
    "model_1_score"
   ]
  },
  {
   "cell_type": "code",
   "execution_count": 119,
   "metadata": {},
   "outputs": [],
   "source": [
    "def plot_preds(y_true, y_pred, title):\n",
    "    plt.figure(figsize=(10,6))\n",
    "    plt.title(title)\n",
    "    plt.grid(True)\n",
    "    plt.scatter(np.arange(len(y_true)), y_true, s=5, color='blue',label='True')\n",
    "    plt.plot(np.arange(len(y_true)), y_pred, color='orange',label='Prediction')\n",
    "    plt.axis([400, 500, 30000, 50000]);\n",
    "    plt.legend()"
   ]
  },
  {
   "cell_type": "code",
   "execution_count": 120,
   "metadata": {},
   "outputs": [
    {
     "data": {
      "image/png": "[encoded data removed]",
      "text/plain": [
       "<Figure size 720x432 with 1 Axes>"
      ]
     },
     "metadata": {
      "needs_background": "light"
     },
     "output_type": "display_data"
    }
   ],
   "source": [
    "plot_preds(test_labels, predictions, 'Dense Model with 568.55 mae')"
   ]
  },
  {
   "cell_type": "markdown",
   "metadata": {},
   "source": [
    "## Model 2 : window = 30, horizon = 1"
   ]
  },
  {
   "cell_type": "code",
   "execution_count": 103,
   "metadata": {},
   "outputs": [
    {
     "data": {
      "text/plain": [
       "((2205, 30), (552, 30), (2205, 1), (552, 1))"
      ]
     },
     "execution_count": 103,
     "metadata": {},
     "output_type": "execute_result"
    }
   ],
   "source": [
    "full_windows, full_labels = make_windows(prices, 30, 1)\n",
    "train_windows, test_windows, train_labels, test_labels =  make_train_test_splits(full_windows, full_labels) \n",
    "train_windows.shape, test_windows.shape, train_labels.shape, test_labels.shape"
   ]
  },
  {
   "cell_type": "code",
   "execution_count": 107,
   "metadata": {},
   "outputs": [
    {
     "name": "stdout",
     "output_type": "stream",
     "text": [
      "18/18 [==============================] - 0s 7ms/step - loss: 136.7051 - mae: 136.7051 - mse: 91279.4375 - val_loss: 976.8763 - val_mae: 976.8763 - val_mse: 2397687.7500\n",
      "Epoch 90/100\n",
      "17/18 [===========================>..] - ETA: 0s - loss: 121.5922 - mae: 121.5922 - mse: 78381.0391INFO:tensorflow:Assets written to: model_experiment\\model_2_30_windows\\assets\n",
      "18/18 [==============================] - 1s 60ms/step - loss: 121.3645 - mae: 121.3645 - mse: 77886.6484 - val_loss: 609.0266 - val_mae: 609.0266 - val_mse: 1240527.5000\n",
      "Epoch 91/100\n",
      "18/18 [==============================] - 0s 6ms/step - loss: 115.8130 - mae: 115.8130 - mse: 73674.9062 - val_loss: 733.7057 - val_mae: 733.7057 - val_mse: 1596269.8750\n",
      "Epoch 92/100\n",
      "18/18 [==============================] - 0s 4ms/step - loss: 113.3364 - mae: 113.3364 - mse: 71596.3828 - val_loss: 703.3085 - val_mae: 703.3085 - val_mse: 1494611.6250\n",
      "Epoch 93/100\n",
      "18/18 [==============================] - 0s 3ms/step - loss: 122.4690 - mae: 122.4690 - mse: 76591.1875 - val_loss: 791.5176 - val_mae: 791.5176 - val_mse: 1777523.5000\n",
      "Epoch 94/100\n",
      "18/18 [==============================] - 0s 5ms/step - loss: 121.7199 - mae: 121.7199 - mse: 76799.1719 - val_loss: 786.2911 - val_mae: 786.2911 - val_mse: 1757227.5000\n",
      "Epoch 95/100\n",
      "18/18 [==============================] - 0s 6ms/step - loss: 128.8158 - mae: 128.8158 - mse: 82681.9062 - val_loss: 613.9791 - val_mae: 613.9791 - val_mse: 1249703.2500\n",
      "Epoch 96/100\n",
      "18/18 [==============================] - 0s 6ms/step - loss: 123.6340 - mae: 123.6340 - mse: 83506.5391 - val_loss: 620.3231 - val_mae: 620.3231 - val_mse: 1281827.1250\n",
      "Epoch 97/100\n",
      "18/18 [==============================] - 0s 7ms/step - loss: 114.7877 - mae: 114.7877 - mse: 74899.3047 - val_loss: 713.2029 - val_mae: 713.2029 - val_mse: 1579289.8750\n",
      "Epoch 98/100\n",
      "18/18 [==============================] - 0s 6ms/step - loss: 120.1065 - mae: 120.1065 - mse: 76322.3281 - val_loss: 613.5546 - val_mae: 613.5546 - val_mse: 1244884.6250\n",
      "Epoch 99/100\n",
      "18/18 [==============================] - 0s 6ms/step - loss: 114.7070 - mae: 114.7070 - mse: 72437.8125 - val_loss: 908.3955 - val_mae: 908.3955 - val_mse: 2280929.5000\n",
      "Epoch 100/100\n",
      "18/18 [==============================] - 0s 7ms/step - loss: 121.0055 - mae: 121.0055 - mse: 81839.0000 - val_loss: 628.9485 - val_mae: 628.9485 - val_mse: 1308321.2500\n",
      "Model: \"model_2_30_windows\"\n",
      "_________________________________________________________________\n",
      " Layer (type)                Output Shape              Param #   \n",
      "=================================================================\n",
      " input_layers (InputLayer)   [(None, 30)]              0         \n",
      "                                                                 \n",
      " dense_6 (Dense)             (None, 128)               3968      \n",
      "                                                                 \n",
      " dense_7 (Dense)             (None, 1)                 129       \n",
      "                                                                 \n",
      "=================================================================\n",
      "Total params: 4,097\n",
      "Trainable params: 4,097\n",
      "Non-trainable params: 0\n",
      "_________________________________________________________________\n"
     ]
    }
   ],
   "source": [
    "inputs = keras.Input(shape=(30,), name='input_layers')\n",
    "x = keras.layers.Dense(128, activation='relu')(inputs)\n",
    "outputs = keras.layers.Dense(1)(x)\n",
    "model_2 = keras.Model(inputs, outputs, name='model_2_30_windows')\n",
    "\n",
    "model_2.compile(loss='mae', optimizer=tf.keras.optimizers.Adam(), metrics=['mae', 'mse'])\n",
    "hist_2 = model_2.fit(train_windows, train_labels, epochs=100, batch_size=128, validation_data=(test_windows, test_labels),verbose=1, callbacks=[crete_model_checkpoint(model_2.name)])\n",
    "model_2.summary()"
   ]
  },
  {
   "cell_type": "code",
   "execution_count": 110,
   "metadata": {},
   "outputs": [
    {
     "name": "stdout",
     "output_type": "stream",
     "text": [
      "18/18 [==============================] - 0s 2ms/step - loss: 628.9485 - mae: 628.9485 - mse: 1308321.3750\n",
      "[628.9485473632812, 628.9485473632812, 1308321.375]\n",
      "18/18 [==============================] - 0s 1ms/step - loss: 609.0266 - mae: 609.0266 - mse: 1240527.5000\n",
      "[609.0265502929688, 609.0265502929688, 1240527.5]\n"
     ]
    }
   ],
   "source": [
    "print(model_2.evaluate(test_windows, test_labels))\n",
    "model_2 = keras.models.load_model('model_experiment\\model_2_30_windows')\n",
    "print(model_2.evaluate(test_windows, test_labels))"
   ]
  },
  {
   "cell_type": "code",
   "execution_count": 111,
   "metadata": {},
   "outputs": [],
   "source": [
    "predictions = model_2.predict(test_windows)"
   ]
  },
  {
   "cell_type": "code",
   "execution_count": 113,
   "metadata": {},
   "outputs": [
    {
     "data": {
      "text/plain": [
       "{'mae': 609.026511713428,\n",
       " 'mse': 1240527.5607729736,\n",
       " 'rmse': 1113.7897291558104,\n",
       " 'mape': 0.027580984405266695,\n",
       " 'mase': 1.0645842295459536}"
      ]
     },
     "execution_count": 113,
     "metadata": {},
     "output_type": "execute_result"
    }
   ],
   "source": [
    "model_2_score = evaluate_score(test_labels, predictions)\n",
    "model_2_score"
   ]
  },
  {
   "cell_type": "code",
   "execution_count": 122,
   "metadata": {},
   "outputs": [
    {
     "data": {
      "image/png": "[encoded data removed]",
      "text/plain": [
       "<Figure size 720x432 with 1 Axes>"
      ]
     },
     "metadata": {
      "needs_background": "light"
     },
     "output_type": "display_data"
    }
   ],
   "source": [
    "plot_preds(test_labels, predictions, 'Window30 model 609.02 mae')"
   ]
  },
  {
   "cell_type": "markdown",
   "metadata": {},
   "source": [
    "## Model 3 : Dense (window = 30, horizon = 7)"
   ]
  },
  {
   "cell_type": "code",
   "execution_count": 136,
   "metadata": {},
   "outputs": [
    {
     "data": {
      "text/plain": [
       "((2200, 30), (551, 30), (2200, 7), (551, 7))"
      ]
     },
     "execution_count": 136,
     "metadata": {},
     "output_type": "execute_result"
    }
   ],
   "source": [
    "full_windows, full_labels = make_windows(prices, 30, 7)\n",
    "train_windows, test_windows, train_labels, test_labels =  make_train_test_splits(full_windows, full_labels) \n",
    "train_windows.shape, test_windows.shape, train_labels.shape, test_labels.shape"
   ]
  },
  {
   "cell_type": "code",
   "execution_count": 144,
   "metadata": {},
   "outputs": [
    {
     "name": "stdout",
     "output_type": "stream",
     "text": [
      "18/18 [==============================] - 1s 41ms/step - loss: 234.4290 - mae: 234.4290 - mse: 284633.3125 - val_loss: 1293.9352 - val_mae: 1293.9352 - val_mse: 5741958.5000\n",
      "Epoch 72/100\n",
      " 1/18 [>.............................] - ETA: 0s - loss: 276.0633 - mae: 276.0633 - mse: 426538.3750INFO:tensorflow:Assets written to: model_experiment\\model_3_30_windows_7_horizon\\assets\n",
      "18/18 [==============================] - 1s 33ms/step - loss: 230.8540 - mae: 230.8540 - mse: 274532.5000 - val_loss: 1280.1530 - val_mae: 1280.1530 - val_mse: 5655746.0000\n",
      "Epoch 73/100\n",
      "18/18 [==============================] - 0s 3ms/step - loss: 227.3715 - mae: 227.3715 - mse: 271087.8125 - val_loss: 1305.5703 - val_mae: 1305.5703 - val_mse: 5825552.0000\n",
      "Epoch 74/100\n",
      "18/18 [==============================] - 0s 3ms/step - loss: 230.9245 - mae: 230.9245 - mse: 278803.7500 - val_loss: 1341.7219 - val_mae: 1341.7219 - val_mse: 5923718.5000\n",
      "Epoch 75/100\n",
      "18/18 [==============================] - 0s 3ms/step - loss: 230.8542 - mae: 230.8542 - mse: 273060.1875 - val_loss: 1501.7456 - val_mae: 1501.7456 - val_mse: 6683133.0000\n",
      "Epoch 76/100\n",
      "18/18 [==============================] - 0s 3ms/step - loss: 230.9980 - mae: 230.9980 - mse: 272819.2188 - val_loss: 1304.3406 - val_mae: 1304.3406 - val_mse: 5769005.0000\n",
      "Epoch 77/100\n",
      "18/18 [==============================] - 0s 3ms/step - loss: 232.1186 - mae: 232.1186 - mse: 276037.6562 - val_loss: 1350.7043 - val_mae: 1350.7043 - val_mse: 5900051.5000\n",
      "Epoch 78/100\n",
      "18/18 [==============================] - 0s 3ms/step - loss: 231.1172 - mae: 231.1172 - mse: 272412.4062 - val_loss: 1309.0907 - val_mae: 1309.0907 - val_mse: 5794438.0000\n",
      "Epoch 79/100\n",
      "18/18 [==============================] - 0s 3ms/step - loss: 238.5345 - mae: 238.5345 - mse: 279354.5625 - val_loss: 1386.9371 - val_mae: 1386.9371 - val_mse: 6069999.5000\n",
      "Epoch 80/100\n",
      "18/18 [==============================] - 0s 3ms/step - loss: 238.0500 - mae: 238.0500 - mse: 281973.1562 - val_loss: 1327.2550 - val_mae: 1327.2550 - val_mse: 5818861.5000\n",
      "Epoch 81/100\n",
      "18/18 [==============================] - 0s 3ms/step - loss: 235.8537 - mae: 235.8537 - mse: 280136.2812 - val_loss: 1396.2507 - val_mae: 1396.2507 - val_mse: 6371015.0000\n",
      "Epoch 82/100\n",
      "18/18 [==============================] - 0s 3ms/step - loss: 232.5210 - mae: 232.5210 - mse: 271387.4375 - val_loss: 1351.0333 - val_mae: 1351.0333 - val_mse: 5924332.0000\n",
      "Epoch 83/100\n",
      "18/18 [==============================] - 0s 3ms/step - loss: 235.2011 - mae: 235.2011 - mse: 278448.5312 - val_loss: 1310.7400 - val_mae: 1310.7400 - val_mse: 5816954.5000\n",
      "Epoch 84/100\n",
      "18/18 [==============================] - 0s 3ms/step - loss: 229.9515 - mae: 229.9515 - mse: 269263.1875 - val_loss: 1286.0745 - val_mae: 1286.0745 - val_mse: 5736910.0000\n",
      "Epoch 85/100\n",
      "18/18 [==============================] - 0s 3ms/step - loss: 226.1746 - mae: 226.1746 - mse: 264351.0625 - val_loss: 1312.1111 - val_mae: 1312.1111 - val_mse: 5772318.5000\n",
      "Epoch 86/100\n",
      "18/18 [==============================] - 0s 2ms/step - loss: 225.6057 - mae: 225.6057 - mse: 265941.4062 - val_loss: 1370.8977 - val_mae: 1370.8977 - val_mse: 6073905.5000\n",
      "Epoch 87/100\n",
      "18/18 [==============================] - 0s 3ms/step - loss: 233.5721 - mae: 233.5721 - mse: 272931.1562 - val_loss: 1328.9850 - val_mae: 1328.9850 - val_mse: 5840854.0000\n",
      "Epoch 88/100\n",
      "18/18 [==============================] - 0s 2ms/step - loss: 231.4306 - mae: 231.4306 - mse: 271943.8750 - val_loss: 1631.6787 - val_mae: 1631.6787 - val_mse: 7378859.5000\n",
      "Epoch 89/100\n",
      "18/18 [==============================] - 0s 3ms/step - loss: 234.9801 - mae: 234.9801 - mse: 273001.4062 - val_loss: 1319.3965 - val_mae: 1319.3965 - val_mse: 5818665.5000\n",
      "Epoch 90/100\n",
      "18/18 [==============================] - 0s 3ms/step - loss: 233.4594 - mae: 233.4594 - mse: 274779.9062 - val_loss: 1322.6356 - val_mae: 1322.6356 - val_mse: 5813573.0000\n",
      "Epoch 91/100\n",
      " 1/18 [>.............................] - ETA: 0s - loss: 212.8066 - mae: 212.8066 - mse: 243142.7500INFO:tensorflow:Assets written to: model_experiment\\model_3_30_windows_7_horizon\\assets\n",
      "18/18 [==============================] - 1s 32ms/step - loss: 230.3897 - mae: 230.3897 - mse: 267398.2812 - val_loss: 1277.3967 - val_mae: 1277.3967 - val_mse: 5636687.5000\n",
      "Epoch 92/100\n",
      " 1/18 [>.............................] - ETA: 0s - loss: 210.9181 - mae: 210.9181 - mse: 190723.1406INFO:tensorflow:Assets written to: model_experiment\\model_3_30_windows_7_horizon\\assets\n",
      "18/18 [==============================] - 1s 45ms/step - loss: 225.7252 - mae: 225.7252 - mse: 264574.6562 - val_loss: 1270.1888 - val_mae: 1270.1888 - val_mse: 5764379.5000\n",
      "Epoch 93/100\n",
      "18/18 [==============================] - 0s 3ms/step - loss: 227.5657 - mae: 227.5657 - mse: 265853.1875 - val_loss: 1390.0992 - val_mae: 1390.0992 - val_mse: 6031754.0000\n",
      "Epoch 94/100\n",
      "18/18 [==============================] - 0s 3ms/step - loss: 230.4083 - mae: 230.4083 - mse: 266431.9688 - val_loss: 1325.7384 - val_mae: 1325.7384 - val_mse: 5792306.5000\n",
      "Epoch 95/100\n",
      "18/18 [==============================] - 0s 3ms/step - loss: 228.5114 - mae: 228.5114 - mse: 265129.0625 - val_loss: 1300.4185 - val_mae: 1300.4185 - val_mse: 5758691.0000\n",
      "Epoch 96/100\n",
      "18/18 [==============================] - 0s 3ms/step - loss: 234.2600 - mae: 234.2600 - mse: 272697.3125 - val_loss: 1551.7445 - val_mae: 1551.7445 - val_mse: 7113898.0000\n",
      "Epoch 97/100\n",
      "18/18 [==============================] - 0s 3ms/step - loss: 256.3025 - mae: 256.3025 - mse: 300227.5938 - val_loss: 1528.8616 - val_mae: 1528.8616 - val_mse: 6733582.5000\n",
      "Epoch 98/100\n",
      "18/18 [==============================] - 0s 3ms/step - loss: 235.8867 - mae: 235.8867 - mse: 271652.0625 - val_loss: 1390.4091 - val_mae: 1390.4091 - val_mse: 6057611.5000\n",
      "Epoch 99/100\n",
      "18/18 [==============================] - 0s 3ms/step - loss: 228.5359 - mae: 228.5359 - mse: 263748.5312 - val_loss: 1276.4724 - val_mae: 1276.4724 - val_mse: 5643876.5000\n",
      "Epoch 100/100\n",
      "18/18 [==============================] - 0s 3ms/step - loss: 224.2890 - mae: 224.2890 - mse: 264522.1875 - val_loss: 1481.9397 - val_mae: 1481.9397 - val_mse: 6551975.5000\n",
      "Model: \"model_3_30_windows_7_horizon\"\n",
      "_________________________________________________________________\n",
      " Layer (type)                Output Shape              Param #   \n",
      "=================================================================\n",
      " input_layers (InputLayer)   [(None, 30)]              0         \n",
      "                                                                 \n",
      " dense_16 (Dense)            (None, 128)               3968      \n",
      "                                                                 \n",
      " dense_17 (Dense)            (None, 7)                 903       \n",
      "                                                                 \n",
      "=================================================================\n",
      "Total params: 4,871\n",
      "Trainable params: 4,871\n",
      "Non-trainable params: 0\n",
      "_________________________________________________________________\n"
     ]
    }
   ],
   "source": [
    "inputs = keras.Input(shape=(30,), name='input_layers')\n",
    "x = keras.layers.Dense(128, activation='relu')(inputs)\n",
    "outputs = keras.layers.Dense(7)(x)\n",
    "model_3 = keras.Model(inputs, outputs, name='model_3_30_windows_7_horizon')\n",
    "\n",
    "model_3.compile(loss='mae', optimizer=tf.keras.optimizers.Adam(), metrics=['mae', 'mse'])\n",
    "hist_3 = model_3.fit(train_windows, train_labels, epochs=100, batch_size=128, validation_data=(test_windows, test_labels),verbose=1, callbacks=[crete_model_checkpoint(model_3.name)])\n",
    "model_3.summary()"
   ]
  },
  {
   "cell_type": "code",
   "execution_count": 149,
   "metadata": {},
   "outputs": [
    {
     "name": "stdout",
     "output_type": "stream",
     "text": [
      "18/18 [==============================] - 0s 1ms/step - loss: 1270.1888 - mae: 1270.1888 - mse: 5764380.0000\n",
      "[1270.1888427734375, 1270.1888427734375, 5764380.0]\n",
      "18/18 [==============================] - 0s 814us/step - loss: 1270.1888 - mae: 1270.1888 - mse: 5764380.0000\n",
      "[1270.1888427734375, 1270.1888427734375, 5764380.0]\n"
     ]
    }
   ],
   "source": [
    "print(model_3.evaluate(test_windows, test_labels))\n",
    "model_3 = keras.models.load_model('model_experiment\\model_3_30_windows_7_horizon')\n",
    "print(model_3.evaluate(test_windows, test_labels))"
   ]
  },
  {
   "cell_type": "code",
   "execution_count": 153,
   "metadata": {},
   "outputs": [],
   "source": [
    "predictions = model_3.predict(test_windows)"
   ]
  },
  {
   "cell_type": "code",
   "execution_count": 154,
   "metadata": {},
   "outputs": [
    {
     "data": {
      "text/plain": [
       "{'mae': 1270.18884742303,\n",
       " 'mse': 5764379.044027716,\n",
       " 'rmse': 2400.91212751065,\n",
       " 'mape': 0.05748978178182786,\n",
       " 'mase': 2.26022985826414}"
      ]
     },
     "execution_count": 154,
     "metadata": {},
     "output_type": "execute_result"
    }
   ],
   "source": [
    "model_3_score = evaluate_score(test_labels, predictions)\n",
    "model_3_score"
   ]
  },
  {
   "cell_type": "markdown",
   "metadata": {},
   "source": [
    "## Model 4 : Conv1D (window = 7, horizon = 1)"
   ]
  },
  {
   "cell_type": "code",
   "execution_count": 242,
   "metadata": {},
   "outputs": [
    {
     "data": {
      "text/plain": [
       "((2224, 7), (556, 7), (2224, 1), (556, 1))"
      ]
     },
     "execution_count": 242,
     "metadata": {},
     "output_type": "execute_result"
    }
   ],
   "source": [
    "full_windows, full_labels = make_windows(prices, 7, 1)\n",
    "train_windows, test_windows, train_labels, test_labels =  make_train_test_splits(full_windows, full_labels) \n",
    "train_windows.shape, test_windows.shape, train_labels.shape, test_labels.shape"
   ]
  },
  {
   "cell_type": "code",
   "execution_count": null,
   "metadata": {},
   "outputs": [],
   "source": [
    "inputs = keras.Input(shape=(7,), name='input_layers')\n",
    "x = keras.layers.Lambda(lambda z : tf.expand_dims(z, axis=1))(inputs) # expand to 2D array \n",
    "x = keras.layers.Conv1D(filters=128, kernel_size=5, activation='relu', padding='causal')(x)\n",
    "x = keras.layers.Dense(32)(x)\n",
    "outputs = keras.layers.Dense(1)(x)\n",
    "model_4 = keras.Model(inputs, outputs, name='model_4_conv1D')\n",
    "\n",
    "model_4.compile(loss='mae', optimizer=tf.keras.optimizers.Adam(), metrics=['mae', 'mse'])\n",
    "hist_4 = model_4.fit(train_windows, train_labels, epochs=100, batch_size=128, validation_data=(test_windows, test_labels),verbose=0, callbacks=[crete_model_checkpoint(model_4.name)])"
   ]
  },
  {
   "cell_type": "code",
   "execution_count": 244,
   "metadata": {},
   "outputs": [
    {
     "name": "stdout",
     "output_type": "stream",
     "text": [
      "Model: \"model_4_conv1D\"\n",
      "_________________________________________________________________\n",
      " Layer (type)                Output Shape              Param #   \n",
      "=================================================================\n",
      " input_layers (InputLayer)   [(None, 7)]               0         \n",
      "                                                                 \n",
      " lambda_34 (Lambda)          (None, 1, 7)              0         \n",
      "                                                                 \n",
      " conv1d_33 (Conv1D)          (None, 1, 128)            4608      \n",
      "                                                                 \n",
      " dense_31 (Dense)            (None, 1, 32)             4128      \n",
      "                                                                 \n",
      " dense_32 (Dense)            (None, 1, 1)              33        \n",
      "                                                                 \n",
      "=================================================================\n",
      "Total params: 8,769\n",
      "Trainable params: 8,769\n",
      "Non-trainable params: 0\n",
      "_________________________________________________________________\n"
     ]
    }
   ],
   "source": [
    "model_4.summary()"
   ]
  },
  {
   "cell_type": "code",
   "execution_count": 249,
   "metadata": {},
   "outputs": [
    {
     "name": "stdout",
     "output_type": "stream",
     "text": [
      "18/18 [==============================] - 0s 1ms/step - loss: 582.3776 - mae: 582.3776 - mse: 1189357.8750\n",
      "[582.3775634765625, 582.3775634765625, 1189357.875]\n",
      "18/18 [==============================] - 0s 1ms/step - loss: 569.6910 - mae: 569.6910 - mse: 1173666.0000\n",
      "[569.6910400390625, 569.6910400390625, 1173666.0]\n"
     ]
    }
   ],
   "source": [
    "print(model_4.evaluate(test_windows, test_labels))\n",
    "model_4 = keras.models.load_model('model_experiment\\model_4_conv1D')\n",
    "print(model_4.evaluate(test_windows, test_labels))"
   ]
  },
  {
   "cell_type": "code",
   "execution_count": 273,
   "metadata": {},
   "outputs": [],
   "source": [
    "y_preds = model_4.predict(test_windows).reshape(-1,1) #shape must be the same"
   ]
  },
  {
   "cell_type": "code",
   "execution_count": 274,
   "metadata": {},
   "outputs": [
    {
     "data": {
      "text/plain": [
       "{'mae': 569.6910569607248,\n",
       " 'mse': 1173666.0247214397,\n",
       " 'rmse': 1083.3586777800967,\n",
       " 'mape': 0.025421689903713362,\n",
       " 'mase': 1.0007892926231137}"
      ]
     },
     "execution_count": 274,
     "metadata": {},
     "output_type": "execute_result"
    }
   ],
   "source": [
    "model_4_score = evaluate_score(test_labels, y_preds) \n",
    "model_4_score"
   ]
  },
  {
   "cell_type": "markdown",
   "metadata": {},
   "source": [
    "## Model 5 : RNN (LSTM)"
   ]
  },
  {
   "cell_type": "code",
   "execution_count": null,
   "metadata": {},
   "outputs": [],
   "source": [
    "tf.random.set_seed(42)\n",
    "\n",
    "inputs = keras.Input(shape=(7,), name='input_layer')\n",
    "x = keras.layers.Lambda(lambda z : tf.expand_dims(z, axis=1))(inputs)\n",
    "x = keras.layers.LSTM(128, activation='relu')(x)\n",
    "x = keras.layers.Dense(32, activation='relu')(x)\n",
    "outputs = keras.layers.Dense(1,)(x)\n",
    "model_5 = keras.Model(inputs, outputs, name='model_5_LSTM')\n",
    "\n",
    "model_5.compile(loss='mae', optimizer=tf.keras.optimizers.Adam(), metrics=['mae', 'mse'])\n",
    "hist_5 = model_5.fit(train_windows, train_labels, epochs=100, batch_size=128, validation_data=(test_windows, test_labels),verbose=1, callbacks=[crete_model_checkpoint(model_5.name)])"
   ]
  },
  {
   "cell_type": "code",
   "execution_count": 279,
   "metadata": {},
   "outputs": [
    {
     "name": "stdout",
     "output_type": "stream",
     "text": [
      "Model: \"model_5_LSTM\"\n",
      "_________________________________________________________________\n",
      " Layer (type)                Output Shape              Param #   \n",
      "=================================================================\n",
      " input_layer (InputLayer)    [(None, 7)]               0         \n",
      "                                                                 \n",
      " lambda_37 (Lambda)          (None, 1, 7)              0         \n",
      "                                                                 \n",
      " lstm_3 (LSTM)               (None, 128)               69632     \n",
      "                                                                 \n",
      " dense_37 (Dense)            (None, 32)                4128      \n",
      "                                                                 \n",
      " dense_38 (Dense)            (None, 1)                 33        \n",
      "                                                                 \n",
      "=================================================================\n",
      "Total params: 73,793\n",
      "Trainable params: 73,793\n",
      "Non-trainable params: 0\n",
      "_________________________________________________________________\n"
     ]
    }
   ],
   "source": [
    "model_5.summary()"
   ]
  },
  {
   "cell_type": "code",
   "execution_count": 281,
   "metadata": {},
   "outputs": [
    {
     "name": "stdout",
     "output_type": "stream",
     "text": [
      "18/18 [==============================] - 0s 2ms/step - loss: 613.2130 - mae: 613.2130 - mse: 1257102.8750\n",
      "[613.2130126953125, 613.2130126953125, 1257102.875]\n",
      "18/18 [==============================] - 0s 2ms/step - loss: 577.3130 - mae: 577.3130 - mse: 1197437.6250\n",
      "[577.31298828125, 577.31298828125, 1197437.625]\n"
     ]
    }
   ],
   "source": [
    "print(model_5.evaluate(test_windows, test_labels))\n",
    "model_5 = keras.models.load_model('model_experiment\\model_5_LSTM')\n",
    "print(model_5.evaluate(test_windows, test_labels))"
   ]
  },
  {
   "cell_type": "code",
   "execution_count": 282,
   "metadata": {},
   "outputs": [
    {
     "data": {
      "text/plain": [
       "{'mae': 577.3130479666248,\n",
       " 'mse': 1197437.8175510122,\n",
       " 'rmse': 1094.2750191569814,\n",
       " 'mape': 0.0259421916372879,\n",
       " 'mase': 1.0141790183243902}"
      ]
     },
     "execution_count": 282,
     "metadata": {},
     "output_type": "execute_result"
    }
   ],
   "source": [
    "y_preds = model_5.predict(test_windows).reshape(-1,1) #shape must be the same\n",
    "model_5_score = evaluate_score(test_labels, y_preds) \n",
    "model_5_score"
   ]
  },
  {
   "cell_type": "markdown",
   "metadata": {},
   "source": [
    "## Make a Multivariate time series dataset\n",
    "what is influence BTC price ? (BTC halving event ?)"
   ]
  },
  {
   "cell_type": "markdown",
   "metadata": {},
   "source": [
    "<img src=\"https://www.investopedia.com/thmb/URup7guRB6Eibv5qOXs7pTv0gDQ=/660x0/filters:no_upscale():max_bytes(150000):strip_icc():format(webp)/BlockReward-5c0ad88946e0fb0001af7198.png\" width=500px/>"
   ]
  },
  {
   "cell_type": "code",
   "execution_count": 428,
   "metadata": {},
   "outputs": [],
   "source": [
    "block_reward_1 = 50 # 9 jan 09 # not in our dataset\n",
    "block_reward_2 = 25 # 28 nov 12\n",
    "block_reward_3 = 25/2 # 9 july 16\n",
    "block_reward_4 = 25/4 # 11 may 20\n",
    "\n",
    "#block reward dates\n",
    "block_reward_2date = np.datetime64('2012-11-28')\n",
    "block_reward_3date = np.datetime64('2016-07-09')\n",
    "block_reward_4date = np.datetime64('2020-05-11')"
   ]
  },
  {
   "cell_type": "code",
   "execution_count": 429,
   "metadata": {},
   "outputs": [
    {
     "data": {
      "text/html": [
       "<div>\n",
       "<style scoped>\n",
       "    .dataframe tbody tr th:only-of-type {\n",
       "        vertical-align: middle;\n",
       "    }\n",
       "\n",
       "    .dataframe tbody tr th {\n",
       "        vertical-align: top;\n",
       "    }\n",
       "\n",
       "    .dataframe thead th {\n",
       "        text-align: right;\n",
       "    }\n",
       "</style>\n",
       "<table border=\"1\" class=\"dataframe\">\n",
       "  <thead>\n",
       "    <tr style=\"text-align: right;\">\n",
       "      <th></th>\n",
       "      <th>Price</th>\n",
       "      <th>block_reward</th>\n",
       "    </tr>\n",
       "    <tr>\n",
       "      <th>Date</th>\n",
       "      <th></th>\n",
       "      <th></th>\n",
       "    </tr>\n",
       "  </thead>\n",
       "  <tbody>\n",
       "    <tr>\n",
       "      <th>2013-10-01</th>\n",
       "      <td>123.65499</td>\n",
       "      <td>25.0</td>\n",
       "    </tr>\n",
       "    <tr>\n",
       "      <th>2013-10-02</th>\n",
       "      <td>125.45500</td>\n",
       "      <td>25.0</td>\n",
       "    </tr>\n",
       "    <tr>\n",
       "      <th>2013-10-03</th>\n",
       "      <td>108.58483</td>\n",
       "      <td>25.0</td>\n",
       "    </tr>\n",
       "    <tr>\n",
       "      <th>2013-10-04</th>\n",
       "      <td>118.67466</td>\n",
       "      <td>25.0</td>\n",
       "    </tr>\n",
       "    <tr>\n",
       "      <th>2013-10-05</th>\n",
       "      <td>121.33866</td>\n",
       "      <td>25.0</td>\n",
       "    </tr>\n",
       "  </tbody>\n",
       "</table>\n",
       "</div>"
      ],
      "text/plain": [
       "                Price  block_reward\n",
       "Date                               \n",
       "2013-10-01  123.65499          25.0\n",
       "2013-10-02  125.45500          25.0\n",
       "2013-10-03  108.58483          25.0\n",
       "2013-10-04  118.67466          25.0\n",
       "2013-10-05  121.33866          25.0"
      ]
     },
     "execution_count": 429,
     "metadata": {},
     "output_type": "execute_result"
    }
   ],
   "source": [
    "bitcoin_prices.head()"
   ]
  },
  {
   "cell_type": "code",
   "execution_count": 430,
   "metadata": {},
   "outputs": [
    {
     "name": "stdout",
     "output_type": "stream",
     "text": [
      "1012\n",
      "2414\n"
     ]
    }
   ],
   "source": [
    "print(np.argmax(bitcoin_prices.index == block_reward_3date))\n",
    "print(np.argmax(bitcoin_prices.index == block_reward_4date))"
   ]
  },
  {
   "cell_type": "code",
   "execution_count": 431,
   "metadata": {},
   "outputs": [
    {
     "name": "stderr",
     "output_type": "stream",
     "text": [
      "c:\\Users\\alant\\AppData\\Local\\Programs\\Python\\Python310\\lib\\site-packages\\pandas\\core\\indexing.py:1732: SettingWithCopyWarning: \n",
      "A value is trying to be set on a copy of a slice from a DataFrame\n",
      "\n",
      "See the caveats in the documentation: https://pandas.pydata.org/pandas-docs/stable/user_guide/indexing.html#returning-a-view-versus-a-copy\n",
      "  self._setitem_single_block(indexer, value, name)\n"
     ]
    }
   ],
   "source": [
    "bitcoin_prices['block_reward'] = 0 # add for index easier\n",
    "bitcoin_prices['block_reward'].iloc[:1012] = block_reward_2\n",
    "bitcoin_prices['block_reward'].iloc[1012:2414] = block_reward_3\n",
    "bitcoin_prices['block_reward'].iloc[2414:] = block_reward_4"
   ]
  },
  {
   "cell_type": "code",
   "execution_count": 432,
   "metadata": {},
   "outputs": [
    {
     "data": {
      "text/html": [
       "<div>\n",
       "<style scoped>\n",
       "    .dataframe tbody tr th:only-of-type {\n",
       "        vertical-align: middle;\n",
       "    }\n",
       "\n",
       "    .dataframe tbody tr th {\n",
       "        vertical-align: top;\n",
       "    }\n",
       "\n",
       "    .dataframe thead th {\n",
       "        text-align: right;\n",
       "    }\n",
       "</style>\n",
       "<table border=\"1\" class=\"dataframe\">\n",
       "  <thead>\n",
       "    <tr style=\"text-align: right;\">\n",
       "      <th></th>\n",
       "      <th>Price</th>\n",
       "      <th>block_reward</th>\n",
       "    </tr>\n",
       "    <tr>\n",
       "      <th>Date</th>\n",
       "      <th></th>\n",
       "      <th></th>\n",
       "    </tr>\n",
       "  </thead>\n",
       "  <tbody>\n",
       "    <tr>\n",
       "      <th>2013-10-01</th>\n",
       "      <td>123.654990</td>\n",
       "      <td>25.00</td>\n",
       "    </tr>\n",
       "    <tr>\n",
       "      <th>2014-07-28</th>\n",
       "      <td>580.110000</td>\n",
       "      <td>25.00</td>\n",
       "    </tr>\n",
       "    <tr>\n",
       "      <th>2015-05-24</th>\n",
       "      <td>239.798500</td>\n",
       "      <td>25.00</td>\n",
       "    </tr>\n",
       "    <tr>\n",
       "      <th>2016-03-19</th>\n",
       "      <td>407.473000</td>\n",
       "      <td>25.00</td>\n",
       "    </tr>\n",
       "    <tr>\n",
       "      <th>2017-01-13</th>\n",
       "      <td>784.893750</td>\n",
       "      <td>12.50</td>\n",
       "    </tr>\n",
       "    <tr>\n",
       "      <th>2017-11-09</th>\n",
       "      <td>7342.823750</td>\n",
       "      <td>12.50</td>\n",
       "    </tr>\n",
       "    <tr>\n",
       "      <th>2018-09-05</th>\n",
       "      <td>7361.271864</td>\n",
       "      <td>12.50</td>\n",
       "    </tr>\n",
       "    <tr>\n",
       "      <th>2019-07-02</th>\n",
       "      <td>10454.683818</td>\n",
       "      <td>12.50</td>\n",
       "    </tr>\n",
       "    <tr>\n",
       "      <th>2020-04-27</th>\n",
       "      <td>7624.853786</td>\n",
       "      <td>12.50</td>\n",
       "    </tr>\n",
       "    <tr>\n",
       "      <th>2021-02-21</th>\n",
       "      <td>54801.648644</td>\n",
       "      <td>6.25</td>\n",
       "    </tr>\n",
       "  </tbody>\n",
       "</table>\n",
       "</div>"
      ],
      "text/plain": [
       "                   Price  block_reward\n",
       "Date                                  \n",
       "2013-10-01    123.654990         25.00\n",
       "2014-07-28    580.110000         25.00\n",
       "2015-05-24    239.798500         25.00\n",
       "2016-03-19    407.473000         25.00\n",
       "2017-01-13    784.893750         12.50\n",
       "2017-11-09   7342.823750         12.50\n",
       "2018-09-05   7361.271864         12.50\n",
       "2019-07-02  10454.683818         12.50\n",
       "2020-04-27   7624.853786         12.50\n",
       "2021-02-21  54801.648644          6.25"
      ]
     },
     "execution_count": 432,
     "metadata": {},
     "output_type": "execute_result"
    }
   ],
   "source": [
    "bitcoin_prices[::300]"
   ]
  },
  {
   "cell_type": "code",
   "execution_count": 433,
   "metadata": {},
   "outputs": [
    {
     "data": {
      "image/png": "[encoded data removed]",
      "text/plain": [
       "<Figure size 720x504 with 1 Axes>"
      ]
     },
     "metadata": {
      "needs_background": "light"
     },
     "output_type": "display_data"
    }
   ],
   "source": [
    "from sklearn.preprocessing import minmax_scale\n",
    "\n",
    "bitcoin_scale = pd.DataFrame(minmax_scale(bitcoin_prices[['Price', 'block_reward']]), columns=bitcoin_prices.columns, index=bitcoin_prices.index)\n",
    "bitcoin_scale.plot(figsize=(10,7));"
   ]
  },
  {
   "cell_type": "code",
   "execution_count": 434,
   "metadata": {},
   "outputs": [
    {
     "data": {
      "text/html": [
       "<div>\n",
       "<style scoped>\n",
       "    .dataframe tbody tr th:only-of-type {\n",
       "        vertical-align: middle;\n",
       "    }\n",
       "\n",
       "    .dataframe tbody tr th {\n",
       "        vertical-align: top;\n",
       "    }\n",
       "\n",
       "    .dataframe thead th {\n",
       "        text-align: right;\n",
       "    }\n",
       "</style>\n",
       "<table border=\"1\" class=\"dataframe\">\n",
       "  <thead>\n",
       "    <tr style=\"text-align: right;\">\n",
       "      <th></th>\n",
       "      <th>Price</th>\n",
       "      <th>block_reward</th>\n",
       "      <th>Price+1</th>\n",
       "      <th>Price+2</th>\n",
       "      <th>Price+3</th>\n",
       "      <th>Price+4</th>\n",
       "      <th>Price+5</th>\n",
       "      <th>Price+6</th>\n",
       "      <th>Price+7</th>\n",
       "    </tr>\n",
       "    <tr>\n",
       "      <th>Date</th>\n",
       "      <th></th>\n",
       "      <th></th>\n",
       "      <th></th>\n",
       "      <th></th>\n",
       "      <th></th>\n",
       "      <th></th>\n",
       "      <th></th>\n",
       "      <th></th>\n",
       "      <th></th>\n",
       "    </tr>\n",
       "  </thead>\n",
       "  <tbody>\n",
       "    <tr>\n",
       "      <th>2013-10-01</th>\n",
       "      <td>123.65499</td>\n",
       "      <td>25.0</td>\n",
       "      <td>NaN</td>\n",
       "      <td>NaN</td>\n",
       "      <td>NaN</td>\n",
       "      <td>NaN</td>\n",
       "      <td>NaN</td>\n",
       "      <td>NaN</td>\n",
       "      <td>NaN</td>\n",
       "    </tr>\n",
       "    <tr>\n",
       "      <th>2013-10-02</th>\n",
       "      <td>125.45500</td>\n",
       "      <td>25.0</td>\n",
       "      <td>123.65499</td>\n",
       "      <td>NaN</td>\n",
       "      <td>NaN</td>\n",
       "      <td>NaN</td>\n",
       "      <td>NaN</td>\n",
       "      <td>NaN</td>\n",
       "      <td>NaN</td>\n",
       "    </tr>\n",
       "    <tr>\n",
       "      <th>2013-10-03</th>\n",
       "      <td>108.58483</td>\n",
       "      <td>25.0</td>\n",
       "      <td>125.45500</td>\n",
       "      <td>123.65499</td>\n",
       "      <td>NaN</td>\n",
       "      <td>NaN</td>\n",
       "      <td>NaN</td>\n",
       "      <td>NaN</td>\n",
       "      <td>NaN</td>\n",
       "    </tr>\n",
       "    <tr>\n",
       "      <th>2013-10-04</th>\n",
       "      <td>118.67466</td>\n",
       "      <td>25.0</td>\n",
       "      <td>108.58483</td>\n",
       "      <td>125.45500</td>\n",
       "      <td>123.65499</td>\n",
       "      <td>NaN</td>\n",
       "      <td>NaN</td>\n",
       "      <td>NaN</td>\n",
       "      <td>NaN</td>\n",
       "    </tr>\n",
       "    <tr>\n",
       "      <th>2013-10-05</th>\n",
       "      <td>121.33866</td>\n",
       "      <td>25.0</td>\n",
       "      <td>118.67466</td>\n",
       "      <td>108.58483</td>\n",
       "      <td>125.45500</td>\n",
       "      <td>123.65499</td>\n",
       "      <td>NaN</td>\n",
       "      <td>NaN</td>\n",
       "      <td>NaN</td>\n",
       "    </tr>\n",
       "    <tr>\n",
       "      <th>2013-10-06</th>\n",
       "      <td>120.65533</td>\n",
       "      <td>25.0</td>\n",
       "      <td>121.33866</td>\n",
       "      <td>118.67466</td>\n",
       "      <td>108.58483</td>\n",
       "      <td>125.45500</td>\n",
       "      <td>123.65499</td>\n",
       "      <td>NaN</td>\n",
       "      <td>NaN</td>\n",
       "    </tr>\n",
       "    <tr>\n",
       "      <th>2013-10-07</th>\n",
       "      <td>121.79500</td>\n",
       "      <td>25.0</td>\n",
       "      <td>120.65533</td>\n",
       "      <td>121.33866</td>\n",
       "      <td>118.67466</td>\n",
       "      <td>108.58483</td>\n",
       "      <td>125.45500</td>\n",
       "      <td>123.65499</td>\n",
       "      <td>NaN</td>\n",
       "    </tr>\n",
       "    <tr>\n",
       "      <th>2013-10-08</th>\n",
       "      <td>123.03300</td>\n",
       "      <td>25.0</td>\n",
       "      <td>121.79500</td>\n",
       "      <td>120.65533</td>\n",
       "      <td>121.33866</td>\n",
       "      <td>118.67466</td>\n",
       "      <td>108.58483</td>\n",
       "      <td>125.45500</td>\n",
       "      <td>123.65499</td>\n",
       "    </tr>\n",
       "    <tr>\n",
       "      <th>2013-10-09</th>\n",
       "      <td>124.04900</td>\n",
       "      <td>25.0</td>\n",
       "      <td>123.03300</td>\n",
       "      <td>121.79500</td>\n",
       "      <td>120.65533</td>\n",
       "      <td>121.33866</td>\n",
       "      <td>118.67466</td>\n",
       "      <td>108.58483</td>\n",
       "      <td>125.45500</td>\n",
       "    </tr>\n",
       "    <tr>\n",
       "      <th>2013-10-10</th>\n",
       "      <td>125.96116</td>\n",
       "      <td>25.0</td>\n",
       "      <td>124.04900</td>\n",
       "      <td>123.03300</td>\n",
       "      <td>121.79500</td>\n",
       "      <td>120.65533</td>\n",
       "      <td>121.33866</td>\n",
       "      <td>118.67466</td>\n",
       "      <td>108.58483</td>\n",
       "    </tr>\n",
       "  </tbody>\n",
       "</table>\n",
       "</div>"
      ],
      "text/plain": [
       "                Price  block_reward    Price+1    Price+2    Price+3  \\\n",
       "Date                                                                   \n",
       "2013-10-01  123.65499          25.0        NaN        NaN        NaN   \n",
       "2013-10-02  125.45500          25.0  123.65499        NaN        NaN   \n",
       "2013-10-03  108.58483          25.0  125.45500  123.65499        NaN   \n",
       "2013-10-04  118.67466          25.0  108.58483  125.45500  123.65499   \n",
       "2013-10-05  121.33866          25.0  118.67466  108.58483  125.45500   \n",
       "2013-10-06  120.65533          25.0  121.33866  118.67466  108.58483   \n",
       "2013-10-07  121.79500          25.0  120.65533  121.33866  118.67466   \n",
       "2013-10-08  123.03300          25.0  121.79500  120.65533  121.33866   \n",
       "2013-10-09  124.04900          25.0  123.03300  121.79500  120.65533   \n",
       "2013-10-10  125.96116          25.0  124.04900  123.03300  121.79500   \n",
       "\n",
       "              Price+4    Price+5    Price+6    Price+7  \n",
       "Date                                                    \n",
       "2013-10-01        NaN        NaN        NaN        NaN  \n",
       "2013-10-02        NaN        NaN        NaN        NaN  \n",
       "2013-10-03        NaN        NaN        NaN        NaN  \n",
       "2013-10-04        NaN        NaN        NaN        NaN  \n",
       "2013-10-05  123.65499        NaN        NaN        NaN  \n",
       "2013-10-06  125.45500  123.65499        NaN        NaN  \n",
       "2013-10-07  108.58483  125.45500  123.65499        NaN  \n",
       "2013-10-08  118.67466  108.58483  125.45500  123.65499  \n",
       "2013-10-09  121.33866  118.67466  108.58483  125.45500  \n",
       "2013-10-10  120.65533  121.33866  118.67466  108.58483  "
      ]
     },
     "execution_count": 434,
     "metadata": {},
     "output_type": "execute_result"
    }
   ],
   "source": [
    "# make windowing with pandas\n",
    "HORIZON = 1\n",
    "WINDOW_SIZE = 7\n",
    "\n",
    "bitcoin_windowed = bitcoin_prices.copy()\n",
    "for i in range(WINDOW_SIZE):\n",
    "    bitcoin_windowed[f'Price+{i+1}'] = bitcoin_windowed['Price'].shift(periods=i+1) # shife down for i+1 row\n",
    "\n",
    "bitcoin_windowed.head(10)"
   ]
  },
  {
   "cell_type": "code",
   "execution_count": 435,
   "metadata": {},
   "outputs": [
    {
     "data": {
      "text/html": [
       "<div>\n",
       "<style scoped>\n",
       "    .dataframe tbody tr th:only-of-type {\n",
       "        vertical-align: middle;\n",
       "    }\n",
       "\n",
       "    .dataframe tbody tr th {\n",
       "        vertical-align: top;\n",
       "    }\n",
       "\n",
       "    .dataframe thead th {\n",
       "        text-align: right;\n",
       "    }\n",
       "</style>\n",
       "<table border=\"1\" class=\"dataframe\">\n",
       "  <thead>\n",
       "    <tr style=\"text-align: right;\">\n",
       "      <th></th>\n",
       "      <th>block_reward</th>\n",
       "      <th>Price+1</th>\n",
       "      <th>Price+2</th>\n",
       "      <th>Price+3</th>\n",
       "      <th>Price+4</th>\n",
       "      <th>Price+5</th>\n",
       "      <th>Price+6</th>\n",
       "      <th>Price+7</th>\n",
       "    </tr>\n",
       "    <tr>\n",
       "      <th>Date</th>\n",
       "      <th></th>\n",
       "      <th></th>\n",
       "      <th></th>\n",
       "      <th></th>\n",
       "      <th></th>\n",
       "      <th></th>\n",
       "      <th></th>\n",
       "      <th></th>\n",
       "    </tr>\n",
       "  </thead>\n",
       "  <tbody>\n",
       "    <tr>\n",
       "      <th>2013-10-08</th>\n",
       "      <td>25.0</td>\n",
       "      <td>121.794998</td>\n",
       "      <td>120.655327</td>\n",
       "      <td>121.338661</td>\n",
       "      <td>118.674660</td>\n",
       "      <td>108.584831</td>\n",
       "      <td>125.455002</td>\n",
       "      <td>123.654991</td>\n",
       "    </tr>\n",
       "    <tr>\n",
       "      <th>2013-10-09</th>\n",
       "      <td>25.0</td>\n",
       "      <td>123.032997</td>\n",
       "      <td>121.794998</td>\n",
       "      <td>120.655327</td>\n",
       "      <td>121.338661</td>\n",
       "      <td>118.674660</td>\n",
       "      <td>108.584831</td>\n",
       "      <td>125.455002</td>\n",
       "    </tr>\n",
       "    <tr>\n",
       "      <th>2013-10-10</th>\n",
       "      <td>25.0</td>\n",
       "      <td>124.049004</td>\n",
       "      <td>123.032997</td>\n",
       "      <td>121.794998</td>\n",
       "      <td>120.655327</td>\n",
       "      <td>121.338661</td>\n",
       "      <td>118.674660</td>\n",
       "      <td>108.584831</td>\n",
       "    </tr>\n",
       "    <tr>\n",
       "      <th>2013-10-11</th>\n",
       "      <td>25.0</td>\n",
       "      <td>125.961159</td>\n",
       "      <td>124.049004</td>\n",
       "      <td>123.032997</td>\n",
       "      <td>121.794998</td>\n",
       "      <td>120.655327</td>\n",
       "      <td>121.338661</td>\n",
       "      <td>118.674660</td>\n",
       "    </tr>\n",
       "    <tr>\n",
       "      <th>2013-10-12</th>\n",
       "      <td>25.0</td>\n",
       "      <td>125.279663</td>\n",
       "      <td>125.961159</td>\n",
       "      <td>124.049004</td>\n",
       "      <td>123.032997</td>\n",
       "      <td>121.794998</td>\n",
       "      <td>120.655327</td>\n",
       "      <td>121.338661</td>\n",
       "    </tr>\n",
       "  </tbody>\n",
       "</table>\n",
       "</div>"
      ],
      "text/plain": [
       "            block_reward     Price+1     Price+2     Price+3     Price+4  \\\n",
       "Date                                                                       \n",
       "2013-10-08          25.0  121.794998  120.655327  121.338661  118.674660   \n",
       "2013-10-09          25.0  123.032997  121.794998  120.655327  121.338661   \n",
       "2013-10-10          25.0  124.049004  123.032997  121.794998  120.655327   \n",
       "2013-10-11          25.0  125.961159  124.049004  123.032997  121.794998   \n",
       "2013-10-12          25.0  125.279663  125.961159  124.049004  123.032997   \n",
       "\n",
       "               Price+5     Price+6     Price+7  \n",
       "Date                                            \n",
       "2013-10-08  108.584831  125.455002  123.654991  \n",
       "2013-10-09  118.674660  108.584831  125.455002  \n",
       "2013-10-10  121.338661  118.674660  108.584831  \n",
       "2013-10-11  120.655327  121.338661  118.674660  \n",
       "2013-10-12  121.794998  120.655327  121.338661  "
      ]
     },
     "execution_count": 435,
     "metadata": {},
     "output_type": "execute_result"
    }
   ],
   "source": [
    "X = bitcoin_windowed.dropna().drop('Price', axis=1).astype(np.float32)\n",
    "y = bitcoin_windowed.dropna()['Price'].astype(np.float32)\n",
    "\n",
    "X.head()"
   ]
  },
  {
   "cell_type": "code",
   "execution_count": 436,
   "metadata": {},
   "outputs": [
    {
     "data": {
      "text/plain": [
       "((2229, 8), (2229,))"
      ]
     },
     "execution_count": 436,
     "metadata": {},
     "output_type": "execute_result"
    }
   ],
   "source": [
    "train_size = int(len(bitcoin_windowed) * 0.8)\n",
    "X_train, y_train = X[:train_size], y[:train_size]\n",
    "X_test, y_test = X[train_size:], y[train_size:]\n",
    "\n",
    "X_train.shape, y_train.shape"
   ]
  },
  {
   "cell_type": "markdown",
   "metadata": {},
   "source": [
    "## Model 6 : Dense (multivariate time series)"
   ]
  },
  {
   "cell_type": "code",
   "execution_count": 469,
   "metadata": {},
   "outputs": [
    {
     "name": "stdout",
     "output_type": "stream",
     "text": [
      "Model: \"multivariate_model6\"\n",
      "_________________________________________________________________\n",
      " Layer (type)                Output Shape              Param #   \n",
      "=================================================================\n",
      " input_5 (InputLayer)        [(None, 8)]               0         \n",
      "                                                                 \n",
      " dense_81 (Dense)            (None, 128)               1152      \n",
      "                                                                 \n",
      " dense_82 (Dense)            (None, 1)                 129       \n",
      "                                                                 \n",
      "=================================================================\n",
      "Total params: 1,281\n",
      "Trainable params: 1,281\n",
      "Non-trainable params: 0\n",
      "_________________________________________________________________\n"
     ]
    }
   ],
   "source": [
    "tf.random.set_seed(42)\n",
    "inputs = keras.Input(shape=(8,))\n",
    "x = keras.layers.Dense(128, activation='relu')(inputs)\n",
    "outputs = keras.layers.Dense(1)(x)\n",
    "model_6 = keras.Model(inputs, outputs, name='multivariate_model6')\n",
    "model_6.summary()"
   ]
  },
  {
   "cell_type": "code",
   "execution_count": null,
   "metadata": {},
   "outputs": [],
   "source": [
    "model_6.compile(loss='mae', optimizer='adam', metrics=['mae','mse'])\n",
    "model_6.fit(X_train, y_train, epochs=100, batch_size=128, validation_data=(X_test, y_test), verbose=0,callbacks=[crete_model_checkpoint(model_name=model_6.name)])"
   ]
  },
  {
   "cell_type": "code",
   "execution_count": 471,
   "metadata": {},
   "outputs": [
    {
     "name": "stdout",
     "output_type": "stream",
     "text": [
      "18/18 [==============================] - 0s 967us/step - loss: 575.5084 - mae: 575.5084 - mse: 1183149.1250\n"
     ]
    },
    {
     "data": {
      "text/plain": [
       "[575.5084228515625, 575.5084228515625, 1183149.125]"
      ]
     },
     "execution_count": 471,
     "metadata": {},
     "output_type": "execute_result"
    }
   ],
   "source": [
    "model_6 = tf.keras.models.load_model('model_experiment\\multivariate_model6')\n",
    "model_6.evaluate(X_test, y_test)"
   ]
  },
  {
   "cell_type": "code",
   "execution_count": 485,
   "metadata": {},
   "outputs": [
    {
     "data": {
      "text/plain": [
       "{'mae': 575.5085,\n",
       " 'mse': 1183149.5,\n",
       " 'rmse': 1087.7268,\n",
       " 'mape': 0.02566463,\n",
       " 'mase': 1.0044637}"
      ]
     },
     "execution_count": 485,
     "metadata": {},
     "output_type": "execute_result"
    }
   ],
   "source": [
    "y_preds = model_6.predict(X_test).reshape(-1,)\n",
    "model_6_score = evaluate_score(y_true=y_test.to_numpy().reshape(-1,1), y_pred=y_preds.reshape(-1,1))\n",
    "model_6_score"
   ]
  }
 ],
 "metadata": {
  "kernelspec": {
   "display_name": "Python 3.10.0 64-bit",
   "language": "python",
   "name": "python3"
  },
  "language_info": {
   "codemirror_mode": {
    "name": "ipython",
    "version": 3
   },
   "file_extension": ".py",
   "mimetype": "text/x-python",
   "name": "python",
   "nbconvert_exporter": "python",
   "pygments_lexer": "ipython3",
   "version": "3.10.0"
  },
  "orig_nbformat": 4,
  "vscode": {
   "interpreter": {
    "hash": "63e79917a05e390872358bfb73c58bc903ada01d2d04077091749088207d82cf"
   }
  }
 },
 "nbformat": 4,
 "nbformat_minor": 2
}
