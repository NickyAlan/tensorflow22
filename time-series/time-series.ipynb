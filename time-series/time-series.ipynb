{
 "cells": [
  {
   "cell_type": "markdown",
   "metadata": {},
   "source": [
    "# Time Series Fundamentals"
   ]
  },
  {
   "cell_type": "code",
   "execution_count": 1,
   "metadata": {},
   "outputs": [],
   "source": [
    "import os\n",
    "import numpy as np\n",
    "import pandas as pd\n",
    "import tensorflow as tf\n",
    "from tensorflow import keras \n",
    "import matplotlib.pyplot as plt"
   ]
  },
  {
   "cell_type": "code",
   "execution_count": 2,
   "metadata": {},
   "outputs": [
    {
     "name": "stdout",
     "output_type": "stream",
     "text": [
      "length : 2787 row\n"
     ]
    },
    {
     "data": {
      "text/html": [
       "<div>\n",
       "<style scoped>\n",
       "    .dataframe tbody tr th:only-of-type {\n",
       "        vertical-align: middle;\n",
       "    }\n",
       "\n",
       "    .dataframe tbody tr th {\n",
       "        vertical-align: top;\n",
       "    }\n",
       "\n",
       "    .dataframe thead th {\n",
       "        text-align: right;\n",
       "    }\n",
       "</style>\n",
       "<table border=\"1\" class=\"dataframe\">\n",
       "  <thead>\n",
       "    <tr style=\"text-align: right;\">\n",
       "      <th></th>\n",
       "      <th>Currency</th>\n",
       "      <th>Closing Price (USD)</th>\n",
       "      <th>24h Open (USD)</th>\n",
       "      <th>24h High (USD)</th>\n",
       "      <th>24h Low (USD)</th>\n",
       "    </tr>\n",
       "    <tr>\n",
       "      <th>Date</th>\n",
       "      <th></th>\n",
       "      <th></th>\n",
       "      <th></th>\n",
       "      <th></th>\n",
       "      <th></th>\n",
       "    </tr>\n",
       "  </thead>\n",
       "  <tbody>\n",
       "    <tr>\n",
       "      <th>2013-10-01</th>\n",
       "      <td>BTC</td>\n",
       "      <td>123.65499</td>\n",
       "      <td>124.30466</td>\n",
       "      <td>124.75166</td>\n",
       "      <td>122.56349</td>\n",
       "    </tr>\n",
       "    <tr>\n",
       "      <th>2013-10-02</th>\n",
       "      <td>BTC</td>\n",
       "      <td>125.45500</td>\n",
       "      <td>123.65499</td>\n",
       "      <td>125.75850</td>\n",
       "      <td>123.63383</td>\n",
       "    </tr>\n",
       "    <tr>\n",
       "      <th>2013-10-03</th>\n",
       "      <td>BTC</td>\n",
       "      <td>108.58483</td>\n",
       "      <td>125.45500</td>\n",
       "      <td>125.66566</td>\n",
       "      <td>83.32833</td>\n",
       "    </tr>\n",
       "    <tr>\n",
       "      <th>2013-10-04</th>\n",
       "      <td>BTC</td>\n",
       "      <td>118.67466</td>\n",
       "      <td>108.58483</td>\n",
       "      <td>118.67500</td>\n",
       "      <td>107.05816</td>\n",
       "    </tr>\n",
       "    <tr>\n",
       "      <th>2013-10-05</th>\n",
       "      <td>BTC</td>\n",
       "      <td>121.33866</td>\n",
       "      <td>118.67466</td>\n",
       "      <td>121.93633</td>\n",
       "      <td>118.00566</td>\n",
       "    </tr>\n",
       "    <tr>\n",
       "      <th>2013-10-06</th>\n",
       "      <td>BTC</td>\n",
       "      <td>120.65533</td>\n",
       "      <td>121.33866</td>\n",
       "      <td>121.85216</td>\n",
       "      <td>120.55450</td>\n",
       "    </tr>\n",
       "    <tr>\n",
       "      <th>2013-10-07</th>\n",
       "      <td>BTC</td>\n",
       "      <td>121.79500</td>\n",
       "      <td>120.65533</td>\n",
       "      <td>121.99166</td>\n",
       "      <td>120.43199</td>\n",
       "    </tr>\n",
       "    <tr>\n",
       "      <th>2013-10-08</th>\n",
       "      <td>BTC</td>\n",
       "      <td>123.03300</td>\n",
       "      <td>121.79500</td>\n",
       "      <td>123.64016</td>\n",
       "      <td>121.35066</td>\n",
       "    </tr>\n",
       "    <tr>\n",
       "      <th>2013-10-09</th>\n",
       "      <td>BTC</td>\n",
       "      <td>124.04900</td>\n",
       "      <td>123.03300</td>\n",
       "      <td>124.78350</td>\n",
       "      <td>122.59266</td>\n",
       "    </tr>\n",
       "    <tr>\n",
       "      <th>2013-10-10</th>\n",
       "      <td>BTC</td>\n",
       "      <td>125.96116</td>\n",
       "      <td>124.04900</td>\n",
       "      <td>128.01683</td>\n",
       "      <td>123.81966</td>\n",
       "    </tr>\n",
       "  </tbody>\n",
       "</table>\n",
       "</div>"
      ],
      "text/plain": [
       "           Currency  Closing Price (USD)  24h Open (USD)  24h High (USD)  \\\n",
       "Date                                                                       \n",
       "2013-10-01      BTC            123.65499       124.30466       124.75166   \n",
       "2013-10-02      BTC            125.45500       123.65499       125.75850   \n",
       "2013-10-03      BTC            108.58483       125.45500       125.66566   \n",
       "2013-10-04      BTC            118.67466       108.58483       118.67500   \n",
       "2013-10-05      BTC            121.33866       118.67466       121.93633   \n",
       "2013-10-06      BTC            120.65533       121.33866       121.85216   \n",
       "2013-10-07      BTC            121.79500       120.65533       121.99166   \n",
       "2013-10-08      BTC            123.03300       121.79500       123.64016   \n",
       "2013-10-09      BTC            124.04900       123.03300       124.78350   \n",
       "2013-10-10      BTC            125.96116       124.04900       128.01683   \n",
       "\n",
       "            24h Low (USD)  \n",
       "Date                       \n",
       "2013-10-01      122.56349  \n",
       "2013-10-02      123.63383  \n",
       "2013-10-03       83.32833  \n",
       "2013-10-04      107.05816  \n",
       "2013-10-05      118.00566  \n",
       "2013-10-06      120.55450  \n",
       "2013-10-07      120.43199  \n",
       "2013-10-08      121.35066  \n",
       "2013-10-09      122.59266  \n",
       "2013-10-10      123.81966  "
      ]
     },
     "execution_count": 2,
     "metadata": {},
     "output_type": "execute_result"
    }
   ],
   "source": [
    "#get data\n",
    "data_path = 'BTC_USD_2013-10-01_2021-05-18-CoinDesk.csv'\n",
    "bitcoin_df = pd.read_csv(data_path, parse_dates=['Date'], index_col=['Date'])\n",
    "print(f'length : {len(bitcoin_df)} row')\n",
    "bitcoin_df.head(10)"
   ]
  },
  {
   "cell_type": "code",
   "execution_count": 3,
   "metadata": {},
   "outputs": [
    {
     "name": "stdout",
     "output_type": "stream",
     "text": [
      "<class 'pandas.core.frame.DataFrame'>\n",
      "DatetimeIndex: 2787 entries, 2013-10-01 to 2021-05-18\n",
      "Data columns (total 5 columns):\n",
      " #   Column               Non-Null Count  Dtype  \n",
      "---  ------               --------------  -----  \n",
      " 0   Currency             2787 non-null   object \n",
      " 1   Closing Price (USD)  2787 non-null   float64\n",
      " 2   24h Open (USD)       2787 non-null   float64\n",
      " 3   24h High (USD)       2787 non-null   float64\n",
      " 4   24h Low (USD)        2787 non-null   float64\n",
      "dtypes: float64(4), object(1)\n",
      "memory usage: 130.6+ KB\n"
     ]
    }
   ],
   "source": [
    "bitcoin_df.info()"
   ]
  },
  {
   "cell_type": "code",
   "execution_count": 4,
   "metadata": {},
   "outputs": [
    {
     "data": {
      "text/html": [
       "<div>\n",
       "<style scoped>\n",
       "    .dataframe tbody tr th:only-of-type {\n",
       "        vertical-align: middle;\n",
       "    }\n",
       "\n",
       "    .dataframe tbody tr th {\n",
       "        vertical-align: top;\n",
       "    }\n",
       "\n",
       "    .dataframe thead th {\n",
       "        text-align: right;\n",
       "    }\n",
       "</style>\n",
       "<table border=\"1\" class=\"dataframe\">\n",
       "  <thead>\n",
       "    <tr style=\"text-align: right;\">\n",
       "      <th></th>\n",
       "      <th>Price</th>\n",
       "    </tr>\n",
       "    <tr>\n",
       "      <th>Date</th>\n",
       "      <th></th>\n",
       "    </tr>\n",
       "  </thead>\n",
       "  <tbody>\n",
       "    <tr>\n",
       "      <th>2013-10-01</th>\n",
       "      <td>123.65499</td>\n",
       "    </tr>\n",
       "    <tr>\n",
       "      <th>2013-10-02</th>\n",
       "      <td>125.45500</td>\n",
       "    </tr>\n",
       "    <tr>\n",
       "      <th>2013-10-03</th>\n",
       "      <td>108.58483</td>\n",
       "    </tr>\n",
       "    <tr>\n",
       "      <th>2013-10-04</th>\n",
       "      <td>118.67466</td>\n",
       "    </tr>\n",
       "    <tr>\n",
       "      <th>2013-10-05</th>\n",
       "      <td>121.33866</td>\n",
       "    </tr>\n",
       "  </tbody>\n",
       "</table>\n",
       "</div>"
      ],
      "text/plain": [
       "                Price\n",
       "Date                 \n",
       "2013-10-01  123.65499\n",
       "2013-10-02  125.45500\n",
       "2013-10-03  108.58483\n",
       "2013-10-04  118.67466\n",
       "2013-10-05  121.33866"
      ]
     },
     "execution_count": 4,
     "metadata": {},
     "output_type": "execute_result"
    }
   ],
   "source": [
    "#only want closing price\n",
    "bitcoin_prices = pd.DataFrame({'Price':bitcoin_df['Closing Price (USD)']})\n",
    "bitcoin_prices.head()"
   ]
  },
  {
   "cell_type": "code",
   "execution_count": 5,
   "metadata": {},
   "outputs": [
    {
     "data": {
      "image/png": "[encoded data removed]",
      "text/plain": [
       "<Figure size 720x504 with 1 Axes>"
      ]
     },
     "metadata": {
      "needs_background": "light"
     },
     "output_type": "display_data"
    }
   ],
   "source": [
    "bitcoin_prices.plot(figsize=(10,7), color='orange')\n",
    "plt.ylabel('BTC price')\n",
    "plt.title('BTC price from 1 Oct 2013 to 18 May 2021');"
   ]
  },
  {
   "cell_type": "markdown",
   "metadata": {},
   "source": [
    "## Create train and test set\n",
    "time seris : use past feature to predict the future"
   ]
  },
  {
   "cell_type": "code",
   "execution_count": 6,
   "metadata": {},
   "outputs": [
    {
     "data": {
      "text/plain": [
       "((2229,), (558,), 2787)"
      ]
     },
     "execution_count": 6,
     "metadata": {},
     "output_type": "execute_result"
    }
   ],
   "source": [
    "times = bitcoin_prices.index.to_numpy()\n",
    "prices = bitcoin_prices['Price'].to_numpy()\n",
    "\n",
    "train_size = int(len(times) *.8)\n",
    "X_train, y_train = times[:train_size], prices[:train_size]\n",
    "X_test, y_test = times[train_size:], prices[train_size:]\n",
    "\n",
    "X_train.shape, X_test.shape , len(times)"
   ]
  },
  {
   "cell_type": "code",
   "execution_count": 7,
   "metadata": {},
   "outputs": [
    {
     "data": {
      "image/png": "[encoded data removed]",
      "text/plain": [
       "<Figure size 720x504 with 1 Axes>"
      ]
     },
     "metadata": {
      "needs_background": "light"
     },
     "output_type": "display_data"
    }
   ],
   "source": [
    "plt.figure(figsize=(10,7))\n",
    "plt.scatter(X_train, y_train, s=5, c='orange', label='train (past)')\n",
    "plt.scatter(X_test, y_test, s=5, c='red', label='test (pseudo future)')\n",
    "plt.legend(fontsize=16)\n",
    "plt.grid(True)\n",
    "plt.ylabel('BTC price')\n",
    "plt.title('BTC price from 1 Oct 2013 to 18 May 2021');"
   ]
  },
  {
   "cell_type": "markdown",
   "metadata": {},
   "source": [
    "## Model 0 | Naive forecast\n",
    "in formular : $$\\hat{y}_{t} = y_{t-1}$$\n",
    "\n",
    "the prediction at timestep t(y-hat) is equal to the value at timestep t-1 (previous timestep) - for horizon of 1\n",
    "\n",
    "**For example**, suppose we have the following sales of a given product during the first three months of the year:\n",
    "\n",
    "<img src=\"https://www.statology.org/wp-content/uploads/2020/12/naive_forecast2-300x181.png\"/>\n",
    "\n",
    "The forecast for sales in April would simply be equal to the actual sales from the previous month of March:\n",
    "\n",
    "*Although this method is simple, it tends to work surprisingly well in practice.*"
   ]
  },
  {
   "cell_type": "code",
   "execution_count": 8,
   "metadata": {},
   "outputs": [
    {
     "name": "stdout",
     "output_type": "stream",
     "text": [
      "forecast : [49764.1320816  50032.69313676 47885.62525472 45604.61575361]\n",
      "actual : [50032.69313676 47885.62525472 45604.61575361 43144.47129086]\n"
     ]
    }
   ],
   "source": [
    "#create Naive forecast\n",
    "naive_forecast = y_test[:-1]\n",
    "print('forecast :',naive_forecast[-4:])\n",
    "print('actual :',y_test[-4:])"
   ]
  },
  {
   "cell_type": "markdown",
   "metadata": {},
   "source": [
    "### MASE (Mean Absolute Scaled Error) \n",
    "for time series forcasting metrics\n",
    "\n",
    "metric that allows you to compare two models. Using the MAE for each model, If the MASE value is less than 1, then the new model performs better. If the MASE value is greater than 1, then the original model performed better than the new model.\n",
    "\n",
    "<img src=\"https://miro.medium.com/max/964/1*hImatS5n4JjrAP09f0qduQ.png\"/>"
   ]
  },
  {
   "cell_type": "code",
   "execution_count": 9,
   "metadata": {},
   "outputs": [],
   "source": [
    "def mean_absolute_scaled_error(y_true, y_pred):\n",
    "    \"\"\"\n",
    "    Computes the MEAN-ABSOLUTE SCALED ERROR forcast error for univariate time series prediction.\n",
    "    \n",
    "    See \"Another look at measures of forecast accuracy\", Rob J Hyndman\n",
    "    \"\"\"\n",
    "    mae = np.mean(np.abs(y_true - y_pred))\n",
    "    mae_naive = np.mean(np.abs(y_true[1:] - y_true[:-1]))\n",
    "    return mae / mae_naive # original model is naive forcast"
   ]
  },
  {
   "cell_type": "code",
   "execution_count": 10,
   "metadata": {},
   "outputs": [
    {
     "data": {
      "text/plain": [
       "0.9995699939182626"
      ]
     },
     "execution_count": 10,
     "metadata": {},
     "output_type": "execute_result"
    }
   ],
   "source": [
    "mean_absolute_scaled_error(y_test[1:], naive_forecast)"
   ]
  },
  {
   "cell_type": "code",
   "execution_count": 11,
   "metadata": {},
   "outputs": [],
   "source": [
    "#create evaluate metrics\n",
    "def evaluate_score(y_true, y_pred) :\n",
    "    mae = np.mean(np.abs(y_true - y_pred))\n",
    "    mse = np.mean(np.square(y_true - y_pred))\n",
    "    rmse = np.sqrt(mse)\n",
    "    mape = np.mean(np.abs((y_true - y_pred )/y_true)) # Mean absolute percentage error\n",
    "    mase = mean_absolute_scaled_error(y_true, y_pred)\n",
    "\n",
    "    return {\n",
    "        'mae':mae,\n",
    "        'mse':mse,\n",
    "        'rmse':rmse,\n",
    "        'mape':mape,\n",
    "        'mase':mase\n",
    "    }"
   ]
  },
  {
   "cell_type": "code",
   "execution_count": 12,
   "metadata": {},
   "outputs": [
    {
     "data": {
      "text/plain": [
       "{'mae': 567.9802273457542,\n",
       " 'mse': 1147547.125023896,\n",
       " 'rmse': 1071.2362601330744,\n",
       " 'mape': 0.02516524929982267,\n",
       " 'mase': 0.9995699939182626}"
      ]
     },
     "execution_count": 12,
     "metadata": {},
     "output_type": "execute_result"
    }
   ],
   "source": [
    "naive_score = evaluate_score(y_test[1:], naive_forecast)\n",
    "naive_score"
   ]
  },
  {
   "cell_type": "markdown",
   "metadata": {},
   "source": [
    "### windowing our dataset\n",
    "to turn data into a supervised learning problem\n",
    "\n",
    "windowing for 1 week:<br>\n",
    "[0, 1, 2, 3, 4, 5, 6] -> [7]<br>\n",
    "[1, 2, 3, 4, 5, 6, 7] -> [8]"
   ]
  },
  {
   "cell_type": "code",
   "execution_count": 13,
   "metadata": {},
   "outputs": [
    {
     "name": "stdout",
     "output_type": "stream",
     "text": [
      "[123.65499 125.455   108.58483 118.67466 121.33866 120.65533 121.795  ] -> 123.033\n"
     ]
    }
   ],
   "source": [
    "print(prices[:7] ,'->',prices[7])"
   ]
  },
  {
   "cell_type": "code",
   "execution_count": 14,
   "metadata": {},
   "outputs": [],
   "source": [
    "HORIZON = 1 # predict 1 step at a time\n",
    "WINDOW_SIZE = 7 # use a week worth of timesteps to predict the horizon"
   ]
  },
  {
   "cell_type": "code",
   "execution_count": 15,
   "metadata": {},
   "outputs": [],
   "source": [
    "# Create function to label windowed data\n",
    "def get_labelled_windows(x, horizon=1):\n",
    "  \"\"\"\n",
    "  Creates labels for windowed dataset.\n",
    "\n",
    "  E.g. if horizon=1 (default)\n",
    "  Input: [1, 2, 3, 4, 5, 6] -> Output: ([1, 2, 3, 4, 5], [6])\n",
    "  \"\"\"\n",
    "  return x[:, :-horizon], x[:, -horizon:]"
   ]
  },
  {
   "cell_type": "code",
   "execution_count": 16,
   "metadata": {},
   "outputs": [],
   "source": [
    "# Create function to view NumPy arrays as windows \n",
    "def make_windows(x, window_size=7, horizon=1):\n",
    "  \"\"\"\n",
    "  Turns a 1D array into a 2D array of sequential windows of window_size.\n",
    "  \"\"\"\n",
    "  # 1. Create a window of specific window_size (add the horizon on the end for later labelling)\n",
    "  window_step = np.expand_dims(np.arange(window_size+horizon), axis=0)\n",
    "  # print(f\"Window step:\\n {window_step}\")\n",
    "\n",
    "  # 2. Create a 2D array of multiple window steps (minus 1 to account for 0 indexing)\n",
    "  window_indexes = window_step + np.expand_dims(np.arange( len(x)-(window_size+horizon-1) ), axis=0).T # create 2D array of windows of size window_size\n",
    "  # print(f\"Window indexes:\\n {window_indexes[:3], window_indexes[-3:], window_indexes.shape}\")\n",
    "\n",
    "  # 3. Index on the target array (time series) with 2D array of multiple window steps\n",
    "  windowed_array = x[window_indexes]\n",
    "\n",
    "  # 4. Get the labelled windows\n",
    "  windows, labels = get_labelled_windows(windowed_array, horizon=horizon)\n",
    "\n",
    "  return windows, labels"
   ]
  },
  {
   "cell_type": "code",
   "execution_count": 17,
   "metadata": {},
   "outputs": [
    {
     "data": {
      "text/plain": [
       "(2780, 2780)"
      ]
     },
     "execution_count": 17,
     "metadata": {},
     "output_type": "execute_result"
    }
   ],
   "source": [
    "full_windows, full_labels = make_windows(prices, window_size=WINDOW_SIZE, horizon=HORIZON)\n",
    "len(full_windows), len(full_labels)"
   ]
  },
  {
   "cell_type": "code",
   "execution_count": 18,
   "metadata": {},
   "outputs": [],
   "source": [
    "# Make the train/test splits\n",
    "def make_train_test_splits(windows, labels, test_size=0.2):\n",
    "  \"\"\"\n",
    "  Splits matching pairs of windows and labels into train and test splits.\n",
    "  \"\"\"\n",
    "  train_size = int(len(windows) * (1-test_size)) # this will default to 80% train/20% test\n",
    "  train_windows = windows[:train_size]\n",
    "  train_labels = labels[:train_size]\n",
    "  test_windows = windows[train_size:]\n",
    "  test_labels = labels[train_size:]\n",
    "  return train_windows, test_windows, train_labels, test_labels"
   ]
  },
  {
   "cell_type": "code",
   "execution_count": 19,
   "metadata": {},
   "outputs": [
    {
     "data": {
      "text/plain": [
       "(2224, 556, 2224, 556)"
      ]
     },
     "execution_count": 19,
     "metadata": {},
     "output_type": "execute_result"
    }
   ],
   "source": [
    "train_windows, test_windows, train_labels, test_labels = make_train_test_splits(full_windows, full_labels)\n",
    "len(train_windows), len(test_windows), len(train_labels), len(test_labels)"
   ]
  },
  {
   "cell_type": "markdown",
   "metadata": {},
   "source": [
    "### Create ModelCheckpoint"
   ]
  },
  {
   "cell_type": "code",
   "execution_count": 20,
   "metadata": {},
   "outputs": [],
   "source": [
    "def crete_model_checkpoint(model_name, save_path='model_experiment'):\n",
    "    return tf.keras.callbacks.ModelCheckpoint(filepath=os.path.join(save_path, model_name), save_best_only=True, monitor='val_loss')"
   ]
  },
  {
   "cell_type": "markdown",
   "metadata": {},
   "source": [
    "## Model 1 : Dense Model (window = 7, horizon = 1)"
   ]
  },
  {
   "cell_type": "code",
   "execution_count": 21,
   "metadata": {},
   "outputs": [
    {
     "name": "stdout",
     "output_type": "stream",
     "text": [
      "Epoch 1/100\n",
      " 1/18 [>.............................] - ETA: 16s - loss: 2111.0571 - mae: 2111.0571 - mse: 9255782.0000INFO:tensorflow:Assets written to: model_experiment\\dense_model\\assets\n",
      "18/18 [==============================] - 3s 121ms/step - loss: 780.3469 - mae: 780.3469 - mse: 2312739.0000 - val_loss: 2279.5833 - val_mae: 2279.5833 - val_mse: 12772098.0000\n",
      "Epoch 2/100\n",
      " 1/18 [>.............................] - ETA: 0s - loss: 348.8778 - mae: 348.8778 - mse: 600780.1250INFO:tensorflow:Assets written to: model_experiment\\dense_model\\assets\n",
      "18/18 [==============================] - 1s 69ms/step - loss: 247.6765 - mae: 247.6765 - mse: 285480.9375 - val_loss: 1005.9865 - val_mae: 1005.9865 - val_mse: 3441760.2500\n",
      "Epoch 3/100\n",
      " 1/18 [>.............................] - ETA: 0s - loss: 134.4844 - mae: 134.4844 - mse: 70764.6875INFO:tensorflow:Assets written to: model_experiment\\dense_model\\assets\n",
      "18/18 [==============================] - 1s 80ms/step - loss: 188.4107 - mae: 188.4107 - mse: 171890.0156 - val_loss: 923.2859 - val_mae: 923.2859 - val_mse: 2868195.0000\n",
      "Epoch 4/100\n",
      " 1/18 [>.............................] - ETA: 0s - loss: 211.3675 - mae: 211.3675 - mse: 238008.9062INFO:tensorflow:Assets written to: model_experiment\\dense_model\\assets\n",
      "18/18 [==============================] - 1s 77ms/step - loss: 169.4334 - mae: 169.4334 - mse: 151699.4531 - val_loss: 900.5932 - val_mae: 900.5932 - val_mse: 2683713.5000\n",
      "Epoch 5/100\n",
      " 1/18 [>.............................] - ETA: 0s - loss: 155.7282 - mae: 155.7282 - mse: 88121.3438INFO:tensorflow:Assets written to: model_experiment\\dense_model\\assets\n",
      "18/18 [==============================] - 1s 83ms/step - loss: 165.0899 - mae: 165.0899 - mse: 145490.8750 - val_loss: 895.2404 - val_mae: 895.2404 - val_mse: 2564605.7500\n",
      "Epoch 6/100\n",
      " 1/18 [>.............................] - ETA: 0s - loss: 117.3696 - mae: 117.3696 - mse: 55148.2031INFO:tensorflow:Assets written to: model_experiment\\dense_model\\assets\n",
      "18/18 [==============================] - 1s 71ms/step - loss: 158.5206 - mae: 158.5206 - mse: 133816.7969 - val_loss: 855.1869 - val_mae: 855.1869 - val_mse: 2481816.0000\n",
      "Epoch 7/100\n",
      " 1/18 [>.............................] - ETA: 0s - loss: 180.3330 - mae: 180.3330 - mse: 241586.2812INFO:tensorflow:Assets written to: model_experiment\\dense_model\\assets\n",
      "18/18 [==============================] - 1s 80ms/step - loss: 151.3568 - mae: 151.3568 - mse: 123446.7891 - val_loss: 840.9289 - val_mae: 840.9289 - val_mse: 2276476.7500\n",
      "Epoch 8/100\n",
      " 1/18 [>.............................] - ETA: 0s - loss: 121.1151 - mae: 121.1151 - mse: 57999.9922INFO:tensorflow:Assets written to: model_experiment\\dense_model\\assets\n",
      "18/18 [==============================] - 1s 83ms/step - loss: 145.2560 - mae: 145.2560 - mse: 117694.1797 - val_loss: 803.6005 - val_mae: 803.6005 - val_mse: 2140566.5000\n",
      "Epoch 9/100\n",
      " 1/18 [>.............................] - ETA: 0s - loss: 126.2221 - mae: 126.2221 - mse: 75303.3750INFO:tensorflow:Assets written to: model_experiment\\dense_model\\assets\n",
      "18/18 [==============================] - 1s 68ms/step - loss: 144.3546 - mae: 144.3546 - mse: 115269.1094 - val_loss: 799.5590 - val_mae: 799.5591 - val_mse: 2049233.5000\n",
      "Epoch 10/100\n",
      " 1/18 [>.............................] - ETA: 0s - loss: 148.4517 - mae: 148.4517 - mse: 164285.0469INFO:tensorflow:Assets written to: model_experiment\\dense_model\\assets\n",
      "18/18 [==============================] - 1s 81ms/step - loss: 141.2944 - mae: 141.2944 - mse: 112394.1953 - val_loss: 763.5060 - val_mae: 763.5060 - val_mse: 1933137.0000\n",
      "Epoch 11/100\n",
      "18/18 [==============================] - 0s 4ms/step - loss: 135.6591 - mae: 135.6591 - mse: 104117.5938 - val_loss: 771.3523 - val_mae: 771.3523 - val_mse: 1885887.6250\n",
      "Epoch 12/100\n",
      "18/18 [==============================] - 0s 4ms/step - loss: 134.1702 - mae: 134.1702 - mse: 101780.5234 - val_loss: 782.8324 - val_mae: 782.8324 - val_mse: 1881791.5000\n",
      "Epoch 13/100\n",
      "18/18 [==============================] - 0s 4ms/step - loss: 134.6014 - mae: 134.6014 - mse: 102344.3516 - val_loss: 784.4727 - val_mae: 784.4727 - val_mse: 1861070.0000\n",
      "Epoch 14/100\n",
      " 1/18 [>.............................] - ETA: 0s - loss: 136.5615 - mae: 136.5615 - mse: 78602.1562INFO:tensorflow:Assets written to: model_experiment\\dense_model\\assets\n",
      "18/18 [==============================] - 1s 66ms/step - loss: 130.6125 - mae: 130.6125 - mse: 96224.3750 - val_loss: 751.3470 - val_mae: 751.3470 - val_mse: 1749668.1250\n",
      "Epoch 15/100\n",
      " 1/18 [>.............................] - ETA: 0s - loss: 131.5394 - mae: 131.5394 - mse: 65718.6953INFO:tensorflow:Assets written to: model_experiment\\dense_model\\assets\n",
      "18/18 [==============================] - 1s 79ms/step - loss: 128.8352 - mae: 128.8352 - mse: 94306.8438 - val_loss: 696.5836 - val_mae: 696.5836 - val_mse: 1606358.7500\n",
      "Epoch 16/100\n",
      "18/18 [==============================] - 0s 4ms/step - loss: 124.8667 - mae: 124.8667 - mse: 90498.6250 - val_loss: 707.2986 - val_mae: 707.2986 - val_mse: 1602363.6250\n",
      "Epoch 17/100\n",
      "18/18 [==============================] - 0s 4ms/step - loss: 123.6096 - mae: 123.6096 - mse: 89226.7422 - val_loss: 714.2289 - val_mae: 714.2289 - val_mse: 1601815.7500\n",
      "Epoch 18/100\n",
      " 1/18 [>.............................] - ETA: 0s - loss: 138.5526 - mae: 138.5526 - mse: 97749.2344INFO:tensorflow:Assets written to: model_experiment\\dense_model\\assets\n",
      "18/18 [==============================] - 1s 68ms/step - loss: 122.3023 - mae: 122.3023 - mse: 87726.4688 - val_loss: 669.1413 - val_mae: 669.1413 - val_mse: 1498631.3750\n",
      "Epoch 19/100\n",
      "18/18 [==============================] - 0s 5ms/step - loss: 121.4932 - mae: 121.4932 - mse: 86447.8750 - val_loss: 721.5449 - val_mae: 721.5449 - val_mse: 1595831.2500\n",
      "Epoch 20/100\n",
      " 1/18 [>.............................] - ETA: 0s - loss: 135.4132 - mae: 135.4132 - mse: 101874.7109INFO:tensorflow:Assets written to: model_experiment\\dense_model\\assets\n",
      "18/18 [==============================] - 1s 79ms/step - loss: 119.2384 - mae: 119.2384 - mse: 84250.7656 - val_loss: 658.0785 - val_mae: 658.0785 - val_mse: 1448094.8750\n",
      "Epoch 21/100\n",
      " 1/18 [>.............................] - ETA: 0s - loss: 128.8736 - mae: 128.8736 - mse: 78165.1953INFO:tensorflow:Assets written to: model_experiment\\dense_model\\assets\n",
      "18/18 [==============================] - 1s 68ms/step - loss: 121.5293 - mae: 121.5293 - mse: 85926.5391 - val_loss: 638.3386 - val_mae: 638.3386 - val_mse: 1397797.0000\n",
      "Epoch 22/100\n",
      "18/18 [==============================] - 0s 4ms/step - loss: 119.3422 - mae: 119.3422 - mse: 83495.1875 - val_loss: 678.8881 - val_mae: 678.8881 - val_mse: 1465750.5000\n",
      "Epoch 23/100\n",
      "18/18 [==============================] - 0s 5ms/step - loss: 122.8203 - mae: 122.8203 - mse: 84656.3750 - val_loss: 651.8511 - val_mae: 651.8511 - val_mse: 1401080.8750\n",
      "Epoch 24/100\n",
      " 1/18 [>.............................] - ETA: 0s - loss: 125.6553 - mae: 125.6553 - mse: 80246.7656INFO:tensorflow:Assets written to: model_experiment\\dense_model\\assets\n",
      "18/18 [==============================] - 1s 79ms/step - loss: 117.0774 - mae: 117.0774 - mse: 81069.2188 - val_loss: 623.5612 - val_mae: 623.5612 - val_mse: 1362704.7500\n",
      "Epoch 25/100\n",
      " 1/18 [>.............................] - ETA: 0s - loss: 122.1502 - mae: 122.1502 - mse: 58558.1875INFO:tensorflow:Assets written to: model_experiment\\dense_model\\assets\n",
      "18/18 [==============================] - 1s 69ms/step - loss: 115.1816 - mae: 115.1816 - mse: 79065.0469 - val_loss: 618.5576 - val_mae: 618.5576 - val_mse: 1342634.3750\n",
      "Epoch 26/100\n",
      " 1/18 [>.............................] - ETA: 0s - loss: 109.7064 - mae: 109.7064 - mse: 58933.2109INFO:tensorflow:Assets written to: model_experiment\\dense_model\\assets\n",
      "18/18 [==============================] - 1s 80ms/step - loss: 115.0673 - mae: 115.0673 - mse: 78886.6484 - val_loss: 616.4917 - val_mae: 616.4917 - val_mse: 1321327.2500\n",
      "Epoch 27/100\n",
      "18/18 [==============================] - 0s 5ms/step - loss: 116.6431 - mae: 116.6431 - mse: 79058.1016 - val_loss: 619.0472 - val_mae: 619.0472 - val_mse: 1316206.2500\n",
      "Epoch 28/100\n",
      " 1/18 [>.............................] - ETA: 0s - loss: 102.1524 - mae: 102.1524 - mse: 64291.3125INFO:tensorflow:Assets written to: model_experiment\\dense_model\\assets\n",
      "18/18 [==============================] - 1s 69ms/step - loss: 114.0328 - mae: 114.0328 - mse: 77953.4531 - val_loss: 610.3879 - val_mae: 610.3879 - val_mse: 1316937.3750\n",
      "Epoch 29/100\n",
      "18/18 [==============================] - 0s 5ms/step - loss: 113.4892 - mae: 113.4892 - mse: 78513.1172 - val_loss: 617.2401 - val_mae: 617.2401 - val_mse: 1304227.2500\n",
      "Epoch 30/100\n",
      " 1/18 [>.............................] - ETA: 0s - loss: 124.6252 - mae: 124.6252 - mse: 84807.8281INFO:tensorflow:Assets written to: model_experiment\\dense_model\\assets\n",
      "18/18 [==============================] - 1s 80ms/step - loss: 116.4094 - mae: 116.4094 - mse: 78943.1562 - val_loss: 603.6488 - val_mae: 603.6488 - val_mse: 1283177.7500\n",
      "Epoch 31/100\n",
      "18/18 [==============================] - 0s 4ms/step - loss: 112.3454 - mae: 112.3454 - mse: 74879.3359 - val_loss: 623.4433 - val_mae: 623.4433 - val_mse: 1311037.1250\n",
      "Epoch 32/100\n",
      " 1/18 [>.............................] - ETA: 0s - loss: 110.3431 - mae: 110.3431 - mse: 71189.9062INFO:tensorflow:Assets written to: model_experiment\\dense_model\\assets\n",
      "18/18 [==============================] - 1s 69ms/step - loss: 113.2056 - mae: 113.2056 - mse: 77898.5156 - val_loss: 600.0259 - val_mae: 600.0259 - val_mse: 1271945.2500\n",
      "Epoch 33/100\n",
      "18/18 [==============================] - 0s 4ms/step - loss: 112.9529 - mae: 112.9529 - mse: 76235.4297 - val_loss: 653.0601 - val_mae: 653.0601 - val_mse: 1369884.6250\n",
      "Epoch 34/100\n",
      " 1/18 [>.............................] - ETA: 0s - loss: 140.4312 - mae: 140.4312 - mse: 126673.4297INFO:tensorflow:Assets written to: model_experiment\\dense_model\\assets\n",
      "18/18 [==============================] - 1s 81ms/step - loss: 112.1157 - mae: 112.1157 - mse: 77267.7734 - val_loss: 594.7913 - val_mae: 594.7913 - val_mse: 1263628.1250\n",
      "Epoch 35/100\n",
      " 1/18 [>.............................] - ETA: 0s - loss: 100.0624 - mae: 100.0624 - mse: 52678.3711INFO:tensorflow:Assets written to: model_experiment\\dense_model\\assets\n",
      "18/18 [==============================] - 1s 68ms/step - loss: 110.7447 - mae: 110.7447 - mse: 75067.1484 - val_loss: 592.7402 - val_mae: 592.7402 - val_mse: 1250752.8750\n",
      "Epoch 36/100\n",
      " 1/18 [>.............................] - ETA: 0s - loss: 149.3918 - mae: 149.3918 - mse: 137843.1406INFO:tensorflow:Assets written to: model_experiment\\dense_model\\assets\n",
      "18/18 [==============================] - 1s 81ms/step - loss: 116.3301 - mae: 116.3301 - mse: 77425.8203 - val_loss: 592.4695 - val_mae: 592.4695 - val_mse: 1246067.6250\n",
      "Epoch 37/100\n",
      "18/18 [==============================] - 0s 4ms/step - loss: 110.7676 - mae: 110.7676 - mse: 75596.7422 - val_loss: 618.5348 - val_mae: 618.5348 - val_mse: 1286741.1250\n",
      "Epoch 38/100\n",
      "18/18 [==============================] - 0s 6ms/step - loss: 112.5934 - mae: 112.5934 - mse: 75636.7422 - val_loss: 613.9558 - val_mae: 613.9558 - val_mse: 1306248.5000\n",
      "Epoch 39/100\n",
      " 1/18 [>.............................] - ETA: 0s - loss: 128.7077 - mae: 128.7077 - mse: 117613.7109INFO:tensorflow:Assets written to: model_experiment\\dense_model\\assets\n",
      "18/18 [==============================] - 1s 51ms/step - loss: 110.1321 - mae: 110.1321 - mse: 74271.8047 - val_loss: 586.6887 - val_mae: 586.6887 - val_mse: 1231216.8750\n",
      "Epoch 40/100\n",
      "18/18 [==============================] - 0s 7ms/step - loss: 109.4753 - mae: 109.4753 - mse: 73257.0078 - val_loss: 593.9155 - val_mae: 593.9155 - val_mse: 1256532.0000\n",
      "Epoch 41/100\n",
      "18/18 [==============================] - ETA: 0s - loss: 110.1777 - mae: 110.1777 - mse: 73581.0469INFO:tensorflow:Assets written to: model_experiment\\dense_model\\assets\n",
      "18/18 [==============================] - 1s 55ms/step - loss: 110.1777 - mae: 110.1777 - mse: 73581.0469 - val_loss: 586.4464 - val_mae: 586.4464 - val_mse: 1229670.6250\n",
      "Epoch 42/100\n",
      "18/18 [==============================] - 0s 3ms/step - loss: 111.5192 - mae: 111.5192 - mse: 76049.7734 - val_loss: 649.3649 - val_mae: 649.3649 - val_mse: 1345896.0000\n",
      "Epoch 43/100\n",
      "18/18 [==============================] - 0s 3ms/step - loss: 115.8939 - mae: 115.8939 - mse: 74405.6250 - val_loss: 686.8297 - val_mae: 686.8297 - val_mse: 1486393.5000\n",
      "Epoch 44/100\n",
      "18/18 [==============================] - 0s 3ms/step - loss: 123.0945 - mae: 123.0945 - mse: 83366.2969 - val_loss: 661.1306 - val_mae: 661.1306 - val_mse: 1411200.5000\n",
      "Epoch 45/100\n",
      "18/18 [==============================] - 0s 3ms/step - loss: 113.8169 - mae: 113.8169 - mse: 77100.1797 - val_loss: 626.8174 - val_mae: 626.8174 - val_mse: 1293825.6250\n",
      "Epoch 46/100\n",
      "18/18 [==============================] - 0s 3ms/step - loss: 114.0971 - mae: 114.0971 - mse: 76079.4297 - val_loss: 588.7770 - val_mae: 588.7770 - val_mse: 1238327.7500\n",
      "Epoch 47/100\n",
      "18/18 [==============================] - 0s 3ms/step - loss: 108.9936 - mae: 108.9936 - mse: 73660.3125 - val_loss: 636.0579 - val_mae: 636.0579 - val_mse: 1312958.8750\n",
      "Epoch 48/100\n",
      "18/18 [==============================] - 0s 4ms/step - loss: 109.2967 - mae: 109.2967 - mse: 73079.0781 - val_loss: 604.1584 - val_mae: 604.1584 - val_mse: 1245049.8750\n",
      "Epoch 49/100\n",
      "18/18 [==============================] - 0s 3ms/step - loss: 111.7787 - mae: 111.7787 - mse: 73888.9297 - val_loss: 591.5093 - val_mae: 591.5093 - val_mse: 1222480.7500\n",
      "Epoch 50/100\n",
      "18/18 [==============================] - 0s 3ms/step - loss: 111.7319 - mae: 111.7319 - mse: 73875.1562 - val_loss: 636.4681 - val_mae: 636.4681 - val_mse: 1341627.3750\n",
      "Epoch 51/100\n",
      "18/18 [==============================] - 0s 3ms/step - loss: 110.7498 - mae: 110.7498 - mse: 73830.9141 - val_loss: 589.2877 - val_mae: 589.2877 - val_mse: 1216413.8750\n",
      "Epoch 52/100\n",
      "18/18 [==============================] - 0s 3ms/step - loss: 111.5192 - mae: 111.5192 - mse: 75446.7031 - val_loss: 609.5291 - val_mae: 609.5291 - val_mse: 1277469.0000\n",
      "Epoch 53/100\n",
      "17/18 [===========================>..] - ETA: 0s - loss: 114.4005 - mae: 114.4005 - mse: 76531.9375INFO:tensorflow:Assets written to: model_experiment\\dense_model\\assets\n",
      "18/18 [==============================] - 1s 47ms/step - loss: 113.9868 - mae: 113.9868 - mse: 75753.0000 - val_loss: 584.7470 - val_mae: 584.7470 - val_mse: 1209497.1250\n",
      "Epoch 54/100\n",
      " 1/18 [>.............................] - ETA: 0s - loss: 98.4018 - mae: 98.4018 - mse: 71435.7422INFO:tensorflow:Assets written to: model_experiment\\dense_model\\assets\n",
      "18/18 [==============================] - 1s 58ms/step - loss: 110.1075 - mae: 110.1075 - mse: 72728.5781 - val_loss: 578.7414 - val_mae: 578.7414 - val_mse: 1200865.1250\n",
      "Epoch 55/100\n",
      "18/18 [==============================] - 0s 7ms/step - loss: 110.6423 - mae: 110.6423 - mse: 75084.4219 - val_loss: 581.5334 - val_mae: 581.5334 - val_mse: 1218269.2500\n",
      "Epoch 56/100\n",
      "18/18 [==============================] - 0s 6ms/step - loss: 107.6537 - mae: 107.6537 - mse: 71568.1328 - val_loss: 759.0195 - val_mae: 759.0195 - val_mse: 1698486.2500\n",
      "Epoch 57/100\n",
      "18/18 [==============================] - 0s 5ms/step - loss: 119.2012 - mae: 119.2012 - mse: 79652.9531 - val_loss: 603.5956 - val_mae: 603.5956 - val_mse: 1262627.0000\n",
      "Epoch 58/100\n",
      "18/18 [==============================] - 0s 6ms/step - loss: 116.4417 - mae: 116.4417 - mse: 75122.9062 - val_loss: 583.7294 - val_mae: 583.7294 - val_mse: 1206718.8750\n",
      "Epoch 59/100\n",
      "18/18 [==============================] - 0s 6ms/step - loss: 109.9014 - mae: 109.9014 - mse: 72680.9844 - val_loss: 592.8417 - val_mae: 592.8417 - val_mse: 1240090.6250\n",
      "Epoch 60/100\n",
      "18/18 [==============================] - 0s 4ms/step - loss: 107.7859 - mae: 107.7859 - mse: 72220.5000 - val_loss: 593.4966 - val_mae: 593.4966 - val_mse: 1220786.1250\n",
      "Epoch 61/100\n",
      " 1/18 [>.............................] - ETA: 0s - loss: 130.6452 - mae: 130.6452 - mse: 96190.2344INFO:tensorflow:Assets written to: model_experiment\\dense_model\\assets\n",
      "18/18 [==============================] - 1s 54ms/step - loss: 107.6960 - mae: 107.6960 - mse: 72155.8516 - val_loss: 575.5124 - val_mae: 575.5124 - val_mse: 1194018.7500\n",
      "Epoch 62/100\n",
      "18/18 [==============================] - 0s 6ms/step - loss: 107.1258 - mae: 107.1258 - mse: 70836.3672 - val_loss: 580.2648 - val_mae: 580.2648 - val_mse: 1213139.3750\n",
      "Epoch 63/100\n",
      "18/18 [==============================] - 0s 6ms/step - loss: 111.8452 - mae: 111.8452 - mse: 73612.9609 - val_loss: 654.6136 - val_mae: 654.6136 - val_mse: 1348992.7500\n",
      "Epoch 64/100\n",
      "18/18 [==============================] - 0s 7ms/step - loss: 110.3121 - mae: 110.3121 - mse: 72546.6719 - val_loss: 610.7806 - val_mae: 610.7806 - val_mse: 1251884.3750\n",
      "Epoch 65/100\n",
      " 1/18 [>.............................] - ETA: 0s - loss: 131.5207 - mae: 131.5207 - mse: 162901.5312INFO:tensorflow:Assets written to: model_experiment\\dense_model\\assets\n",
      "18/18 [==============================] - 1s 67ms/step - loss: 109.7098 - mae: 109.7098 - mse: 72575.1016 - val_loss: 573.9961 - val_mae: 573.9961 - val_mse: 1190387.7500\n",
      "Epoch 66/100\n",
      " 1/18 [>.............................] - ETA: 0s - loss: 112.4865 - mae: 112.4865 - mse: 72743.6016INFO:tensorflow:Assets written to: model_experiment\\dense_model\\assets\n",
      "18/18 [==============================] - 1s 47ms/step - loss: 106.8139 - mae: 106.8139 - mse: 70554.2891 - val_loss: 572.9990 - val_mae: 572.9990 - val_mse: 1187547.6250\n",
      "Epoch 67/100\n",
      "18/18 [==============================] - 0s 5ms/step - loss: 106.1394 - mae: 106.1394 - mse: 70026.4453 - val_loss: 602.1527 - val_mae: 602.1527 - val_mse: 1255794.0000\n",
      "Epoch 68/100\n",
      "18/18 [==============================] - 0s 6ms/step - loss: 112.9245 - mae: 112.9245 - mse: 70779.4062 - val_loss: 687.6381 - val_mae: 687.6381 - val_mse: 1476287.6250\n",
      "Epoch 69/100\n",
      "18/18 [==============================] - 0s 5ms/step - loss: 126.9916 - mae: 126.9916 - mse: 82712.0312 - val_loss: 664.9477 - val_mae: 664.9477 - val_mse: 1413701.7500\n",
      "Epoch 70/100\n",
      "18/18 [==============================] - 0s 5ms/step - loss: 124.8734 - mae: 124.8734 - mse: 83039.0547 - val_loss: 619.6690 - val_mae: 619.6690 - val_mse: 1298641.7500\n",
      "Epoch 71/100\n",
      "18/18 [==============================] - 0s 6ms/step - loss: 109.8522 - mae: 109.8522 - mse: 71643.5000 - val_loss: 582.3636 - val_mae: 582.3636 - val_mse: 1201057.1250\n",
      "Epoch 72/100\n",
      "18/18 [==============================] - 0s 7ms/step - loss: 107.6717 - mae: 107.6717 - mse: 71406.8047 - val_loss: 573.4948 - val_mae: 573.4948 - val_mse: 1192646.0000\n",
      "Epoch 73/100\n",
      "18/18 [==============================] - 0s 7ms/step - loss: 109.6036 - mae: 109.6036 - mse: 71761.6406 - val_loss: 583.9049 - val_mae: 583.9049 - val_mse: 1218967.6250\n",
      "Epoch 74/100\n",
      "18/18 [==============================] - ETA: 0s - loss: 107.7049 - mae: 107.7049 - mse: 71542.6328 INFO:tensorflow:Assets written to: model_experiment\\dense_model\\assets\n",
      "18/18 [==============================] - 1s 60ms/step - loss: 107.7049 - mae: 107.7049 - mse: 71542.6328 - val_loss: 572.9933 - val_mae: 572.9933 - val_mse: 1189806.2500\n",
      "Epoch 75/100\n",
      "18/18 [==============================] - 0s 7ms/step - loss: 108.1179 - mae: 108.1179 - mse: 70535.7891 - val_loss: 583.9371 - val_mae: 583.9371 - val_mse: 1199156.7500\n",
      "Epoch 76/100\n",
      "18/18 [==============================] - 0s 8ms/step - loss: 109.5447 - mae: 109.5447 - mse: 71991.1406 - val_loss: 592.8240 - val_mae: 592.8240 - val_mse: 1234672.7500\n",
      "Epoch 77/100\n",
      "18/18 [==============================] - 0s 5ms/step - loss: 108.3639 - mae: 108.3639 - mse: 70784.8281 - val_loss: 575.4263 - val_mae: 575.4263 - val_mse: 1197660.3750\n",
      "Epoch 78/100\n",
      "18/18 [==============================] - 0s 5ms/step - loss: 108.0055 - mae: 108.0055 - mse: 70093.0234 - val_loss: 574.3942 - val_mae: 574.3942 - val_mse: 1193026.5000\n",
      "Epoch 79/100\n",
      "18/18 [==============================] - 0s 6ms/step - loss: 107.3223 - mae: 107.3223 - mse: 71654.6562 - val_loss: 597.2482 - val_mae: 597.2482 - val_mse: 1242042.8750\n",
      "Epoch 80/100\n",
      "18/18 [==============================] - 0s 5ms/step - loss: 108.1452 - mae: 108.1452 - mse: 71775.7266 - val_loss: 586.6864 - val_mae: 586.6864 - val_mse: 1199788.8750\n",
      "Epoch 81/100\n",
      "18/18 [==============================] - 0s 7ms/step - loss: 106.1153 - mae: 106.1153 - mse: 69995.2344 - val_loss: 575.1766 - val_mae: 575.1766 - val_mse: 1195805.7500\n",
      "Epoch 82/100\n",
      "18/18 [==============================] - 0s 3ms/step - loss: 116.6343 - mae: 116.6343 - mse: 77928.7578 - val_loss: 575.4343 - val_mae: 575.4343 - val_mse: 1192046.8750\n",
      "Epoch 83/100\n",
      "18/18 [==============================] - 0s 4ms/step - loss: 110.8731 - mae: 110.8731 - mse: 72825.0703 - val_loss: 654.5373 - val_mae: 654.5373 - val_mse: 1375392.7500\n",
      "Epoch 84/100\n",
      " 1/18 [>.............................] - ETA: 0s - loss: 118.1786 - mae: 118.1786 - mse: 84775.5156INFO:tensorflow:Assets written to: model_experiment\\dense_model\\assets\n",
      "18/18 [==============================] - 1s 42ms/step - loss: 111.9106 - mae: 111.9106 - mse: 73183.8594 - val_loss: 572.3372 - val_mae: 572.3372 - val_mse: 1176463.7500\n",
      "Epoch 85/100\n",
      "18/18 [==============================] - 0s 4ms/step - loss: 106.6154 - mae: 106.6154 - mse: 70752.4531 - val_loss: 574.2831 - val_mae: 574.2831 - val_mse: 1178176.8750\n",
      "Epoch 86/100\n",
      "18/18 [==============================] - 0s 4ms/step - loss: 108.4299 - mae: 108.4299 - mse: 70129.7344 - val_loss: 583.3528 - val_mae: 583.3528 - val_mse: 1191899.8750\n",
      "Epoch 87/100\n",
      "18/18 [==============================] - 0s 5ms/step - loss: 105.7481 - mae: 105.7481 - mse: 68589.9609 - val_loss: 593.0125 - val_mae: 593.0125 - val_mse: 1230072.6250\n",
      "Epoch 88/100\n",
      " 1/18 [>.............................] - ETA: 0s - loss: 133.8444 - mae: 133.8444 - mse: 128483.6562INFO:tensorflow:Assets written to: model_experiment\\dense_model\\assets\n",
      "18/18 [==============================] - 1s 49ms/step - loss: 107.2604 - mae: 107.2604 - mse: 70897.3438 - val_loss: 571.7660 - val_mae: 571.7660 - val_mse: 1182083.1250\n",
      "Epoch 89/100\n",
      " 1/18 [>.............................] - ETA: 0s - loss: 102.2973 - mae: 102.2973 - mse: 59562.4492INFO:tensorflow:Assets written to: model_experiment\\dense_model\\assets\n",
      "18/18 [==============================] - 1s 51ms/step - loss: 106.7823 - mae: 106.7823 - mse: 69118.5469 - val_loss: 568.6370 - val_mae: 568.6370 - val_mse: 1174330.0000\n",
      "Epoch 90/100\n",
      "18/18 [==============================] - 0s 5ms/step - loss: 105.8682 - mae: 105.8682 - mse: 67370.7109 - val_loss: 602.9686 - val_mae: 602.9686 - val_mse: 1230766.5000\n",
      "Epoch 91/100\n",
      "18/18 [==============================] - 0s 3ms/step - loss: 110.6365 - mae: 110.6365 - mse: 72148.0547 - val_loss: 605.6950 - val_mae: 605.6950 - val_mse: 1257884.7500\n",
      "Epoch 92/100\n",
      "18/18 [==============================] - 0s 3ms/step - loss: 109.4669 - mae: 109.4669 - mse: 72193.7969 - val_loss: 572.4371 - val_mae: 572.4371 - val_mse: 1183753.5000\n",
      "Epoch 93/100\n",
      "18/18 [==============================] - 0s 3ms/step - loss: 113.0063 - mae: 113.0063 - mse: 73147.9688 - val_loss: 617.3006 - val_mae: 617.3006 - val_mse: 1284327.6250\n",
      "Epoch 94/100\n",
      "18/18 [==============================] - 0s 3ms/step - loss: 112.4903 - mae: 112.4903 - mse: 73928.3203 - val_loss: 599.9799 - val_mae: 599.9799 - val_mse: 1225949.6250\n",
      "Epoch 95/100\n",
      "18/18 [==============================] - 0s 2ms/step - loss: 106.0053 - mae: 106.0053 - mse: 68764.8672 - val_loss: 570.6210 - val_mae: 570.6210 - val_mse: 1175398.6250\n",
      "Epoch 96/100\n",
      "18/18 [==============================] - 0s 5ms/step - loss: 109.5910 - mae: 109.5910 - mse: 70458.2578 - val_loss: 676.3400 - val_mae: 676.3400 - val_mse: 1426409.6250\n",
      "Epoch 97/100\n",
      "18/18 [==============================] - 0s 4ms/step - loss: 110.2213 - mae: 110.2213 - mse: 72762.1406 - val_loss: 574.2986 - val_mae: 574.2986 - val_mse: 1177001.5000\n",
      "Epoch 98/100\n",
      "18/18 [==============================] - 0s 4ms/step - loss: 106.7290 - mae: 106.7290 - mse: 69964.2578 - val_loss: 576.7735 - val_mae: 576.7735 - val_mse: 1192501.3750\n",
      "Epoch 99/100\n",
      " 1/18 [>.............................] - ETA: 0s - loss: 151.1015 - mae: 151.1015 - mse: 126883.7188INFO:tensorflow:Assets written to: model_experiment\\dense_model\\assets\n",
      "18/18 [==============================] - 1s 37ms/step - loss: 106.9889 - mae: 106.9889 - mse: 70740.2188 - val_loss: 568.5499 - val_mae: 568.5499 - val_mse: 1172587.7500\n",
      "Epoch 100/100\n",
      "18/18 [==============================] - 0s 4ms/step - loss: 117.7622 - mae: 117.7622 - mse: 73195.7734 - val_loss: 662.5317 - val_mae: 662.5317 - val_mse: 1358190.5000\n"
     ]
    }
   ],
   "source": [
    "tf.random.set_seed(42)\n",
    "inputs = keras.Input(shape=(7,), name='input_layers')\n",
    "x = keras.layers.Dense(128, activation='relu')(inputs)\n",
    "outputs = keras.layers.Dense(1)(x)\n",
    "model_1 = keras.Model(inputs, outputs, name='dense_model')\n",
    "\n",
    "model_1.compile(loss='mae', optimizer=tf.keras.optimizers.Adam(), metrics=['mae', 'mse'])\n",
    "hist_1 = model_1.fit(train_windows, train_labels, epochs=100, batch_size=128, validation_data=(test_windows, test_labels),verbose=1, callbacks=[crete_model_checkpoint(model_1.name)])"
   ]
  },
  {
   "cell_type": "code",
   "execution_count": 22,
   "metadata": {},
   "outputs": [
    {
     "name": "stdout",
     "output_type": "stream",
     "text": [
      "Model: \"dense_model\"\n",
      "_________________________________________________________________\n",
      " Layer (type)                Output Shape              Param #   \n",
      "=================================================================\n",
      " input_layers (InputLayer)   [(None, 7)]               0         \n",
      "                                                                 \n",
      " dense (Dense)               (None, 128)               1024      \n",
      "                                                                 \n",
      " dense_1 (Dense)             (None, 1)                 129       \n",
      "                                                                 \n",
      "=================================================================\n",
      "Total params: 1,153\n",
      "Trainable params: 1,153\n",
      "Non-trainable params: 0\n",
      "_________________________________________________________________\n"
     ]
    }
   ],
   "source": [
    "model_1.summary()"
   ]
  },
  {
   "cell_type": "code",
   "execution_count": 23,
   "metadata": {},
   "outputs": [
    {
     "name": "stdout",
     "output_type": "stream",
     "text": [
      "18/18 [==============================] - 0s 2ms/step - loss: 662.5316 - mae: 662.5316 - mse: 1358190.3750\n"
     ]
    },
    {
     "data": {
      "text/plain": [
       "[662.5316162109375, 662.5316162109375, 1358190.375]"
      ]
     },
     "execution_count": 23,
     "metadata": {},
     "output_type": "execute_result"
    }
   ],
   "source": [
    "model_1.evaluate(test_windows, test_labels)"
   ]
  },
  {
   "cell_type": "code",
   "execution_count": 24,
   "metadata": {},
   "outputs": [
    {
     "name": "stdout",
     "output_type": "stream",
     "text": [
      "18/18 [==============================] - 0s 1ms/step - loss: 568.5499 - mae: 568.5499 - mse: 1172587.7500\n"
     ]
    },
    {
     "data": {
      "text/plain": [
       "[568.5499267578125, 568.5499267578125, 1172587.75]"
      ]
     },
     "execution_count": 24,
     "metadata": {},
     "output_type": "execute_result"
    }
   ],
   "source": [
    "#load the save best performing model\n",
    "model_1 = keras.models.load_model('model_experiment/dense_model')\n",
    "model_1.evaluate(test_windows, test_labels)"
   ]
  },
  {
   "cell_type": "code",
   "execution_count": 25,
   "metadata": {},
   "outputs": [
    {
     "data": {
      "text/plain": [
       "array([8874.493, 8789.944, 9040.987, 8804.829, 8741.212, 8749.836,\n",
       "       8705.866, 8513.171, 8478.417, 8536.302], dtype=float32)"
      ]
     },
     "execution_count": 25,
     "metadata": {},
     "output_type": "execute_result"
    }
   ],
   "source": [
    "predictions = model_1.predict(test_windows).reshape(-1,)\n",
    "predictions[:10]"
   ]
  },
  {
   "cell_type": "code",
   "execution_count": 26,
   "metadata": {},
   "outputs": [
    {
     "data": {
      "text/plain": [
       "{'mae': 568.5498587262708,\n",
       " 'mse': 1172587.9917035494,\n",
       " 'rmse': 1082.8610214166679,\n",
       " 'mape': 0.025492293493015787,\n",
       " 'mase': 0.9987845236174441}"
      ]
     },
     "execution_count": 26,
     "metadata": {},
     "output_type": "execute_result"
    }
   ],
   "source": [
    "model_1_score = evaluate_score(test_labels.reshape(-1,), predictions)\n",
    "model_1_score"
   ]
  },
  {
   "cell_type": "code",
   "execution_count": 27,
   "metadata": {},
   "outputs": [],
   "source": [
    "def plot_preds(y_true, y_pred, title):\n",
    "    plt.figure(figsize=(10,6))\n",
    "    plt.title(title)\n",
    "    plt.grid(True)\n",
    "    plt.scatter(np.arange(len(y_true)), y_true, s=5, color='blue',label='True')\n",
    "    plt.plot(np.arange(len(y_true)), y_pred, color='orange',label='Prediction')\n",
    "    plt.axis([400, 500, 30000, 50000]);\n",
    "    plt.legend()"
   ]
  },
  {
   "cell_type": "code",
   "execution_count": 28,
   "metadata": {},
   "outputs": [
    {
     "data": {
      "image/png": "[encoded data removed]",
      "text/plain": [
       "<Figure size 720x432 with 1 Axes>"
      ]
     },
     "metadata": {
      "needs_background": "light"
     },
     "output_type": "display_data"
    }
   ],
   "source": [
    "plot_preds(test_labels, predictions, 'Dense Model with 568.55 mae')"
   ]
  },
  {
   "cell_type": "markdown",
   "metadata": {},
   "source": [
    "## Model 2 : window = 30, horizon = 1"
   ]
  },
  {
   "cell_type": "code",
   "execution_count": 29,
   "metadata": {},
   "outputs": [
    {
     "data": {
      "text/plain": [
       "((2205, 30), (552, 30), (2205, 1), (552, 1))"
      ]
     },
     "execution_count": 29,
     "metadata": {},
     "output_type": "execute_result"
    }
   ],
   "source": [
    "full_windows, full_labels = make_windows(prices, 30, 1)\n",
    "train_windows, test_windows, train_labels, test_labels =  make_train_test_splits(full_windows, full_labels) \n",
    "train_windows.shape, test_windows.shape, train_labels.shape, test_labels.shape"
   ]
  },
  {
   "cell_type": "code",
   "execution_count": 30,
   "metadata": {},
   "outputs": [
    {
     "name": "stdout",
     "output_type": "stream",
     "text": [
      "Epoch 1/100\n",
      " 1/18 [>.............................] - ETA: 5s - loss: 3486.3679 - mae: 3486.3679 - mse: 30126180.0000INFO:tensorflow:Assets written to: model_experiment\\model_2_30_windows\\assets\n",
      "18/18 [==============================] - 1s 50ms/step - loss: 1355.7559 - mae: 1355.7559 - mse: 7234175.5000 - val_loss: 3228.8564 - val_mae: 3228.8564 - val_mse: 25151150.0000\n",
      "Epoch 2/100\n",
      " 1/18 [>.............................] - ETA: 0s - loss: 489.0132 - mae: 489.0132 - mse: 1059900.3750INFO:tensorflow:Assets written to: model_experiment\\model_2_30_windows\\assets\n",
      "18/18 [==============================] - 1s 60ms/step - loss: 440.8286 - mae: 440.8286 - mse: 832473.7500 - val_loss: 2100.4729 - val_mae: 2100.4729 - val_mse: 11995920.0000\n",
      "Epoch 3/100\n",
      " 1/18 [>.............................] - ETA: 0s - loss: 320.0177 - mae: 320.0177 - mse: 658722.6875INFO:tensorflow:Assets written to: model_experiment\\model_2_30_windows\\assets\n",
      "18/18 [==============================] - 1s 49ms/step - loss: 324.9293 - mae: 324.9293 - mse: 479839.5000 - val_loss: 1438.3204 - val_mae: 1438.3204 - val_mse: 6253627.5000\n",
      "Epoch 4/100\n",
      " 1/18 [>.............................] - ETA: 0s - loss: 227.0985 - mae: 227.0985 - mse: 274771.1875INFO:tensorflow:Assets written to: model_experiment\\model_2_30_windows\\assets\n",
      "18/18 [==============================] - 1s 52ms/step - loss: 276.6092 - mae: 276.6092 - mse: 356049.1562 - val_loss: 1328.4358 - val_mae: 1328.4358 - val_mse: 5300945.5000\n",
      "Epoch 5/100\n",
      " 1/18 [>.............................] - ETA: 0s - loss: 198.9607 - mae: 198.9607 - mse: 150492.3750INFO:tensorflow:Assets written to: model_experiment\\model_2_30_windows\\assets\n",
      "18/18 [==============================] - 1s 39ms/step - loss: 235.3226 - mae: 235.3226 - mse: 267395.5625 - val_loss: 1205.6249 - val_mae: 1205.6249 - val_mse: 4397597.0000\n",
      "Epoch 6/100\n",
      "18/18 [==============================] - 0s 5ms/step - loss: 236.6436 - mae: 236.6436 - mse: 262101.7344 - val_loss: 1455.2328 - val_mae: 1455.2328 - val_mse: 5387168.5000\n",
      "Epoch 7/100\n",
      " 1/18 [>.............................] - ETA: 0s - loss: 232.9136 - mae: 232.9136 - mse: 233701.1875INFO:tensorflow:Assets written to: model_experiment\\model_2_30_windows\\assets\n",
      "18/18 [==============================] - 1s 52ms/step - loss: 216.1680 - mae: 216.1680 - mse: 224137.5312 - val_loss: 1084.1284 - val_mae: 1084.1284 - val_mse: 3681616.5000\n",
      "Epoch 8/100\n",
      " 1/18 [>.............................] - ETA: 0s - loss: 196.7264 - mae: 196.7264 - mse: 160873.0938INFO:tensorflow:Assets written to: model_experiment\\model_2_30_windows\\assets\n",
      "18/18 [==============================] - 1s 39ms/step - loss: 199.2457 - mae: 199.2457 - mse: 197806.1250 - val_loss: 1052.2528 - val_mae: 1052.2528 - val_mse: 3422525.7500\n",
      "Epoch 9/100\n",
      "18/18 [==============================] - 0s 4ms/step - loss: 192.1052 - mae: 192.1052 - mse: 182423.9375 - val_loss: 1077.8964 - val_mae: 1077.8964 - val_mse: 3725551.7500\n",
      "Epoch 10/100\n",
      " 1/18 [>.............................] - ETA: 0s - loss: 277.3598 - mae: 277.3598 - mse: 368003.3125INFO:tensorflow:Assets written to: model_experiment\\model_2_30_windows\\assets\n",
      "18/18 [==============================] - 1s 48ms/step - loss: 191.0757 - mae: 191.0757 - mse: 178238.9375 - val_loss: 980.9449 - val_mae: 980.9449 - val_mse: 3018502.7500\n",
      "Epoch 11/100\n",
      " 1/18 [>.............................] - ETA: 0s - loss: 170.6344 - mae: 170.6344 - mse: 138408.9375INFO:tensorflow:Assets written to: model_experiment\\model_2_30_windows\\assets\n",
      "18/18 [==============================] - 1s 44ms/step - loss: 183.8204 - mae: 183.8204 - mse: 163657.3438 - val_loss: 975.5539 - val_mae: 975.5539 - val_mse: 2872152.7500\n",
      "Epoch 12/100\n",
      " 1/18 [>.............................] - ETA: 0s - loss: 163.7985 - mae: 163.7985 - mse: 142811.2500INFO:tensorflow:Assets written to: model_experiment\\model_2_30_windows\\assets\n",
      "18/18 [==============================] - 1s 48ms/step - loss: 178.2634 - mae: 178.2634 - mse: 159268.8750 - val_loss: 948.0048 - val_mae: 948.0048 - val_mse: 2722162.0000\n",
      "Epoch 13/100\n",
      "18/18 [==============================] - 0s 3ms/step - loss: 175.3386 - mae: 175.3386 - mse: 153252.2812 - val_loss: 1063.5247 - val_mae: 1063.5247 - val_mse: 3502031.2500\n",
      "Epoch 14/100\n",
      " 1/18 [>.............................] - ETA: 0s - loss: 244.2012 - mae: 244.2012 - mse: 278532.5625INFO:tensorflow:Assets written to: model_experiment\\model_2_30_windows\\assets\n",
      "18/18 [==============================] - 1s 41ms/step - loss: 175.0645 - mae: 175.0645 - mse: 153280.0312 - val_loss: 915.4407 - val_mae: 915.4407 - val_mse: 2708338.0000\n",
      "Epoch 15/100\n",
      "18/18 [==============================] - 0s 5ms/step - loss: 169.7263 - mae: 169.7263 - mse: 140083.8125 - val_loss: 974.3902 - val_mae: 974.3902 - val_mse: 2960704.5000\n",
      "Epoch 16/100\n",
      " 1/18 [>.............................] - ETA: 0s - loss: 176.4270 - mae: 176.4270 - mse: 133022.2188INFO:tensorflow:Assets written to: model_experiment\\model_2_30_windows\\assets\n",
      "18/18 [==============================] - 1s 50ms/step - loss: 169.7636 - mae: 169.7636 - mse: 145334.5156 - val_loss: 846.2086 - val_mae: 846.2086 - val_mse: 2296290.0000\n",
      "Epoch 17/100\n",
      "18/18 [==============================] - 0s 6ms/step - loss: 155.0614 - mae: 155.0614 - mse: 126375.6484 - val_loss: 993.2019 - val_mae: 993.2019 - val_mse: 2723265.7500\n",
      "Epoch 18/100\n",
      "18/18 [==============================] - 0s 4ms/step - loss: 160.0334 - mae: 160.0334 - mse: 130144.9844 - val_loss: 1051.7976 - val_mae: 1051.7976 - val_mse: 2946699.2500\n",
      "Epoch 19/100\n",
      "18/18 [==============================] - 0s 3ms/step - loss: 157.0540 - mae: 157.0540 - mse: 124600.1016 - val_loss: 911.2082 - val_mae: 911.2082 - val_mse: 2616855.2500\n",
      "Epoch 20/100\n",
      "18/18 [==============================] - 0s 3ms/step - loss: 150.9050 - mae: 150.9050 - mse: 121545.5625 - val_loss: 868.9191 - val_mae: 868.9191 - val_mse: 2210934.2500\n",
      "Epoch 21/100\n",
      "18/18 [==============================] - 0s 2ms/step - loss: 148.8164 - mae: 148.8164 - mse: 118413.9219 - val_loss: 1052.9574 - val_mae: 1052.9574 - val_mse: 2886615.0000\n",
      "Epoch 22/100\n",
      "18/18 [==============================] - 0s 3ms/step - loss: 180.5614 - mae: 180.5614 - mse: 144722.9375 - val_loss: 1111.7019 - val_mae: 1111.7019 - val_mse: 3531535.7500\n",
      "Epoch 23/100\n",
      "18/18 [==============================] - 0s 3ms/step - loss: 166.4665 - mae: 166.4665 - mse: 129372.9375 - val_loss: 1239.3289 - val_mae: 1239.3289 - val_mse: 3711876.7500\n",
      "Epoch 24/100\n",
      " 1/18 [>.............................] - ETA: 0s - loss: 229.1082 - mae: 229.1082 - mse: 179618.1562INFO:tensorflow:Assets written to: model_experiment\\model_2_30_windows\\assets\n",
      "18/18 [==============================] - 1s 36ms/step - loss: 160.6666 - mae: 160.6666 - mse: 120675.4219 - val_loss: 795.9519 - val_mae: 795.9519 - val_mse: 2073161.2500\n",
      "Epoch 25/100\n",
      "18/18 [==============================] - 0s 5ms/step - loss: 146.8931 - mae: 146.8931 - mse: 109711.0078 - val_loss: 975.3970 - val_mae: 975.3970 - val_mse: 2566111.0000\n",
      "Epoch 26/100\n",
      " 1/18 [>.............................] - ETA: 0s - loss: 145.0853 - mae: 145.0853 - mse: 69645.5312INFO:tensorflow:Assets written to: model_experiment\\model_2_30_windows\\assets\n",
      "18/18 [==============================] - 1s 49ms/step - loss: 138.1841 - mae: 138.1841 - mse: 101909.3906 - val_loss: 762.1741 - val_mae: 762.1741 - val_mse: 1906490.2500\n",
      "Epoch 27/100\n",
      " 1/18 [>.............................] - ETA: 0s - loss: 101.7899 - mae: 101.7899 - mse: 35561.5547INFO:tensorflow:Assets written to: model_experiment\\model_2_30_windows\\assets\n",
      "18/18 [==============================] - 1s 39ms/step - loss: 137.9845 - mae: 137.9845 - mse: 100119.9062 - val_loss: 743.4153 - val_mae: 743.4153 - val_mse: 1798742.6250\n",
      "Epoch 28/100\n",
      "18/18 [==============================] - 0s 5ms/step - loss: 132.4391 - mae: 132.4391 - mse: 96846.8047 - val_loss: 778.2568 - val_mae: 778.2568 - val_mse: 1966739.0000\n",
      "Epoch 29/100\n",
      "18/18 [==============================] - 0s 3ms/step - loss: 137.8713 - mae: 137.8713 - mse: 102107.3516 - val_loss: 747.7634 - val_mae: 747.7634 - val_mse: 1760708.8750\n",
      "Epoch 30/100\n",
      "18/18 [==============================] - 0s 3ms/step - loss: 134.2290 - mae: 134.2290 - mse: 96191.0156 - val_loss: 1184.8724 - val_mae: 1184.8724 - val_mse: 3387699.5000\n",
      "Epoch 31/100\n",
      " 1/18 [>.............................] - ETA: 0s - loss: 206.4723 - mae: 206.4723 - mse: 123838.9062INFO:tensorflow:Assets written to: model_experiment\\model_2_30_windows\\assets\n",
      "18/18 [==============================] - 1s 50ms/step - loss: 144.4719 - mae: 144.4719 - mse: 106976.1562 - val_loss: 733.7308 - val_mae: 733.7308 - val_mse: 1707733.1250\n",
      "Epoch 32/100\n",
      "18/18 [==============================] - 0s 5ms/step - loss: 141.5928 - mae: 141.5928 - mse: 102813.8594 - val_loss: 919.5980 - val_mae: 919.5980 - val_mse: 2306721.0000\n",
      "Epoch 33/100\n",
      "18/18 [==============================] - 0s 4ms/step - loss: 143.2093 - mae: 143.2093 - mse: 98739.5938 - val_loss: 737.1912 - val_mae: 737.1912 - val_mse: 1717141.5000\n",
      "Epoch 34/100\n",
      " 1/18 [>.............................] - ETA: 0s - loss: 130.6865 - mae: 130.6865 - mse: 69450.4375INFO:tensorflow:Assets written to: model_experiment\\model_2_30_windows\\assets\n",
      "18/18 [==============================] - 1s 40ms/step - loss: 130.1554 - mae: 130.1554 - mse: 92131.4297 - val_loss: 711.8790 - val_mae: 711.8790 - val_mse: 1676953.1250\n",
      "Epoch 35/100\n",
      " 1/18 [>.............................] - ETA: 0s - loss: 148.1151 - mae: 148.1151 - mse: 197124.1719INFO:tensorflow:Assets written to: model_experiment\\model_2_30_windows\\assets\n",
      "18/18 [==============================] - 1s 49ms/step - loss: 127.6885 - mae: 127.6885 - mse: 91238.2656 - val_loss: 703.1977 - val_mae: 703.1977 - val_mse: 1588098.5000\n",
      "Epoch 36/100\n",
      "18/18 [==============================] - 0s 3ms/step - loss: 139.0965 - mae: 139.0965 - mse: 97004.8203 - val_loss: 957.8039 - val_mae: 957.8039 - val_mse: 2420051.7500\n",
      "Epoch 37/100\n",
      "18/18 [==============================] - 0s 3ms/step - loss: 163.4116 - mae: 163.4116 - mse: 119516.3516 - val_loss: 878.5516 - val_mae: 878.5516 - val_mse: 2297263.7500\n",
      "Epoch 38/100\n",
      "18/18 [==============================] - 0s 2ms/step - loss: 133.1427 - mae: 133.1427 - mse: 93462.2656 - val_loss: 730.0355 - val_mae: 730.0354 - val_mse: 1739217.5000\n",
      "Epoch 39/100\n",
      "18/18 [==============================] - 0s 3ms/step - loss: 129.4243 - mae: 129.4243 - mse: 89319.3281 - val_loss: 786.4425 - val_mae: 786.4425 - val_mse: 1822362.7500\n",
      "Epoch 40/100\n",
      "18/18 [==============================] - 0s 3ms/step - loss: 134.6774 - mae: 134.6774 - mse: 89922.3984 - val_loss: 795.5594 - val_mae: 795.5594 - val_mse: 1846170.0000\n",
      "Epoch 41/100\n",
      " 1/18 [>.............................] - ETA: 0s - loss: 103.7396 - mae: 103.7396 - mse: 32625.0020INFO:tensorflow:Assets written to: model_experiment\\model_2_30_windows\\assets\n",
      "18/18 [==============================] - 1s 39ms/step - loss: 131.8886 - mae: 131.8886 - mse: 91044.8359 - val_loss: 690.5335 - val_mae: 690.5335 - val_mse: 1534181.2500\n",
      "Epoch 42/100\n",
      "18/18 [==============================] - 0s 4ms/step - loss: 131.8480 - mae: 131.8480 - mse: 90625.4297 - val_loss: 702.3247 - val_mae: 702.3247 - val_mse: 1562253.7500\n",
      "Epoch 43/100\n",
      "18/18 [==============================] - 0s 3ms/step - loss: 126.1674 - mae: 126.1674 - mse: 87331.6250 - val_loss: 884.6838 - val_mae: 884.6838 - val_mse: 2295136.0000\n",
      "Epoch 44/100\n",
      " 1/18 [>.............................] - ETA: 0s - loss: 183.3369 - mae: 183.3369 - mse: 168589.3750INFO:tensorflow:Assets written to: model_experiment\\model_2_30_windows\\assets\n",
      "18/18 [==============================] - 1s 51ms/step - loss: 134.0982 - mae: 134.0982 - mse: 93591.1484 - val_loss: 679.9898 - val_mae: 679.9898 - val_mse: 1488054.5000\n",
      "Epoch 45/100\n",
      " 1/18 [>.............................] - ETA: 0s - loss: 124.6466 - mae: 124.6466 - mse: 75155.0938INFO:tensorflow:Assets written to: model_experiment\\model_2_30_windows\\assets\n",
      "18/18 [==============================] - 1s 39ms/step - loss: 121.1940 - mae: 121.1940 - mse: 82991.9219 - val_loss: 671.9547 - val_mae: 671.9547 - val_mse: 1467669.3750\n",
      "Epoch 46/100\n",
      "18/18 [==============================] - 0s 4ms/step - loss: 122.0685 - mae: 122.0685 - mse: 83964.9922 - val_loss: 677.0493 - val_mae: 677.0493 - val_mse: 1513406.6250\n",
      "Epoch 47/100\n",
      "18/18 [==============================] - 0s 3ms/step - loss: 123.1144 - mae: 123.1144 - mse: 84460.7891 - val_loss: 772.4979 - val_mae: 772.4979 - val_mse: 1745425.8750\n",
      "Epoch 48/100\n",
      " 1/18 [>.............................] - ETA: 0s - loss: 112.6075 - mae: 112.6075 - mse: 56890.9961INFO:tensorflow:Assets written to: model_experiment\\model_2_30_windows\\assets\n",
      "18/18 [==============================] - 1s 47ms/step - loss: 126.5950 - mae: 126.5950 - mse: 86830.7578 - val_loss: 660.8530 - val_mae: 660.8530 - val_mse: 1424466.6250\n",
      "Epoch 49/100\n",
      " 1/18 [>.............................] - ETA: 0s - loss: 122.5837 - mae: 122.5837 - mse: 107290.1406INFO:tensorflow:Assets written to: model_experiment\\model_2_30_windows\\assets\n",
      "18/18 [==============================] - 1s 46ms/step - loss: 125.6298 - mae: 125.6298 - mse: 83874.1094 - val_loss: 656.3412 - val_mae: 656.3412 - val_mse: 1411381.3750\n",
      "Epoch 50/100\n",
      "18/18 [==============================] - 0s 4ms/step - loss: 134.7089 - mae: 134.7089 - mse: 89642.8438 - val_loss: 1067.1210 - val_mae: 1067.1210 - val_mse: 3043583.2500\n",
      "Epoch 51/100\n",
      "18/18 [==============================] - 0s 3ms/step - loss: 138.9917 - mae: 138.9917 - mse: 89650.1250 - val_loss: 950.5087 - val_mae: 950.5087 - val_mse: 2522738.7500\n",
      "Epoch 52/100\n",
      "18/18 [==============================] - 0s 3ms/step - loss: 126.8756 - mae: 126.8756 - mse: 86538.5156 - val_loss: 669.9974 - val_mae: 669.9974 - val_mse: 1426645.6250\n",
      "Epoch 53/100\n",
      "18/18 [==============================] - 0s 2ms/step - loss: 138.1828 - mae: 138.1828 - mse: 92880.7656 - val_loss: 751.8718 - val_mae: 751.8718 - val_mse: 1750668.7500\n",
      "Epoch 54/100\n",
      "18/18 [==============================] - 0s 2ms/step - loss: 127.1270 - mae: 127.1270 - mse: 86252.1641 - val_loss: 821.5876 - val_mae: 821.5876 - val_mse: 1886241.6250\n",
      "Epoch 55/100\n",
      " 1/18 [>.............................] - ETA: 0s - loss: 109.8900 - mae: 109.8900 - mse: 47449.8984INFO:tensorflow:Assets written to: model_experiment\\model_2_30_windows\\assets\n",
      "18/18 [==============================] - 1s 51ms/step - loss: 150.0525 - mae: 150.0525 - mse: 102521.7031 - val_loss: 649.1849 - val_mae: 649.1849 - val_mse: 1407444.8750\n",
      "Epoch 56/100\n",
      "18/18 [==============================] - 0s 4ms/step - loss: 148.2697 - mae: 148.2697 - mse: 99716.6406 - val_loss: 686.0967 - val_mae: 686.0967 - val_mse: 1465515.5000\n",
      "Epoch 57/100\n",
      "18/18 [==============================] - 0s 4ms/step - loss: 121.9912 - mae: 121.9912 - mse: 81632.0234 - val_loss: 681.9152 - val_mae: 681.9152 - val_mse: 1455144.7500\n",
      "Epoch 58/100\n",
      "18/18 [==============================] - 0s 3ms/step - loss: 118.8236 - mae: 118.8236 - mse: 79381.0078 - val_loss: 794.5415 - val_mae: 794.5415 - val_mse: 1906225.3750\n",
      "Epoch 59/100\n",
      "18/18 [==============================] - 0s 2ms/step - loss: 161.3218 - mae: 161.3218 - mse: 114223.4922 - val_loss: 754.5662 - val_mae: 754.5662 - val_mse: 1664670.1250\n",
      "Epoch 60/100\n",
      "18/18 [==============================] - 0s 3ms/step - loss: 139.5848 - mae: 139.5848 - mse: 92180.9375 - val_loss: 803.7348 - val_mae: 803.7348 - val_mse: 1814762.0000\n",
      "Epoch 61/100\n",
      " 1/18 [>.............................] - ETA: 0s - loss: 126.3015 - mae: 126.3015 - mse: 56448.3516INFO:tensorflow:Assets written to: model_experiment\\model_2_30_windows\\assets\n",
      "18/18 [==============================] - 1s 39ms/step - loss: 120.0001 - mae: 120.0001 - mse: 79689.1094 - val_loss: 634.6215 - val_mae: 634.6215 - val_mse: 1333464.3750\n",
      "Epoch 62/100\n",
      "18/18 [==============================] - 0s 4ms/step - loss: 118.8868 - mae: 118.8868 - mse: 78540.2344 - val_loss: 691.1653 - val_mae: 691.1653 - val_mse: 1552231.8750\n",
      "Epoch 63/100\n",
      "18/18 [==============================] - 0s 4ms/step - loss: 122.4801 - mae: 122.4801 - mse: 81189.6406 - val_loss: 668.7933 - val_mae: 668.7933 - val_mse: 1407391.1250\n",
      "Epoch 64/100\n",
      "18/18 [==============================] - 0s 3ms/step - loss: 116.0230 - mae: 116.0230 - mse: 76022.3359 - val_loss: 750.9359 - val_mae: 750.9359 - val_mse: 1642279.8750\n",
      "Epoch 65/100\n",
      " 1/18 [>.............................] - ETA: 0s - loss: 123.4973 - mae: 123.4973 - mse: 80022.5391INFO:tensorflow:Assets written to: model_experiment\\model_2_30_windows\\assets\n",
      "18/18 [==============================] - 1s 49ms/step - loss: 119.9821 - mae: 119.9821 - mse: 79278.0859 - val_loss: 628.8356 - val_mae: 628.8356 - val_mse: 1315081.0000\n",
      "Epoch 66/100\n",
      "18/18 [==============================] - 0s 4ms/step - loss: 119.9505 - mae: 119.9505 - mse: 79400.1875 - val_loss: 666.1482 - val_mae: 666.1482 - val_mse: 1453447.8750\n",
      "Epoch 67/100\n",
      "18/18 [==============================] - 0s 5ms/step - loss: 117.2691 - mae: 117.2691 - mse: 77956.5703 - val_loss: 644.6558 - val_mae: 644.6558 - val_mse: 1379744.7500\n",
      "Epoch 68/100\n",
      "18/18 [==============================] - 0s 3ms/step - loss: 120.3440 - mae: 120.3440 - mse: 79731.0078 - val_loss: 744.1642 - val_mae: 744.1642 - val_mse: 1619112.6250\n",
      "Epoch 69/100\n",
      "18/18 [==============================] - 0s 2ms/step - loss: 119.5959 - mae: 119.5959 - mse: 78528.3594 - val_loss: 775.1666 - val_mae: 775.1666 - val_mse: 1712770.0000\n",
      "Epoch 70/100\n",
      "18/18 [==============================] - 0s 3ms/step - loss: 123.4997 - mae: 123.4997 - mse: 82560.8359 - val_loss: 672.9224 - val_mae: 672.9224 - val_mse: 1406081.5000\n",
      "Epoch 71/100\n",
      " 1/18 [>.............................] - ETA: 0s - loss: 117.5894 - mae: 117.5894 - mse: 62109.5625INFO:tensorflow:Assets written to: model_experiment\\model_2_30_windows\\assets\n",
      "18/18 [==============================] - 1s 39ms/step - loss: 120.7696 - mae: 120.7696 - mse: 79740.0938 - val_loss: 615.6058 - val_mae: 615.6058 - val_mse: 1283965.2500\n",
      "Epoch 72/100\n",
      " 1/18 [>.............................] - ETA: 0s - loss: 76.7378 - mae: 76.7378 - mse: 28677.0215INFO:tensorflow:Assets written to: model_experiment\\model_2_30_windows\\assets\n",
      "18/18 [==============================] - 1s 50ms/step - loss: 118.0319 - mae: 118.0319 - mse: 77871.0703 - val_loss: 610.7184 - val_mae: 610.7184 - val_mse: 1266365.7500\n",
      "Epoch 73/100\n",
      "18/18 [==============================] - 0s 5ms/step - loss: 114.4192 - mae: 114.4192 - mse: 75119.9141 - val_loss: 647.6674 - val_mae: 647.6674 - val_mse: 1343907.1250\n",
      "Epoch 74/100\n",
      "18/18 [==============================] - 0s 3ms/step - loss: 126.9448 - mae: 126.9448 - mse: 84539.5859 - val_loss: 619.5599 - val_mae: 619.5599 - val_mse: 1302104.5000\n",
      "Epoch 75/100\n",
      "18/18 [==============================] - 0s 3ms/step - loss: 116.8992 - mae: 116.8992 - mse: 76601.7188 - val_loss: 729.4564 - val_mae: 729.4564 - val_mse: 1565089.6250\n",
      "Epoch 76/100\n",
      " 1/18 [>.............................] - ETA: 0s - loss: 115.5157 - mae: 115.5157 - mse: 71525.1953INFO:tensorflow:Assets written to: model_experiment\\model_2_30_windows\\assets\n",
      "18/18 [==============================] - 1s 39ms/step - loss: 114.5701 - mae: 114.5701 - mse: 75364.6328 - val_loss: 609.6795 - val_mae: 609.6795 - val_mse: 1257418.8750\n",
      "Epoch 77/100\n",
      "18/18 [==============================] - 0s 5ms/step - loss: 113.2914 - mae: 113.2914 - mse: 74166.4141 - val_loss: 657.8644 - val_mae: 657.8644 - val_mse: 1359101.5000\n",
      "Epoch 78/100\n",
      "18/18 [==============================] - 0s 4ms/step - loss: 112.5076 - mae: 112.5076 - mse: 75719.1484 - val_loss: 615.6608 - val_mae: 615.6608 - val_mse: 1289845.8750\n",
      "Epoch 79/100\n",
      "18/18 [==============================] - 0s 4ms/step - loss: 112.0147 - mae: 112.0147 - mse: 74129.5547 - val_loss: 663.1063 - val_mae: 663.1063 - val_mse: 1405567.2500\n",
      "Epoch 80/100\n",
      "18/18 [==============================] - 0s 3ms/step - loss: 120.5827 - mae: 120.5827 - mse: 79332.9297 - val_loss: 749.9717 - val_mae: 749.9717 - val_mse: 1623506.7500\n",
      "Epoch 81/100\n",
      "18/18 [==============================] - 0s 3ms/step - loss: 126.3396 - mae: 126.3396 - mse: 80857.1172 - val_loss: 624.5036 - val_mae: 624.5036 - val_mse: 1294831.2500\n",
      "Epoch 82/100\n",
      " 1/18 [>.............................] - ETA: 0s - loss: 89.1286 - mae: 89.1286 - mse: 30326.2461INFO:tensorflow:Assets written to: model_experiment\\model_2_30_windows\\assets\n",
      "18/18 [==============================] - 1s 41ms/step - loss: 119.7702 - mae: 119.7702 - mse: 80683.1406 - val_loss: 608.3254 - val_mae: 608.3254 - val_mse: 1267191.8750\n",
      "Epoch 83/100\n",
      "18/18 [==============================] - 0s 5ms/step - loss: 114.4026 - mae: 114.4026 - mse: 74831.9375 - val_loss: 619.6156 - val_mae: 619.6156 - val_mse: 1283500.0000\n",
      "Epoch 84/100\n",
      "18/18 [==============================] - 0s 4ms/step - loss: 114.0509 - mae: 114.0509 - mse: 74428.9609 - val_loss: 773.8906 - val_mae: 773.8906 - val_mse: 1708357.3750\n",
      "Epoch 85/100\n",
      "18/18 [==============================] - 0s 3ms/step - loss: 121.2646 - mae: 121.2646 - mse: 79963.0000 - val_loss: 680.7919 - val_mae: 680.7919 - val_mse: 1427178.8750\n",
      "Epoch 86/100\n",
      "18/18 [==============================] - 0s 3ms/step - loss: 129.8817 - mae: 129.8817 - mse: 82055.5469 - val_loss: 611.7391 - val_mae: 611.7391 - val_mse: 1269261.7500\n",
      "Epoch 87/100\n",
      "18/18 [==============================] - 0s 3ms/step - loss: 127.4164 - mae: 127.4164 - mse: 82697.5234 - val_loss: 611.5058 - val_mae: 611.5058 - val_mse: 1272821.1250\n",
      "Epoch 88/100\n",
      "18/18 [==============================] - 0s 2ms/step - loss: 120.7029 - mae: 120.7029 - mse: 77234.5234 - val_loss: 643.0715 - val_mae: 643.0715 - val_mse: 1327760.5000\n",
      "Epoch 89/100\n",
      "18/18 [==============================] - 0s 3ms/step - loss: 119.6444 - mae: 119.6444 - mse: 78917.6328 - val_loss: 696.7362 - val_mae: 696.7362 - val_mse: 1475278.1250\n",
      "Epoch 90/100\n",
      "18/18 [==============================] - 0s 3ms/step - loss: 115.3618 - mae: 115.3618 - mse: 74505.3906 - val_loss: 615.3264 - val_mae: 615.3264 - val_mse: 1281689.0000\n",
      "Epoch 91/100\n",
      " 1/18 [>.............................] - ETA: 0s - loss: 144.0636 - mae: 144.0636 - mse: 147180.6094INFO:tensorflow:Assets written to: model_experiment\\model_2_30_windows\\assets\n",
      "18/18 [==============================] - 1s 46ms/step - loss: 111.0672 - mae: 111.0672 - mse: 72993.4688 - val_loss: 605.8370 - val_mae: 605.8370 - val_mse: 1254919.8750\n",
      "Epoch 92/100\n",
      "18/18 [==============================] - 0s 3ms/step - loss: 115.5710 - mae: 115.5710 - mse: 75077.2188 - val_loss: 687.0994 - val_mae: 687.0994 - val_mse: 1446869.7500\n",
      "Epoch 93/100\n",
      "18/18 [==============================] - 0s 3ms/step - loss: 117.3107 - mae: 117.3107 - mse: 74407.8984 - val_loss: 610.7944 - val_mae: 610.7944 - val_mse: 1272630.7500\n",
      "Epoch 94/100\n",
      "18/18 [==============================] - 0s 3ms/step - loss: 111.6992 - mae: 111.6992 - mse: 72855.6953 - val_loss: 791.7331 - val_mae: 791.7331 - val_mse: 1760068.0000\n",
      "Epoch 95/100\n",
      " 1/18 [>.............................] - ETA: 0s - loss: 145.9931 - mae: 145.9931 - mse: 81479.8594INFO:tensorflow:Assets written to: model_experiment\\model_2_30_windows\\assets\n",
      "18/18 [==============================] - 1s 38ms/step - loss: 128.1679 - mae: 128.1679 - mse: 84486.3828 - val_loss: 605.8221 - val_mae: 605.8221 - val_mse: 1256325.7500\n",
      "Epoch 96/100\n",
      "18/18 [==============================] - 0s 4ms/step - loss: 116.8951 - mae: 116.8951 - mse: 76748.0391 - val_loss: 793.6987 - val_mae: 793.6987 - val_mse: 1762476.8750\n",
      "Epoch 97/100\n",
      "18/18 [==============================] - 0s 3ms/step - loss: 125.3170 - mae: 125.3170 - mse: 81826.2734 - val_loss: 698.2682 - val_mae: 698.2682 - val_mse: 1519129.5000\n",
      "Epoch 98/100\n",
      "18/18 [==============================] - 0s 3ms/step - loss: 134.4589 - mae: 134.4589 - mse: 87856.5234 - val_loss: 770.8735 - val_mae: 770.8735 - val_mse: 1735764.5000\n",
      "Epoch 99/100\n",
      "18/18 [==============================] - 0s 3ms/step - loss: 159.7770 - mae: 159.7770 - mse: 111696.6953 - val_loss: 761.2560 - val_mae: 761.2560 - val_mse: 1658947.7500\n",
      "Epoch 100/100\n",
      "18/18 [==============================] - 0s 3ms/step - loss: 132.1229 - mae: 132.1229 - mse: 83520.3672 - val_loss: 628.4879 - val_mae: 628.4879 - val_mse: 1308525.5000\n",
      "Model: \"model_2_30_windows\"\n",
      "_________________________________________________________________\n",
      " Layer (type)                Output Shape              Param #   \n",
      "=================================================================\n",
      " input_layers (InputLayer)   [(None, 30)]              0         \n",
      "                                                                 \n",
      " dense_2 (Dense)             (None, 128)               3968      \n",
      "                                                                 \n",
      " dense_3 (Dense)             (None, 1)                 129       \n",
      "                                                                 \n",
      "=================================================================\n",
      "Total params: 4,097\n",
      "Trainable params: 4,097\n",
      "Non-trainable params: 0\n",
      "_________________________________________________________________\n"
     ]
    }
   ],
   "source": [
    "inputs = keras.Input(shape=(30,), name='input_layers')\n",
    "x = keras.layers.Dense(128, activation='relu')(inputs)\n",
    "outputs = keras.layers.Dense(1)(x)\n",
    "model_2 = keras.Model(inputs, outputs, name='model_2_30_windows')\n",
    "\n",
    "model_2.compile(loss='mae', optimizer=tf.keras.optimizers.Adam(), metrics=['mae', 'mse'])\n",
    "hist_2 = model_2.fit(train_windows, train_labels, epochs=100, batch_size=128, validation_data=(test_windows, test_labels),verbose=1, callbacks=[crete_model_checkpoint(model_2.name)])\n",
    "model_2.summary()"
   ]
  },
  {
   "cell_type": "code",
   "execution_count": 31,
   "metadata": {},
   "outputs": [
    {
     "name": "stdout",
     "output_type": "stream",
     "text": [
      "18/18 [==============================] - 0s 1ms/step - loss: 628.4879 - mae: 628.4879 - mse: 1308525.3750\n",
      "[628.4879150390625, 628.4879150390625, 1308525.375]\n",
      "18/18 [==============================] - 0s 1ms/step - loss: 605.8221 - mae: 605.8221 - mse: 1256325.6250\n",
      "[605.8221435546875, 605.8221435546875, 1256325.625]\n"
     ]
    }
   ],
   "source": [
    "print(model_2.evaluate(test_windows, test_labels))\n",
    "model_2 = keras.models.load_model('model_experiment\\model_2_30_windows')\n",
    "print(model_2.evaluate(test_windows, test_labels))"
   ]
  },
  {
   "cell_type": "code",
   "execution_count": 32,
   "metadata": {},
   "outputs": [],
   "source": [
    "predictions = model_2.predict(test_windows)"
   ]
  },
  {
   "cell_type": "code",
   "execution_count": 33,
   "metadata": {},
   "outputs": [
    {
     "data": {
      "text/plain": [
       "{'mae': 605.8219199093379,\n",
       " 'mse': 1256325.3862984583,\n",
       " 'rmse': 1120.8592178763836,\n",
       " 'mape': 0.02738648223843513,\n",
       " 'mase': 1.058982572095659}"
      ]
     },
     "execution_count": 33,
     "metadata": {},
     "output_type": "execute_result"
    }
   ],
   "source": [
    "model_2_score = evaluate_score(test_labels, predictions)\n",
    "model_2_score"
   ]
  },
  {
   "cell_type": "code",
   "execution_count": 34,
   "metadata": {},
   "outputs": [
    {
     "data": {
      "image/png": "[encoded data removed]",
      "text/plain": [
       "<Figure size 720x432 with 1 Axes>"
      ]
     },
     "metadata": {
      "needs_background": "light"
     },
     "output_type": "display_data"
    }
   ],
   "source": [
    "plot_preds(test_labels, predictions, 'Window30 model 609.02 mae')"
   ]
  },
  {
   "cell_type": "markdown",
   "metadata": {},
   "source": [
    "## Model 3 : Dense (window = 30, horizon = 7)"
   ]
  },
  {
   "cell_type": "code",
   "execution_count": 35,
   "metadata": {},
   "outputs": [
    {
     "data": {
      "text/plain": [
       "((2200, 30), (551, 30), (2200, 7), (551, 7))"
      ]
     },
     "execution_count": 35,
     "metadata": {},
     "output_type": "execute_result"
    }
   ],
   "source": [
    "full_windows, full_labels = make_windows(prices, 30, 7)\n",
    "train_windows, test_windows, train_labels, test_labels =  make_train_test_splits(full_windows, full_labels) \n",
    "train_windows.shape, test_windows.shape, train_labels.shape, test_labels.shape"
   ]
  },
  {
   "cell_type": "code",
   "execution_count": 36,
   "metadata": {},
   "outputs": [
    {
     "name": "stdout",
     "output_type": "stream",
     "text": [
      "Epoch 1/100\n",
      " 1/18 [>.............................] - ETA: 5s - loss: 2565.0337 - mae: 2565.0337 - mse: 22122786.0000INFO:tensorflow:Assets written to: model_experiment\\model_3_30_windows_7_horizon\\assets\n",
      "18/18 [==============================] - 1s 53ms/step - loss: 1195.6028 - mae: 1195.6028 - mse: 6878233.0000 - val_loss: 2683.7490 - val_mae: 2683.7490 - val_mse: 18011476.0000\n",
      "Epoch 2/100\n",
      " 1/18 [>.............................] - ETA: 0s - loss: 433.8188 - mae: 433.8188 - mse: 712909.7500INFO:tensorflow:Assets written to: model_experiment\\model_3_30_windows_7_horizon\\assets\n",
      "18/18 [==============================] - 1s 40ms/step - loss: 480.9726 - mae: 480.9726 - mse: 1099137.0000 - val_loss: 2431.5945 - val_mae: 2431.5945 - val_mse: 18086092.0000\n",
      "Epoch 3/100\n",
      " 1/18 [>.............................] - ETA: 0s - loss: 394.4465 - mae: 394.4465 - mse: 592618.6250INFO:tensorflow:Assets written to: model_experiment\\model_3_30_windows_7_horizon\\assets\n",
      "18/18 [==============================] - 1s 50ms/step - loss: 398.5110 - mae: 398.5110 - mse: 800987.3750 - val_loss: 2046.8813 - val_mae: 2046.8813 - val_mse: 12697357.0000\n",
      "Epoch 4/100\n",
      " 1/18 [>.............................] - ETA: 0s - loss: 430.1628 - mae: 430.1628 - mse: 934653.5000INFO:tensorflow:Assets written to: model_experiment\\model_3_30_windows_7_horizon\\assets\n",
      "18/18 [==============================] - 1s 41ms/step - loss: 359.2373 - mae: 359.2373 - mse: 660786.3750 - val_loss: 1832.0841 - val_mae: 1832.0841 - val_mse: 10428001.0000\n",
      "Epoch 5/100\n",
      "18/18 [==============================] - 0s 5ms/step - loss: 327.4300 - mae: 327.4300 - mse: 560272.5625 - val_loss: 1893.1785 - val_mae: 1893.1785 - val_mse: 10645451.0000\n",
      "Epoch 6/100\n",
      " 1/18 [>.............................] - ETA: 0s - loss: 278.2727 - mae: 278.2727 - mse: 340440.5625INFO:tensorflow:Assets written to: model_experiment\\model_3_30_windows_7_horizon\\assets\n",
      "18/18 [==============================] - 1s 46ms/step - loss: 306.4803 - mae: 306.4803 - mse: 483457.9375 - val_loss: 1753.3807 - val_mae: 1753.3807 - val_mse: 9194433.0000\n",
      "Epoch 7/100\n",
      " 1/18 [>.............................] - ETA: 0s - loss: 269.8274 - mae: 269.8274 - mse: 387678.1250INFO:tensorflow:Assets written to: model_experiment\\model_3_30_windows_7_horizon\\assets\n",
      "18/18 [==============================] - 1s 40ms/step - loss: 291.7403 - mae: 291.7403 - mse: 441044.3125 - val_loss: 1547.3074 - val_mae: 1547.3074 - val_mse: 7652733.0000\n",
      "Epoch 8/100\n",
      " 1/18 [>.............................] - ETA: 0s - loss: 264.2714 - mae: 264.2714 - mse: 324187.5000INFO:tensorflow:Assets written to: model_experiment\\model_3_30_windows_7_horizon\\assets\n",
      "18/18 [==============================] - 1s 42ms/step - loss: 287.1547 - mae: 287.1547 - mse: 416765.9688 - val_loss: 1482.8126 - val_mae: 1482.8126 - val_mse: 7198316.0000\n",
      "Epoch 9/100\n",
      "18/18 [==============================] - 0s 4ms/step - loss: 274.4321 - mae: 274.4321 - mse: 392339.1562 - val_loss: 1593.0165 - val_mae: 1593.0165 - val_mse: 7853899.5000\n",
      "Epoch 10/100\n",
      " 1/18 [>.............................] - ETA: 0s - loss: 225.0333 - mae: 225.0333 - mse: 223894.7656INFO:tensorflow:Assets written to: model_experiment\\model_3_30_windows_7_horizon\\assets\n",
      "18/18 [==============================] - 1s 50ms/step - loss: 277.9596 - mae: 277.9596 - mse: 387355.5938 - val_loss: 1447.4175 - val_mae: 1447.4175 - val_mse: 6912638.5000\n",
      "Epoch 11/100\n",
      " 1/18 [>.............................] - ETA: 0s - loss: 274.1697 - mae: 274.1697 - mse: 409588.6250INFO:tensorflow:Assets written to: model_experiment\\model_3_30_windows_7_horizon\\assets\n",
      "18/18 [==============================] - 1s 39ms/step - loss: 267.3392 - mae: 267.3392 - mse: 372783.8125 - val_loss: 1439.9218 - val_mae: 1439.9218 - val_mse: 6860469.5000\n",
      "Epoch 12/100\n",
      "18/18 [==============================] - 0s 5ms/step - loss: 265.9339 - mae: 265.9339 - mse: 369149.6875 - val_loss: 1588.4025 - val_mae: 1588.4025 - val_mse: 7686616.0000\n",
      "Epoch 13/100\n",
      " 1/18 [>.............................] - ETA: 0s - loss: 240.1756 - mae: 240.1756 - mse: 319122.5625INFO:tensorflow:Assets written to: model_experiment\\model_3_30_windows_7_horizon\\assets\n",
      "18/18 [==============================] - 1s 50ms/step - loss: 263.0264 - mae: 263.0264 - mse: 358122.1875 - val_loss: 1414.8716 - val_mae: 1414.8716 - val_mse: 6701055.5000\n",
      "Epoch 14/100\n",
      " 1/18 [>.............................] - ETA: 0s - loss: 241.9078 - mae: 241.9078 - mse: 268635.3750INFO:tensorflow:Assets written to: model_experiment\\model_3_30_windows_7_horizon\\assets\n",
      "18/18 [==============================] - 1s 43ms/step - loss: 260.3041 - mae: 260.3041 - mse: 357081.1562 - val_loss: 1413.2751 - val_mae: 1413.2751 - val_mse: 6645957.0000\n",
      "Epoch 15/100\n",
      "18/18 [==============================] - 0s 4ms/step - loss: 259.0717 - mae: 259.0717 - mse: 353676.9375 - val_loss: 1506.9739 - val_mae: 1506.9739 - val_mse: 7110591.0000\n",
      "Epoch 16/100\n",
      "18/18 [==============================] - 0s 4ms/step - loss: 257.4939 - mae: 257.4939 - mse: 347802.3125 - val_loss: 1470.9839 - val_mae: 1470.9839 - val_mse: 6934069.0000\n",
      "Epoch 17/100\n",
      "18/18 [==============================] - 0s 4ms/step - loss: 258.0668 - mae: 258.0668 - mse: 349658.4375 - val_loss: 1547.4154 - val_mae: 1547.4154 - val_mse: 7442712.5000\n",
      "Epoch 18/100\n",
      "18/18 [==============================] - 0s 3ms/step - loss: 260.9862 - mae: 260.9862 - mse: 349196.9375 - val_loss: 1548.5143 - val_mae: 1548.5143 - val_mse: 7406874.5000\n",
      "Epoch 19/100\n",
      "18/18 [==============================] - 0s 6ms/step - loss: 255.5857 - mae: 255.5857 - mse: 340132.8438 - val_loss: 1553.1615 - val_mae: 1553.1615 - val_mse: 7537043.5000\n",
      "Epoch 20/100\n",
      "18/18 [==============================] - 0s 6ms/step - loss: 258.9683 - mae: 258.9683 - mse: 345536.7812 - val_loss: 1416.8826 - val_mae: 1416.8826 - val_mse: 6609609.5000\n",
      "Epoch 21/100\n",
      "18/18 [==============================] - 0s 3ms/step - loss: 251.2815 - mae: 251.2815 - mse: 331584.5938 - val_loss: 1437.8773 - val_mae: 1437.8773 - val_mse: 6668245.5000\n",
      "Epoch 22/100\n",
      "18/18 [==============================] - 0s 2ms/step - loss: 251.0703 - mae: 251.0703 - mse: 326851.2500 - val_loss: 1417.6241 - val_mae: 1417.6241 - val_mse: 6461689.5000\n",
      "Epoch 23/100\n",
      " 1/18 [>.............................] - ETA: 0s - loss: 278.9434 - mae: 278.9434 - mse: 512606.6250INFO:tensorflow:Assets written to: model_experiment\\model_3_30_windows_7_horizon\\assets\n",
      "18/18 [==============================] - 1s 47ms/step - loss: 258.2697 - mae: 258.2697 - mse: 337219.4062 - val_loss: 1354.8251 - val_mae: 1354.8251 - val_mse: 6230803.0000\n",
      "Epoch 24/100\n",
      "18/18 [==============================] - 0s 5ms/step - loss: 259.1304 - mae: 259.1304 - mse: 341232.7812 - val_loss: 1359.5409 - val_mae: 1359.5409 - val_mse: 6207477.0000\n",
      "Epoch 25/100\n",
      "18/18 [==============================] - 0s 4ms/step - loss: 250.7997 - mae: 250.7997 - mse: 324756.2812 - val_loss: 1619.5320 - val_mae: 1619.5320 - val_mse: 7676750.5000\n",
      "Epoch 26/100\n",
      "18/18 [==============================] - 0s 3ms/step - loss: 251.1896 - mae: 251.1896 - mse: 324750.1875 - val_loss: 1419.1625 - val_mae: 1419.1625 - val_mse: 6621148.5000\n",
      "Epoch 27/100\n",
      "18/18 [==============================] - 0s 2ms/step - loss: 243.8804 - mae: 243.8804 - mse: 318236.6875 - val_loss: 1405.4648 - val_mae: 1405.4648 - val_mse: 6381151.0000\n",
      "Epoch 28/100\n",
      "18/18 [==============================] - 0s 3ms/step - loss: 244.8275 - mae: 244.8275 - mse: 316523.3750 - val_loss: 1373.7618 - val_mae: 1373.7618 - val_mse: 6196145.0000\n",
      "Epoch 29/100\n",
      "18/18 [==============================] - 0s 3ms/step - loss: 243.1355 - mae: 243.1355 - mse: 313989.5312 - val_loss: 1391.7244 - val_mae: 1391.7244 - val_mse: 6330888.0000\n",
      "Epoch 30/100\n",
      "18/18 [==============================] - 0s 3ms/step - loss: 244.8819 - mae: 244.8819 - mse: 319176.9062 - val_loss: 1380.9490 - val_mae: 1380.9490 - val_mse: 6348204.5000\n",
      "Epoch 31/100\n",
      " 1/18 [>.............................] - ETA: 0s - loss: 206.9365 - mae: 206.9365 - mse: 256137.6094INFO:tensorflow:Assets written to: model_experiment\\model_3_30_windows_7_horizon\\assets\n",
      "18/18 [==============================] - 1s 39ms/step - loss: 240.6319 - mae: 240.6319 - mse: 306470.2500 - val_loss: 1346.7477 - val_mae: 1346.7477 - val_mse: 6057864.0000\n",
      "Epoch 32/100\n",
      "17/18 [===========================>..] - ETA: 0s - loss: 241.9382 - mae: 241.9382 - mse: 310370.8125INFO:tensorflow:Assets written to: model_experiment\\model_3_30_windows_7_horizon\\assets\n",
      "18/18 [==============================] - 1s 38ms/step - loss: 242.0815 - mae: 242.0815 - mse: 310328.9375 - val_loss: 1325.1938 - val_mae: 1325.1938 - val_mse: 5967601.5000\n",
      "Epoch 33/100\n",
      "18/18 [==============================] - 0s 4ms/step - loss: 244.8438 - mae: 244.8438 - mse: 314049.1875 - val_loss: 1351.6858 - val_mae: 1351.6858 - val_mse: 6090023.5000\n",
      "Epoch 34/100\n",
      "18/18 [==============================] - 0s 3ms/step - loss: 244.3611 - mae: 244.3611 - mse: 312783.0312 - val_loss: 1388.6879 - val_mae: 1388.6879 - val_mse: 6307082.0000\n",
      "Epoch 35/100\n",
      "18/18 [==============================] - 0s 3ms/step - loss: 245.7120 - mae: 245.7120 - mse: 311553.2812 - val_loss: 1409.2322 - val_mae: 1409.2322 - val_mse: 6433057.5000\n",
      "Epoch 36/100\n",
      "18/18 [==============================] - 0s 3ms/step - loss: 240.9653 - mae: 240.9653 - mse: 308761.8750 - val_loss: 1369.1403 - val_mae: 1369.1403 - val_mse: 6280010.0000\n",
      "Epoch 37/100\n",
      "18/18 [==============================] - 0s 3ms/step - loss: 255.7100 - mae: 255.7100 - mse: 327658.6250 - val_loss: 1349.3646 - val_mae: 1349.3646 - val_mse: 6024672.5000\n",
      "Epoch 38/100\n",
      "18/18 [==============================] - 0s 3ms/step - loss: 237.3681 - mae: 237.3681 - mse: 301566.7188 - val_loss: 1392.9916 - val_mae: 1392.9916 - val_mse: 6297120.5000\n",
      "Epoch 39/100\n",
      "18/18 [==============================] - 0s 3ms/step - loss: 237.6467 - mae: 237.6467 - mse: 299762.5312 - val_loss: 1402.7631 - val_mae: 1402.7631 - val_mse: 6356877.5000\n",
      "Epoch 40/100\n",
      "18/18 [==============================] - 0s 3ms/step - loss: 240.6803 - mae: 240.6803 - mse: 307392.8438 - val_loss: 1461.4360 - val_mae: 1461.4360 - val_mse: 6564767.5000\n",
      "Epoch 41/100\n",
      "18/18 [==============================] - 0s 3ms/step - loss: 239.0266 - mae: 239.0266 - mse: 300049.7812 - val_loss: 1381.4985 - val_mae: 1381.4985 - val_mse: 6185662.0000\n",
      "Epoch 42/100\n",
      " 1/18 [>.............................] - ETA: 0s - loss: 183.0999 - mae: 183.0999 - mse: 195165.0156INFO:tensorflow:Assets written to: model_experiment\\model_3_30_windows_7_horizon\\assets\n",
      "18/18 [==============================] - 1s 54ms/step - loss: 242.8408 - mae: 242.8408 - mse: 310168.6875 - val_loss: 1308.8148 - val_mae: 1308.8148 - val_mse: 5844021.5000\n",
      "Epoch 43/100\n",
      " 1/18 [>.............................] - ETA: 0s - loss: 279.6987 - mae: 279.6987 - mse: 412280.2812INFO:tensorflow:Assets written to: model_experiment\\model_3_30_windows_7_horizon\\assets\n",
      "18/18 [==============================] - 1s 37ms/step - loss: 235.0837 - mae: 235.0837 - mse: 294619.4062 - val_loss: 1296.2089 - val_mae: 1296.2089 - val_mse: 5764005.0000\n",
      "Epoch 44/100\n",
      "18/18 [==============================] - 0s 5ms/step - loss: 238.2469 - mae: 238.2469 - mse: 301266.6875 - val_loss: 1347.6387 - val_mae: 1347.6387 - val_mse: 6064288.5000\n",
      "Epoch 45/100\n",
      "18/18 [==============================] - 0s 4ms/step - loss: 235.8004 - mae: 235.8004 - mse: 296549.9688 - val_loss: 1435.2390 - val_mae: 1435.2390 - val_mse: 6323283.5000\n",
      "Epoch 46/100\n",
      "18/18 [==============================] - 0s 3ms/step - loss: 241.7627 - mae: 241.7627 - mse: 302908.3750 - val_loss: 1324.5928 - val_mae: 1324.5928 - val_mse: 5912092.0000\n",
      "Epoch 47/100\n",
      "18/18 [==============================] - 0s 3ms/step - loss: 239.2541 - mae: 239.2541 - mse: 301851.3750 - val_loss: 1408.4236 - val_mae: 1408.4236 - val_mse: 6191299.0000\n",
      "Epoch 48/100\n",
      "18/18 [==============================] - 0s 4ms/step - loss: 239.1972 - mae: 239.1972 - mse: 299131.5938 - val_loss: 1318.7001 - val_mae: 1318.7001 - val_mse: 5831393.5000\n",
      "Epoch 49/100\n",
      "18/18 [==============================] - 0s 5ms/step - loss: 246.7121 - mae: 246.7121 - mse: 304295.7812 - val_loss: 1411.7324 - val_mae: 1411.7324 - val_mse: 6430824.0000\n",
      "Epoch 50/100\n",
      "18/18 [==============================] - 0s 3ms/step - loss: 242.2448 - mae: 242.2448 - mse: 301707.4062 - val_loss: 1346.9155 - val_mae: 1346.9155 - val_mse: 5965854.5000\n",
      "Epoch 51/100\n",
      "18/18 [==============================] - 0s 3ms/step - loss: 231.2222 - mae: 231.2222 - mse: 286871.0625 - val_loss: 1443.0553 - val_mae: 1443.0553 - val_mse: 6503686.0000\n",
      "Epoch 52/100\n",
      "18/18 [==============================] - 0s 2ms/step - loss: 234.8328 - mae: 234.8328 - mse: 290269.7500 - val_loss: 1320.7910 - val_mae: 1320.7910 - val_mse: 5814441.5000\n",
      "Epoch 53/100\n",
      " 1/18 [>.............................] - ETA: 0s - loss: 173.6784 - mae: 173.6784 - mse: 129311.3438INFO:tensorflow:Assets written to: model_experiment\\model_3_30_windows_7_horizon\\assets\n",
      "18/18 [==============================] - 1s 48ms/step - loss: 231.5334 - mae: 231.5334 - mse: 288512.7812 - val_loss: 1276.1763 - val_mae: 1276.1763 - val_mse: 5596515.0000\n",
      "Epoch 54/100\n",
      " 1/18 [>.............................] - ETA: 0s - loss: 266.6057 - mae: 266.6057 - mse: 308953.2500INFO:tensorflow:Assets written to: model_experiment\\model_3_30_windows_7_horizon\\assets\n",
      "18/18 [==============================] - 1s 41ms/step - loss: 232.4662 - mae: 232.4662 - mse: 291275.7188 - val_loss: 1273.4749 - val_mae: 1273.4749 - val_mse: 5604388.0000\n",
      "Epoch 55/100\n",
      "18/18 [==============================] - 0s 4ms/step - loss: 233.6658 - mae: 233.6658 - mse: 286126.5312 - val_loss: 1329.0970 - val_mae: 1329.0970 - val_mse: 5850920.5000\n",
      "Epoch 56/100\n",
      "18/18 [==============================] - 0s 3ms/step - loss: 232.0127 - mae: 232.0127 - mse: 289709.2500 - val_loss: 1302.4858 - val_mae: 1302.4858 - val_mse: 5673935.0000\n",
      "Epoch 57/100\n",
      "18/18 [==============================] - 0s 3ms/step - loss: 236.9407 - mae: 236.9407 - mse: 296246.4062 - val_loss: 1392.5217 - val_mae: 1392.5217 - val_mse: 6172454.5000\n",
      "Epoch 58/100\n",
      "18/18 [==============================] - 0s 3ms/step - loss: 237.0981 - mae: 237.0981 - mse: 293560.6562 - val_loss: 1282.8932 - val_mae: 1282.8932 - val_mse: 5589946.0000\n",
      "Epoch 59/100\n",
      "18/18 [==============================] - 0s 3ms/step - loss: 236.4202 - mae: 236.4202 - mse: 294860.0000 - val_loss: 1288.3696 - val_mae: 1288.3696 - val_mse: 5625889.5000\n",
      "Epoch 60/100\n",
      " 1/18 [>.............................] - ETA: 0s - loss: 211.0104 - mae: 211.0104 - mse: 210733.9219INFO:tensorflow:Assets written to: model_experiment\\model_3_30_windows_7_horizon\\assets\n",
      "18/18 [==============================] - 1s 52ms/step - loss: 229.0414 - mae: 229.0414 - mse: 283622.1250 - val_loss: 1271.2529 - val_mae: 1271.2529 - val_mse: 5575838.0000\n",
      "Epoch 61/100\n",
      "18/18 [==============================] - 0s 3ms/step - loss: 230.5669 - mae: 230.5669 - mse: 285461.6875 - val_loss: 1408.3757 - val_mae: 1408.3757 - val_mse: 6327238.5000\n",
      "Epoch 62/100\n",
      " 1/18 [>.............................] - ETA: 0s - loss: 338.0939 - mae: 338.0939 - mse: 514186.6562INFO:tensorflow:Assets written to: model_experiment\\model_3_30_windows_7_horizon\\assets\n",
      "18/18 [==============================] - 1s 37ms/step - loss: 233.8903 - mae: 233.8903 - mse: 290227.8750 - val_loss: 1269.8085 - val_mae: 1269.8085 - val_mse: 5583719.0000\n",
      "Epoch 63/100\n",
      "18/18 [==============================] - 0s 5ms/step - loss: 234.5122 - mae: 234.5122 - mse: 290985.9375 - val_loss: 1372.2751 - val_mae: 1372.2751 - val_mse: 6153967.5000\n",
      "Epoch 64/100\n",
      " 1/18 [>.............................] - ETA: 0s - loss: 257.3890 - mae: 257.3890 - mse: 279906.9375INFO:tensorflow:Assets written to: model_experiment\\model_3_30_windows_7_horizon\\assets\n",
      "18/18 [==============================] - 1s 50ms/step - loss: 232.2775 - mae: 232.2775 - mse: 287095.5938 - val_loss: 1268.0366 - val_mae: 1268.0366 - val_mse: 5522513.0000\n",
      "Epoch 65/100\n",
      "18/18 [==============================] - 0s 4ms/step - loss: 234.1343 - mae: 234.1343 - mse: 292260.1250 - val_loss: 1314.8657 - val_mae: 1314.8657 - val_mse: 5705969.5000\n",
      "Epoch 66/100\n",
      "18/18 [==============================] - 0s 3ms/step - loss: 228.8393 - mae: 228.8393 - mse: 284212.5625 - val_loss: 1496.7896 - val_mae: 1496.7896 - val_mse: 6700801.5000\n",
      "Epoch 67/100\n",
      "18/18 [==============================] - 0s 3ms/step - loss: 238.8882 - mae: 238.8882 - mse: 294578.8438 - val_loss: 1272.3954 - val_mae: 1272.3954 - val_mse: 5498777.5000\n",
      "Epoch 68/100\n",
      "18/18 [==============================] - 0s 3ms/step - loss: 236.7417 - mae: 236.7417 - mse: 292235.8438 - val_loss: 1273.5780 - val_mae: 1273.5780 - val_mse: 5483599.0000\n",
      "Epoch 69/100\n",
      "18/18 [==============================] - 0s 2ms/step - loss: 229.9943 - mae: 229.9943 - mse: 276797.7500 - val_loss: 1621.3962 - val_mae: 1621.3962 - val_mse: 7644343.0000\n",
      "Epoch 70/100\n",
      "18/18 [==============================] - 0s 3ms/step - loss: 239.2365 - mae: 239.2365 - mse: 295537.0000 - val_loss: 1269.0037 - val_mae: 1269.0037 - val_mse: 5477662.0000\n",
      "Epoch 71/100\n",
      " 1/18 [>.............................] - ETA: 0s - loss: 191.1028 - mae: 191.1028 - mse: 174369.6875INFO:tensorflow:Assets written to: model_experiment\\model_3_30_windows_7_horizon\\assets\n",
      "18/18 [==============================] - 1s 44ms/step - loss: 232.2404 - mae: 232.2404 - mse: 287441.6250 - val_loss: 1265.6693 - val_mae: 1265.6693 - val_mse: 5520912.5000\n",
      "Epoch 72/100\n",
      " 1/18 [>.............................] - ETA: 0s - loss: 277.8629 - mae: 277.8629 - mse: 441765.1875INFO:tensorflow:Assets written to: model_experiment\\model_3_30_windows_7_horizon\\assets\n",
      "18/18 [==============================] - 1s 42ms/step - loss: 229.9164 - mae: 229.9164 - mse: 281230.0000 - val_loss: 1254.4478 - val_mae: 1254.4478 - val_mse: 5448018.5000\n",
      "Epoch 73/100\n",
      "18/18 [==============================] - 0s 3ms/step - loss: 226.2204 - mae: 226.2204 - mse: 278124.2812 - val_loss: 1297.9998 - val_mae: 1297.9998 - val_mse: 5625039.0000\n",
      "Epoch 74/100\n",
      "18/18 [==============================] - 0s 3ms/step - loss: 227.7496 - mae: 227.7496 - mse: 282527.1875 - val_loss: 1316.2639 - val_mae: 1316.2639 - val_mse: 5697041.0000\n",
      "Epoch 75/100\n",
      "18/18 [==============================] - 0s 3ms/step - loss: 228.3416 - mae: 228.3416 - mse: 279741.9062 - val_loss: 1467.4774 - val_mae: 1467.4774 - val_mse: 6521696.0000\n",
      "Epoch 76/100\n",
      "18/18 [==============================] - 0s 3ms/step - loss: 231.3788 - mae: 231.3788 - mse: 283677.0000 - val_loss: 1288.6609 - val_mae: 1288.6609 - val_mse: 5582947.0000\n",
      "Epoch 77/100\n",
      "18/18 [==============================] - 0s 3ms/step - loss: 227.7650 - mae: 227.7650 - mse: 280514.6562 - val_loss: 1267.6351 - val_mae: 1267.6351 - val_mse: 5477745.0000\n",
      "Epoch 78/100\n",
      "18/18 [==============================] - 0s 3ms/step - loss: 229.9836 - mae: 229.9836 - mse: 279843.2188 - val_loss: 1275.1309 - val_mae: 1275.1309 - val_mse: 5503430.5000\n",
      "Epoch 79/100\n",
      "18/18 [==============================] - 0s 3ms/step - loss: 231.3488 - mae: 231.3488 - mse: 277938.7500 - val_loss: 1424.7825 - val_mae: 1424.7825 - val_mse: 6187437.5000\n",
      "Epoch 80/100\n",
      "18/18 [==============================] - 0s 3ms/step - loss: 237.6972 - mae: 237.6972 - mse: 289345.9688 - val_loss: 1293.4487 - val_mae: 1293.4487 - val_mse: 5633176.0000\n",
      "Epoch 81/100\n",
      "18/18 [==============================] - 0s 3ms/step - loss: 236.2678 - mae: 236.2678 - mse: 289230.5000 - val_loss: 1277.4194 - val_mae: 1277.4194 - val_mse: 5652709.0000\n",
      "Epoch 82/100\n",
      "18/18 [==============================] - 0s 3ms/step - loss: 228.6957 - mae: 228.6957 - mse: 279461.0000 - val_loss: 1308.3971 - val_mae: 1308.3971 - val_mse: 5682199.0000\n",
      "Epoch 83/100\n",
      "18/18 [==============================] - 0s 3ms/step - loss: 226.2967 - mae: 226.2967 - mse: 276257.9062 - val_loss: 1292.4988 - val_mae: 1292.4988 - val_mse: 5608150.5000\n",
      "Epoch 84/100\n",
      "18/18 [==============================] - 0s 4ms/step - loss: 225.9417 - mae: 225.9417 - mse: 277490.1875 - val_loss: 1257.3555 - val_mae: 1257.3555 - val_mse: 5433064.0000\n",
      "Epoch 85/100\n",
      "18/18 [==============================] - 0s 5ms/step - loss: 225.4516 - mae: 225.4516 - mse: 275638.7188 - val_loss: 1263.2643 - val_mae: 1263.2643 - val_mse: 5446899.0000\n",
      "Epoch 86/100\n",
      "18/18 [==============================] - 0s 3ms/step - loss: 226.3771 - mae: 226.3771 - mse: 276847.5625 - val_loss: 1317.1848 - val_mae: 1317.1848 - val_mse: 5694231.0000\n",
      "Epoch 87/100\n",
      "18/18 [==============================] - 0s 2ms/step - loss: 238.0992 - mae: 238.0992 - mse: 288187.2500 - val_loss: 1282.2406 - val_mae: 1282.2406 - val_mse: 5512540.5000\n",
      "Epoch 88/100\n",
      "18/18 [==============================] - 0s 2ms/step - loss: 227.8658 - mae: 227.8658 - mse: 278577.0625 - val_loss: 1574.9192 - val_mae: 1574.9191 - val_mse: 7013409.5000\n",
      "Epoch 89/100\n",
      "18/18 [==============================] - 0s 5ms/step - loss: 238.3897 - mae: 238.3897 - mse: 285962.7500 - val_loss: 1295.3479 - val_mae: 1295.3479 - val_mse: 5617712.0000\n",
      "Epoch 90/100\n",
      "18/18 [==============================] - 0s 4ms/step - loss: 241.6907 - mae: 241.6907 - mse: 294974.7188 - val_loss: 1279.9208 - val_mae: 1279.9208 - val_mse: 5498277.0000\n",
      "Epoch 91/100\n",
      "18/18 [==============================] - 0s 4ms/step - loss: 235.1473 - mae: 235.1473 - mse: 285703.7500 - val_loss: 1293.2670 - val_mae: 1293.2670 - val_mse: 5547320.0000\n",
      "Epoch 92/100\n",
      " 1/18 [>.............................] - ETA: 0s - loss: 211.6730 - mae: 211.6730 - mse: 205291.6875INFO:tensorflow:Assets written to: model_experiment\\model_3_30_windows_7_horizon\\assets\n",
      "18/18 [==============================] - 1s 48ms/step - loss: 225.9781 - mae: 225.9781 - mse: 274781.2812 - val_loss: 1249.9437 - val_mae: 1249.9437 - val_mse: 5481593.0000\n",
      "Epoch 93/100\n",
      "18/18 [==============================] - 0s 5ms/step - loss: 229.3115 - mae: 229.3115 - mse: 278649.5000 - val_loss: 1351.6635 - val_mae: 1351.6635 - val_mse: 5825198.5000\n",
      "Epoch 94/100\n",
      "18/18 [==============================] - 0s 3ms/step - loss: 232.6791 - mae: 232.6791 - mse: 282517.6875 - val_loss: 1356.5010 - val_mae: 1356.5010 - val_mse: 5923857.5000\n",
      "Epoch 95/100\n",
      "18/18 [==============================] - 0s 3ms/step - loss: 231.1913 - mae: 231.1913 - mse: 278571.8750 - val_loss: 1286.2649 - val_mae: 1286.2649 - val_mse: 5525767.5000\n",
      "Epoch 96/100\n",
      "18/18 [==============================] - 0s 2ms/step - loss: 228.6636 - mae: 228.6636 - mse: 280313.0312 - val_loss: 1394.8236 - val_mae: 1394.8236 - val_mse: 6112835.0000\n",
      "Epoch 97/100\n",
      "18/18 [==============================] - 0s 3ms/step - loss: 236.3559 - mae: 236.3559 - mse: 283221.2500 - val_loss: 1444.6809 - val_mae: 1444.6809 - val_mse: 6257874.0000\n",
      "Epoch 98/100\n",
      "18/18 [==============================] - 0s 2ms/step - loss: 228.2490 - mae: 228.2490 - mse: 278445.0312 - val_loss: 1256.3341 - val_mae: 1256.3341 - val_mse: 5396048.0000\n",
      "Epoch 99/100\n",
      " 1/18 [>.............................] - ETA: 0s - loss: 182.7381 - mae: 182.7381 - mse: 154633.8438INFO:tensorflow:Assets written to: model_experiment\\model_3_30_windows_7_horizon\\assets\n",
      "18/18 [==============================] - 1s 39ms/step - loss: 223.6996 - mae: 223.6996 - mse: 273114.9375 - val_loss: 1239.5653 - val_mae: 1239.5653 - val_mse: 5318223.0000\n",
      "Epoch 100/100\n",
      "18/18 [==============================] - 0s 3ms/step - loss: 224.2324 - mae: 224.2324 - mse: 273375.7812 - val_loss: 1332.2167 - val_mae: 1332.2167 - val_mse: 5760177.0000\n",
      "Model: \"model_3_30_windows_7_horizon\"\n",
      "_________________________________________________________________\n",
      " Layer (type)                Output Shape              Param #   \n",
      "=================================================================\n",
      " input_layers (InputLayer)   [(None, 30)]              0         \n",
      "                                                                 \n",
      " dense_4 (Dense)             (None, 128)               3968      \n",
      "                                                                 \n",
      " dense_5 (Dense)             (None, 7)                 903       \n",
      "                                                                 \n",
      "=================================================================\n",
      "Total params: 4,871\n",
      "Trainable params: 4,871\n",
      "Non-trainable params: 0\n",
      "_________________________________________________________________\n"
     ]
    }
   ],
   "source": [
    "inputs = keras.Input(shape=(30,), name='input_layers')\n",
    "x = keras.layers.Dense(128, activation='relu')(inputs)\n",
    "outputs = keras.layers.Dense(7)(x)\n",
    "model_3 = keras.Model(inputs, outputs, name='model_3_30_windows_7_horizon')\n",
    "\n",
    "model_3.compile(loss='mae', optimizer=tf.keras.optimizers.Adam(), metrics=['mae', 'mse'])\n",
    "hist_3 = model_3.fit(train_windows, train_labels, epochs=100, batch_size=128, validation_data=(test_windows, test_labels),verbose=1, callbacks=[crete_model_checkpoint(model_3.name)])\n",
    "model_3.summary()"
   ]
  },
  {
   "cell_type": "code",
   "execution_count": 37,
   "metadata": {},
   "outputs": [
    {
     "name": "stdout",
     "output_type": "stream",
     "text": [
      "18/18 [==============================] - 0s 2ms/step - loss: 1332.2166 - mae: 1332.2166 - mse: 5760177.5000\n",
      "[1332.216552734375, 1332.216552734375, 5760177.5]\n",
      "18/18 [==============================] - 0s 939us/step - loss: 1239.5652 - mae: 1239.5652 - mse: 5318222.5000\n",
      "[1239.565185546875, 1239.565185546875, 5318222.5]\n"
     ]
    }
   ],
   "source": [
    "print(model_3.evaluate(test_windows, test_labels))\n",
    "model_3 = keras.models.load_model('model_experiment\\model_3_30_windows_7_horizon')\n",
    "print(model_3.evaluate(test_windows, test_labels))"
   ]
  },
  {
   "cell_type": "code",
   "execution_count": 38,
   "metadata": {},
   "outputs": [],
   "source": [
    "predictions = model_3.predict(test_windows)"
   ]
  },
  {
   "cell_type": "code",
   "execution_count": 39,
   "metadata": {},
   "outputs": [
    {
     "data": {
      "text/plain": [
       "{'mae': 1239.565295617795,\n",
       " 'mse': 5318222.632198564,\n",
       " 'rmse': 2306.1271934129227,\n",
       " 'mape': 0.055767308463439594,\n",
       " 'mase': 2.2057369643163485}"
      ]
     },
     "execution_count": 39,
     "metadata": {},
     "output_type": "execute_result"
    }
   ],
   "source": [
    "model_3_score = evaluate_score(test_labels, predictions)\n",
    "model_3_score"
   ]
  },
  {
   "cell_type": "markdown",
   "metadata": {},
   "source": [
    "## Model 4 : Conv1D (window = 7, horizon = 1)"
   ]
  },
  {
   "cell_type": "code",
   "execution_count": 40,
   "metadata": {},
   "outputs": [
    {
     "data": {
      "text/plain": [
       "((2224, 7), (556, 7), (2224, 1), (556, 1))"
      ]
     },
     "execution_count": 40,
     "metadata": {},
     "output_type": "execute_result"
    }
   ],
   "source": [
    "full_windows, full_labels = make_windows(prices, 7, 1)\n",
    "train_windows, test_windows, train_labels, test_labels =  make_train_test_splits(full_windows, full_labels) \n",
    "train_windows.shape, test_windows.shape, train_labels.shape, test_labels.shape"
   ]
  },
  {
   "cell_type": "code",
   "execution_count": 41,
   "metadata": {},
   "outputs": [
    {
     "name": "stdout",
     "output_type": "stream",
     "text": [
      "INFO:tensorflow:Assets written to: model_experiment\\model_4_conv1D\\assets\n",
      "INFO:tensorflow:Assets written to: model_experiment\\model_4_conv1D\\assets\n",
      "INFO:tensorflow:Assets written to: model_experiment\\model_4_conv1D\\assets\n",
      "INFO:tensorflow:Assets written to: model_experiment\\model_4_conv1D\\assets\n",
      "INFO:tensorflow:Assets written to: model_experiment\\model_4_conv1D\\assets\n",
      "INFO:tensorflow:Assets written to: model_experiment\\model_4_conv1D\\assets\n",
      "INFO:tensorflow:Assets written to: model_experiment\\model_4_conv1D\\assets\n",
      "INFO:tensorflow:Assets written to: model_experiment\\model_4_conv1D\\assets\n",
      "INFO:tensorflow:Assets written to: model_experiment\\model_4_conv1D\\assets\n",
      "INFO:tensorflow:Assets written to: model_experiment\\model_4_conv1D\\assets\n",
      "INFO:tensorflow:Assets written to: model_experiment\\model_4_conv1D\\assets\n",
      "INFO:tensorflow:Assets written to: model_experiment\\model_4_conv1D\\assets\n",
      "INFO:tensorflow:Assets written to: model_experiment\\model_4_conv1D\\assets\n",
      "INFO:tensorflow:Assets written to: model_experiment\\model_4_conv1D\\assets\n",
      "INFO:tensorflow:Assets written to: model_experiment\\model_4_conv1D\\assets\n",
      "INFO:tensorflow:Assets written to: model_experiment\\model_4_conv1D\\assets\n",
      "INFO:tensorflow:Assets written to: model_experiment\\model_4_conv1D\\assets\n",
      "INFO:tensorflow:Assets written to: model_experiment\\model_4_conv1D\\assets\n",
      "INFO:tensorflow:Assets written to: model_experiment\\model_4_conv1D\\assets\n",
      "INFO:tensorflow:Assets written to: model_experiment\\model_4_conv1D\\assets\n",
      "INFO:tensorflow:Assets written to: model_experiment\\model_4_conv1D\\assets\n"
     ]
    }
   ],
   "source": [
    "inputs = keras.Input(shape=(7,), name='input_layers')\n",
    "x = keras.layers.Lambda(lambda z : tf.expand_dims(z, axis=1))(inputs) # expand to 2D array \n",
    "x = keras.layers.Conv1D(filters=128, kernel_size=5, activation='relu', padding='causal')(x)\n",
    "x = keras.layers.Dense(32)(x)\n",
    "outputs = keras.layers.Dense(1)(x)\n",
    "model_4 = keras.Model(inputs, outputs, name='model_4_conv1D')\n",
    "\n",
    "model_4.compile(loss='mae', optimizer=tf.keras.optimizers.Adam(), metrics=['mae', 'mse'])\n",
    "hist_4 = model_4.fit(train_windows, train_labels, epochs=100, batch_size=128, validation_data=(test_windows, test_labels),verbose=0, callbacks=[crete_model_checkpoint(model_4.name)])"
   ]
  },
  {
   "cell_type": "code",
   "execution_count": 42,
   "metadata": {},
   "outputs": [
    {
     "name": "stdout",
     "output_type": "stream",
     "text": [
      "Model: \"model_4_conv1D\"\n",
      "_________________________________________________________________\n",
      " Layer (type)                Output Shape              Param #   \n",
      "=================================================================\n",
      " input_layers (InputLayer)   [(None, 7)]               0         \n",
      "                                                                 \n",
      " lambda (Lambda)             (None, 1, 7)              0         \n",
      "                                                                 \n",
      " conv1d (Conv1D)             (None, 1, 128)            4608      \n",
      "                                                                 \n",
      " dense_6 (Dense)             (None, 1, 32)             4128      \n",
      "                                                                 \n",
      " dense_7 (Dense)             (None, 1, 1)              33        \n",
      "                                                                 \n",
      "=================================================================\n",
      "Total params: 8,769\n",
      "Trainable params: 8,769\n",
      "Non-trainable params: 0\n",
      "_________________________________________________________________\n"
     ]
    }
   ],
   "source": [
    "model_4.summary()"
   ]
  },
  {
   "cell_type": "code",
   "execution_count": 43,
   "metadata": {},
   "outputs": [
    {
     "name": "stdout",
     "output_type": "stream",
     "text": [
      "18/18 [==============================] - 0s 2ms/step - loss: 572.1379 - mae: 572.1379 - mse: 1172796.8750\n",
      "[572.137939453125, 572.137939453125, 1172796.875]\n",
      "18/18 [==============================] - 0s 2ms/step - loss: 565.3553 - mae: 565.3553 - mse: 1160503.5000\n",
      "[565.3552856445312, 565.3552856445312, 1160503.5]\n"
     ]
    }
   ],
   "source": [
    "print(model_4.evaluate(test_windows, test_labels))\n",
    "model_4 = keras.models.load_model('model_experiment\\model_4_conv1D')\n",
    "print(model_4.evaluate(test_windows, test_labels))"
   ]
  },
  {
   "cell_type": "code",
   "execution_count": 44,
   "metadata": {},
   "outputs": [],
   "source": [
    "y_preds = model_4.predict(test_windows).reshape(-1,1) #shape must be the same"
   ]
  },
  {
   "cell_type": "code",
   "execution_count": 45,
   "metadata": {},
   "outputs": [
    {
     "data": {
      "text/plain": [
       "{'mae': 565.3552816931804,\n",
       " 'mse': 1160503.5982456598,\n",
       " 'rmse': 1077.2667256745935,\n",
       " 'mape': 0.02539485066805376,\n",
       " 'mase': 0.993172537173014}"
      ]
     },
     "execution_count": 45,
     "metadata": {},
     "output_type": "execute_result"
    }
   ],
   "source": [
    "model_4_score = evaluate_score(test_labels, y_preds) \n",
    "model_4_score"
   ]
  },
  {
   "cell_type": "markdown",
   "metadata": {},
   "source": [
    "## Model 5 : RNN (LSTM)"
   ]
  },
  {
   "cell_type": "code",
   "execution_count": 46,
   "metadata": {},
   "outputs": [
    {
     "name": "stdout",
     "output_type": "stream",
     "text": [
      "Epoch 1/100\n",
      "14/18 [======================>.......] - ETA: 0s - loss: 2570.0955 - mae: 2570.0955 - mse: 16543432.0000 INFO:tensorflow:Assets written to: model_experiment\\model_5_LSTM\\assets\n"
     ]
    },
    {
     "name": "stderr",
     "output_type": "stream",
     "text": [
      "WARNING:absl:<keras.layers.recurrent.LSTMCell object at 0x000001A13A3D65C0> has the same name 'LSTMCell' as a built-in Keras object. Consider renaming <class 'keras.layers.recurrent.LSTMCell'> to avoid naming conflicts when loading with `tf.keras.models.load_model`. If renaming is not possible, pass the object in the `custom_objects` parameter of the load function.\n"
     ]
    },
    {
     "name": "stdout",
     "output_type": "stream",
     "text": [
      "18/18 [==============================] - 5s 212ms/step - loss: 2430.5847 - mae: 2430.5847 - mse: 14904757.0000 - val_loss: 9471.1992 - val_mae: 9471.1992 - val_mse: 158900128.0000\n",
      "Epoch 2/100\n",
      "10/18 [===============>..............] - ETA: 0s - loss: 926.4811 - mae: 926.4811 - mse: 2493126.5000  INFO:tensorflow:Assets written to: model_experiment\\model_5_LSTM\\assets\n"
     ]
    },
    {
     "name": "stderr",
     "output_type": "stream",
     "text": [
      "INFO:tensorflow:Assets written to: model_experiment\\model_5_LSTM\\assets\n",
      "WARNING:absl:<keras.layers.recurrent.LSTMCell object at 0x000001A13A3D65C0> has the same name 'LSTMCell' as a built-in Keras object. Consider renaming <class 'keras.layers.recurrent.LSTMCell'> to avoid naming conflicts when loading with `tf.keras.models.load_model`. If renaming is not possible, pass the object in the `custom_objects` parameter of the load function.\n"
     ]
    },
    {
     "name": "stdout",
     "output_type": "stream",
     "text": [
      "18/18 [==============================] - 4s 231ms/step - loss: 664.7741 - mae: 664.7741 - mse: 1593523.1250 - val_loss: 2283.8184 - val_mae: 2283.8184 - val_mse: 13014716.0000\n",
      "Epoch 3/100\n",
      "16/18 [=========================>....] - ETA: 0s - loss: 240.8203 - mae: 240.8203 - mse: 236575.1094INFO:tensorflow:Assets written to: model_experiment\\model_5_LSTM\\assets\n"
     ]
    },
    {
     "name": "stderr",
     "output_type": "stream",
     "text": [
      "INFO:tensorflow:Assets written to: model_experiment\\model_5_LSTM\\assets\n",
      "WARNING:absl:<keras.layers.recurrent.LSTMCell object at 0x000001A13A3D65C0> has the same name 'LSTMCell' as a built-in Keras object. Consider renaming <class 'keras.layers.recurrent.LSTMCell'> to avoid naming conflicts when loading with `tf.keras.models.load_model`. If renaming is not possible, pass the object in the `custom_objects` parameter of the load function.\n"
     ]
    },
    {
     "name": "stdout",
     "output_type": "stream",
     "text": [
      "18/18 [==============================] - 4s 208ms/step - loss: 234.4796 - mae: 234.4796 - mse: 232918.3594 - val_loss: 986.8671 - val_mae: 986.8671 - val_mse: 3230789.0000\n",
      "Epoch 4/100\n",
      "18/18 [==============================] - 0s 8ms/step - loss: 183.8262 - mae: 183.8262 - mse: 172653.6562 - val_loss: 1015.0314 - val_mae: 1015.0314 - val_mse: 3464633.5000\n",
      "Epoch 5/100\n",
      "10/18 [===============>..............] - ETA: 0s - loss: 188.9048 - mae: 188.9048 - mse: 173284.8438INFO:tensorflow:Assets written to: model_experiment\\model_5_LSTM\\assets\n"
     ]
    },
    {
     "name": "stderr",
     "output_type": "stream",
     "text": [
      "INFO:tensorflow:Assets written to: model_experiment\\model_5_LSTM\\assets\n",
      "WARNING:absl:<keras.layers.recurrent.LSTMCell object at 0x000001A13A3D65C0> has the same name 'LSTMCell' as a built-in Keras object. Consider renaming <class 'keras.layers.recurrent.LSTMCell'> to avoid naming conflicts when loading with `tf.keras.models.load_model`. If renaming is not possible, pass the object in the `custom_objects` parameter of the load function.\n"
     ]
    },
    {
     "name": "stdout",
     "output_type": "stream",
     "text": [
      "18/18 [==============================] - 3s 184ms/step - loss: 180.0814 - mae: 180.0814 - mse: 162405.9375 - val_loss: 970.7499 - val_mae: 970.7499 - val_mse: 3150543.2500\n",
      "Epoch 6/100\n",
      "18/18 [==============================] - 0s 5ms/step - loss: 178.0876 - mae: 178.0876 - mse: 165883.2812 - val_loss: 983.8424 - val_mae: 983.8424 - val_mse: 3264688.0000\n",
      "Epoch 7/100\n",
      "18/18 [==============================] - ETA: 0s - loss: 170.9357 - mae: 170.9357 - mse: 157892.4688INFO:tensorflow:Assets written to: model_experiment\\model_5_LSTM\\assets\n"
     ]
    },
    {
     "name": "stderr",
     "output_type": "stream",
     "text": [
      "INFO:tensorflow:Assets written to: model_experiment\\model_5_LSTM\\assets\n",
      "WARNING:absl:<keras.layers.recurrent.LSTMCell object at 0x000001A13A3D65C0> has the same name 'LSTMCell' as a built-in Keras object. Consider renaming <class 'keras.layers.recurrent.LSTMCell'> to avoid naming conflicts when loading with `tf.keras.models.load_model`. If renaming is not possible, pass the object in the `custom_objects` parameter of the load function.\n"
     ]
    },
    {
     "name": "stdout",
     "output_type": "stream",
     "text": [
      "18/18 [==============================] - 3s 161ms/step - loss: 170.9357 - mae: 170.9357 - mse: 157892.4688 - val_loss: 909.2611 - val_mae: 909.2611 - val_mse: 2728749.5000\n",
      "Epoch 8/100\n",
      "18/18 [==============================] - 0s 6ms/step - loss: 162.7626 - mae: 162.7626 - mse: 143822.6875 - val_loss: 915.9801 - val_mae: 915.9801 - val_mse: 2813745.7500\n",
      "Epoch 9/100\n",
      "18/18 [==============================] - 0s 6ms/step - loss: 164.4031 - mae: 164.4031 - mse: 147101.5781 - val_loss: 946.2063 - val_mae: 946.2063 - val_mse: 2800559.5000\n",
      "Epoch 10/100\n",
      "17/18 [===========================>..] - ETA: 0s - loss: 159.4894 - mae: 159.4894 - mse: 141046.1719INFO:tensorflow:Assets written to: model_experiment\\model_5_LSTM\\assets\n"
     ]
    },
    {
     "name": "stderr",
     "output_type": "stream",
     "text": [
      "INFO:tensorflow:Assets written to: model_experiment\\model_5_LSTM\\assets\n",
      "WARNING:absl:<keras.layers.recurrent.LSTMCell object at 0x000001A13A3D65C0> has the same name 'LSTMCell' as a built-in Keras object. Consider renaming <class 'keras.layers.recurrent.LSTMCell'> to avoid naming conflicts when loading with `tf.keras.models.load_model`. If renaming is not possible, pass the object in the `custom_objects` parameter of the load function.\n"
     ]
    },
    {
     "name": "stdout",
     "output_type": "stream",
     "text": [
      "18/18 [==============================] - 3s 182ms/step - loss: 160.6439 - mae: 160.6439 - mse: 141414.2656 - val_loss: 888.7407 - val_mae: 888.7407 - val_mse: 2634445.7500\n",
      "Epoch 11/100\n",
      "16/18 [=========================>....] - ETA: 0s - loss: 156.1550 - mae: 156.1550 - mse: 135608.6719INFO:tensorflow:Assets written to: model_experiment\\model_5_LSTM\\assets\n"
     ]
    },
    {
     "name": "stderr",
     "output_type": "stream",
     "text": [
      "INFO:tensorflow:Assets written to: model_experiment\\model_5_LSTM\\assets\n",
      "WARNING:absl:<keras.layers.recurrent.LSTMCell object at 0x000001A13A3D65C0> has the same name 'LSTMCell' as a built-in Keras object. Consider renaming <class 'keras.layers.recurrent.LSTMCell'> to avoid naming conflicts when loading with `tf.keras.models.load_model`. If renaming is not possible, pass the object in the `custom_objects` parameter of the load function.\n"
     ]
    },
    {
     "name": "stdout",
     "output_type": "stream",
     "text": [
      "18/18 [==============================] - 3s 160ms/step - loss: 157.7262 - mae: 157.7262 - mse: 136474.5938 - val_loss: 871.6134 - val_mae: 871.6134 - val_mse: 2562614.2500\n",
      "Epoch 12/100\n",
      "18/18 [==============================] - 0s 6ms/step - loss: 155.2268 - mae: 155.2268 - mse: 132443.4062 - val_loss: 914.3345 - val_mae: 914.3345 - val_mse: 2581613.7500\n",
      "Epoch 13/100\n",
      "16/18 [=========================>....] - ETA: 0s - loss: 152.6652 - mae: 152.6652 - mse: 131944.5781INFO:tensorflow:Assets written to: model_experiment\\model_5_LSTM\\assets\n"
     ]
    },
    {
     "name": "stderr",
     "output_type": "stream",
     "text": [
      "INFO:tensorflow:Assets written to: model_experiment\\model_5_LSTM\\assets\n",
      "WARNING:absl:<keras.layers.recurrent.LSTMCell object at 0x000001A13A3D65C0> has the same name 'LSTMCell' as a built-in Keras object. Consider renaming <class 'keras.layers.recurrent.LSTMCell'> to avoid naming conflicts when loading with `tf.keras.models.load_model`. If renaming is not possible, pass the object in the `custom_objects` parameter of the load function.\n"
     ]
    },
    {
     "name": "stdout",
     "output_type": "stream",
     "text": [
      "18/18 [==============================] - 3s 172ms/step - loss: 153.7573 - mae: 153.7573 - mse: 131398.7344 - val_loss: 860.2595 - val_mae: 860.2595 - val_mse: 2410264.7500\n",
      "Epoch 14/100\n",
      "18/18 [==============================] - 0s 9ms/step - loss: 150.2584 - mae: 150.2584 - mse: 125505.9453 - val_loss: 884.9083 - val_mae: 884.9083 - val_mse: 2421960.7500\n",
      "Epoch 15/100\n",
      "16/18 [=========================>....] - ETA: 0s - loss: 151.9486 - mae: 151.9486 - mse: 128382.4141INFO:tensorflow:Assets written to: model_experiment\\model_5_LSTM\\assets\n"
     ]
    },
    {
     "name": "stderr",
     "output_type": "stream",
     "text": [
      "INFO:tensorflow:Assets written to: model_experiment\\model_5_LSTM\\assets\n",
      "WARNING:absl:<keras.layers.recurrent.LSTMCell object at 0x000001A13A3D65C0> has the same name 'LSTMCell' as a built-in Keras object. Consider renaming <class 'keras.layers.recurrent.LSTMCell'> to avoid naming conflicts when loading with `tf.keras.models.load_model`. If renaming is not possible, pass the object in the `custom_objects` parameter of the load function.\n"
     ]
    },
    {
     "name": "stdout",
     "output_type": "stream",
     "text": [
      "18/18 [==============================] - 3s 161ms/step - loss: 149.5002 - mae: 149.5002 - mse: 124244.1406 - val_loss: 832.3433 - val_mae: 832.3433 - val_mse: 2255959.5000\n",
      "Epoch 16/100\n",
      "12/18 [===================>..........] - ETA: 0s - loss: 143.7664 - mae: 143.7664 - mse: 110451.4062INFO:tensorflow:Assets written to: model_experiment\\model_5_LSTM\\assets\n"
     ]
    },
    {
     "name": "stderr",
     "output_type": "stream",
     "text": [
      "INFO:tensorflow:Assets written to: model_experiment\\model_5_LSTM\\assets\n",
      "WARNING:absl:<keras.layers.recurrent.LSTMCell object at 0x000001A13A3D65C0> has the same name 'LSTMCell' as a built-in Keras object. Consider renaming <class 'keras.layers.recurrent.LSTMCell'> to avoid naming conflicts when loading with `tf.keras.models.load_model`. If renaming is not possible, pass the object in the `custom_objects` parameter of the load function.\n"
     ]
    },
    {
     "name": "stdout",
     "output_type": "stream",
     "text": [
      "18/18 [==============================] - 3s 180ms/step - loss: 145.2472 - mae: 145.2472 - mse: 118414.7188 - val_loss: 810.2183 - val_mae: 810.2183 - val_mse: 2167557.0000\n",
      "Epoch 17/100\n",
      "13/18 [====================>.........] - ETA: 0s - loss: 145.3718 - mae: 145.3718 - mse: 118605.1250INFO:tensorflow:Assets written to: model_experiment\\model_5_LSTM\\assets\n"
     ]
    },
    {
     "name": "stderr",
     "output_type": "stream",
     "text": [
      "INFO:tensorflow:Assets written to: model_experiment\\model_5_LSTM\\assets\n",
      "WARNING:absl:<keras.layers.recurrent.LSTMCell object at 0x000001A13A3D65C0> has the same name 'LSTMCell' as a built-in Keras object. Consider renaming <class 'keras.layers.recurrent.LSTMCell'> to avoid naming conflicts when loading with `tf.keras.models.load_model`. If renaming is not possible, pass the object in the `custom_objects` parameter of the load function.\n"
     ]
    },
    {
     "name": "stdout",
     "output_type": "stream",
     "text": [
      "18/18 [==============================] - 3s 168ms/step - loss: 144.2755 - mae: 144.2755 - mse: 116570.4062 - val_loss: 803.2527 - val_mae: 803.2527 - val_mse: 2105559.0000\n",
      "Epoch 18/100\n",
      "17/18 [===========================>..] - ETA: 0s - loss: 144.2262 - mae: 144.2262 - mse: 116251.2109INFO:tensorflow:Assets written to: model_experiment\\model_5_LSTM\\assets\n"
     ]
    },
    {
     "name": "stderr",
     "output_type": "stream",
     "text": [
      "INFO:tensorflow:Assets written to: model_experiment\\model_5_LSTM\\assets\n",
      "WARNING:absl:<keras.layers.recurrent.LSTMCell object at 0x000001A13A3D65C0> has the same name 'LSTMCell' as a built-in Keras object. Consider renaming <class 'keras.layers.recurrent.LSTMCell'> to avoid naming conflicts when loading with `tf.keras.models.load_model`. If renaming is not possible, pass the object in the `custom_objects` parameter of the load function.\n"
     ]
    },
    {
     "name": "stdout",
     "output_type": "stream",
     "text": [
      "18/18 [==============================] - 3s 175ms/step - loss: 143.2617 - mae: 143.2617 - mse: 114722.1641 - val_loss: 781.5721 - val_mae: 781.5721 - val_mse: 2025848.3750\n",
      "Epoch 19/100\n",
      "12/18 [===================>..........] - ETA: 0s - loss: 145.5095 - mae: 145.5095 - mse: 124769.9609INFO:tensorflow:Assets written to: model_experiment\\model_5_LSTM\\assets\n"
     ]
    },
    {
     "name": "stderr",
     "output_type": "stream",
     "text": [
      "INFO:tensorflow:Assets written to: model_experiment\\model_5_LSTM\\assets\n",
      "WARNING:absl:<keras.layers.recurrent.LSTMCell object at 0x000001A13A3D65C0> has the same name 'LSTMCell' as a built-in Keras object. Consider renaming <class 'keras.layers.recurrent.LSTMCell'> to avoid naming conflicts when loading with `tf.keras.models.load_model`. If renaming is not possible, pass the object in the `custom_objects` parameter of the load function.\n"
     ]
    },
    {
     "name": "stdout",
     "output_type": "stream",
     "text": [
      "18/18 [==============================] - 3s 159ms/step - loss: 139.6575 - mae: 139.6575 - mse: 110139.6172 - val_loss: 768.9267 - val_mae: 768.9267 - val_mse: 1964160.5000\n",
      "Epoch 20/100\n",
      "18/18 [==============================] - 0s 5ms/step - loss: 139.4661 - mae: 139.4661 - mse: 110754.5938 - val_loss: 788.7198 - val_mae: 788.7198 - val_mse: 2087601.7500\n",
      "Epoch 21/100\n",
      " 1/18 [>.............................] - ETA: 0s - loss: 191.5913 - mae: 191.5913 - mse: 165761.2969INFO:tensorflow:Assets written to: model_experiment\\model_5_LSTM\\assets\n"
     ]
    },
    {
     "name": "stderr",
     "output_type": "stream",
     "text": [
      "INFO:tensorflow:Assets written to: model_experiment\\model_5_LSTM\\assets\n",
      "WARNING:absl:<keras.layers.recurrent.LSTMCell object at 0x000001A13A3D65C0> has the same name 'LSTMCell' as a built-in Keras object. Consider renaming <class 'keras.layers.recurrent.LSTMCell'> to avoid naming conflicts when loading with `tf.keras.models.load_model`. If renaming is not possible, pass the object in the `custom_objects` parameter of the load function.\n"
     ]
    },
    {
     "name": "stdout",
     "output_type": "stream",
     "text": [
      "18/18 [==============================] - 3s 173ms/step - loss: 139.1400 - mae: 139.1400 - mse: 109396.4062 - val_loss: 745.8790 - val_mae: 745.8790 - val_mse: 1856463.3750\n",
      "Epoch 22/100\n",
      "15/18 [========================>.....] - ETA: 0s - loss: 139.6331 - mae: 139.6331 - mse: 112142.6641INFO:tensorflow:Assets written to: model_experiment\\model_5_LSTM\\assets\n"
     ]
    },
    {
     "name": "stderr",
     "output_type": "stream",
     "text": [
      "INFO:tensorflow:Assets written to: model_experiment\\model_5_LSTM\\assets\n",
      "WARNING:absl:<keras.layers.recurrent.LSTMCell object at 0x000001A13A3D65C0> has the same name 'LSTMCell' as a built-in Keras object. Consider renaming <class 'keras.layers.recurrent.LSTMCell'> to avoid naming conflicts when loading with `tf.keras.models.load_model`. If renaming is not possible, pass the object in the `custom_objects` parameter of the load function.\n"
     ]
    },
    {
     "name": "stdout",
     "output_type": "stream",
     "text": [
      "18/18 [==============================] - 3s 161ms/step - loss: 135.0784 - mae: 135.0784 - mse: 103572.3750 - val_loss: 735.9546 - val_mae: 735.9546 - val_mse: 1809786.6250\n",
      "Epoch 23/100\n",
      "13/18 [====================>.........] - ETA: 0s - loss: 128.6663 - mae: 128.6663 - mse: 88641.3281INFO:tensorflow:Assets written to: model_experiment\\model_5_LSTM\\assets\n"
     ]
    },
    {
     "name": "stderr",
     "output_type": "stream",
     "text": [
      "INFO:tensorflow:Assets written to: model_experiment\\model_5_LSTM\\assets\n",
      "WARNING:absl:<keras.layers.recurrent.LSTMCell object at 0x000001A13A3D65C0> has the same name 'LSTMCell' as a built-in Keras object. Consider renaming <class 'keras.layers.recurrent.LSTMCell'> to avoid naming conflicts when loading with `tf.keras.models.load_model`. If renaming is not possible, pass the object in the `custom_objects` parameter of the load function.\n"
     ]
    },
    {
     "name": "stdout",
     "output_type": "stream",
     "text": [
      "18/18 [==============================] - 3s 179ms/step - loss: 132.0642 - mae: 132.0642 - mse: 100096.9844 - val_loss: 727.9251 - val_mae: 727.9251 - val_mse: 1759473.0000\n",
      "Epoch 24/100\n",
      "12/18 [===================>..........] - ETA: 0s - loss: 131.6110 - mae: 131.6110 - mse: 106099.2422INFO:tensorflow:Assets written to: model_experiment\\model_5_LSTM\\assets\n"
     ]
    },
    {
     "name": "stderr",
     "output_type": "stream",
     "text": [
      "INFO:tensorflow:Assets written to: model_experiment\\model_5_LSTM\\assets\n",
      "WARNING:absl:<keras.layers.recurrent.LSTMCell object at 0x000001A13A3D65C0> has the same name 'LSTMCell' as a built-in Keras object. Consider renaming <class 'keras.layers.recurrent.LSTMCell'> to avoid naming conflicts when loading with `tf.keras.models.load_model`. If renaming is not possible, pass the object in the `custom_objects` parameter of the load function.\n"
     ]
    },
    {
     "name": "stdout",
     "output_type": "stream",
     "text": [
      "18/18 [==============================] - 3s 167ms/step - loss: 130.8387 - mae: 130.8387 - mse: 98180.9531 - val_loss: 715.9380 - val_mae: 715.9380 - val_mse: 1724387.6250\n",
      "Epoch 25/100\n",
      "14/18 [======================>.......] - ETA: 0s - loss: 133.2296 - mae: 133.2296 - mse: 98507.5625INFO:tensorflow:Assets written to: model_experiment\\model_5_LSTM\\assets\n"
     ]
    },
    {
     "name": "stderr",
     "output_type": "stream",
     "text": [
      "INFO:tensorflow:Assets written to: model_experiment\\model_5_LSTM\\assets\n",
      "WARNING:absl:<keras.layers.recurrent.LSTMCell object at 0x000001A13A3D65C0> has the same name 'LSTMCell' as a built-in Keras object. Consider renaming <class 'keras.layers.recurrent.LSTMCell'> to avoid naming conflicts when loading with `tf.keras.models.load_model`. If renaming is not possible, pass the object in the `custom_objects` parameter of the load function.\n"
     ]
    },
    {
     "name": "stdout",
     "output_type": "stream",
     "text": [
      "18/18 [==============================] - 3s 179ms/step - loss: 129.5724 - mae: 129.5724 - mse: 95661.7500 - val_loss: 706.2927 - val_mae: 706.2927 - val_mse: 1684435.6250\n",
      "Epoch 26/100\n",
      "15/18 [========================>.....] - ETA: 0s - loss: 134.1524 - mae: 134.1524 - mse: 95570.1641INFO:tensorflow:Assets written to: model_experiment\\model_5_LSTM\\assets\n"
     ]
    },
    {
     "name": "stderr",
     "output_type": "stream",
     "text": [
      "INFO:tensorflow:Assets written to: model_experiment\\model_5_LSTM\\assets\n",
      "WARNING:absl:<keras.layers.recurrent.LSTMCell object at 0x000001A13A3D65C0> has the same name 'LSTMCell' as a built-in Keras object. Consider renaming <class 'keras.layers.recurrent.LSTMCell'> to avoid naming conflicts when loading with `tf.keras.models.load_model`. If renaming is not possible, pass the object in the `custom_objects` parameter of the load function.\n"
     ]
    },
    {
     "name": "stdout",
     "output_type": "stream",
     "text": [
      "18/18 [==============================] - 3s 164ms/step - loss: 130.0765 - mae: 130.0765 - mse: 95221.0234 - val_loss: 698.3115 - val_mae: 698.3115 - val_mse: 1668785.2500\n",
      "Epoch 27/100\n",
      "15/18 [========================>.....] - ETA: 0s - loss: 128.1722 - mae: 128.1722 - mse: 92267.1953 INFO:tensorflow:Assets written to: model_experiment\\model_5_LSTM\\assets\n"
     ]
    },
    {
     "name": "stderr",
     "output_type": "stream",
     "text": [
      "INFO:tensorflow:Assets written to: model_experiment\\model_5_LSTM\\assets\n",
      "WARNING:absl:<keras.layers.recurrent.LSTMCell object at 0x000001A13A3D65C0> has the same name 'LSTMCell' as a built-in Keras object. Consider renaming <class 'keras.layers.recurrent.LSTMCell'> to avoid naming conflicts when loading with `tf.keras.models.load_model`. If renaming is not possible, pass the object in the `custom_objects` parameter of the load function.\n"
     ]
    },
    {
     "name": "stdout",
     "output_type": "stream",
     "text": [
      "18/18 [==============================] - 3s 161ms/step - loss: 128.5237 - mae: 128.5237 - mse: 94007.6484 - val_loss: 691.7365 - val_mae: 691.7365 - val_mse: 1614378.3750\n",
      "Epoch 28/100\n",
      "12/18 [===================>..........] - ETA: 0s - loss: 126.2667 - mae: 126.2667 - mse: 87609.7266INFO:tensorflow:Assets written to: model_experiment\\model_5_LSTM\\assets\n"
     ]
    },
    {
     "name": "stderr",
     "output_type": "stream",
     "text": [
      "INFO:tensorflow:Assets written to: model_experiment\\model_5_LSTM\\assets\n",
      "WARNING:absl:<keras.layers.recurrent.LSTMCell object at 0x000001A13A3D65C0> has the same name 'LSTMCell' as a built-in Keras object. Consider renaming <class 'keras.layers.recurrent.LSTMCell'> to avoid naming conflicts when loading with `tf.keras.models.load_model`. If renaming is not possible, pass the object in the `custom_objects` parameter of the load function.\n"
     ]
    },
    {
     "name": "stdout",
     "output_type": "stream",
     "text": [
      "18/18 [==============================] - 3s 177ms/step - loss: 126.0426 - mae: 126.0426 - mse: 90434.3359 - val_loss: 686.6877 - val_mae: 686.6877 - val_mse: 1577727.7500\n",
      "Epoch 29/100\n",
      "18/18 [==============================] - 0s 5ms/step - loss: 124.4457 - mae: 124.4457 - mse: 90005.7656 - val_loss: 687.8419 - val_mae: 687.8419 - val_mse: 1562453.6250\n",
      "Epoch 30/100\n",
      "18/18 [==============================] - 0s 5ms/step - loss: 129.9445 - mae: 129.9445 - mse: 92914.1094 - val_loss: 734.7538 - val_mae: 734.7538 - val_mse: 1683527.8750\n",
      "Epoch 31/100\n",
      "18/18 [==============================] - 0s 5ms/step - loss: 134.9581 - mae: 134.9581 - mse: 95457.2734 - val_loss: 826.2976 - val_mae: 826.2976 - val_mse: 1950930.1250\n",
      "Epoch 32/100\n",
      "18/18 [==============================] - 0s 5ms/step - loss: 128.4026 - mae: 128.4026 - mse: 89591.5234 - val_loss: 747.0087 - val_mae: 747.0087 - val_mse: 1715629.6250\n",
      "Epoch 33/100\n",
      "18/18 [==============================] - 0s 6ms/step - loss: 129.7729 - mae: 129.7729 - mse: 94281.4922 - val_loss: 694.1859 - val_mae: 694.1859 - val_mse: 1560598.3750\n",
      "Epoch 34/100\n",
      " 9/18 [==============>...............] - ETA: 0s - loss: 124.2051 - mae: 124.2051 - mse: 91625.1250 INFO:tensorflow:Assets written to: model_experiment\\model_5_LSTM\\assets\n"
     ]
    },
    {
     "name": "stderr",
     "output_type": "stream",
     "text": [
      "INFO:tensorflow:Assets written to: model_experiment\\model_5_LSTM\\assets\n",
      "WARNING:absl:<keras.layers.recurrent.LSTMCell object at 0x000001A13A3D65C0> has the same name 'LSTMCell' as a built-in Keras object. Consider renaming <class 'keras.layers.recurrent.LSTMCell'> to avoid naming conflicts when loading with `tf.keras.models.load_model`. If renaming is not possible, pass the object in the `custom_objects` parameter of the load function.\n"
     ]
    },
    {
     "name": "stdout",
     "output_type": "stream",
     "text": [
      "18/18 [==============================] - 3s 183ms/step - loss: 123.6057 - mae: 123.6057 - mse: 88174.4062 - val_loss: 653.9188 - val_mae: 653.9188 - val_mse: 1478326.0000\n",
      "Epoch 35/100\n",
      "18/18 [==============================] - 0s 8ms/step - loss: 120.9389 - mae: 120.9389 - mse: 86211.5703 - val_loss: 659.3038 - val_mae: 659.3038 - val_mse: 1508923.3750\n",
      "Epoch 36/100\n",
      "18/18 [==============================] - 0s 5ms/step - loss: 122.2200 - mae: 122.2200 - mse: 86310.4062 - val_loss: 663.9217 - val_mae: 663.9217 - val_mse: 1471313.2500\n",
      "Epoch 37/100\n",
      "18/18 [==============================] - 0s 7ms/step - loss: 122.4677 - mae: 122.4677 - mse: 87234.3672 - val_loss: 665.3745 - val_mae: 665.3745 - val_mse: 1526266.1250\n",
      "Epoch 38/100\n",
      "11/18 [=================>............] - ETA: 0s - loss: 129.2596 - mae: 129.2596 - mse: 94323.0312INFO:tensorflow:Assets written to: model_experiment\\model_5_LSTM\\assets\n"
     ]
    },
    {
     "name": "stderr",
     "output_type": "stream",
     "text": [
      "INFO:tensorflow:Assets written to: model_experiment\\model_5_LSTM\\assets\n",
      "WARNING:absl:<keras.layers.recurrent.LSTMCell object at 0x000001A13A3D65C0> has the same name 'LSTMCell' as a built-in Keras object. Consider renaming <class 'keras.layers.recurrent.LSTMCell'> to avoid naming conflicts when loading with `tf.keras.models.load_model`. If renaming is not possible, pass the object in the `custom_objects` parameter of the load function.\n"
     ]
    },
    {
     "name": "stdout",
     "output_type": "stream",
     "text": [
      "18/18 [==============================] - 3s 167ms/step - loss: 123.2793 - mae: 123.2793 - mse: 88421.6641 - val_loss: 640.4648 - val_mae: 640.4648 - val_mse: 1424556.6250\n",
      "Epoch 39/100\n",
      "11/18 [=================>............] - ETA: 0s - loss: 123.8736 - mae: 123.8736 - mse: 90553.8828 INFO:tensorflow:Assets written to: model_experiment\\model_5_LSTM\\assets\n"
     ]
    },
    {
     "name": "stderr",
     "output_type": "stream",
     "text": [
      "INFO:tensorflow:Assets written to: model_experiment\\model_5_LSTM\\assets\n",
      "WARNING:absl:<keras.layers.recurrent.LSTMCell object at 0x000001A13A3D65C0> has the same name 'LSTMCell' as a built-in Keras object. Consider renaming <class 'keras.layers.recurrent.LSTMCell'> to avoid naming conflicts when loading with `tf.keras.models.load_model`. If renaming is not possible, pass the object in the `custom_objects` parameter of the load function.\n"
     ]
    },
    {
     "name": "stdout",
     "output_type": "stream",
     "text": [
      "18/18 [==============================] - 3s 165ms/step - loss: 120.4265 - mae: 120.4265 - mse: 84796.2656 - val_loss: 638.4265 - val_mae: 638.4265 - val_mse: 1412154.8750\n",
      "Epoch 40/100\n",
      "18/18 [==============================] - 0s 6ms/step - loss: 118.9161 - mae: 118.9161 - mse: 83497.4219 - val_loss: 647.6359 - val_mae: 647.6359 - val_mse: 1418042.6250\n",
      "Epoch 41/100\n",
      "18/18 [==============================] - 0s 6ms/step - loss: 122.0768 - mae: 122.0768 - mse: 86310.0547 - val_loss: 642.8427 - val_mae: 642.8427 - val_mse: 1436602.8750\n",
      "Epoch 42/100\n",
      "12/18 [===================>..........] - ETA: 0s - loss: 122.0357 - mae: 122.0357 - mse: 87409.3047INFO:tensorflow:Assets written to: model_experiment\\model_5_LSTM\\assets\n"
     ]
    },
    {
     "name": "stderr",
     "output_type": "stream",
     "text": [
      "INFO:tensorflow:Assets written to: model_experiment\\model_5_LSTM\\assets\n",
      "WARNING:absl:<keras.layers.recurrent.LSTMCell object at 0x000001A13A3D65C0> has the same name 'LSTMCell' as a built-in Keras object. Consider renaming <class 'keras.layers.recurrent.LSTMCell'> to avoid naming conflicts when loading with `tf.keras.models.load_model`. If renaming is not possible, pass the object in the `custom_objects` parameter of the load function.\n"
     ]
    },
    {
     "name": "stdout",
     "output_type": "stream",
     "text": [
      "18/18 [==============================] - 3s 175ms/step - loss: 123.6061 - mae: 123.6061 - mse: 87929.7031 - val_loss: 632.6164 - val_mae: 632.6164 - val_mse: 1386474.1250\n",
      "Epoch 43/100\n",
      "18/18 [==============================] - 0s 8ms/step - loss: 117.9267 - mae: 117.9267 - mse: 82120.3203 - val_loss: 635.1241 - val_mae: 635.1241 - val_mse: 1405971.3750\n",
      "Epoch 44/100\n",
      "18/18 [==============================] - 0s 5ms/step - loss: 119.1730 - mae: 119.1730 - mse: 82419.3906 - val_loss: 638.0212 - val_mae: 638.0212 - val_mse: 1416511.2500\n",
      "Epoch 45/100\n",
      "18/18 [==============================] - 0s 5ms/step - loss: 119.6646 - mae: 119.6646 - mse: 84039.0781 - val_loss: 656.6381 - val_mae: 656.6381 - val_mse: 1431631.3750\n",
      "Epoch 46/100\n",
      " 1/18 [>.............................] - ETA: 0s - loss: 94.3011 - mae: 94.3011 - mse: 53461.8281INFO:tensorflow:Assets written to: model_experiment\\model_5_LSTM\\assets\n"
     ]
    },
    {
     "name": "stderr",
     "output_type": "stream",
     "text": [
      "INFO:tensorflow:Assets written to: model_experiment\\model_5_LSTM\\assets\n",
      "WARNING:absl:<keras.layers.recurrent.LSTMCell object at 0x000001A13A3D65C0> has the same name 'LSTMCell' as a built-in Keras object. Consider renaming <class 'keras.layers.recurrent.LSTMCell'> to avoid naming conflicts when loading with `tf.keras.models.load_model`. If renaming is not possible, pass the object in the `custom_objects` parameter of the load function.\n"
     ]
    },
    {
     "name": "stdout",
     "output_type": "stream",
     "text": [
      "18/18 [==============================] - 3s 164ms/step - loss: 119.9236 - mae: 119.9236 - mse: 83413.5000 - val_loss: 630.7391 - val_mae: 630.7391 - val_mse: 1389089.8750\n",
      "Epoch 47/100\n",
      "18/18 [==============================] - 0s 7ms/step - loss: 119.3927 - mae: 119.3927 - mse: 83405.9922 - val_loss: 689.0098 - val_mae: 689.0098 - val_mse: 1505423.2500\n",
      "Epoch 48/100\n",
      "18/18 [==============================] - 0s 5ms/step - loss: 117.3026 - mae: 117.3026 - mse: 80525.4844 - val_loss: 640.0934 - val_mae: 640.0934 - val_mse: 1384443.5000\n",
      "Epoch 49/100\n",
      "18/18 [==============================] - ETA: 0s - loss: 117.9554 - mae: 117.9554 - mse: 81048.0859 INFO:tensorflow:Assets written to: model_experiment\\model_5_LSTM\\assets\n"
     ]
    },
    {
     "name": "stderr",
     "output_type": "stream",
     "text": [
      "INFO:tensorflow:Assets written to: model_experiment\\model_5_LSTM\\assets\n",
      "WARNING:absl:<keras.layers.recurrent.LSTMCell object at 0x000001A13A3D65C0> has the same name 'LSTMCell' as a built-in Keras object. Consider renaming <class 'keras.layers.recurrent.LSTMCell'> to avoid naming conflicts when loading with `tf.keras.models.load_model`. If renaming is not possible, pass the object in the `custom_objects` parameter of the load function.\n"
     ]
    },
    {
     "name": "stdout",
     "output_type": "stream",
     "text": [
      "18/18 [==============================] - 3s 178ms/step - loss: 117.9554 - mae: 117.9554 - mse: 81048.0859 - val_loss: 619.3154 - val_mae: 619.3154 - val_mse: 1341916.6250\n",
      "Epoch 50/100\n",
      "18/18 [==============================] - 0s 5ms/step - loss: 116.7975 - mae: 116.7975 - mse: 80131.6641 - val_loss: 623.9124 - val_mae: 623.9124 - val_mse: 1341675.7500\n",
      "Epoch 51/100\n",
      " 1/18 [>.............................] - ETA: 0s - loss: 95.9354 - mae: 95.9354 - mse: 53533.4219INFO:tensorflow:Assets written to: model_experiment\\model_5_LSTM\\assets\n"
     ]
    },
    {
     "name": "stderr",
     "output_type": "stream",
     "text": [
      "INFO:tensorflow:Assets written to: model_experiment\\model_5_LSTM\\assets\n",
      "WARNING:absl:<keras.layers.recurrent.LSTMCell object at 0x000001A13A3D65C0> has the same name 'LSTMCell' as a built-in Keras object. Consider renaming <class 'keras.layers.recurrent.LSTMCell'> to avoid naming conflicts when loading with `tf.keras.models.load_model`. If renaming is not possible, pass the object in the `custom_objects` parameter of the load function.\n"
     ]
    },
    {
     "name": "stdout",
     "output_type": "stream",
     "text": [
      "18/18 [==============================] - 3s 159ms/step - loss: 116.3997 - mae: 116.3997 - mse: 78928.1328 - val_loss: 616.6821 - val_mae: 616.6821 - val_mse: 1330921.0000\n",
      "Epoch 52/100\n",
      "18/18 [==============================] - 0s 6ms/step - loss: 116.1722 - mae: 116.1722 - mse: 81085.7500 - val_loss: 628.0771 - val_mae: 628.0771 - val_mse: 1375451.1250\n",
      "Epoch 53/100\n",
      "18/18 [==============================] - 0s 4ms/step - loss: 118.8508 - mae: 118.8508 - mse: 81425.6797 - val_loss: 639.0849 - val_mae: 639.0849 - val_mse: 1371320.2500\n",
      "Epoch 54/100\n",
      "18/18 [==============================] - 0s 5ms/step - loss: 121.3558 - mae: 121.3558 - mse: 82920.8984 - val_loss: 688.6622 - val_mae: 688.6622 - val_mse: 1485869.1250\n",
      "Epoch 55/100\n",
      "18/18 [==============================] - 0s 7ms/step - loss: 118.4360 - mae: 118.4360 - mse: 80682.6094 - val_loss: 627.3230 - val_mae: 627.3230 - val_mse: 1371106.1250\n",
      "Epoch 56/100\n",
      "18/18 [==============================] - 0s 5ms/step - loss: 115.1786 - mae: 115.1786 - mse: 79363.2109 - val_loss: 768.9225 - val_mae: 768.9225 - val_mse: 1815209.6250\n",
      "Epoch 57/100\n",
      "18/18 [==============================] - 0s 4ms/step - loss: 129.8790 - mae: 129.8790 - mse: 89664.0469 - val_loss: 689.7985 - val_mae: 689.7985 - val_mse: 1547545.3750\n",
      "Epoch 58/100\n",
      "18/18 [==============================] - 0s 5ms/step - loss: 121.7552 - mae: 121.7552 - mse: 82732.7266 - val_loss: 667.7677 - val_mae: 667.7677 - val_mse: 1479700.5000\n",
      "Epoch 59/100\n",
      "18/18 [==============================] - ETA: 0s - loss: 114.9870 - mae: 114.9870 - mse: 77648.1094INFO:tensorflow:Assets written to: model_experiment\\model_5_LSTM\\assets\n"
     ]
    },
    {
     "name": "stderr",
     "output_type": "stream",
     "text": [
      "INFO:tensorflow:Assets written to: model_experiment\\model_5_LSTM\\assets\n",
      "WARNING:absl:<keras.layers.recurrent.LSTMCell object at 0x000001A13A3D65C0> has the same name 'LSTMCell' as a built-in Keras object. Consider renaming <class 'keras.layers.recurrent.LSTMCell'> to avoid naming conflicts when loading with `tf.keras.models.load_model`. If renaming is not possible, pass the object in the `custom_objects` parameter of the load function.\n"
     ]
    },
    {
     "name": "stdout",
     "output_type": "stream",
     "text": [
      "18/18 [==============================] - 3s 176ms/step - loss: 114.9870 - mae: 114.9870 - mse: 77648.1094 - val_loss: 615.2803 - val_mae: 615.2803 - val_mse: 1329363.6250\n",
      "Epoch 60/100\n",
      "18/18 [==============================] - 0s 9ms/step - loss: 114.3655 - mae: 114.3655 - mse: 78431.4375 - val_loss: 634.5284 - val_mae: 634.5284 - val_mse: 1348473.5000\n",
      "Epoch 61/100\n",
      "18/18 [==============================] - ETA: 0s - loss: 114.4905 - mae: 114.4905 - mse: 78815.8984INFO:tensorflow:Assets written to: model_experiment\\model_5_LSTM\\assets\n"
     ]
    },
    {
     "name": "stderr",
     "output_type": "stream",
     "text": [
      "INFO:tensorflow:Assets written to: model_experiment\\model_5_LSTM\\assets\n",
      "WARNING:absl:<keras.layers.recurrent.LSTMCell object at 0x000001A13A3D65C0> has the same name 'LSTMCell' as a built-in Keras object. Consider renaming <class 'keras.layers.recurrent.LSTMCell'> to avoid naming conflicts when loading with `tf.keras.models.load_model`. If renaming is not possible, pass the object in the `custom_objects` parameter of the load function.\n"
     ]
    },
    {
     "name": "stdout",
     "output_type": "stream",
     "text": [
      "18/18 [==============================] - 3s 167ms/step - loss: 114.4905 - mae: 114.4905 - mse: 78815.8984 - val_loss: 603.3342 - val_mae: 603.3342 - val_mse: 1284331.2500\n",
      "Epoch 62/100\n",
      "18/18 [==============================] - 0s 8ms/step - loss: 112.5280 - mae: 112.5280 - mse: 76354.0234 - val_loss: 626.5572 - val_mae: 626.5572 - val_mse: 1357878.7500\n",
      "Epoch 63/100\n",
      "14/18 [======================>.......] - ETA: 0s - loss: 118.8661 - mae: 118.8661 - mse: 85970.0391INFO:tensorflow:Assets written to: model_experiment\\model_5_LSTM\\assets\n"
     ]
    },
    {
     "name": "stderr",
     "output_type": "stream",
     "text": [
      "INFO:tensorflow:Assets written to: model_experiment\\model_5_LSTM\\assets\n",
      "WARNING:absl:<keras.layers.recurrent.LSTMCell object at 0x000001A13A3D65C0> has the same name 'LSTMCell' as a built-in Keras object. Consider renaming <class 'keras.layers.recurrent.LSTMCell'> to avoid naming conflicts when loading with `tf.keras.models.load_model`. If renaming is not possible, pass the object in the `custom_objects` parameter of the load function.\n"
     ]
    },
    {
     "name": "stdout",
     "output_type": "stream",
     "text": [
      "18/18 [==============================] - 3s 190ms/step - loss: 116.2418 - mae: 116.2418 - mse: 79410.5469 - val_loss: 602.2000 - val_mae: 602.2000 - val_mse: 1277906.5000\n",
      "Epoch 64/100\n",
      "18/18 [==============================] - 0s 8ms/step - loss: 113.6120 - mae: 113.6120 - mse: 76966.6875 - val_loss: 633.4130 - val_mae: 633.4130 - val_mse: 1336417.8750\n",
      "Epoch 65/100\n",
      "18/18 [==============================] - ETA: 0s - loss: 115.8260 - mae: 115.8260 - mse: 78266.5469INFO:tensorflow:Assets written to: model_experiment\\model_5_LSTM\\assets\n"
     ]
    },
    {
     "name": "stderr",
     "output_type": "stream",
     "text": [
      "INFO:tensorflow:Assets written to: model_experiment\\model_5_LSTM\\assets\n",
      "WARNING:absl:<keras.layers.recurrent.LSTMCell object at 0x000001A13A3D65C0> has the same name 'LSTMCell' as a built-in Keras object. Consider renaming <class 'keras.layers.recurrent.LSTMCell'> to avoid naming conflicts when loading with `tf.keras.models.load_model`. If renaming is not possible, pass the object in the `custom_objects` parameter of the load function.\n"
     ]
    },
    {
     "name": "stdout",
     "output_type": "stream",
     "text": [
      "18/18 [==============================] - 3s 168ms/step - loss: 115.8260 - mae: 115.8260 - mse: 78266.5469 - val_loss: 599.4419 - val_mae: 599.4419 - val_mse: 1276124.3750\n",
      "Epoch 66/100\n",
      "13/18 [====================>.........] - ETA: 0s - loss: 110.7375 - mae: 110.7375 - mse: 71509.4844INFO:tensorflow:Assets written to: model_experiment\\model_5_LSTM\\assets\n"
     ]
    },
    {
     "name": "stderr",
     "output_type": "stream",
     "text": [
      "INFO:tensorflow:Assets written to: model_experiment\\model_5_LSTM\\assets\n",
      "WARNING:absl:<keras.layers.recurrent.LSTMCell object at 0x000001A13A3D65C0> has the same name 'LSTMCell' as a built-in Keras object. Consider renaming <class 'keras.layers.recurrent.LSTMCell'> to avoid naming conflicts when loading with `tf.keras.models.load_model`. If renaming is not possible, pass the object in the `custom_objects` parameter of the load function.\n"
     ]
    },
    {
     "name": "stdout",
     "output_type": "stream",
     "text": [
      "18/18 [==============================] - 3s 165ms/step - loss: 113.2499 - mae: 113.2499 - mse: 75911.1250 - val_loss: 596.0179 - val_mae: 596.0179 - val_mse: 1263265.0000\n",
      "Epoch 67/100\n",
      "18/18 [==============================] - 0s 5ms/step - loss: 112.6691 - mae: 112.6691 - mse: 75736.7422 - val_loss: 673.2121 - val_mae: 673.2121 - val_mse: 1474752.5000\n",
      "Epoch 68/100\n",
      "18/18 [==============================] - 0s 7ms/step - loss: 118.7148 - mae: 118.7148 - mse: 76392.4688 - val_loss: 790.6378 - val_mae: 790.6378 - val_mse: 1859713.1250\n",
      "Epoch 69/100\n",
      "18/18 [==============================] - 0s 6ms/step - loss: 132.8351 - mae: 132.8351 - mse: 90133.2031 - val_loss: 701.5373 - val_mae: 701.5373 - val_mse: 1557615.2500\n",
      "Epoch 70/100\n",
      "18/18 [==============================] - 0s 7ms/step - loss: 120.6986 - mae: 120.6986 - mse: 82020.3828 - val_loss: 601.4436 - val_mae: 601.4436 - val_mse: 1281931.6250\n",
      "Epoch 71/100\n",
      "18/18 [==============================] - 0s 8ms/step - loss: 116.5703 - mae: 116.5703 - mse: 79021.0625 - val_loss: 642.6683 - val_mae: 642.6683 - val_mse: 1347738.8750\n",
      "Epoch 72/100\n",
      "18/18 [==============================] - 0s 8ms/step - loss: 116.3399 - mae: 116.3399 - mse: 77316.8594 - val_loss: 614.8956 - val_mae: 614.8956 - val_mse: 1288396.2500\n",
      "Epoch 73/100\n",
      "18/18 [==============================] - 0s 8ms/step - loss: 113.0179 - mae: 113.0179 - mse: 75732.4453 - val_loss: 606.8326 - val_mae: 606.8326 - val_mse: 1292708.6250\n",
      "Epoch 74/100\n",
      "18/18 [==============================] - ETA: 0s - loss: 113.3071 - mae: 113.3071 - mse: 76696.8828INFO:tensorflow:Assets written to: model_experiment\\model_5_LSTM\\assets\n"
     ]
    },
    {
     "name": "stderr",
     "output_type": "stream",
     "text": [
      "INFO:tensorflow:Assets written to: model_experiment\\model_5_LSTM\\assets\n",
      "WARNING:absl:<keras.layers.recurrent.LSTMCell object at 0x000001A13A3D65C0> has the same name 'LSTMCell' as a built-in Keras object. Consider renaming <class 'keras.layers.recurrent.LSTMCell'> to avoid naming conflicts when loading with `tf.keras.models.load_model`. If renaming is not possible, pass the object in the `custom_objects` parameter of the load function.\n"
     ]
    },
    {
     "name": "stdout",
     "output_type": "stream",
     "text": [
      "18/18 [==============================] - 3s 182ms/step - loss: 113.3071 - mae: 113.3071 - mse: 76696.8828 - val_loss: 593.4708 - val_mae: 593.4708 - val_mse: 1254927.0000\n",
      "Epoch 75/100\n",
      "12/18 [===================>..........] - ETA: 0s - loss: 111.9390 - mae: 111.9390 - mse: 73516.2422INFO:tensorflow:Assets written to: model_experiment\\model_5_LSTM\\assets\n"
     ]
    },
    {
     "name": "stderr",
     "output_type": "stream",
     "text": [
      "INFO:tensorflow:Assets written to: model_experiment\\model_5_LSTM\\assets\n",
      "WARNING:absl:<keras.layers.recurrent.LSTMCell object at 0x000001A13A3D65C0> has the same name 'LSTMCell' as a built-in Keras object. Consider renaming <class 'keras.layers.recurrent.LSTMCell'> to avoid naming conflicts when loading with `tf.keras.models.load_model`. If renaming is not possible, pass the object in the `custom_objects` parameter of the load function.\n"
     ]
    },
    {
     "name": "stdout",
     "output_type": "stream",
     "text": [
      "18/18 [==============================] - 3s 161ms/step - loss: 111.7079 - mae: 111.7079 - mse: 75504.0781 - val_loss: 589.5189 - val_mae: 589.5189 - val_mse: 1243066.8750\n",
      "Epoch 76/100\n",
      "18/18 [==============================] - 0s 6ms/step - loss: 111.6744 - mae: 111.6744 - mse: 75239.2969 - val_loss: 592.5619 - val_mae: 592.5619 - val_mse: 1250553.7500\n",
      "Epoch 77/100\n",
      "18/18 [==============================] - 0s 5ms/step - loss: 113.3607 - mae: 113.3607 - mse: 74336.7031 - val_loss: 594.5339 - val_mae: 594.5339 - val_mse: 1244344.1250\n",
      "Epoch 78/100\n",
      "17/18 [===========================>..] - ETA: 0s - loss: 112.8812 - mae: 112.8812 - mse: 75068.7109INFO:tensorflow:Assets written to: model_experiment\\model_5_LSTM\\assets\n"
     ]
    },
    {
     "name": "stderr",
     "output_type": "stream",
     "text": [
      "INFO:tensorflow:Assets written to: model_experiment\\model_5_LSTM\\assets\n",
      "WARNING:absl:<keras.layers.recurrent.LSTMCell object at 0x000001A13A3D65C0> has the same name 'LSTMCell' as a built-in Keras object. Consider renaming <class 'keras.layers.recurrent.LSTMCell'> to avoid naming conflicts when loading with `tf.keras.models.load_model`. If renaming is not possible, pass the object in the `custom_objects` parameter of the load function.\n"
     ]
    },
    {
     "name": "stdout",
     "output_type": "stream",
     "text": [
      "18/18 [==============================] - 3s 173ms/step - loss: 112.0420 - mae: 112.0420 - mse: 73929.8906 - val_loss: 588.6032 - val_mae: 588.6032 - val_mse: 1237868.2500\n",
      "Epoch 79/100\n",
      "18/18 [==============================] - 0s 7ms/step - loss: 112.3203 - mae: 112.3203 - mse: 77199.6953 - val_loss: 610.2862 - val_mae: 610.2862 - val_mse: 1291562.3750\n",
      "Epoch 80/100\n",
      "18/18 [==============================] - 0s 5ms/step - loss: 110.8613 - mae: 110.8613 - mse: 75110.1406 - val_loss: 590.7293 - val_mae: 590.7293 - val_mse: 1233733.1250\n",
      "Epoch 81/100\n",
      "13/18 [====================>.........] - ETA: 0s - loss: 107.7681 - mae: 107.7681 - mse: 71600.6562INFO:tensorflow:Assets written to: model_experiment\\model_5_LSTM\\assets\n"
     ]
    },
    {
     "name": "stderr",
     "output_type": "stream",
     "text": [
      "INFO:tensorflow:Assets written to: model_experiment\\model_5_LSTM\\assets\n",
      "WARNING:absl:<keras.layers.recurrent.LSTMCell object at 0x000001A13A3D65C0> has the same name 'LSTMCell' as a built-in Keras object. Consider renaming <class 'keras.layers.recurrent.LSTMCell'> to avoid naming conflicts when loading with `tf.keras.models.load_model`. If renaming is not possible, pass the object in the `custom_objects` parameter of the load function.\n"
     ]
    },
    {
     "name": "stdout",
     "output_type": "stream",
     "text": [
      "18/18 [==============================] - 3s 163ms/step - loss: 110.5499 - mae: 110.5499 - mse: 73825.1875 - val_loss: 588.0625 - val_mae: 588.0625 - val_mse: 1234488.3750\n",
      "Epoch 82/100\n",
      "18/18 [==============================] - 0s 9ms/step - loss: 116.5818 - mae: 116.5818 - mse: 79177.1641 - val_loss: 589.9757 - val_mae: 589.9757 - val_mse: 1229850.7500\n",
      "Epoch 83/100\n",
      "18/18 [==============================] - 0s 9ms/step - loss: 114.1545 - mae: 114.1545 - mse: 76739.1875 - val_loss: 632.3936 - val_mae: 632.3936 - val_mse: 1338897.1250\n",
      "Epoch 84/100\n",
      "18/18 [==============================] - ETA: 0s - loss: 114.3265 - mae: 114.3265 - mse: 74628.8125INFO:tensorflow:Assets written to: model_experiment\\model_5_LSTM\\assets\n"
     ]
    },
    {
     "name": "stderr",
     "output_type": "stream",
     "text": [
      "INFO:tensorflow:Assets written to: model_experiment\\model_5_LSTM\\assets\n",
      "WARNING:absl:<keras.layers.recurrent.LSTMCell object at 0x000001A13A3D65C0> has the same name 'LSTMCell' as a built-in Keras object. Consider renaming <class 'keras.layers.recurrent.LSTMCell'> to avoid naming conflicts when loading with `tf.keras.models.load_model`. If renaming is not possible, pass the object in the `custom_objects` parameter of the load function.\n"
     ]
    },
    {
     "name": "stdout",
     "output_type": "stream",
     "text": [
      "18/18 [==============================] - 3s 184ms/step - loss: 114.3265 - mae: 114.3265 - mse: 74628.8125 - val_loss: 584.5673 - val_mae: 584.5673 - val_mse: 1223570.2500\n",
      "Epoch 85/100\n",
      "14/18 [======================>.......] - ETA: 0s - loss: 105.9513 - mae: 105.9513 - mse: 66879.8984INFO:tensorflow:Assets written to: model_experiment\\model_5_LSTM\\assets\n"
     ]
    },
    {
     "name": "stderr",
     "output_type": "stream",
     "text": [
      "INFO:tensorflow:Assets written to: model_experiment\\model_5_LSTM\\assets\n",
      "WARNING:absl:<keras.layers.recurrent.LSTMCell object at 0x000001A13A3D65C0> has the same name 'LSTMCell' as a built-in Keras object. Consider renaming <class 'keras.layers.recurrent.LSTMCell'> to avoid naming conflicts when loading with `tf.keras.models.load_model`. If renaming is not possible, pass the object in the `custom_objects` parameter of the load function.\n"
     ]
    },
    {
     "name": "stdout",
     "output_type": "stream",
     "text": [
      "18/18 [==============================] - 3s 186ms/step - loss: 110.4757 - mae: 110.4757 - mse: 74881.3906 - val_loss: 583.0582 - val_mae: 583.0582 - val_mse: 1218428.7500\n",
      "Epoch 86/100\n",
      "18/18 [==============================] - 0s 5ms/step - loss: 110.8430 - mae: 110.8430 - mse: 74015.9062 - val_loss: 650.5082 - val_mae: 650.5082 - val_mse: 1348043.0000\n",
      "Epoch 87/100\n",
      "18/18 [==============================] - ETA: 0s - loss: 111.1356 - mae: 111.1356 - mse: 72198.2031INFO:tensorflow:Assets written to: model_experiment\\model_5_LSTM\\assets\n"
     ]
    },
    {
     "name": "stderr",
     "output_type": "stream",
     "text": [
      "INFO:tensorflow:Assets written to: model_experiment\\model_5_LSTM\\assets\n",
      "WARNING:absl:<keras.layers.recurrent.LSTMCell object at 0x000001A13A3D65C0> has the same name 'LSTMCell' as a built-in Keras object. Consider renaming <class 'keras.layers.recurrent.LSTMCell'> to avoid naming conflicts when loading with `tf.keras.models.load_model`. If renaming is not possible, pass the object in the `custom_objects` parameter of the load function.\n"
     ]
    },
    {
     "name": "stdout",
     "output_type": "stream",
     "text": [
      "18/18 [==============================] - 3s 162ms/step - loss: 111.1356 - mae: 111.1356 - mse: 72198.2031 - val_loss: 582.7632 - val_mae: 582.7632 - val_mse: 1217838.2500\n",
      "Epoch 88/100\n",
      "18/18 [==============================] - 0s 6ms/step - loss: 110.1231 - mae: 110.1231 - mse: 74102.8984 - val_loss: 630.2177 - val_mae: 630.2177 - val_mse: 1328854.6250\n",
      "Epoch 89/100\n",
      "11/18 [=================>............] - ETA: 0s - loss: 105.2225 - mae: 105.2225 - mse: 67181.9375INFO:tensorflow:Assets written to: model_experiment\\model_5_LSTM\\assets\n"
     ]
    },
    {
     "name": "stderr",
     "output_type": "stream",
     "text": [
      "INFO:tensorflow:Assets written to: model_experiment\\model_5_LSTM\\assets\n",
      "WARNING:absl:<keras.layers.recurrent.LSTMCell object at 0x000001A13A3D65C0> has the same name 'LSTMCell' as a built-in Keras object. Consider renaming <class 'keras.layers.recurrent.LSTMCell'> to avoid naming conflicts when loading with `tf.keras.models.load_model`. If renaming is not possible, pass the object in the `custom_objects` parameter of the load function.\n"
     ]
    },
    {
     "name": "stdout",
     "output_type": "stream",
     "text": [
      "18/18 [==============================] - 3s 166ms/step - loss: 112.8528 - mae: 112.8528 - mse: 73790.4766 - val_loss: 581.1693 - val_mae: 581.1693 - val_mse: 1212488.2500\n",
      "Epoch 90/100\n",
      "18/18 [==============================] - 0s 6ms/step - loss: 109.5705 - mae: 109.5705 - mse: 71100.0391 - val_loss: 692.1559 - val_mae: 692.1559 - val_mse: 1449707.6250\n",
      "Epoch 91/100\n",
      "18/18 [==============================] - 0s 7ms/step - loss: 113.9402 - mae: 113.9402 - mse: 76031.7812 - val_loss: 587.3287 - val_mae: 587.3287 - val_mse: 1228269.8750\n",
      "Epoch 92/100\n",
      "17/18 [===========================>..] - ETA: 0s - loss: 112.2754 - mae: 112.2754 - mse: 76458.9922INFO:tensorflow:Assets written to: model_experiment\\model_5_LSTM\\assets\n"
     ]
    },
    {
     "name": "stderr",
     "output_type": "stream",
     "text": [
      "INFO:tensorflow:Assets written to: model_experiment\\model_5_LSTM\\assets\n",
      "WARNING:absl:<keras.layers.recurrent.LSTMCell object at 0x000001A13A3D65C0> has the same name 'LSTMCell' as a built-in Keras object. Consider renaming <class 'keras.layers.recurrent.LSTMCell'> to avoid naming conflicts when loading with `tf.keras.models.load_model`. If renaming is not possible, pass the object in the `custom_objects` parameter of the load function.\n"
     ]
    },
    {
     "name": "stdout",
     "output_type": "stream",
     "text": [
      "18/18 [==============================] - 3s 181ms/step - loss: 112.1451 - mae: 112.1451 - mse: 75729.4062 - val_loss: 579.5538 - val_mae: 579.5538 - val_mse: 1207978.6250\n",
      "Epoch 93/100\n",
      "18/18 [==============================] - 0s 6ms/step - loss: 115.4507 - mae: 115.4507 - mse: 77380.6797 - val_loss: 648.4633 - val_mae: 648.4633 - val_mse: 1372132.5000\n",
      "Epoch 94/100\n",
      "15/18 [========================>.....] - ETA: 0s - loss: 114.7474 - mae: 114.7474 - mse: 79242.4688 INFO:tensorflow:Assets written to: model_experiment\\model_5_LSTM\\assets\n"
     ]
    },
    {
     "name": "stderr",
     "output_type": "stream",
     "text": [
      "INFO:tensorflow:Assets written to: model_experiment\\model_5_LSTM\\assets\n",
      "WARNING:absl:<keras.layers.recurrent.LSTMCell object at 0x000001A13A3D65C0> has the same name 'LSTMCell' as a built-in Keras object. Consider renaming <class 'keras.layers.recurrent.LSTMCell'> to avoid naming conflicts when loading with `tf.keras.models.load_model`. If renaming is not possible, pass the object in the `custom_objects` parameter of the load function.\n"
     ]
    },
    {
     "name": "stdout",
     "output_type": "stream",
     "text": [
      "18/18 [==============================] - 3s 178ms/step - loss: 111.7675 - mae: 111.7675 - mse: 74766.4062 - val_loss: 579.3889 - val_mae: 579.3889 - val_mse: 1205611.1250\n",
      "Epoch 95/100\n",
      "18/18 [==============================] - 0s 6ms/step - loss: 110.9787 - mae: 110.9787 - mse: 74090.6328 - val_loss: 605.3370 - val_mae: 605.3370 - val_mse: 1244278.5000\n",
      "Epoch 96/100\n",
      "18/18 [==============================] - 0s 5ms/step - loss: 116.1876 - mae: 116.1876 - mse: 76601.1641 - val_loss: 590.5708 - val_mae: 590.5708 - val_mse: 1232050.1250\n",
      "Epoch 97/100\n",
      "18/18 [==============================] - 0s 5ms/step - loss: 109.6817 - mae: 109.6817 - mse: 73218.7422 - val_loss: 587.5785 - val_mae: 587.5785 - val_mse: 1223231.6250\n",
      "Epoch 98/100\n",
      "18/18 [==============================] - ETA: 0s - loss: 108.9934 - mae: 108.9934 - mse: 72465.3906INFO:tensorflow:Assets written to: model_experiment\\model_5_LSTM\\assets\n"
     ]
    },
    {
     "name": "stderr",
     "output_type": "stream",
     "text": [
      "INFO:tensorflow:Assets written to: model_experiment\\model_5_LSTM\\assets\n",
      "WARNING:absl:<keras.layers.recurrent.LSTMCell object at 0x000001A13A3D65C0> has the same name 'LSTMCell' as a built-in Keras object. Consider renaming <class 'keras.layers.recurrent.LSTMCell'> to avoid naming conflicts when loading with `tf.keras.models.load_model`. If renaming is not possible, pass the object in the `custom_objects` parameter of the load function.\n"
     ]
    },
    {
     "name": "stdout",
     "output_type": "stream",
     "text": [
      "18/18 [==============================] - 3s 165ms/step - loss: 108.9934 - mae: 108.9934 - mse: 72465.3906 - val_loss: 577.3130 - val_mae: 577.3130 - val_mse: 1197437.5000\n",
      "Epoch 99/100\n",
      "18/18 [==============================] - 0s 6ms/step - loss: 109.0253 - mae: 109.0253 - mse: 72702.8906 - val_loss: 579.3073 - val_mae: 579.3073 - val_mse: 1197883.8750\n",
      "Epoch 100/100\n",
      "18/18 [==============================] - 0s 4ms/step - loss: 109.9126 - mae: 109.9126 - mse: 71974.7188 - val_loss: 613.2131 - val_mae: 613.2131 - val_mse: 1257102.7500\n"
     ]
    }
   ],
   "source": [
    "tf.random.set_seed(42)\n",
    "\n",
    "inputs = keras.Input(shape=(7,), name='input_layer')\n",
    "x = keras.layers.Lambda(lambda z : tf.expand_dims(z, axis=1))(inputs)\n",
    "x = keras.layers.LSTM(128, activation='relu')(x)\n",
    "x = keras.layers.Dense(32, activation='relu')(x)\n",
    "outputs = keras.layers.Dense(1,)(x)\n",
    "model_5 = keras.Model(inputs, outputs, name='model_5_LSTM')\n",
    "\n",
    "model_5.compile(loss='mae', optimizer=tf.keras.optimizers.Adam(), metrics=['mae', 'mse'])\n",
    "hist_5 = model_5.fit(train_windows, train_labels, epochs=100, batch_size=128, validation_data=(test_windows, test_labels),verbose=1, callbacks=[crete_model_checkpoint(model_5.name)])"
   ]
  },
  {
   "cell_type": "code",
   "execution_count": 47,
   "metadata": {},
   "outputs": [
    {
     "name": "stdout",
     "output_type": "stream",
     "text": [
      "Model: \"model_5_LSTM\"\n",
      "_________________________________________________________________\n",
      " Layer (type)                Output Shape              Param #   \n",
      "=================================================================\n",
      " input_layer (InputLayer)    [(None, 7)]               0         \n",
      "                                                                 \n",
      " lambda_1 (Lambda)           (None, 1, 7)              0         \n",
      "                                                                 \n",
      " lstm (LSTM)                 (None, 128)               69632     \n",
      "                                                                 \n",
      " dense_8 (Dense)             (None, 32)                4128      \n",
      "                                                                 \n",
      " dense_9 (Dense)             (None, 1)                 33        \n",
      "                                                                 \n",
      "=================================================================\n",
      "Total params: 73,793\n",
      "Trainable params: 73,793\n",
      "Non-trainable params: 0\n",
      "_________________________________________________________________\n"
     ]
    }
   ],
   "source": [
    "model_5.summary()"
   ]
  },
  {
   "cell_type": "code",
   "execution_count": 48,
   "metadata": {},
   "outputs": [
    {
     "name": "stdout",
     "output_type": "stream",
     "text": [
      "18/18 [==============================] - 0s 1ms/step - loss: 613.2130 - mae: 613.2130 - mse: 1257102.8750\n",
      "[613.2130126953125, 613.2130126953125, 1257102.875]\n",
      "18/18 [==============================] - 0s 2ms/step - loss: 577.3130 - mae: 577.3130 - mse: 1197437.6250\n",
      "[577.31298828125, 577.31298828125, 1197437.625]\n"
     ]
    }
   ],
   "source": [
    "print(model_5.evaluate(test_windows, test_labels))\n",
    "model_5 = keras.models.load_model('model_experiment\\model_5_LSTM')\n",
    "print(model_5.evaluate(test_windows, test_labels))"
   ]
  },
  {
   "cell_type": "code",
   "execution_count": 49,
   "metadata": {},
   "outputs": [
    {
     "data": {
      "text/plain": [
       "{'mae': 577.3130479666248,\n",
       " 'mse': 1197437.8175510122,\n",
       " 'rmse': 1094.2750191569814,\n",
       " 'mape': 0.0259421916372879,\n",
       " 'mase': 1.0141790183243902}"
      ]
     },
     "execution_count": 49,
     "metadata": {},
     "output_type": "execute_result"
    }
   ],
   "source": [
    "y_preds = model_5.predict(test_windows).reshape(-1,1) #shape must be the same\n",
    "model_5_score = evaluate_score(test_labels, y_preds) \n",
    "model_5_score"
   ]
  },
  {
   "cell_type": "markdown",
   "metadata": {},
   "source": [
    "## Make a Multivariate time series dataset\n",
    "what is influence BTC price ? (BTC halving event ?)"
   ]
  },
  {
   "cell_type": "markdown",
   "metadata": {},
   "source": [
    "<img src=\"https://www.investopedia.com/thmb/URup7guRB6Eibv5qOXs7pTv0gDQ=/660x0/filters:no_upscale():max_bytes(150000):strip_icc():format(webp)/BlockReward-5c0ad88946e0fb0001af7198.png\" width=500px/>"
   ]
  },
  {
   "cell_type": "code",
   "execution_count": 50,
   "metadata": {},
   "outputs": [],
   "source": [
    "block_reward_1 = 50 # 9 jan 09 # not in our dataset\n",
    "block_reward_2 = 25 # 28 nov 12\n",
    "block_reward_3 = 25/2 # 9 july 16\n",
    "block_reward_4 = 25/4 # 11 may 20\n",
    "\n",
    "#block reward dates\n",
    "block_reward_2date = np.datetime64('2012-11-28')\n",
    "block_reward_3date = np.datetime64('2016-07-09')\n",
    "block_reward_4date = np.datetime64('2020-05-11')"
   ]
  },
  {
   "cell_type": "code",
   "execution_count": 51,
   "metadata": {},
   "outputs": [
    {
     "data": {
      "text/html": [
       "<div>\n",
       "<style scoped>\n",
       "    .dataframe tbody tr th:only-of-type {\n",
       "        vertical-align: middle;\n",
       "    }\n",
       "\n",
       "    .dataframe tbody tr th {\n",
       "        vertical-align: top;\n",
       "    }\n",
       "\n",
       "    .dataframe thead th {\n",
       "        text-align: right;\n",
       "    }\n",
       "</style>\n",
       "<table border=\"1\" class=\"dataframe\">\n",
       "  <thead>\n",
       "    <tr style=\"text-align: right;\">\n",
       "      <th></th>\n",
       "      <th>Price</th>\n",
       "    </tr>\n",
       "    <tr>\n",
       "      <th>Date</th>\n",
       "      <th></th>\n",
       "    </tr>\n",
       "  </thead>\n",
       "  <tbody>\n",
       "    <tr>\n",
       "      <th>2013-10-01</th>\n",
       "      <td>123.65499</td>\n",
       "    </tr>\n",
       "    <tr>\n",
       "      <th>2013-10-02</th>\n",
       "      <td>125.45500</td>\n",
       "    </tr>\n",
       "    <tr>\n",
       "      <th>2013-10-03</th>\n",
       "      <td>108.58483</td>\n",
       "    </tr>\n",
       "    <tr>\n",
       "      <th>2013-10-04</th>\n",
       "      <td>118.67466</td>\n",
       "    </tr>\n",
       "    <tr>\n",
       "      <th>2013-10-05</th>\n",
       "      <td>121.33866</td>\n",
       "    </tr>\n",
       "  </tbody>\n",
       "</table>\n",
       "</div>"
      ],
      "text/plain": [
       "                Price\n",
       "Date                 \n",
       "2013-10-01  123.65499\n",
       "2013-10-02  125.45500\n",
       "2013-10-03  108.58483\n",
       "2013-10-04  118.67466\n",
       "2013-10-05  121.33866"
      ]
     },
     "execution_count": 51,
     "metadata": {},
     "output_type": "execute_result"
    }
   ],
   "source": [
    "bitcoin_prices.head()"
   ]
  },
  {
   "cell_type": "code",
   "execution_count": 52,
   "metadata": {},
   "outputs": [
    {
     "name": "stdout",
     "output_type": "stream",
     "text": [
      "1012\n",
      "2414\n"
     ]
    }
   ],
   "source": [
    "print(np.argmax(bitcoin_prices.index == block_reward_3date))\n",
    "print(np.argmax(bitcoin_prices.index == block_reward_4date))"
   ]
  },
  {
   "cell_type": "code",
   "execution_count": 53,
   "metadata": {},
   "outputs": [
    {
     "name": "stderr",
     "output_type": "stream",
     "text": [
      "c:\\Users\\alant\\AppData\\Local\\Programs\\Python\\Python310\\lib\\site-packages\\pandas\\core\\indexing.py:1732: SettingWithCopyWarning: \n",
      "A value is trying to be set on a copy of a slice from a DataFrame\n",
      "\n",
      "See the caveats in the documentation: https://pandas.pydata.org/pandas-docs/stable/user_guide/indexing.html#returning-a-view-versus-a-copy\n",
      "  self._setitem_single_block(indexer, value, name)\n"
     ]
    }
   ],
   "source": [
    "bitcoin_prices['block_reward'] = 0 # add for index easier\n",
    "bitcoin_prices['block_reward'].iloc[:1012] = block_reward_2\n",
    "bitcoin_prices['block_reward'].iloc[1012:2414] = block_reward_3\n",
    "bitcoin_prices['block_reward'].iloc[2414:] = block_reward_4"
   ]
  },
  {
   "cell_type": "code",
   "execution_count": 54,
   "metadata": {},
   "outputs": [
    {
     "data": {
      "text/html": [
       "<div>\n",
       "<style scoped>\n",
       "    .dataframe tbody tr th:only-of-type {\n",
       "        vertical-align: middle;\n",
       "    }\n",
       "\n",
       "    .dataframe tbody tr th {\n",
       "        vertical-align: top;\n",
       "    }\n",
       "\n",
       "    .dataframe thead th {\n",
       "        text-align: right;\n",
       "    }\n",
       "</style>\n",
       "<table border=\"1\" class=\"dataframe\">\n",
       "  <thead>\n",
       "    <tr style=\"text-align: right;\">\n",
       "      <th></th>\n",
       "      <th>Price</th>\n",
       "      <th>block_reward</th>\n",
       "    </tr>\n",
       "    <tr>\n",
       "      <th>Date</th>\n",
       "      <th></th>\n",
       "      <th></th>\n",
       "    </tr>\n",
       "  </thead>\n",
       "  <tbody>\n",
       "    <tr>\n",
       "      <th>2013-10-01</th>\n",
       "      <td>123.654990</td>\n",
       "      <td>25.00</td>\n",
       "    </tr>\n",
       "    <tr>\n",
       "      <th>2014-07-28</th>\n",
       "      <td>580.110000</td>\n",
       "      <td>25.00</td>\n",
       "    </tr>\n",
       "    <tr>\n",
       "      <th>2015-05-24</th>\n",
       "      <td>239.798500</td>\n",
       "      <td>25.00</td>\n",
       "    </tr>\n",
       "    <tr>\n",
       "      <th>2016-03-19</th>\n",
       "      <td>407.473000</td>\n",
       "      <td>25.00</td>\n",
       "    </tr>\n",
       "    <tr>\n",
       "      <th>2017-01-13</th>\n",
       "      <td>784.893750</td>\n",
       "      <td>12.50</td>\n",
       "    </tr>\n",
       "    <tr>\n",
       "      <th>2017-11-09</th>\n",
       "      <td>7342.823750</td>\n",
       "      <td>12.50</td>\n",
       "    </tr>\n",
       "    <tr>\n",
       "      <th>2018-09-05</th>\n",
       "      <td>7361.271864</td>\n",
       "      <td>12.50</td>\n",
       "    </tr>\n",
       "    <tr>\n",
       "      <th>2019-07-02</th>\n",
       "      <td>10454.683818</td>\n",
       "      <td>12.50</td>\n",
       "    </tr>\n",
       "    <tr>\n",
       "      <th>2020-04-27</th>\n",
       "      <td>7624.853786</td>\n",
       "      <td>12.50</td>\n",
       "    </tr>\n",
       "    <tr>\n",
       "      <th>2021-02-21</th>\n",
       "      <td>54801.648644</td>\n",
       "      <td>6.25</td>\n",
       "    </tr>\n",
       "  </tbody>\n",
       "</table>\n",
       "</div>"
      ],
      "text/plain": [
       "                   Price  block_reward\n",
       "Date                                  \n",
       "2013-10-01    123.654990         25.00\n",
       "2014-07-28    580.110000         25.00\n",
       "2015-05-24    239.798500         25.00\n",
       "2016-03-19    407.473000         25.00\n",
       "2017-01-13    784.893750         12.50\n",
       "2017-11-09   7342.823750         12.50\n",
       "2018-09-05   7361.271864         12.50\n",
       "2019-07-02  10454.683818         12.50\n",
       "2020-04-27   7624.853786         12.50\n",
       "2021-02-21  54801.648644          6.25"
      ]
     },
     "execution_count": 54,
     "metadata": {},
     "output_type": "execute_result"
    }
   ],
   "source": [
    "bitcoin_prices[::300]"
   ]
  },
  {
   "cell_type": "code",
   "execution_count": 55,
   "metadata": {},
   "outputs": [
    {
     "data": {
      "image/png": "[encoded data removed]",
      "text/plain": [
       "<Figure size 720x504 with 1 Axes>"
      ]
     },
     "metadata": {
      "needs_background": "light"
     },
     "output_type": "display_data"
    }
   ],
   "source": [
    "from sklearn.preprocessing import minmax_scale\n",
    "\n",
    "bitcoin_scale = pd.DataFrame(minmax_scale(bitcoin_prices[['Price', 'block_reward']]), columns=bitcoin_prices.columns, index=bitcoin_prices.index)\n",
    "bitcoin_scale.plot(figsize=(10,7));"
   ]
  },
  {
   "cell_type": "code",
   "execution_count": 56,
   "metadata": {},
   "outputs": [
    {
     "data": {
      "text/html": [
       "<div>\n",
       "<style scoped>\n",
       "    .dataframe tbody tr th:only-of-type {\n",
       "        vertical-align: middle;\n",
       "    }\n",
       "\n",
       "    .dataframe tbody tr th {\n",
       "        vertical-align: top;\n",
       "    }\n",
       "\n",
       "    .dataframe thead th {\n",
       "        text-align: right;\n",
       "    }\n",
       "</style>\n",
       "<table border=\"1\" class=\"dataframe\">\n",
       "  <thead>\n",
       "    <tr style=\"text-align: right;\">\n",
       "      <th></th>\n",
       "      <th>Price</th>\n",
       "      <th>block_reward</th>\n",
       "      <th>Price+1</th>\n",
       "      <th>Price+2</th>\n",
       "      <th>Price+3</th>\n",
       "      <th>Price+4</th>\n",
       "      <th>Price+5</th>\n",
       "      <th>Price+6</th>\n",
       "      <th>Price+7</th>\n",
       "    </tr>\n",
       "    <tr>\n",
       "      <th>Date</th>\n",
       "      <th></th>\n",
       "      <th></th>\n",
       "      <th></th>\n",
       "      <th></th>\n",
       "      <th></th>\n",
       "      <th></th>\n",
       "      <th></th>\n",
       "      <th></th>\n",
       "      <th></th>\n",
       "    </tr>\n",
       "  </thead>\n",
       "  <tbody>\n",
       "    <tr>\n",
       "      <th>2013-10-01</th>\n",
       "      <td>123.65499</td>\n",
       "      <td>25.0</td>\n",
       "      <td>NaN</td>\n",
       "      <td>NaN</td>\n",
       "      <td>NaN</td>\n",
       "      <td>NaN</td>\n",
       "      <td>NaN</td>\n",
       "      <td>NaN</td>\n",
       "      <td>NaN</td>\n",
       "    </tr>\n",
       "    <tr>\n",
       "      <th>2013-10-02</th>\n",
       "      <td>125.45500</td>\n",
       "      <td>25.0</td>\n",
       "      <td>123.65499</td>\n",
       "      <td>NaN</td>\n",
       "      <td>NaN</td>\n",
       "      <td>NaN</td>\n",
       "      <td>NaN</td>\n",
       "      <td>NaN</td>\n",
       "      <td>NaN</td>\n",
       "    </tr>\n",
       "    <tr>\n",
       "      <th>2013-10-03</th>\n",
       "      <td>108.58483</td>\n",
       "      <td>25.0</td>\n",
       "      <td>125.45500</td>\n",
       "      <td>123.65499</td>\n",
       "      <td>NaN</td>\n",
       "      <td>NaN</td>\n",
       "      <td>NaN</td>\n",
       "      <td>NaN</td>\n",
       "      <td>NaN</td>\n",
       "    </tr>\n",
       "    <tr>\n",
       "      <th>2013-10-04</th>\n",
       "      <td>118.67466</td>\n",
       "      <td>25.0</td>\n",
       "      <td>108.58483</td>\n",
       "      <td>125.45500</td>\n",
       "      <td>123.65499</td>\n",
       "      <td>NaN</td>\n",
       "      <td>NaN</td>\n",
       "      <td>NaN</td>\n",
       "      <td>NaN</td>\n",
       "    </tr>\n",
       "    <tr>\n",
       "      <th>2013-10-05</th>\n",
       "      <td>121.33866</td>\n",
       "      <td>25.0</td>\n",
       "      <td>118.67466</td>\n",
       "      <td>108.58483</td>\n",
       "      <td>125.45500</td>\n",
       "      <td>123.65499</td>\n",
       "      <td>NaN</td>\n",
       "      <td>NaN</td>\n",
       "      <td>NaN</td>\n",
       "    </tr>\n",
       "    <tr>\n",
       "      <th>2013-10-06</th>\n",
       "      <td>120.65533</td>\n",
       "      <td>25.0</td>\n",
       "      <td>121.33866</td>\n",
       "      <td>118.67466</td>\n",
       "      <td>108.58483</td>\n",
       "      <td>125.45500</td>\n",
       "      <td>123.65499</td>\n",
       "      <td>NaN</td>\n",
       "      <td>NaN</td>\n",
       "    </tr>\n",
       "    <tr>\n",
       "      <th>2013-10-07</th>\n",
       "      <td>121.79500</td>\n",
       "      <td>25.0</td>\n",
       "      <td>120.65533</td>\n",
       "      <td>121.33866</td>\n",
       "      <td>118.67466</td>\n",
       "      <td>108.58483</td>\n",
       "      <td>125.45500</td>\n",
       "      <td>123.65499</td>\n",
       "      <td>NaN</td>\n",
       "    </tr>\n",
       "    <tr>\n",
       "      <th>2013-10-08</th>\n",
       "      <td>123.03300</td>\n",
       "      <td>25.0</td>\n",
       "      <td>121.79500</td>\n",
       "      <td>120.65533</td>\n",
       "      <td>121.33866</td>\n",
       "      <td>118.67466</td>\n",
       "      <td>108.58483</td>\n",
       "      <td>125.45500</td>\n",
       "      <td>123.65499</td>\n",
       "    </tr>\n",
       "    <tr>\n",
       "      <th>2013-10-09</th>\n",
       "      <td>124.04900</td>\n",
       "      <td>25.0</td>\n",
       "      <td>123.03300</td>\n",
       "      <td>121.79500</td>\n",
       "      <td>120.65533</td>\n",
       "      <td>121.33866</td>\n",
       "      <td>118.67466</td>\n",
       "      <td>108.58483</td>\n",
       "      <td>125.45500</td>\n",
       "    </tr>\n",
       "    <tr>\n",
       "      <th>2013-10-10</th>\n",
       "      <td>125.96116</td>\n",
       "      <td>25.0</td>\n",
       "      <td>124.04900</td>\n",
       "      <td>123.03300</td>\n",
       "      <td>121.79500</td>\n",
       "      <td>120.65533</td>\n",
       "      <td>121.33866</td>\n",
       "      <td>118.67466</td>\n",
       "      <td>108.58483</td>\n",
       "    </tr>\n",
       "  </tbody>\n",
       "</table>\n",
       "</div>"
      ],
      "text/plain": [
       "                Price  block_reward    Price+1    Price+2    Price+3  \\\n",
       "Date                                                                   \n",
       "2013-10-01  123.65499          25.0        NaN        NaN        NaN   \n",
       "2013-10-02  125.45500          25.0  123.65499        NaN        NaN   \n",
       "2013-10-03  108.58483          25.0  125.45500  123.65499        NaN   \n",
       "2013-10-04  118.67466          25.0  108.58483  125.45500  123.65499   \n",
       "2013-10-05  121.33866          25.0  118.67466  108.58483  125.45500   \n",
       "2013-10-06  120.65533          25.0  121.33866  118.67466  108.58483   \n",
       "2013-10-07  121.79500          25.0  120.65533  121.33866  118.67466   \n",
       "2013-10-08  123.03300          25.0  121.79500  120.65533  121.33866   \n",
       "2013-10-09  124.04900          25.0  123.03300  121.79500  120.65533   \n",
       "2013-10-10  125.96116          25.0  124.04900  123.03300  121.79500   \n",
       "\n",
       "              Price+4    Price+5    Price+6    Price+7  \n",
       "Date                                                    \n",
       "2013-10-01        NaN        NaN        NaN        NaN  \n",
       "2013-10-02        NaN        NaN        NaN        NaN  \n",
       "2013-10-03        NaN        NaN        NaN        NaN  \n",
       "2013-10-04        NaN        NaN        NaN        NaN  \n",
       "2013-10-05  123.65499        NaN        NaN        NaN  \n",
       "2013-10-06  125.45500  123.65499        NaN        NaN  \n",
       "2013-10-07  108.58483  125.45500  123.65499        NaN  \n",
       "2013-10-08  118.67466  108.58483  125.45500  123.65499  \n",
       "2013-10-09  121.33866  118.67466  108.58483  125.45500  \n",
       "2013-10-10  120.65533  121.33866  118.67466  108.58483  "
      ]
     },
     "execution_count": 56,
     "metadata": {},
     "output_type": "execute_result"
    }
   ],
   "source": [
    "# make windowing with pandas\n",
    "HORIZON = 1\n",
    "WINDOW_SIZE = 7\n",
    "\n",
    "bitcoin_windowed = bitcoin_prices.copy()\n",
    "for i in range(WINDOW_SIZE):\n",
    "    bitcoin_windowed[f'Price+{i+1}'] = bitcoin_windowed['Price'].shift(periods=i+1) # shife down for i+1 row\n",
    "\n",
    "bitcoin_windowed.head(10)"
   ]
  },
  {
   "cell_type": "code",
   "execution_count": 57,
   "metadata": {},
   "outputs": [
    {
     "data": {
      "text/html": [
       "<div>\n",
       "<style scoped>\n",
       "    .dataframe tbody tr th:only-of-type {\n",
       "        vertical-align: middle;\n",
       "    }\n",
       "\n",
       "    .dataframe tbody tr th {\n",
       "        vertical-align: top;\n",
       "    }\n",
       "\n",
       "    .dataframe thead th {\n",
       "        text-align: right;\n",
       "    }\n",
       "</style>\n",
       "<table border=\"1\" class=\"dataframe\">\n",
       "  <thead>\n",
       "    <tr style=\"text-align: right;\">\n",
       "      <th></th>\n",
       "      <th>block_reward</th>\n",
       "      <th>Price+1</th>\n",
       "      <th>Price+2</th>\n",
       "      <th>Price+3</th>\n",
       "      <th>Price+4</th>\n",
       "      <th>Price+5</th>\n",
       "      <th>Price+6</th>\n",
       "      <th>Price+7</th>\n",
       "    </tr>\n",
       "    <tr>\n",
       "      <th>Date</th>\n",
       "      <th></th>\n",
       "      <th></th>\n",
       "      <th></th>\n",
       "      <th></th>\n",
       "      <th></th>\n",
       "      <th></th>\n",
       "      <th></th>\n",
       "      <th></th>\n",
       "    </tr>\n",
       "  </thead>\n",
       "  <tbody>\n",
       "    <tr>\n",
       "      <th>2013-10-08</th>\n",
       "      <td>25.0</td>\n",
       "      <td>121.794998</td>\n",
       "      <td>120.655327</td>\n",
       "      <td>121.338661</td>\n",
       "      <td>118.674660</td>\n",
       "      <td>108.584831</td>\n",
       "      <td>125.455002</td>\n",
       "      <td>123.654991</td>\n",
       "    </tr>\n",
       "    <tr>\n",
       "      <th>2013-10-09</th>\n",
       "      <td>25.0</td>\n",
       "      <td>123.032997</td>\n",
       "      <td>121.794998</td>\n",
       "      <td>120.655327</td>\n",
       "      <td>121.338661</td>\n",
       "      <td>118.674660</td>\n",
       "      <td>108.584831</td>\n",
       "      <td>125.455002</td>\n",
       "    </tr>\n",
       "    <tr>\n",
       "      <th>2013-10-10</th>\n",
       "      <td>25.0</td>\n",
       "      <td>124.049004</td>\n",
       "      <td>123.032997</td>\n",
       "      <td>121.794998</td>\n",
       "      <td>120.655327</td>\n",
       "      <td>121.338661</td>\n",
       "      <td>118.674660</td>\n",
       "      <td>108.584831</td>\n",
       "    </tr>\n",
       "    <tr>\n",
       "      <th>2013-10-11</th>\n",
       "      <td>25.0</td>\n",
       "      <td>125.961159</td>\n",
       "      <td>124.049004</td>\n",
       "      <td>123.032997</td>\n",
       "      <td>121.794998</td>\n",
       "      <td>120.655327</td>\n",
       "      <td>121.338661</td>\n",
       "      <td>118.674660</td>\n",
       "    </tr>\n",
       "    <tr>\n",
       "      <th>2013-10-12</th>\n",
       "      <td>25.0</td>\n",
       "      <td>125.279663</td>\n",
       "      <td>125.961159</td>\n",
       "      <td>124.049004</td>\n",
       "      <td>123.032997</td>\n",
       "      <td>121.794998</td>\n",
       "      <td>120.655327</td>\n",
       "      <td>121.338661</td>\n",
       "    </tr>\n",
       "  </tbody>\n",
       "</table>\n",
       "</div>"
      ],
      "text/plain": [
       "            block_reward     Price+1     Price+2     Price+3     Price+4  \\\n",
       "Date                                                                       \n",
       "2013-10-08          25.0  121.794998  120.655327  121.338661  118.674660   \n",
       "2013-10-09          25.0  123.032997  121.794998  120.655327  121.338661   \n",
       "2013-10-10          25.0  124.049004  123.032997  121.794998  120.655327   \n",
       "2013-10-11          25.0  125.961159  124.049004  123.032997  121.794998   \n",
       "2013-10-12          25.0  125.279663  125.961159  124.049004  123.032997   \n",
       "\n",
       "               Price+5     Price+6     Price+7  \n",
       "Date                                            \n",
       "2013-10-08  108.584831  125.455002  123.654991  \n",
       "2013-10-09  118.674660  108.584831  125.455002  \n",
       "2013-10-10  121.338661  118.674660  108.584831  \n",
       "2013-10-11  120.655327  121.338661  118.674660  \n",
       "2013-10-12  121.794998  120.655327  121.338661  "
      ]
     },
     "execution_count": 57,
     "metadata": {},
     "output_type": "execute_result"
    }
   ],
   "source": [
    "X = bitcoin_windowed.dropna().drop('Price', axis=1).astype(np.float32)\n",
    "y = bitcoin_windowed.dropna()['Price'].astype(np.float32)\n",
    "\n",
    "X.head()"
   ]
  },
  {
   "cell_type": "code",
   "execution_count": 58,
   "metadata": {},
   "outputs": [
    {
     "data": {
      "text/plain": [
       "((2229, 8), (2229,))"
      ]
     },
     "execution_count": 58,
     "metadata": {},
     "output_type": "execute_result"
    }
   ],
   "source": [
    "train_size = int(len(bitcoin_windowed) * 0.8)\n",
    "X_train, y_train = X[:train_size], y[:train_size]\n",
    "X_test, y_test = X[train_size:], y[train_size:]\n",
    "\n",
    "X_train.shape, y_train.shape"
   ]
  },
  {
   "cell_type": "markdown",
   "metadata": {},
   "source": [
    "## Model 6 : Dense (multivariate time series)"
   ]
  },
  {
   "cell_type": "code",
   "execution_count": 59,
   "metadata": {},
   "outputs": [
    {
     "name": "stdout",
     "output_type": "stream",
     "text": [
      "Model: \"multivariate_model6\"\n",
      "_________________________________________________________________\n",
      " Layer (type)                Output Shape              Param #   \n",
      "=================================================================\n",
      " input_1 (InputLayer)        [(None, 8)]               0         \n",
      "                                                                 \n",
      " dense_10 (Dense)            (None, 128)               1152      \n",
      "                                                                 \n",
      " dense_11 (Dense)            (None, 1)                 129       \n",
      "                                                                 \n",
      "=================================================================\n",
      "Total params: 1,281\n",
      "Trainable params: 1,281\n",
      "Non-trainable params: 0\n",
      "_________________________________________________________________\n"
     ]
    }
   ],
   "source": [
    "tf.random.set_seed(42)\n",
    "inputs = keras.Input(shape=(8,))\n",
    "x = keras.layers.Dense(128, activation='relu')(inputs)\n",
    "outputs = keras.layers.Dense(1)(x)\n",
    "model_6 = keras.Model(inputs, outputs, name='multivariate_model6')\n",
    "model_6.summary()"
   ]
  },
  {
   "cell_type": "code",
   "execution_count": 60,
   "metadata": {},
   "outputs": [
    {
     "name": "stdout",
     "output_type": "stream",
     "text": [
      "INFO:tensorflow:Assets written to: model_experiment\\multivariate_model6\\assets\n"
     ]
    },
    {
     "name": "stderr",
     "output_type": "stream",
     "text": [
      "INFO:tensorflow:Assets written to: model_experiment\\multivariate_model6\\assets\n"
     ]
    },
    {
     "name": "stdout",
     "output_type": "stream",
     "text": [
      "INFO:tensorflow:Assets written to: model_experiment\\multivariate_model6\\assets\n"
     ]
    },
    {
     "name": "stderr",
     "output_type": "stream",
     "text": [
      "INFO:tensorflow:Assets written to: model_experiment\\multivariate_model6\\assets\n"
     ]
    },
    {
     "name": "stdout",
     "output_type": "stream",
     "text": [
      "INFO:tensorflow:Assets written to: model_experiment\\multivariate_model6\\assets\n"
     ]
    },
    {
     "name": "stderr",
     "output_type": "stream",
     "text": [
      "INFO:tensorflow:Assets written to: model_experiment\\multivariate_model6\\assets\n"
     ]
    },
    {
     "name": "stdout",
     "output_type": "stream",
     "text": [
      "INFO:tensorflow:Assets written to: model_experiment\\multivariate_model6\\assets\n"
     ]
    },
    {
     "name": "stderr",
     "output_type": "stream",
     "text": [
      "INFO:tensorflow:Assets written to: model_experiment\\multivariate_model6\\assets\n"
     ]
    },
    {
     "name": "stdout",
     "output_type": "stream",
     "text": [
      "INFO:tensorflow:Assets written to: model_experiment\\multivariate_model6\\assets\n"
     ]
    },
    {
     "name": "stderr",
     "output_type": "stream",
     "text": [
      "INFO:tensorflow:Assets written to: model_experiment\\multivariate_model6\\assets\n"
     ]
    },
    {
     "name": "stdout",
     "output_type": "stream",
     "text": [
      "INFO:tensorflow:Assets written to: model_experiment\\multivariate_model6\\assets\n"
     ]
    },
    {
     "name": "stderr",
     "output_type": "stream",
     "text": [
      "INFO:tensorflow:Assets written to: model_experiment\\multivariate_model6\\assets\n"
     ]
    },
    {
     "name": "stdout",
     "output_type": "stream",
     "text": [
      "INFO:tensorflow:Assets written to: model_experiment\\multivariate_model6\\assets\n"
     ]
    },
    {
     "name": "stderr",
     "output_type": "stream",
     "text": [
      "INFO:tensorflow:Assets written to: model_experiment\\multivariate_model6\\assets\n"
     ]
    },
    {
     "name": "stdout",
     "output_type": "stream",
     "text": [
      "INFO:tensorflow:Assets written to: model_experiment\\multivariate_model6\\assets\n"
     ]
    },
    {
     "name": "stderr",
     "output_type": "stream",
     "text": [
      "INFO:tensorflow:Assets written to: model_experiment\\multivariate_model6\\assets\n"
     ]
    },
    {
     "name": "stdout",
     "output_type": "stream",
     "text": [
      "INFO:tensorflow:Assets written to: model_experiment\\multivariate_model6\\assets\n"
     ]
    },
    {
     "name": "stderr",
     "output_type": "stream",
     "text": [
      "INFO:tensorflow:Assets written to: model_experiment\\multivariate_model6\\assets\n"
     ]
    },
    {
     "name": "stdout",
     "output_type": "stream",
     "text": [
      "INFO:tensorflow:Assets written to: model_experiment\\multivariate_model6\\assets\n"
     ]
    },
    {
     "name": "stderr",
     "output_type": "stream",
     "text": [
      "INFO:tensorflow:Assets written to: model_experiment\\multivariate_model6\\assets\n"
     ]
    },
    {
     "name": "stdout",
     "output_type": "stream",
     "text": [
      "INFO:tensorflow:Assets written to: model_experiment\\multivariate_model6\\assets\n"
     ]
    },
    {
     "name": "stderr",
     "output_type": "stream",
     "text": [
      "INFO:tensorflow:Assets written to: model_experiment\\multivariate_model6\\assets\n"
     ]
    },
    {
     "name": "stdout",
     "output_type": "stream",
     "text": [
      "INFO:tensorflow:Assets written to: model_experiment\\multivariate_model6\\assets\n"
     ]
    },
    {
     "name": "stderr",
     "output_type": "stream",
     "text": [
      "INFO:tensorflow:Assets written to: model_experiment\\multivariate_model6\\assets\n"
     ]
    },
    {
     "name": "stdout",
     "output_type": "stream",
     "text": [
      "INFO:tensorflow:Assets written to: model_experiment\\multivariate_model6\\assets\n"
     ]
    },
    {
     "name": "stderr",
     "output_type": "stream",
     "text": [
      "INFO:tensorflow:Assets written to: model_experiment\\multivariate_model6\\assets\n"
     ]
    },
    {
     "name": "stdout",
     "output_type": "stream",
     "text": [
      "INFO:tensorflow:Assets written to: model_experiment\\multivariate_model6\\assets\n"
     ]
    },
    {
     "name": "stderr",
     "output_type": "stream",
     "text": [
      "INFO:tensorflow:Assets written to: model_experiment\\multivariate_model6\\assets\n"
     ]
    },
    {
     "name": "stdout",
     "output_type": "stream",
     "text": [
      "INFO:tensorflow:Assets written to: model_experiment\\multivariate_model6\\assets\n"
     ]
    },
    {
     "name": "stderr",
     "output_type": "stream",
     "text": [
      "INFO:tensorflow:Assets written to: model_experiment\\multivariate_model6\\assets\n"
     ]
    },
    {
     "name": "stdout",
     "output_type": "stream",
     "text": [
      "INFO:tensorflow:Assets written to: model_experiment\\multivariate_model6\\assets\n"
     ]
    },
    {
     "name": "stderr",
     "output_type": "stream",
     "text": [
      "INFO:tensorflow:Assets written to: model_experiment\\multivariate_model6\\assets\n"
     ]
    },
    {
     "name": "stdout",
     "output_type": "stream",
     "text": [
      "INFO:tensorflow:Assets written to: model_experiment\\multivariate_model6\\assets\n"
     ]
    },
    {
     "name": "stderr",
     "output_type": "stream",
     "text": [
      "INFO:tensorflow:Assets written to: model_experiment\\multivariate_model6\\assets\n"
     ]
    },
    {
     "name": "stdout",
     "output_type": "stream",
     "text": [
      "INFO:tensorflow:Assets written to: model_experiment\\multivariate_model6\\assets\n"
     ]
    },
    {
     "name": "stderr",
     "output_type": "stream",
     "text": [
      "INFO:tensorflow:Assets written to: model_experiment\\multivariate_model6\\assets\n"
     ]
    },
    {
     "name": "stdout",
     "output_type": "stream",
     "text": [
      "INFO:tensorflow:Assets written to: model_experiment\\multivariate_model6\\assets\n"
     ]
    },
    {
     "name": "stderr",
     "output_type": "stream",
     "text": [
      "INFO:tensorflow:Assets written to: model_experiment\\multivariate_model6\\assets\n"
     ]
    },
    {
     "name": "stdout",
     "output_type": "stream",
     "text": [
      "INFO:tensorflow:Assets written to: model_experiment\\multivariate_model6\\assets\n"
     ]
    },
    {
     "name": "stderr",
     "output_type": "stream",
     "text": [
      "INFO:tensorflow:Assets written to: model_experiment\\multivariate_model6\\assets\n"
     ]
    },
    {
     "name": "stdout",
     "output_type": "stream",
     "text": [
      "INFO:tensorflow:Assets written to: model_experiment\\multivariate_model6\\assets\n"
     ]
    },
    {
     "name": "stderr",
     "output_type": "stream",
     "text": [
      "INFO:tensorflow:Assets written to: model_experiment\\multivariate_model6\\assets\n"
     ]
    },
    {
     "name": "stdout",
     "output_type": "stream",
     "text": [
      "INFO:tensorflow:Assets written to: model_experiment\\multivariate_model6\\assets\n"
     ]
    },
    {
     "name": "stderr",
     "output_type": "stream",
     "text": [
      "INFO:tensorflow:Assets written to: model_experiment\\multivariate_model6\\assets\n"
     ]
    },
    {
     "name": "stdout",
     "output_type": "stream",
     "text": [
      "INFO:tensorflow:Assets written to: model_experiment\\multivariate_model6\\assets\n"
     ]
    },
    {
     "name": "stderr",
     "output_type": "stream",
     "text": [
      "INFO:tensorflow:Assets written to: model_experiment\\multivariate_model6\\assets\n"
     ]
    },
    {
     "name": "stdout",
     "output_type": "stream",
     "text": [
      "INFO:tensorflow:Assets written to: model_experiment\\multivariate_model6\\assets\n"
     ]
    },
    {
     "name": "stderr",
     "output_type": "stream",
     "text": [
      "INFO:tensorflow:Assets written to: model_experiment\\multivariate_model6\\assets\n"
     ]
    },
    {
     "name": "stdout",
     "output_type": "stream",
     "text": [
      "INFO:tensorflow:Assets written to: model_experiment\\multivariate_model6\\assets\n"
     ]
    },
    {
     "name": "stderr",
     "output_type": "stream",
     "text": [
      "INFO:tensorflow:Assets written to: model_experiment\\multivariate_model6\\assets\n"
     ]
    },
    {
     "name": "stdout",
     "output_type": "stream",
     "text": [
      "INFO:tensorflow:Assets written to: model_experiment\\multivariate_model6\\assets\n"
     ]
    },
    {
     "name": "stderr",
     "output_type": "stream",
     "text": [
      "INFO:tensorflow:Assets written to: model_experiment\\multivariate_model6\\assets\n"
     ]
    },
    {
     "name": "stdout",
     "output_type": "stream",
     "text": [
      "INFO:tensorflow:Assets written to: model_experiment\\multivariate_model6\\assets\n"
     ]
    },
    {
     "name": "stderr",
     "output_type": "stream",
     "text": [
      "INFO:tensorflow:Assets written to: model_experiment\\multivariate_model6\\assets\n"
     ]
    },
    {
     "name": "stdout",
     "output_type": "stream",
     "text": [
      "INFO:tensorflow:Assets written to: model_experiment\\multivariate_model6\\assets\n"
     ]
    },
    {
     "name": "stderr",
     "output_type": "stream",
     "text": [
      "INFO:tensorflow:Assets written to: model_experiment\\multivariate_model6\\assets\n"
     ]
    },
    {
     "name": "stdout",
     "output_type": "stream",
     "text": [
      "INFO:tensorflow:Assets written to: model_experiment\\multivariate_model6\\assets\n"
     ]
    },
    {
     "name": "stderr",
     "output_type": "stream",
     "text": [
      "INFO:tensorflow:Assets written to: model_experiment\\multivariate_model6\\assets\n"
     ]
    },
    {
     "name": "stdout",
     "output_type": "stream",
     "text": [
      "INFO:tensorflow:Assets written to: model_experiment\\multivariate_model6\\assets\n"
     ]
    },
    {
     "name": "stderr",
     "output_type": "stream",
     "text": [
      "INFO:tensorflow:Assets written to: model_experiment\\multivariate_model6\\assets\n"
     ]
    },
    {
     "name": "stdout",
     "output_type": "stream",
     "text": [
      "INFO:tensorflow:Assets written to: model_experiment\\multivariate_model6\\assets\n"
     ]
    },
    {
     "name": "stderr",
     "output_type": "stream",
     "text": [
      "INFO:tensorflow:Assets written to: model_experiment\\multivariate_model6\\assets\n"
     ]
    },
    {
     "data": {
      "text/plain": [
       "<keras.callbacks.History at 0x1a13ea8e410>"
      ]
     },
     "execution_count": 60,
     "metadata": {},
     "output_type": "execute_result"
    }
   ],
   "source": [
    "model_6.compile(loss='mae', optimizer='adam', metrics=['mae','mse'])\n",
    "model_6.fit(X_train, y_train, epochs=100, batch_size=128, validation_data=(X_test, y_test), verbose=0,callbacks=[crete_model_checkpoint(model_name=model_6.name)])"
   ]
  },
  {
   "cell_type": "code",
   "execution_count": 61,
   "metadata": {},
   "outputs": [
    {
     "name": "stdout",
     "output_type": "stream",
     "text": [
      "18/18 [==============================] - 0s 986us/step - loss: 575.5084 - mae: 575.5084 - mse: 1183149.1250\n"
     ]
    },
    {
     "data": {
      "text/plain": [
       "[575.5084228515625, 575.5084228515625, 1183149.125]"
      ]
     },
     "execution_count": 61,
     "metadata": {},
     "output_type": "execute_result"
    }
   ],
   "source": [
    "model_6 = tf.keras.models.load_model('model_experiment\\multivariate_model6')\n",
    "model_6.evaluate(X_test, y_test)"
   ]
  },
  {
   "cell_type": "code",
   "execution_count": 62,
   "metadata": {},
   "outputs": [
    {
     "data": {
      "text/plain": [
       "{'mae': 575.5085,\n",
       " 'mse': 1183149.5,\n",
       " 'rmse': 1087.7268,\n",
       " 'mape': 0.02566463,\n",
       " 'mase': 1.0044637}"
      ]
     },
     "execution_count": 62,
     "metadata": {},
     "output_type": "execute_result"
    }
   ],
   "source": [
    "y_preds = model_6.predict(X_test).reshape(-1,)\n",
    "model_6_score = evaluate_score(y_true=y_test.to_numpy().reshape(-1,1), y_pred=y_preds.reshape(-1,1))\n",
    "model_6_score"
   ]
  },
  {
   "cell_type": "markdown",
   "metadata": {},
   "source": [
    "## Model 7 : N-BEASTS"
   ]
  },
  {
   "cell_type": "markdown",
   "metadata": {},
   "source": [
    "create N-BEASTS custom layers, becuase it doesn't exist in tensorflow."
   ]
  },
  {
   "cell_type": "code",
   "execution_count": 63,
   "metadata": {},
   "outputs": [],
   "source": [
    "class NBeastBlock(tf.keras.layers.Layer) : # create a new layers\n",
    "    def __init__(self, input_size: int , \n",
    "                 theta_size: int, horizon: int, \n",
    "                 n_neurons: int, n_layer: int, **kwargs) :\n",
    "        super().__init__(**kwargs)\n",
    "        self.input_size = input_size\n",
    "        self.theta_size = theta_size\n",
    "        self.horizon = horizon\n",
    "        self.n_neurons = n_neurons\n",
    "        self.n_layer = n_layer\n",
    "\n",
    "        #block contains : 4stack of Dense (relu)\n",
    "        self.hidden = [ tf.keras.layers.Dense(n_neurons, activation='relu') for _ in range(n_layer) ]\n",
    "        #output of block is a theta (linear)\n",
    "        self.theta_layer = tf.keras.layers.Dense(theta_size, activation='linear', name = 'theta')\n",
    "\n",
    "    # work when we call the layer\n",
    "    def call(self, inputs) :\n",
    "        x = inputs\n",
    "        for layer in self.hidden :\n",
    "            x = layer(x) \n",
    "            \n",
    "        theta = self.theta_layer(x)\n",
    "        # output the backcast and forecast from theta\n",
    "        backcast, forecast = theta[:, :self.input_size], theta[:, -self.horizon:]\n",
    "        return backcast, forecast # x_hat, y_hat"
   ]
  },
  {
   "cell_type": "markdown",
   "metadata": {},
   "source": [
    "Let's test our NBeastBlock"
   ]
  },
  {
   "cell_type": "code",
   "execution_count": 64,
   "metadata": {},
   "outputs": [
    {
     "data": {
      "text/plain": [
       "<tf.Tensor: shape=(1, 7), dtype=int32, numpy=array([[1, 2, 3, 4, 5, 6, 7]])>"
      ]
     },
     "execution_count": 64,
     "metadata": {},
     "output_type": "execute_result"
    }
   ],
   "source": [
    "WINDOW_SIZE = 7\n",
    "HORIZON = 1\n",
    "\n",
    "tf.random.set_seed(42)\n",
    "block_layer = NBeastBlock(input_size = WINDOW_SIZE, \n",
    "                          theta_size = WINDOW_SIZE + HORIZON, # all of windowsize and horizon\n",
    "                          horizon = HORIZON, n_neurons = 128,  \n",
    "                          n_layer = 4)\n",
    "\n",
    "dummy_input = tf.expand_dims(tf.range(WINDOW_SIZE) + 1 , axis=0) # start from 1\n",
    "dummy_input"
   ]
  },
  {
   "cell_type": "code",
   "execution_count": 65,
   "metadata": {},
   "outputs": [
    {
     "name": "stdout",
     "output_type": "stream",
     "text": [
      "backcast : [ 0.07960145  0.32512054 -0.8428684  -0.6938983  -0.3172055  -0.56987345\n",
      " -0.63966614]\n",
      "forecast : [1.0071648]\n"
     ]
    }
   ],
   "source": [
    "#pass to block_layer\n",
    "bc, fc = block_layer(dummy_input)  #go to .call \n",
    "print('backcast :',bc.numpy()[0])\n",
    "print('forecast :',fc.numpy()[0])"
   ]
  },
  {
   "cell_type": "markdown",
   "metadata": {},
   "source": [
    "### Prepare the data with tf.data"
   ]
  },
  {
   "cell_type": "code",
   "execution_count": 66,
   "metadata": {},
   "outputs": [
    {
     "data": {
      "text/html": [
       "<div>\n",
       "<style scoped>\n",
       "    .dataframe tbody tr th:only-of-type {\n",
       "        vertical-align: middle;\n",
       "    }\n",
       "\n",
       "    .dataframe tbody tr th {\n",
       "        vertical-align: top;\n",
       "    }\n",
       "\n",
       "    .dataframe thead th {\n",
       "        text-align: right;\n",
       "    }\n",
       "</style>\n",
       "<table border=\"1\" class=\"dataframe\">\n",
       "  <thead>\n",
       "    <tr style=\"text-align: right;\">\n",
       "      <th></th>\n",
       "      <th>Price</th>\n",
       "      <th>block_reward</th>\n",
       "    </tr>\n",
       "    <tr>\n",
       "      <th>Date</th>\n",
       "      <th></th>\n",
       "      <th></th>\n",
       "    </tr>\n",
       "  </thead>\n",
       "  <tbody>\n",
       "    <tr>\n",
       "      <th>2013-10-01</th>\n",
       "      <td>123.65499</td>\n",
       "      <td>25.0</td>\n",
       "    </tr>\n",
       "    <tr>\n",
       "      <th>2013-10-02</th>\n",
       "      <td>125.45500</td>\n",
       "      <td>25.0</td>\n",
       "    </tr>\n",
       "    <tr>\n",
       "      <th>2013-10-03</th>\n",
       "      <td>108.58483</td>\n",
       "      <td>25.0</td>\n",
       "    </tr>\n",
       "    <tr>\n",
       "      <th>2013-10-04</th>\n",
       "      <td>118.67466</td>\n",
       "      <td>25.0</td>\n",
       "    </tr>\n",
       "    <tr>\n",
       "      <th>2013-10-05</th>\n",
       "      <td>121.33866</td>\n",
       "      <td>25.0</td>\n",
       "    </tr>\n",
       "  </tbody>\n",
       "</table>\n",
       "</div>"
      ],
      "text/plain": [
       "                Price  block_reward\n",
       "Date                               \n",
       "2013-10-01  123.65499          25.0\n",
       "2013-10-02  125.45500          25.0\n",
       "2013-10-03  108.58483          25.0\n",
       "2013-10-04  118.67466          25.0\n",
       "2013-10-05  121.33866          25.0"
      ]
     },
     "execution_count": 66,
     "metadata": {},
     "output_type": "execute_result"
    }
   ],
   "source": [
    "HORIZON = 1\n",
    "WINDOW_SIZE = 7\n",
    "\n",
    "bitcoin_prices.head()"
   ]
  },
  {
   "cell_type": "code",
   "execution_count": 67,
   "metadata": {},
   "outputs": [
    {
     "data": {
      "text/html": [
       "<div>\n",
       "<style scoped>\n",
       "    .dataframe tbody tr th:only-of-type {\n",
       "        vertical-align: middle;\n",
       "    }\n",
       "\n",
       "    .dataframe tbody tr th {\n",
       "        vertical-align: top;\n",
       "    }\n",
       "\n",
       "    .dataframe thead th {\n",
       "        text-align: right;\n",
       "    }\n",
       "</style>\n",
       "<table border=\"1\" class=\"dataframe\">\n",
       "  <thead>\n",
       "    <tr style=\"text-align: right;\">\n",
       "      <th></th>\n",
       "      <th>Price</th>\n",
       "      <th>Price+1</th>\n",
       "      <th>Price+2</th>\n",
       "      <th>Price+3</th>\n",
       "      <th>Price+4</th>\n",
       "      <th>Price+5</th>\n",
       "      <th>Price+6</th>\n",
       "      <th>Price+7</th>\n",
       "    </tr>\n",
       "    <tr>\n",
       "      <th>Date</th>\n",
       "      <th></th>\n",
       "      <th></th>\n",
       "      <th></th>\n",
       "      <th></th>\n",
       "      <th></th>\n",
       "      <th></th>\n",
       "      <th></th>\n",
       "      <th></th>\n",
       "    </tr>\n",
       "  </thead>\n",
       "  <tbody>\n",
       "    <tr>\n",
       "      <th>2013-10-01</th>\n",
       "      <td>123.65499</td>\n",
       "      <td>NaN</td>\n",
       "      <td>NaN</td>\n",
       "      <td>NaN</td>\n",
       "      <td>NaN</td>\n",
       "      <td>NaN</td>\n",
       "      <td>NaN</td>\n",
       "      <td>NaN</td>\n",
       "    </tr>\n",
       "    <tr>\n",
       "      <th>2013-10-02</th>\n",
       "      <td>125.45500</td>\n",
       "      <td>123.65499</td>\n",
       "      <td>NaN</td>\n",
       "      <td>NaN</td>\n",
       "      <td>NaN</td>\n",
       "      <td>NaN</td>\n",
       "      <td>NaN</td>\n",
       "      <td>NaN</td>\n",
       "    </tr>\n",
       "    <tr>\n",
       "      <th>2013-10-03</th>\n",
       "      <td>108.58483</td>\n",
       "      <td>125.45500</td>\n",
       "      <td>123.65499</td>\n",
       "      <td>NaN</td>\n",
       "      <td>NaN</td>\n",
       "      <td>NaN</td>\n",
       "      <td>NaN</td>\n",
       "      <td>NaN</td>\n",
       "    </tr>\n",
       "    <tr>\n",
       "      <th>2013-10-04</th>\n",
       "      <td>118.67466</td>\n",
       "      <td>108.58483</td>\n",
       "      <td>125.45500</td>\n",
       "      <td>123.65499</td>\n",
       "      <td>NaN</td>\n",
       "      <td>NaN</td>\n",
       "      <td>NaN</td>\n",
       "      <td>NaN</td>\n",
       "    </tr>\n",
       "    <tr>\n",
       "      <th>2013-10-05</th>\n",
       "      <td>121.33866</td>\n",
       "      <td>118.67466</td>\n",
       "      <td>108.58483</td>\n",
       "      <td>125.45500</td>\n",
       "      <td>123.65499</td>\n",
       "      <td>NaN</td>\n",
       "      <td>NaN</td>\n",
       "      <td>NaN</td>\n",
       "    </tr>\n",
       "  </tbody>\n",
       "</table>\n",
       "</div>"
      ],
      "text/plain": [
       "                Price    Price+1    Price+2    Price+3    Price+4  Price+5  \\\n",
       "Date                                                                         \n",
       "2013-10-01  123.65499        NaN        NaN        NaN        NaN      NaN   \n",
       "2013-10-02  125.45500  123.65499        NaN        NaN        NaN      NaN   \n",
       "2013-10-03  108.58483  125.45500  123.65499        NaN        NaN      NaN   \n",
       "2013-10-04  118.67466  108.58483  125.45500  123.65499        NaN      NaN   \n",
       "2013-10-05  121.33866  118.67466  108.58483  125.45500  123.65499      NaN   \n",
       "\n",
       "            Price+6  Price+7  \n",
       "Date                          \n",
       "2013-10-01      NaN      NaN  \n",
       "2013-10-02      NaN      NaN  \n",
       "2013-10-03      NaN      NaN  \n",
       "2013-10-04      NaN      NaN  \n",
       "2013-10-05      NaN      NaN  "
      ]
     },
     "execution_count": 67,
     "metadata": {},
     "output_type": "execute_result"
    }
   ],
   "source": [
    "bitcoin_prices_nbeats = bitcoin_prices[['Price']].copy()\n",
    "for i in range(WINDOW_SIZE) :\n",
    "    bitcoin_prices_nbeats[f'Price+{i+1}'] = bitcoin_prices_nbeats['Price'].shift(periods=i+1)\n",
    "\n",
    "bitcoin_prices_nbeats.head()"
   ]
  },
  {
   "cell_type": "code",
   "execution_count": 68,
   "metadata": {},
   "outputs": [
    {
     "data": {
      "text/plain": [
       "((2224, 7), (2224,))"
      ]
     },
     "execution_count": 68,
     "metadata": {},
     "output_type": "execute_result"
    }
   ],
   "source": [
    "#make feature and label\n",
    "X = bitcoin_prices_nbeats.dropna().drop('Price', axis=1)\n",
    "y = bitcoin_prices_nbeats.dropna()['Price']\n",
    "\n",
    "#split train and test sets\n",
    "train_size = int(len(X) * .8)\n",
    "X_train, y_train = X[:train_size], y[:train_size]\n",
    "X_test, y_test = X[train_size:], y[train_size:]\n",
    "\n",
    "X_train.shape, y_train.shape"
   ]
  },
  {
   "cell_type": "code",
   "execution_count": 69,
   "metadata": {},
   "outputs": [
    {
     "data": {
      "text/plain": [
       "(<PrefetchDataset element_spec=(TensorSpec(shape=(None, 7), dtype=tf.float64, name=None), TensorSpec(shape=(None,), dtype=tf.float64, name=None))>,\n",
       " <PrefetchDataset element_spec=(TensorSpec(shape=(None, 7), dtype=tf.float64, name=None), TensorSpec(shape=(None,), dtype=tf.float64, name=None))>)"
      ]
     },
     "execution_count": 69,
     "metadata": {},
     "output_type": "execute_result"
    }
   ],
   "source": [
    "# using with tf.data API for faster training\n",
    "train_features_dataset = tf.data.Dataset.from_tensor_slices(X_train)\n",
    "train_labels_dataset = tf.data.Dataset.from_tensor_slices(y_train)\n",
    "\n",
    "test_features_dataset = tf.data.Dataset.from_tensor_slices(X_test)\n",
    "test_labels_dataset = tf.data.Dataset.from_tensor_slices(y_test)\n",
    "\n",
    "train_dataset = tf.data.Dataset.zip((train_features_dataset, train_labels_dataset)).batch(1024).prefetch(tf.data.AUTOTUNE)\n",
    "test_dataset = tf.data.Dataset.zip((test_features_dataset, test_labels_dataset)).batch(1024).prefetch(tf.data.AUTOTUNE)\n",
    "\n",
    "train_dataset, test_dataset"
   ]
  },
  {
   "cell_type": "markdown",
   "metadata": {},
   "source": [
    "### Setting up hyperparameters for N-BEATS alforithm"
   ]
  },
  {
   "cell_type": "code",
   "execution_count": 70,
   "metadata": {},
   "outputs": [
    {
     "data": {
      "text/plain": [
       "(7, 8)"
      ]
     },
     "execution_count": 70,
     "metadata": {},
     "output_type": "execute_result"
    }
   ],
   "source": [
    "#values from the N-BEATS paper\n",
    "N_EPOCHS = 5000\n",
    "N_NEURONS = 512\n",
    "N_LAYERS = 4\n",
    "N_STACKS = 30\n",
    "\n",
    "INPUT_SIZE = WINDOW_SIZE * HORIZON\n",
    "THETA_SIZE = INPUT_SIZE + HORIZON\n",
    "INPUT_SIZE, THETA_SIZE"
   ]
  },
  {
   "cell_type": "markdown",
   "metadata": {},
   "source": [
    "### Getting ready for residual connections"
   ]
  },
  {
   "cell_type": "code",
   "execution_count": 138,
   "metadata": {},
   "outputs": [
    {
     "name": "stdout",
     "output_type": "stream",
     "text": [
      "[10 11 12 13 14 15 16 17 18 19] [0 1 2 3 4 5 6 7 8 9]\n",
      "[10 10 10 10 10 10 10 10 10 10] [10 12 14 16 18 20 22 24 26 28]\n"
     ]
    }
   ],
   "source": [
    "# make tensors\n",
    "t1 = tf.range(10) + 10\n",
    "t2 = tf.range(10)\n",
    "\n",
    "# add or subtract by exact single index\n",
    "s = keras.layers.subtract([t1, t2])  #subtract\n",
    "a = keras.layers.add([t1, t2]) # add\n",
    "\n",
    "print(t1.numpy(), t2.numpy())\n",
    "print(s.numpy(), a.numpy())"
   ]
  },
  {
   "cell_type": "code",
   "execution_count": 153,
   "metadata": {},
   "outputs": [
    {
     "name": "stdout",
     "output_type": "stream",
     "text": [
      "\n",
      "Epoch 334: ReduceLROnPlateau reducing learning rate to 0.00010000000474974513.\n",
      "\n",
      "Epoch 434: ReduceLROnPlateau reducing learning rate to 1.0000000474974514e-05.\n",
      "Wall time: 17min 24s\n"
     ]
    },
    {
     "data": {
      "text/plain": [
       "<keras.callbacks.History at 0x1a16b66dc90>"
      ]
     },
     "execution_count": 153,
     "metadata": {},
     "output_type": "execute_result"
    }
   ],
   "source": [
    "%%time\n",
    "from tensorflow.keras import layers\n",
    "tf.random.set_seed(42)\n",
    "\n",
    "# 1. Setup N-BEATS Block layer\n",
    "nbeats_block_layer = NBeastBlock(input_size=INPUT_SIZE,\n",
    "                                 theta_size=THETA_SIZE,\n",
    "                                 horizon=HORIZON,\n",
    "                                 n_neurons=N_NEURONS,\n",
    "                                 n_layer=N_LAYERS,\n",
    "                                 name=\"InitialBlock\")\n",
    "\n",
    "# 2. Create input to stacks\n",
    "stack_input = layers.Input(shape=(INPUT_SIZE), name=\"stack_input\")\n",
    "\n",
    "# 3. Create initial backcast and forecast input (backwards predictions are referred to as residuals in the paper)\n",
    "backcast, forecast = nbeats_block_layer(stack_input)\n",
    "# Add in subtraction residual link, thank you to: https://github.com/mrdbourke/tensorflow-deep-learning/discussions/174 \n",
    "residuals = layers.subtract([stack_input, backcast], name=f\"subtract_00\") \n",
    "\n",
    "# 4. Create stacks of blocks\n",
    "for i, _ in enumerate(range(N_STACKS-1)): # first stack is already creted in (3)\n",
    "\n",
    "  # 5. Use the NBeastBlock to calculate the backcast as well as block forecast\n",
    "  backcast, block_forecast = NBeastBlock(\n",
    "      input_size=INPUT_SIZE,\n",
    "      theta_size=THETA_SIZE,\n",
    "      horizon=HORIZON,\n",
    "      n_neurons=N_NEURONS,\n",
    "      n_layer=N_LAYERS,\n",
    "      name=f\"NBeatsBlock_{i}\"\n",
    "  )(residuals) # pass it in residuals (the backcast)\n",
    "\n",
    "  # 6. Create the double residual stacking\n",
    "  residuals = layers.subtract([residuals, backcast], name=f\"subtract_{i}\") \n",
    "  forecast = layers.add([forecast, block_forecast], name=f\"add_{i}\")\n",
    "\n",
    "# 7. Put the stack model together\n",
    "model_7 = tf.keras.Model(inputs=stack_input, \n",
    "                         outputs=forecast, \n",
    "                         name=\"model_7_N-BEATS\")\n",
    "\n",
    "# 8. Compile with MAE loss and Adam optimizer\n",
    "model_7.compile(loss=\"mae\",\n",
    "                optimizer=tf.keras.optimizers.Adam(0.001),\n",
    "                                metrics=[\"mae\", \"mse\"])\n",
    "\n",
    "# 9. Fit the model with EarlyStopping and ReduceLROnPlateau callbacks\n",
    "model_7.fit(train_dataset,\n",
    "            epochs=N_EPOCHS,\n",
    "            validation_data=test_dataset,\n",
    "            verbose=0, # prevent large amounts of training outputs\n",
    "            # callbacks=[create_model_checkpoint(model_name=stack_model.name)] # saving model every epoch consumes far too much time\n",
    "            callbacks=[tf.keras.callbacks.EarlyStopping(monitor=\"val_loss\", patience=200, restore_best_weights=True),\n",
    "                      tf.keras.callbacks.ReduceLROnPlateau(monitor=\"val_loss\", patience=100, verbose=1)])"
   ]
  },
  {
   "cell_type": "code",
   "execution_count": 154,
   "metadata": {},
   "outputs": [
    {
     "name": "stdout",
     "output_type": "stream",
     "text": [
      "1/1 [==============================] - 0s 194ms/step - loss: 581.6524 - mae: 581.6524 - mse: 1160523.2500\n"
     ]
    },
    {
     "data": {
      "text/plain": [
       "[581.6524047851562, 581.6524047851562, 1160523.25]"
      ]
     },
     "execution_count": 154,
     "metadata": {},
     "output_type": "execute_result"
    }
   ],
   "source": [
    "model_7.evaluate(test_dataset)"
   ]
  },
  {
   "cell_type": "code",
   "execution_count": 155,
   "metadata": {},
   "outputs": [
    {
     "data": {
      "text/plain": [
       "array([[8909.728],\n",
       "       [8859.439],\n",
       "       [9018.91 ],\n",
       "       [8825.914],\n",
       "       [8812.498],\n",
       "       [8788.645],\n",
       "       [8667.781],\n",
       "       [8560.825],\n",
       "       [8523.063],\n",
       "       [8538.944]], dtype=float32)"
      ]
     },
     "execution_count": 155,
     "metadata": {},
     "output_type": "execute_result"
    }
   ],
   "source": [
    "# Make predictions with N-BEATS model\n",
    "model_7_preds = model_7.predict(test_dataset) \n",
    "model_7_preds[:10]"
   ]
  },
  {
   "cell_type": "code",
   "execution_count": 175,
   "metadata": {},
   "outputs": [
    {
     "data": {
      "text/plain": [
       "{'mae': 581.6524395437998,\n",
       " 'mse': 1160523.313939543,\n",
       " 'rmse': 1077.2758764307048,\n",
       " 'mape': 0.027234399644146298,\n",
       " 'mase': 1.0218021266282213}"
      ]
     },
     "execution_count": 175,
     "metadata": {},
     "output_type": "execute_result"
    }
   ],
   "source": [
    "# Evaluate N-BEATS model predictions\n",
    "model_7_results = evaluate_score(y_true=y_test.to_numpy().reshape(-1,1),\n",
    "                                 y_pred=model_7_preds)\n",
    "model_7_results"
   ]
  },
  {
   "cell_type": "markdown",
   "metadata": {},
   "source": [
    "## Model 8 : ensemble model\n",
    "wisdom of the crowd"
   ]
  },
  {
   "cell_type": "code",
   "execution_count": 176,
   "metadata": {},
   "outputs": [
    {
     "data": {
      "text/plain": [
       "(1, 7)"
      ]
     },
     "execution_count": 176,
     "metadata": {},
     "output_type": "execute_result"
    }
   ],
   "source": [
    "HORIZON, WINDOW_SIZE"
   ]
  },
  {
   "cell_type": "code",
   "execution_count": 179,
   "metadata": {},
   "outputs": [
    {
     "name": "stdout",
     "output_type": "stream",
     "text": [
      "Model: \"dense_model\"\n",
      "_________________________________________________________________\n",
      " Layer (type)                Output Shape              Param #   \n",
      "=================================================================\n",
      " input_layers (InputLayer)   [(None, 7)]               0         \n",
      "                                                                 \n",
      " dense (Dense)               (None, 128)               1024      \n",
      "                                                                 \n",
      " dense_1 (Dense)             (None, 1)                 129       \n",
      "                                                                 \n",
      "=================================================================\n",
      "Total params: 1,153\n",
      "Trainable params: 1,153\n",
      "Non-trainable params: 0\n",
      "_________________________________________________________________\n"
     ]
    }
   ],
   "source": [
    "model_1.summary()"
   ]
  },
  {
   "cell_type": "code",
   "execution_count": 182,
   "metadata": {},
   "outputs": [],
   "source": [
    "def get_emsembles(horizon=HORIZON,train_data=train_dataset, \n",
    "                  test_data=test_dataset, num_iter=10, num_epochs=1000,\n",
    "                  loss_fns = ['mae', 'mse', 'mape']) :\n",
    "                  \n",
    "  ensemble_models = []\n",
    "  for i in range(num_iter) :\n",
    "    # build and fit a new model with different loss function\n",
    "    for loss in loss_fns :\n",
    "        print(f'Optimizing model by reducting: {loss} for {num_epochs} epochs, model_number: {i}')\n",
    "        # construct a simple model (like model_1)\n",
    "        model = tf.keras.Sequential([ \n",
    "          tf.keras.layers.Input(shape=(7,)),\n",
    "          layers.Dense(128, kernel_initializer='he_normal', activation='relu'), # type of pattern initalize\n",
    "          layers.Dense(1,)\n",
    "        ])\n",
    "        model.compile(loss=loss, optimizer='adam', metrics=['mae', 'mse'])\n",
    "        model.fit(train_data, validation_data = test_data, epochs=num_epochs, verbose=0, \n",
    "                  callbacks = [tf.keras.callbacks.EarlyStopping(monitor='val_loss', patience=200, restore_best_weights=True),\n",
    "                  tf.keras.callbacks.ReduceLROnPlateau(monitor='val_loss', patience=100, verbose=1)])\n",
    "\n",
    "        ensemble_models.append(model)\n",
    "    \n",
    "  return ensemble_models"
   ]
  },
  {
   "cell_type": "markdown",
   "metadata": {},
   "source": [
    "> ReduceLROnPlateau : Reduce learning rate when a metric has stopped improving."
   ]
  },
  {
   "cell_type": "code",
   "execution_count": null,
   "metadata": {},
   "outputs": [],
   "source": [
    "%%time \n",
    "# get list of trained emsemble models\n",
    "ensemble_models = get_emsembles(num_iter=5, num_epochs=1000)"
   ]
  },
  {
   "cell_type": "code",
   "execution_count": 184,
   "metadata": {},
   "outputs": [
    {
     "data": {
      "text/plain": [
       "(15,\n",
       " [<keras.engine.sequential.Sequential at 0x1a100787130>,\n",
       "  <keras.engine.sequential.Sequential at 0x1a100a21d50>,\n",
       "  <keras.engine.sequential.Sequential at 0x1a100ecf970>,\n",
       "  <keras.engine.sequential.Sequential at 0x1a10147c2e0>,\n",
       "  <keras.engine.sequential.Sequential at 0x1a10171dde0>])"
      ]
     },
     "execution_count": 184,
     "metadata": {},
     "output_type": "execute_result"
    }
   ],
   "source": [
    "len(ensemble_models), ensemble_models[:5]"
   ]
  },
  {
   "cell_type": "markdown",
   "metadata": {},
   "source": [
    "### Make Prediction with our emsemble model"
   ]
  },
  {
   "cell_type": "code",
   "execution_count": 185,
   "metadata": {},
   "outputs": [],
   "source": [
    "#create a function to prediction an emsemble model\n",
    "def pred_emsemble(models, data):\n",
    "    predictions = []\n",
    "    for model in models :\n",
    "        preds = model.predict(data)\n",
    "        predictions.append(preds)\n",
    "    return tf.constant(tf.squeeze(predictions))"
   ]
  },
  {
   "cell_type": "code",
   "execution_count": 187,
   "metadata": {},
   "outputs": [
    {
     "name": "stdout",
     "output_type": "stream",
     "text": [
      "Wall time: 192 ms\n"
     ]
    }
   ],
   "source": [
    "%%time\n",
    "ensembles_prediction  = pred_emsemble(ensemble_models, test_dataset)"
   ]
  },
  {
   "cell_type": "code",
   "execution_count": 191,
   "metadata": {},
   "outputs": [
    {
     "data": {
      "text/plain": [
       "TensorShape([15, 556])"
      ]
     },
     "execution_count": 191,
     "metadata": {},
     "output_type": "execute_result"
    }
   ],
   "source": [
    "ensembles_prediction.shape"
   ]
  },
  {
   "cell_type": "code",
   "execution_count": 195,
   "metadata": {},
   "outputs": [
    {
     "data": {
      "text/plain": [
       "<tf.Tensor: shape=(10,), dtype=float32, numpy=\n",
       "array([8792.378, 8814.144, 9077.244, 8711.219, 8805.947, 8729.927,\n",
       "       8671.59 , 8492.864, 8479.085, 8535.123], dtype=float32)>"
      ]
     },
     "execution_count": 195,
     "metadata": {},
     "output_type": "execute_result"
    }
   ],
   "source": [
    "ensembles_prediction[0,:10]"
   ]
  },
  {
   "cell_type": "code",
   "execution_count": 239,
   "metadata": {},
   "outputs": [
    {
     "data": {
      "text/plain": [
       "(array([8796.204 , 8788.571 , 9068.572 , 8721.651 , 8745.1875],\n",
       "       dtype=float32),\n",
       " (556,))"
      ]
     },
     "execution_count": 239,
     "metadata": {},
     "output_type": "execute_result"
    }
   ],
   "source": [
    "# evaluate ensemble model predictions by combine mean or median predicted value\n",
    "ensemble_mean = np.mean(ensembles_prediction, axis=0)\n",
    "ensemble_mean[:5], ensemble_mean.shape"
   ]
  },
  {
   "cell_type": "code",
   "execution_count": 240,
   "metadata": {},
   "outputs": [
    {
     "data": {
      "text/plain": [
       "{'mae': 567.9125824076062,\n",
       " 'mse': 1150116.9271807435,\n",
       " 'rmse': 1072.4350456697803,\n",
       " 'mape': 0.025553808270394173,\n",
       " 'mase': 0.9976650057518059}"
      ]
     },
     "execution_count": 240,
     "metadata": {},
     "output_type": "execute_result"
    }
   ],
   "source": [
    "ensemble_result = evaluate_score(y_test.to_numpy().reshape(-1,1), ensemble_mean.reshape(-1,1))\n",
    "ensemble_result"
   ]
  },
  {
   "cell_type": "markdown",
   "metadata": {},
   "source": [
    "## Ploting prediction intervals (insted of the dot)\n",
    "range(min, max)"
   ]
  },
  {
   "cell_type": "code",
   "execution_count": 244,
   "metadata": {},
   "outputs": [],
   "source": [
    "def get_upper_lower(preds) :\n",
    "    # axis = 0 , by column\n",
    "    std = np.std(preds, axis=0) # find standard diviation\n",
    "    # multipy by 1.96 (95% percent of normal distribution)\n",
    "    interval = 1.96 * std\n",
    "    preds_mean = np.mean(preds, axis=0)\n",
    "    lower, upper = preds_mean-interval, preds_mean+interval\n",
    "\n",
    "    return lower, upper"
   ]
  },
  {
   "cell_type": "code",
   "execution_count": 245,
   "metadata": {},
   "outputs": [
    {
     "data": {
      "text/plain": [
       "((556,), (556,))"
      ]
     },
     "execution_count": 245,
     "metadata": {},
     "output_type": "execute_result"
    }
   ],
   "source": [
    "lower, upper = get_upper_lower(ensembles_prediction)\n",
    "lower.shape, upper.shape"
   ]
  },
  {
   "cell_type": "code",
   "execution_count": 257,
   "metadata": {},
   "outputs": [
    {
     "data": {
      "text/plain": [
       "DatetimeIndex(['2019-11-10', '2019-11-11', '2019-11-12', '2019-11-13',\n",
       "               '2019-11-14'],\n",
       "              dtype='datetime64[ns]', name='Date', freq=None)"
      ]
     },
     "execution_count": 257,
     "metadata": {},
     "output_type": "execute_result"
    }
   ],
   "source": [
    "X_test.index[:5]"
   ]
  },
  {
   "cell_type": "code",
   "execution_count": 274,
   "metadata": {},
   "outputs": [
    {
     "data": {
      "image/png": "[encoded data removed]",
      "text/plain": [
       "<Figure size 720x504 with 1 Axes>"
      ]
     },
     "metadata": {
      "needs_background": "light"
     },
     "output_type": "display_data"
    }
   ],
   "source": [
    "# get the median or mean values of our ensmeble preds\n",
    "ensemble_median = np.median(ensembles_prediction, axis=0) # by column\n",
    "\n",
    "offset = 500\n",
    "plt.figure(figsize=(10,7))\n",
    "plt.plot(X_test.index[offset:], y_test[offset:], c='orange', label='Test')\n",
    "plt.plot(X_test.index[offset:], ensemble_median[offset:], c= 'black', label='ensemble_median')\n",
    "plt.xlabel('Date')\n",
    "plt.ylabel('BTC price')\n",
    "plt.fill_between(X_test.index[offset:], (lower)[offset:], (upper)[offset:],label='Prediction intervals')\n",
    "plt.legend(fontsize=14);"
   ]
  },
  {
   "cell_type": "markdown",
   "metadata": {},
   "source": [
    "### uncertainty in Machine Learning\n",
    "fit the dog image to model that train by food images ?\n",
    "- aleatoric : i.e. subway (delayed, noise) -> cannot reduced with more data\n",
    "- epistemic : i.e. coconut "
   ]
  },
  {
   "cell_type": "markdown",
   "metadata": {},
   "source": [
    "## Future Prediction "
   ]
  },
  {
   "cell_type": "code",
   "execution_count": 276,
   "metadata": {},
   "outputs": [
    {
     "data": {
      "text/html": [
       "<div>\n",
       "<style scoped>\n",
       "    .dataframe tbody tr th:only-of-type {\n",
       "        vertical-align: middle;\n",
       "    }\n",
       "\n",
       "    .dataframe tbody tr th {\n",
       "        vertical-align: top;\n",
       "    }\n",
       "\n",
       "    .dataframe thead th {\n",
       "        text-align: right;\n",
       "    }\n",
       "</style>\n",
       "<table border=\"1\" class=\"dataframe\">\n",
       "  <thead>\n",
       "    <tr style=\"text-align: right;\">\n",
       "      <th></th>\n",
       "      <th>Price</th>\n",
       "      <th>block_reward</th>\n",
       "      <th>Price+1</th>\n",
       "      <th>Price+2</th>\n",
       "      <th>Price+3</th>\n",
       "      <th>Price+4</th>\n",
       "      <th>Price+5</th>\n",
       "      <th>Price+6</th>\n",
       "      <th>Price+7</th>\n",
       "    </tr>\n",
       "    <tr>\n",
       "      <th>Date</th>\n",
       "      <th></th>\n",
       "      <th></th>\n",
       "      <th></th>\n",
       "      <th></th>\n",
       "      <th></th>\n",
       "      <th></th>\n",
       "      <th></th>\n",
       "      <th></th>\n",
       "      <th></th>\n",
       "    </tr>\n",
       "  </thead>\n",
       "  <tbody>\n",
       "    <tr>\n",
       "      <th>2013-10-01</th>\n",
       "      <td>123.65499</td>\n",
       "      <td>25.0</td>\n",
       "      <td>NaN</td>\n",
       "      <td>NaN</td>\n",
       "      <td>NaN</td>\n",
       "      <td>NaN</td>\n",
       "      <td>NaN</td>\n",
       "      <td>NaN</td>\n",
       "      <td>NaN</td>\n",
       "    </tr>\n",
       "    <tr>\n",
       "      <th>2013-10-02</th>\n",
       "      <td>125.45500</td>\n",
       "      <td>25.0</td>\n",
       "      <td>123.65499</td>\n",
       "      <td>NaN</td>\n",
       "      <td>NaN</td>\n",
       "      <td>NaN</td>\n",
       "      <td>NaN</td>\n",
       "      <td>NaN</td>\n",
       "      <td>NaN</td>\n",
       "    </tr>\n",
       "    <tr>\n",
       "      <th>2013-10-03</th>\n",
       "      <td>108.58483</td>\n",
       "      <td>25.0</td>\n",
       "      <td>125.45500</td>\n",
       "      <td>123.65499</td>\n",
       "      <td>NaN</td>\n",
       "      <td>NaN</td>\n",
       "      <td>NaN</td>\n",
       "      <td>NaN</td>\n",
       "      <td>NaN</td>\n",
       "    </tr>\n",
       "    <tr>\n",
       "      <th>2013-10-04</th>\n",
       "      <td>118.67466</td>\n",
       "      <td>25.0</td>\n",
       "      <td>108.58483</td>\n",
       "      <td>125.45500</td>\n",
       "      <td>123.65499</td>\n",
       "      <td>NaN</td>\n",
       "      <td>NaN</td>\n",
       "      <td>NaN</td>\n",
       "      <td>NaN</td>\n",
       "    </tr>\n",
       "    <tr>\n",
       "      <th>2013-10-05</th>\n",
       "      <td>121.33866</td>\n",
       "      <td>25.0</td>\n",
       "      <td>118.67466</td>\n",
       "      <td>108.58483</td>\n",
       "      <td>125.45500</td>\n",
       "      <td>123.65499</td>\n",
       "      <td>NaN</td>\n",
       "      <td>NaN</td>\n",
       "      <td>NaN</td>\n",
       "    </tr>\n",
       "  </tbody>\n",
       "</table>\n",
       "</div>"
      ],
      "text/plain": [
       "                Price  block_reward    Price+1    Price+2    Price+3  \\\n",
       "Date                                                                   \n",
       "2013-10-01  123.65499          25.0        NaN        NaN        NaN   \n",
       "2013-10-02  125.45500          25.0  123.65499        NaN        NaN   \n",
       "2013-10-03  108.58483          25.0  125.45500  123.65499        NaN   \n",
       "2013-10-04  118.67466          25.0  108.58483  125.45500  123.65499   \n",
       "2013-10-05  121.33866          25.0  118.67466  108.58483  125.45500   \n",
       "\n",
       "              Price+4  Price+5  Price+6  Price+7  \n",
       "Date                                              \n",
       "2013-10-01        NaN      NaN      NaN      NaN  \n",
       "2013-10-02        NaN      NaN      NaN      NaN  \n",
       "2013-10-03        NaN      NaN      NaN      NaN  \n",
       "2013-10-04        NaN      NaN      NaN      NaN  \n",
       "2013-10-05  123.65499      NaN      NaN      NaN  "
      ]
     },
     "execution_count": 276,
     "metadata": {},
     "output_type": "execute_result"
    }
   ],
   "source": [
    "bitcoin_windowed.head()"
   ]
  },
  {
   "cell_type": "code",
   "execution_count": 277,
   "metadata": {},
   "outputs": [
    {
     "data": {
      "text/plain": [
       "((2780, 7), (2780,))"
      ]
     },
     "execution_count": 277,
     "metadata": {},
     "output_type": "execute_result"
    }
   ],
   "source": [
    "X_all = bitcoin_windowed.dropna().drop(['Price','block_reward'], axis=1).to_numpy()\n",
    "y_all = bitcoin_windowed.dropna()['Price'].to_numpy()\n",
    "X_all.shape, y_all.shape"
   ]
  },
  {
   "cell_type": "code",
   "execution_count": 279,
   "metadata": {},
   "outputs": [
    {
     "data": {
      "text/plain": [
       "<PrefetchDataset element_spec=(TensorSpec(shape=(None, 7), dtype=tf.float64, name=None), TensorSpec(shape=(None,), dtype=tf.float64, name=None))>"
      ]
     },
     "execution_count": 279,
     "metadata": {},
     "output_type": "execute_result"
    }
   ],
   "source": [
    "X_all = tf.data.Dataset.from_tensor_slices(X_all)\n",
    "y_all = tf.data.Dataset.from_tensor_slices(y_all)\n",
    "\n",
    "data_all = tf.data.Dataset.zip((X_all, y_all)).batch(1024).prefetch(tf.data.AUTOTUNE)\n",
    "data_all"
   ]
  },
  {
   "cell_type": "code",
   "execution_count": 280,
   "metadata": {},
   "outputs": [],
   "source": [
    "tf.random.set_seed(42)"
   ]
  },
  {
   "cell_type": "code",
   "execution_count": null,
   "metadata": {},
   "outputs": [],
   "source": [
    "model_9 = keras.Sequential([\n",
    "    layers.Input(shape=(7,)),\n",
    "    layers.Dense(128, activation='relu'),\n",
    "    layers.Dense(1)\n",
    "])\n",
    "\n",
    "model_9.compile(loss='mae', optimizer='adam')\n",
    "model_9.fit(data_all, epochs=100)"
   ]
  },
  {
   "cell_type": "code",
   "execution_count": 284,
   "metadata": {},
   "outputs": [
    {
     "name": "stdout",
     "output_type": "stream",
     "text": [
      "Model: \"sequential_16\"\n",
      "_________________________________________________________________\n",
      " Layer (type)                Output Shape              Param #   \n",
      "=================================================================\n",
      " dense_1256 (Dense)          (None, 128)               1024      \n",
      "                                                                 \n",
      " dense_1257 (Dense)          (None, 1)                 129       \n",
      "                                                                 \n",
      "=================================================================\n",
      "Total params: 1,153\n",
      "Trainable params: 1,153\n",
      "Non-trainable params: 0\n",
      "_________________________________________________________________\n"
     ]
    }
   ],
   "source": [
    "model_9.summary()"
   ]
  },
  {
   "cell_type": "code",
   "execution_count": 288,
   "metadata": {},
   "outputs": [],
   "source": [
    "INTO_FUTURE = 14 # next 2 weeks"
   ]
  },
  {
   "cell_type": "code",
   "execution_count": 292,
   "metadata": {},
   "outputs": [],
   "source": [
    "def make_future_forecasts(values, model, into_future, window_size) :\n",
    "    future_forecast = []\n",
    "    last_window = values[-WINDOW_SIZE:] # last 7 day\n",
    "\n",
    "    for _ in range(into_future):\n",
    "        future_pred = model.predict(tf.expand_dims(last_window, axis=0))\n",
    "        print(f\"Days {_ + 1} Predicting on: \\n {last_window} -> Prediction: {tf.squeeze(future_pred).numpy()}\\n\")\n",
    "        future_forecast.append(tf.squeeze(future_pred).numpy())\n",
    "        last_window = np.append(last_window, future_pred)[-WINDOW_SIZE:] # get update the last 7 day frome prediction\n",
    "\n",
    "    return future_forecast"
   ]
  },
  {
   "cell_type": "code",
   "execution_count": 295,
   "metadata": {},
   "outputs": [
    {
     "name": "stdout",
     "output_type": "stream",
     "text": [
      "Days 1 Predicting on: \n",
      " [56573.5554719  52147.82118698 49764.1320816  50032.69313676\n",
      " 47885.62525472 45604.61575361 43144.47129086] -> Prediction: 54248.7421875\n",
      "\n",
      "Days 2 Predicting on: \n",
      " [52147.82118698 49764.1320816  50032.69313676 47885.62525472\n",
      " 45604.61575361 43144.47129086 54248.7421875 ] -> Prediction: 50358.83984375\n",
      "\n",
      "Days 3 Predicting on: \n",
      " [49764.1320816  50032.69313676 47885.62525472 45604.61575361\n",
      " 43144.47129086 54248.7421875  50358.83984375] -> Prediction: 48919.91796875\n",
      "\n",
      "Days 4 Predicting on: \n",
      " [50032.69313676 47885.62525472 45604.61575361 43144.47129086\n",
      " 54248.7421875  50358.83984375 48919.91796875] -> Prediction: 48486.6015625\n",
      "\n",
      "Days 5 Predicting on: \n",
      " [47885.62525472 45604.61575361 43144.47129086 54248.7421875\n",
      " 50358.83984375 48919.91796875 48486.6015625 ] -> Prediction: 47751.05078125\n",
      "\n",
      "Days 6 Predicting on: \n",
      " [45604.61575361 43144.47129086 54248.7421875  50358.83984375\n",
      " 48919.91796875 48486.6015625  47751.05078125] -> Prediction: 46696.72265625\n",
      "\n",
      "Days 7 Predicting on: \n",
      " [43144.47129086 54248.7421875  50358.83984375 48919.91796875\n",
      " 48486.6015625  47751.05078125 46696.72265625] -> Prediction: 47679.77734375\n",
      "\n",
      "Days 8 Predicting on: \n",
      " [54248.7421875  50358.83984375 48919.91796875 48486.6015625\n",
      " 47751.05078125 46696.72265625 47679.77734375] -> Prediction: 52061.53515625\n",
      "\n",
      "Days 9 Predicting on: \n",
      " [50358.83984375 48919.91796875 48486.6015625  47751.05078125\n",
      " 46696.72265625 47679.77734375 52061.53515625] -> Prediction: 49276.50390625\n",
      "\n",
      "Days 10 Predicting on: \n",
      " [48919.91796875 48486.6015625  47751.05078125 46696.72265625\n",
      " 47679.77734375 52061.53515625 49276.50390625] -> Prediction: 48464.73828125\n",
      "\n",
      "Days 11 Predicting on: \n",
      " [48486.6015625  47751.05078125 46696.72265625 47679.77734375\n",
      " 52061.53515625 49276.50390625 48464.73828125] -> Prediction: 48268.66015625\n",
      "\n",
      "Days 12 Predicting on: \n",
      " [47751.05078125 46696.72265625 47679.77734375 52061.53515625\n",
      " 49276.50390625 48464.73828125 48268.66015625] -> Prediction: 48162.1640625\n",
      "\n",
      "Days 13 Predicting on: \n",
      " [46696.72265625 47679.77734375 52061.53515625 49276.50390625\n",
      " 48464.73828125 48268.66015625 48162.1640625 ] -> Prediction: 47983.859375\n",
      "\n",
      "Days 14 Predicting on: \n",
      " [47679.77734375 52061.53515625 49276.50390625 48464.73828125\n",
      " 48268.66015625 48162.1640625  47983.859375  ] -> Prediction: 49189.0546875\n",
      "\n"
     ]
    }
   ],
   "source": [
    "future_forecast = make_future_forecasts(bitcoin_windowed.dropna()['Price'].to_numpy(), model_9, INTO_FUTURE, 7)"
   ]
  },
  {
   "cell_type": "code",
   "execution_count": 294,
   "metadata": {},
   "outputs": [
    {
     "data": {
      "text/plain": [
       "[54248.742,\n",
       " 50358.84,\n",
       " 48919.918,\n",
       " 48486.6,\n",
       " 47751.05,\n",
       " 46696.723,\n",
       " 47679.777,\n",
       " 52061.535,\n",
       " 49276.504,\n",
       " 48464.74,\n",
       " 48268.66,\n",
       " 48162.164,\n",
       " 47983.86,\n",
       " 49189.055]"
      ]
     },
     "execution_count": 294,
     "metadata": {},
     "output_type": "execute_result"
    }
   ],
   "source": [
    "future_forecast # next 2 weeks"
   ]
  },
  {
   "cell_type": "code",
   "execution_count": 296,
   "metadata": {},
   "outputs": [],
   "source": [
    "def get_future_dates(start_date, into_future, offset=1):\n",
    "    start_date = start_date + np.timedelta64(offset, \"D\") # specify start date, \"D\" stands for day\n",
    "    end_date = start_date + np.timedelta64(into_future, \"D\") # specify end date\n",
    "    return np.arange(start_date, end_date, dtype=\"datetime64[D]\") # return a date range bet"
   ]
  },
  {
   "cell_type": "code",
   "execution_count": 297,
   "metadata": {},
   "outputs": [
    {
     "data": {
      "text/plain": [
       "Timestamp('2021-05-18 00:00:00')"
      ]
     },
     "execution_count": 297,
     "metadata": {},
     "output_type": "execute_result"
    }
   ],
   "source": [
    "# Last timestep of timesteps (currently in np.datetime64 format)\n",
    "last_timestep = bitcoin_prices.index[-1]\n",
    "last_timestep"
   ]
  },
  {
   "cell_type": "code",
   "execution_count": 298,
   "metadata": {},
   "outputs": [
    {
     "data": {
      "text/plain": [
       "array(['2021-05-19', '2021-05-20', '2021-05-21', '2021-05-22',\n",
       "       '2021-05-23', '2021-05-24', '2021-05-25', '2021-05-26',\n",
       "       '2021-05-27', '2021-05-28', '2021-05-29', '2021-05-30',\n",
       "       '2021-05-31', '2021-06-01'], dtype='datetime64[D]')"
      ]
     },
     "execution_count": 298,
     "metadata": {},
     "output_type": "execute_result"
    }
   ],
   "source": [
    "# Get next two weeks of timesteps\n",
    "next_time_steps = get_future_dates(start_date=last_timestep, \n",
    "                                   into_future=INTO_FUTURE)\n",
    "next_time_steps"
   ]
  },
  {
   "cell_type": "code",
   "execution_count": 299,
   "metadata": {},
   "outputs": [],
   "source": [
    "# Create a function to plot time series data\n",
    "def plot_time_series(timesteps, values, format='.', start=0, end=None, label=None):\n",
    "  # Plot the series\n",
    "  plt.plot(timesteps[start:end], values[start:end], format, label=label)\n",
    "  plt.xlabel(\"Time\")\n",
    "  plt.ylabel(\"BTC Price\")\n",
    "  if label:\n",
    "    plt.legend(fontsize=14) # make label bigger\n",
    "  plt.grid(True)"
   ]
  },
  {
   "cell_type": "code",
   "execution_count": 302,
   "metadata": {},
   "outputs": [
    {
     "data": {
      "text/plain": [
       "(array(['2021-05-18', '2021-05-19', '2021-05-20', '2021-05-21',\n",
       "        '2021-05-22', '2021-05-23', '2021-05-24', '2021-05-25',\n",
       "        '2021-05-26', '2021-05-27', '2021-05-28', '2021-05-29',\n",
       "        '2021-05-30', '2021-05-31', '2021-06-01'], dtype='datetime64[D]'),\n",
       " array([43144.473, 54248.742, 50358.84 , 48919.918, 48486.6  , 47751.05 ,\n",
       "        46696.723, 47679.777, 52061.535, 49276.504, 48464.74 , 48268.66 ,\n",
       "        48162.164, 47983.86 , 49189.055], dtype=float32))"
      ]
     },
     "execution_count": 302,
     "metadata": {},
     "output_type": "execute_result"
    }
   ],
   "source": [
    "# Insert last timestep/final price so the graph doesn't look messed\n",
    "next_time_steps = np.insert(next_time_steps, 0, last_timestep) # insert last_timestep to index0 in next_time_steps\n",
    "future_forecast = np.insert(future_forecast, 0, bitcoin_prices['Price'][-1])\n",
    "next_time_steps, future_forecast"
   ]
  },
  {
   "cell_type": "code",
   "execution_count": 303,
   "metadata": {},
   "outputs": [
    {
     "data": {
      "image/png": "[encoded data removed]",
      "text/plain": [
       "<Figure size 720x504 with 1 Axes>"
      ]
     },
     "metadata": {
      "needs_background": "light"
     },
     "output_type": "display_data"
    }
   ],
   "source": [
    "plt.figure(figsize=(10, 7))\n",
    "plot_time_series(bitcoin_prices.index, bitcoin_prices['Price'], start=2500, format=\"-\", label=\"Actual BTC Price\")\n",
    "plot_time_series(next_time_steps, future_forecast, format=\"-\", label=\"Predicted BTC Price\")"
   ]
  }
 ],
 "metadata": {
  "kernelspec": {
   "display_name": "Python 3.10.0 64-bit",
   "language": "python",
   "name": "python3"
  },
  "language_info": {
   "codemirror_mode": {
    "name": "ipython",
    "version": 3
   },
   "file_extension": ".py",
   "mimetype": "text/x-python",
   "name": "python",
   "nbconvert_exporter": "python",
   "pygments_lexer": "ipython3",
   "version": "3.10.0"
  },
  "orig_nbformat": 4,
  "vscode": {
   "interpreter": {
    "hash": "63e79917a05e390872358bfb73c58bc903ada01d2d04077091749088207d82cf"
   }
  }
 },
 "nbformat": 4,
 "nbformat_minor": 2
}
